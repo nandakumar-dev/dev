{
  "cells": [
    {
      "cell_type": "code",
      "source": [
        "blob_relative_path = \"immigration_yearbook_excel_files/2021/2022_0920_plcy_refugees_and_asylees_fy2021_tables.zip/\""
      ],
      "outputs": [
        {
          "output_type": "display_data",
          "data": {
            "application/vnd.livy.statement-meta+json": {
              "spark_pool": "smallpool33",
              "session_id": "366",
              "statement_id": 126,
              "state": "finished",
              "livy_statement_state": "available",
              "queued_time": "2023-12-06T14:56:44.6354224Z",
              "session_start_time": null,
              "execution_start_time": "2023-12-06T14:56:44.7834307Z",
              "execution_finish_time": "2023-12-06T14:56:44.9486882Z",
              "spark_jobs": null,
              "parent_msg_id": "ac6fe336-58d7-435f-9bcd-cdd39b05d733"
            },
            "text/plain": "StatementMeta(smallpool33, 366, 126, Finished, Available)"
          },
          "metadata": {}
        }
      ],
      "execution_count": 125,
      "metadata": {
        "tags": [
          "parameters"
        ]
      }
    },
    {
      "cell_type": "code",
      "source": [
        "from notebookutils import mssparkutils  \r\n",
        "from pyspark.sql import SparkSession \r\n",
        "from pyspark.sql.types import * \r\n",
        "import re\r\n",
        "import pandas as pd\r\n",
        "import numpy as np\r\n",
        "from azure.storage.blob import BlobServiceClient\r\n",
        "from pyspark.sql.functions import *\r\n",
        "# Azure storage access info \r\n",
        "blob_account_name = 'usafactsbronze' # replace with your blob name \r\n",
        "blob_container_name = 'bronze' # replace with your container name \r\n",
        "linked_service_name = 'bronze' # replace with your linked service name \r\n",
        "\r\n",
        "blob_sas_token = mssparkutils.credentials.getConnectionStringOrCreds(linked_service_name) \r\n",
        "\r\n",
        "# Allow SPARK to access from Blob remotely \r\n",
        "wasbs_path = 'wasbs://%s@%s.blob.core.windows.net/%s' % (blob_container_name, blob_account_name, blob_relative_path) \r\n",
        "spark.conf.set('fs.azure.sas.%s.%s.blob.core.windows.net' % (blob_container_name, blob_account_name), blob_sas_token) \r\n",
        "\r\n",
        "blob_service_client = BlobServiceClient(account_url=f'https://{blob_account_name}.blob.core.windows.net/', credential=blob_sas_token)\r\n",
        "container_client = blob_service_client.get_container_client(blob_container_name)\r\n"
      ],
      "outputs": [
        {
          "output_type": "display_data",
          "data": {
            "application/vnd.livy.statement-meta+json": {
              "spark_pool": "smallpool33",
              "session_id": "366",
              "statement_id": 127,
              "state": "finished",
              "livy_statement_state": "available",
              "queued_time": "2023-12-06T14:56:44.7021518Z",
              "session_start_time": null,
              "execution_start_time": "2023-12-06T14:56:45.0771563Z",
              "execution_finish_time": "2023-12-06T14:56:45.244113Z",
              "spark_jobs": null,
              "parent_msg_id": "394d2598-8d09-4540-b769-e03b781ef582"
            },
            "text/plain": "StatementMeta(smallpool33, 366, 127, Finished, Available)"
          },
          "metadata": {}
        }
      ],
      "execution_count": 126,
      "metadata": {
        "jupyter": {
          "source_hidden": false,
          "outputs_hidden": false
        },
        "nteract": {
          "transient": {
            "deleting": false
          }
        }
      }
    },
    {
      "cell_type": "code",
      "source": [
        "pip install xlrd"
      ],
      "outputs": [
        {
          "output_type": "display_data",
          "data": {
            "application/vnd.livy.statement-meta+json": {
              "spark_pool": "smallpool33",
              "session_id": "366",
              "statement_id": 128,
              "state": "finished",
              "livy_statement_state": "available",
              "queued_time": "2023-12-06T14:56:44.7968367Z",
              "session_start_time": null,
              "execution_start_time": "2023-12-06T14:56:45.404129Z",
              "execution_finish_time": "2023-12-06T14:56:49.3623222Z",
              "spark_jobs": null,
              "parent_msg_id": "79e5b3ec-4f46-4f5f-a1f7-a8273c957972"
            },
            "text/plain": "StatementMeta(smallpool33, 366, 128, Finished, Available)"
          },
          "metadata": {}
        },
        {
          "output_type": "stream",
          "name": "stdout",
          "text": [
            "Requirement already satisfied: xlrd in /home/trusted-service-user/cluster-env/env/lib/python3.10/site-packages (2.0.1)\nNote: you may need to restart the kernel to use updated packages.\n"
          ]
        }
      ],
      "execution_count": 127,
      "metadata": {
        "jupyter": {
          "source_hidden": false,
          "outputs_hidden": false
        },
        "nteract": {
          "transient": {
            "deleting": false
          }
        }
      }
    },
    {
      "cell_type": "code",
      "source": [
        "# Azure storage access info \r\n",
        "blob_account_name = 'usafactssilver' # replace with your blob name \r\n",
        "blob_container_name = 'silver' # replace with your container name \r\n",
        "linked_service_name = 'silver' # replace with your linked service name \r\n",
        "\r\n",
        "blob_sas_token = mssparkutils.credentials.getConnectionStringOrCreds(linked_service_name) \r\n",
        "\r\n",
        "# Allow SPARK to access from Blob remotely \r\n",
        "target_path = 'wasbs://%s@%s.blob.core.windows.net/%s' % (blob_container_name, blob_account_name, blob_relative_path) \r\n",
        "spark.conf.set('fs.azure.sas.%s.%s.blob.core.windows.net' % (blob_container_name, blob_account_name), blob_sas_token) "
      ],
      "outputs": [
        {
          "output_type": "display_data",
          "data": {
            "application/vnd.livy.statement-meta+json": {
              "spark_pool": "smallpool33",
              "session_id": "366",
              "statement_id": 129,
              "state": "finished",
              "livy_statement_state": "available",
              "queued_time": "2023-12-06T14:56:44.8586514Z",
              "session_start_time": null,
              "execution_start_time": "2023-12-06T14:56:49.5200599Z",
              "execution_finish_time": "2023-12-06T14:56:49.6818331Z",
              "spark_jobs": null,
              "parent_msg_id": "db56815f-645d-4014-8394-2f998044b134"
            },
            "text/plain": "StatementMeta(smallpool33, 366, 129, Finished, Available)"
          },
          "metadata": {}
        }
      ],
      "execution_count": 128,
      "metadata": {
        "jupyter": {
          "source_hidden": false,
          "outputs_hidden": false
        },
        "nteract": {
          "transient": {
            "deleting": false
          }
        }
      }
    },
    {
      "cell_type": "code",
      "source": [
        "def get_file_paths(dir_path):\r\n",
        "    file_paths= []\r\n",
        "    files = mssparkutils.fs.ls(dir_path)\r\n",
        "    for file in files:\r\n",
        "        allowed_extensions = ['.xls', '.xlsx']\r\n",
        "        if file.isDir :\r\n",
        "            file_paths.extend(get_file_paths(file.path))\r\n",
        "        if any(file.path.endswith(ext) for ext in allowed_extensions):\r\n",
        "            file_paths.append(file.path)\r\n",
        "\r\n",
        "    return file_paths"
      ],
      "outputs": [
        {
          "output_type": "display_data",
          "data": {
            "application/vnd.livy.statement-meta+json": {
              "spark_pool": "smallpool33",
              "session_id": "366",
              "statement_id": 130,
              "state": "finished",
              "livy_statement_state": "available",
              "queued_time": "2023-12-06T14:56:44.9223909Z",
              "session_start_time": null,
              "execution_start_time": "2023-12-06T14:56:49.8139117Z",
              "execution_finish_time": "2023-12-06T14:56:49.9842736Z",
              "spark_jobs": null,
              "parent_msg_id": "bc06942a-d7f1-4320-95db-fe2a29037587"
            },
            "text/plain": "StatementMeta(smallpool33, 366, 130, Finished, Available)"
          },
          "metadata": {}
        }
      ],
      "execution_count": 129,
      "metadata": {
        "jupyter": {
          "source_hidden": false,
          "outputs_hidden": false
        },
        "nteract": {
          "transient": {
            "deleting": false
          }
        }
      }
    },
    {
      "cell_type": "code",
      "source": [
        "all_file_paths = get_file_paths(wasbs_path)"
      ],
      "outputs": [
        {
          "output_type": "display_data",
          "data": {
            "application/vnd.livy.statement-meta+json": {
              "spark_pool": "smallpool33",
              "session_id": "366",
              "statement_id": 131,
              "state": "finished",
              "livy_statement_state": "available",
              "queued_time": "2023-12-06T14:56:45.1191353Z",
              "session_start_time": null,
              "execution_start_time": "2023-12-06T14:56:50.1284578Z",
              "execution_finish_time": "2023-12-06T14:56:50.2934946Z",
              "spark_jobs": null,
              "parent_msg_id": "300d4816-48ea-4d21-b89a-7e6a4b264b39"
            },
            "text/plain": "StatementMeta(smallpool33, 366, 131, Finished, Available)"
          },
          "metadata": {}
        }
      ],
      "execution_count": 130,
      "metadata": {
        "jupyter": {
          "source_hidden": false,
          "outputs_hidden": false
        },
        "nteract": {
          "transient": {
            "deleting": false
          }
        }
      }
    },
    {
      "cell_type": "code",
      "source": [
        "def concat_xls_row(data,none_count):\r\n",
        "                \r\n",
        "    concat_list1 = []\r\n",
        "    concat_list = []\r\n",
        "    if none_count == 1:\r\n",
        "        iter_range = 2\r\n",
        "    else:\r\n",
        "        iter_range = none_count\r\n",
        "    for index in range(iter_range):\r\n",
        "        if (none_count == 1 and index == 0) or index+1 < none_count :\r\n",
        "            temp_value = None\r\n",
        "            temp_list =[]\r\n",
        "\r\n",
        "            for value in data[index]:\r\n",
        "                if value is None:\r\n",
        "                    value = temp_value\r\n",
        "                else:\r\n",
        "                    temp_value = value\r\n",
        "                temp_list.append(value)\r\n",
        "            cleaned_row = [value for value in data[index] if value is not None]\r\n",
        "            if  index == 0 and len(cleaned_row) == 1:\r\n",
        "                temp_list = [None] + (cleaned_row *(len(data[0])-1))\r\n",
        "            if len(concat_list1) >= 1:\r\n",
        "                concat_list1 = [(x if x is not None else ' ') +' '+ (y if y is not None else ' ') for x, y in zip(concat_list1,temp_list)]\r\n",
        "            else:\r\n",
        "                concat_list1 =  temp_list\r\n",
        "        else:\r\n",
        "            concat_list = [(x if x is not None else ' ') +' '+ (y if y is not None else ' ') for x, y in zip(concat_list1,data[index])]\r\n",
        "            data[index] = concat_list\r\n",
        "            \r\n",
        "            if none_count == 1 :\r\n",
        "                data = data[index:]\r\n",
        "            else:\r\n",
        "                data = data[none_count-1:]\r\n",
        "    return data"
      ],
      "outputs": [
        {
          "output_type": "display_data",
          "data": {
            "application/vnd.livy.statement-meta+json": {
              "spark_pool": "smallpool33",
              "session_id": "366",
              "statement_id": 132,
              "state": "finished",
              "livy_statement_state": "available",
              "queued_time": "2023-12-06T14:56:45.2781058Z",
              "session_start_time": null,
              "execution_start_time": "2023-12-06T14:56:50.4425265Z",
              "execution_finish_time": "2023-12-06T14:56:50.6044794Z",
              "spark_jobs": null,
              "parent_msg_id": "53ad9e9c-6e33-41e7-8ea3-126e134209b5"
            },
            "text/plain": "StatementMeta(smallpool33, 366, 132, Finished, Available)"
          },
          "metadata": {}
        }
      ],
      "execution_count": 131,
      "metadata": {
        "jupyter": {
          "source_hidden": false,
          "outputs_hidden": false
        },
        "nteract": {
          "transient": {
            "deleting": false
          }
        }
      }
    },
    {
      "cell_type": "code",
      "source": [
        "def create_df (data,header,footer): \r\n",
        "    cleaned_columns = [re.sub(r'[^a-zA-Z0-9]', \"_\", value.strip().replace('.0','')) if value is not None else ('col_'+str(ind)) for ind,value in enumerate(data[0])]\r\n",
        "    columns = []\r\n",
        "\r\n",
        "    if len(cleaned_columns) !=  len(list(set(cleaned_columns))):\r\n",
        "        for ind,column in enumerate(cleaned_columns) :\r\n",
        "            if column not in columns :\r\n",
        "                columns.append(column)\r\n",
        "            else:\r\n",
        "                columns.append(column+'_'+str(ind))\r\n",
        "    else:\r\n",
        "        columns = cleaned_columns\r\n",
        "    schema = StructType([StructField(name, StringType(), True) for name in columns])\r\n",
        "    \r\n",
        "    df = spark.createDataFrame(data[1:], schema)\r\n",
        "    empty_columns = [column for column in df.columns if df.filter(df[column].isNull()).count() == df.count() ]\r\n",
        "    df = df.drop(*empty_columns)\r\n",
        "\r\n",
        "    if len(df.columns) != len(list(set(df.columns))):\r\n",
        "        columns = []\r\n",
        "        for ind,col in enumerate(df.columns):\r\n",
        "            columns.append('col_'+str(ind))\r\n",
        "        df = spark.createDataFrame(data,columns)\r\n",
        "    if header:\r\n",
        "        header = '. '.join(header)\r\n",
        "        df = df.withColumn(\"Header\",lit(header))\r\n",
        "    if footer:\r\n",
        "        footer ='. '.join(footer)\r\n",
        "        df = df.withColumn(\"Footer\",lit(footer))\r\n",
        "    return df"
      ],
      "outputs": [
        {
          "output_type": "display_data",
          "data": {
            "application/vnd.livy.statement-meta+json": {
              "spark_pool": "smallpool33",
              "session_id": "366",
              "statement_id": 133,
              "state": "finished",
              "livy_statement_state": "available",
              "queued_time": "2023-12-06T14:56:45.4086454Z",
              "session_start_time": null,
              "execution_start_time": "2023-12-06T14:56:50.7500025Z",
              "execution_finish_time": "2023-12-06T14:56:50.9046383Z",
              "spark_jobs": null,
              "parent_msg_id": "9335fade-0dae-4dc8-b553-9757b96e185c"
            },
            "text/plain": "StatementMeta(smallpool33, 366, 133, Finished, Available)"
          },
          "metadata": {}
        }
      ],
      "execution_count": 132,
      "metadata": {
        "jupyter": {
          "source_hidden": false,
          "outputs_hidden": false
        },
        "nteract": {
          "transient": {
            "deleting": false
          }
        }
      }
    },
    {
      "cell_type": "code",
      "source": [
        "def seperate_tables(raw_data):\r\n",
        "    datas = []\r\n",
        "    temp_header = []\r\n",
        "    temp_data = []\r\n",
        "    is_header = False\r\n",
        "    for ind, row in enumerate(raw_data):\r\n",
        "        \r\n",
        "        row = [None if value =='nan' or value.strip() == '' else value.replace('……...', '    ').replace('…...', '   ').replace('...',' ').replace('…..',' ').replace('….', '  ').replace('..',' ').replace('  .','').replace('….','').replace('…','') for value in row ]\r\n",
        "        cleaned_row = [value for value in row if value is not None]\r\n",
        "\r\n",
        "        if row[0] is None and len(cleaned_row)==2:\r\n",
        "            row[2:] = [None] * (len(row) - 2)\r\n",
        "        if len(cleaned_row) < 1:\r\n",
        "            continue\r\n",
        "        \r\n",
        "        if ((len(cleaned_row) == 1 and row[0] is None) \r\n",
        "            or (len(raw_data[ind-1])==raw_data[ind-1].count('nan') and len(raw_data[ind-2])==raw_data[ind-2].count('nan') and row[0] is None)\r\n",
        "            or (len(raw_data[ind-1])==raw_data[ind-1].count('nan') and row[0] is None and len(list(set(cleaned_row))) == 1 )\r\n",
        "            or (len(raw_data[ind-1])==raw_data[ind-1].count('nan') and len(cleaned_row) != 1 and raw_data[ind].count('nan')>1 and row[0] is not None and row[2] is None)\r\n",
        "            or (len(raw_data[ind-1])==raw_data[ind-1].count('nan') and row[0] is not None  and row[0].startswith('Revised, based on Vintage'))):\r\n",
        "            if is_header :\r\n",
        "                datas.append(temp_header+temp_data)\r\n",
        "                temp_data = []\r\n",
        "            is_header = True\r\n",
        "        if len(cleaned_row) == 1 and is_header and cleaned_row[0].strip().startswith('Table'):\r\n",
        "            is_header = False\r\n",
        "            datas.append(temp_header+temp_data)\r\n",
        "            \r\n",
        "            temp_data = []\r\n",
        "            temp_header = []\r\n",
        "\r\n",
        "        if is_header :  \r\n",
        "            temp_data.append(row)\r\n",
        "\r\n",
        "        if len(temp_data) < 1 and not is_header :\r\n",
        "            temp_header.append(row)\r\n",
        "        if ind+1 == len(raw_data):\r\n",
        "            datas.append(temp_header+temp_data)\r\n",
        "    return datas"
      ],
      "outputs": [
        {
          "output_type": "display_data",
          "data": {
            "application/vnd.livy.statement-meta+json": {
              "spark_pool": "smallpool33",
              "session_id": "366",
              "statement_id": 134,
              "state": "finished",
              "livy_statement_state": "available",
              "queued_time": "2023-12-06T14:56:45.6624286Z",
              "session_start_time": null,
              "execution_start_time": "2023-12-06T14:56:51.0365041Z",
              "execution_finish_time": "2023-12-06T14:56:51.2007593Z",
              "spark_jobs": null,
              "parent_msg_id": "3b78db5f-9214-4b53-8b07-19e97796a01b"
            },
            "text/plain": "StatementMeta(smallpool33, 366, 134, Finished, Available)"
          },
          "metadata": {}
        }
      ],
      "execution_count": 133,
      "metadata": {
        "jupyter": {
          "source_hidden": false,
          "outputs_hidden": false
        },
        "nteract": {
          "transient": {
            "deleting": false
          }
        }
      }
    },
    {
      "cell_type": "code",
      "source": [
        "def filtered_data(clean_data):\r\n",
        "    # print(clean_data)\r\n",
        "    datas = seperate_tables(clean_data)\r\n",
        "    dfs =[]\r\n",
        "    for df_data in datas :\r\n",
        "     \r\n",
        "        data = []\r\n",
        "        temp_footer = ''\r\n",
        "        header= []\r\n",
        "        footer = []\r\n",
        "        for ind , row in enumerate(df_data):\r\n",
        "            cleaned_row = [value for value in row if value is not None]\r\n",
        "            if len(cleaned_row ) > 1 or (len(cleaned_row) == 1 and row[0] is None):\r\n",
        "                if temp_footer :\r\n",
        "                    if row[0] is None:\r\n",
        "                        row[0] = ''\r\n",
        "                    row[0] = temp_footer +'  ' + row[0]\r\n",
        "                data.append(row)\r\n",
        "            elif len(data) < 1 :\r\n",
        "                header += cleaned_row \r\n",
        "            else:\r\n",
        "                if len(cleaned_row) !=0:\r\n",
        "                    temp_footer = cleaned_row[0]\r\n",
        "                    \r\n",
        "                    row = [None if value is None or value.strip() == '' else value for value in df_data[ind-1] ]\r\n",
        "                    prev_clean_row = [value for value in row if value is not None]\r\n",
        "                    if len(prev_clean_row ) < 2   :\r\n",
        "                        footer += cleaned_row\r\n",
        "                    else:\r\n",
        "                        footer = cleaned_row\r\n",
        "\r\n",
        "        none_count = 0 \r\n",
        "        none_exclude = 0\r\n",
        "        # print(data)\r\n",
        "        for value in data :\r\n",
        "            if ((value.count(None) > 1 and None in value[:3]) or (none_count <= 1 and value.count(None) == 1  and value[-1] is not None)  or value[0] is None \r\n",
        "                or all(x.isalpha() if x is not None else True for x in value[1:]) or (value.count(None) == 2 and value[0] is None and value[-1] is None)):\r\n",
        "                 \r\n",
        "                none_count += 1\r\n",
        "            else:\r\n",
        "                break \r\n",
        "\r\n",
        "        data = concat_xls_row(data,none_count-1)\r\n",
        "        # print(data)\r\n",
        "        if len(data) !=0:\r\n",
        "            level_list = []\r\n",
        "            level_dict = {}\r\n",
        "            clean_data = [data[0]]\r\n",
        "            for ind,row in enumerate(data[1:]):\r\n",
        "                s = row[0]\r\n",
        "                if row[0]!=None:\r\n",
        "                    current_key = len(s)-len(s.lstrip())\r\n",
        "                    if current_key == 0 :\r\n",
        "                        level_dict = {}\r\n",
        "                    keys_to_delete = [key for key in level_dict.keys() if key > current_key]\r\n",
        "                    for key in keys_to_delete:\r\n",
        "                        del level_dict[key]\r\n",
        "                    level_dict[current_key] = s.strip()\r\n",
        "                    row[0] = ' '.join(level_dict.values())\r\n",
        "                    cleaned_row = [value for value in row if value is not None]\r\n",
        "                    if len(cleaned_row) < 2:\r\n",
        "                        pass\r\n",
        "                    else:\r\n",
        "                        clean_data.append(row)\r\n",
        "\r\n",
        "        if len(clean_data)>0:\r\n",
        "            df = create_df(clean_data,header,footer)\r\n",
        "            # display(df)      \r\n",
        "            dfs.append(df)\r\n",
        "    return dfs"
      ],
      "outputs": [
        {
          "output_type": "display_data",
          "data": {
            "application/vnd.livy.statement-meta+json": {
              "spark_pool": "smallpool33",
              "session_id": "366",
              "statement_id": 140,
              "state": "finished",
              "livy_statement_state": "available",
              "queued_time": "2023-12-06T15:06:59.3200398Z",
              "session_start_time": null,
              "execution_start_time": "2023-12-06T15:06:59.4493473Z",
              "execution_finish_time": "2023-12-06T15:06:59.6116821Z",
              "spark_jobs": null,
              "parent_msg_id": "13c87750-7b89-4ac1-b6aa-008fdfdf39ea"
            },
            "text/plain": "StatementMeta(smallpool33, 366, 140, Finished, Available)"
          },
          "metadata": {}
        }
      ],
      "execution_count": 139,
      "metadata": {
        "jupyter": {
          "source_hidden": false,
          "outputs_hidden": false
        },
        "nteract": {
          "transient": {
            "deleting": false
          }
        }
      }
    },
    {
      "cell_type": "code",
      "source": [
        "import warnings\r\n",
        "\r\n",
        "# Ignore the specific FutureWarning related to iteritems\r\n",
        "warnings.filterwarnings(\"ignore\", category=FutureWarning, module=\"pyspark\")"
      ],
      "outputs": [
        {
          "output_type": "display_data",
          "data": {
            "application/vnd.livy.statement-meta+json": {
              "spark_pool": "smallpool33",
              "session_id": "366",
              "statement_id": 136,
              "state": "finished",
              "livy_statement_state": "available",
              "queued_time": "2023-12-06T14:56:46.1886812Z",
              "session_start_time": null,
              "execution_start_time": "2023-12-06T14:56:51.6784709Z",
              "execution_finish_time": "2023-12-06T14:56:51.8424873Z",
              "spark_jobs": null,
              "parent_msg_id": "f3e99884-bbdb-4517-a108-70160e8feb7b"
            },
            "text/plain": "StatementMeta(smallpool33, 366, 136, Finished, Available)"
          },
          "metadata": {}
        }
      ],
      "execution_count": 135,
      "metadata": {
        "jupyter": {
          "source_hidden": false,
          "outputs_hidden": false
        },
        "nteract": {
          "transient": {
            "deleting": false
          }
        }
      }
    },
    {
      "cell_type": "code",
      "source": [
        "from urllib.parse import quote\r\n",
        "bad_records = []\r\n",
        "for text_path in all_file_paths:\r\n",
        "    try:\r\n",
        "        file_path = text_path.split('.net/')[-1]\r\n",
        "        file_path = quote(file_path, safe=\"/:\")\r\n",
        "        file_location = target_path + text_path.split(wasbs_path)[-1]\r\n",
        "        file_location='.'.join(file_location.split('.')[:-1])\r\n",
        "        file_name=file_location.split('/')[-1]\r\n",
        "        file_location=file_location+'/'+file_name\r\n",
        "        link = f'https://usafactsbronze.blob.core.windows.net/bronze/{file_path}'\r\n",
        "        df = pd.read_excel(link,header = None)\r\n",
        "        \r\n",
        "        df = df.applymap(lambda x: np.nan if isinstance(x, str) and x.strip()=='' else x)\r\n",
        "        df = df.dropna(axis=1, how='all') \r\n",
        "        df = df.astype(str)\r\n",
        "        \r\n",
        "        df = spark.createDataFrame(df)\r\n",
        "\r\n",
        "        first_row = [value for value in df.first()]\r\n",
        "        if 'nan' in first_row :\r\n",
        "            raw_data = df.collect()\r\n",
        "            dfs= filtered_data(raw_data)\r\n",
        "            # print(dfs)\r\n",
        "            footer_value = []\r\n",
        "            if len(dfs) > 1:\r\n",
        "                last_df = dfs[-1]  \r\n",
        "                footer_value = last_df.select('footer').collect()[0][0]  \r\n",
        "                first_df=dfs[0]\r\n",
        "                Header_value = first_df.select('Header').collect()[0][0]  \r\n",
        "                for ind,df in enumerate(dfs):\r\n",
        "                    df = df.withColumn('Header',lit(Header_value)).withColumn('footer', lit(footer_value)).withColumnRenamed('col_0', \"Description\").withColumnRenamed('', \"Description\")\r\n",
        "                    display(df)\r\n",
        "                    # df.write.format('delta').mode('overwrite').option(\"overwriteSchema\", \"true\").option(\"path\",file_location+'_'+str(ind)).save()\r\n",
        "            else:\r\n",
        "                print(len(dfs))\r\n",
        "                display(dfs[0])\r\n",
        "                # dfs[0].write.format('delta').mode('overwrite').option(\"overwriteSchema\", \"true\").option(\"path\",file_location).save()\r\n",
        "        print(file_location,'uploaded sucessfully')\r\n",
        "\r\n",
        "    except BaseException as e :\r\n",
        "        bad_records1.append((text_path,file_location.split('/')[-1],e))\r\n",
        "        print(e,file_location)"
      ],
      "outputs": [
        {
          "output_type": "display_data",
          "data": {
            "application/vnd.livy.statement-meta+json": {
              "spark_pool": "smallpool33",
              "session_id": "366",
              "statement_id": 141,
              "state": "finished",
              "livy_statement_state": "available",
              "queued_time": "2023-12-06T15:07:02.413472Z",
              "session_start_time": null,
              "execution_start_time": "2023-12-06T15:07:02.5676831Z",
              "execution_finish_time": "2023-12-06T15:07:42.4060735Z",
              "spark_jobs": null,
              "parent_msg_id": "19a64d50-5e57-45cf-a7fb-3ec143c5266b"
            },
            "text/plain": "StatementMeta(smallpool33, 366, 141, Finished, Available)"
          },
          "metadata": {}
        },
        {
          "output_type": "stream",
          "name": "stdout",
          "text": [
            "1\n"
          ]
        },
        {
          "output_type": "display_data",
          "data": {
            "application/vnd.synapse.widget-view+json": {
              "widget_id": "a816ae00-ec39-4c8d-b484-8a7f7d492e70",
              "widget_type": "Synapse.DataFrame"
            },
            "text/plain": "SynapseWidget(Synapse.DataFrame, a816ae00-ec39-4c8d-b484-8a7f7d492e70)"
          },
          "metadata": {}
        },
        {
          "output_type": "stream",
          "name": "stdout",
          "text": [
            "wasbs://silver@usafactssilver.blob.core.windows.net/immigration_yearbook_excel_files/2021/2022_0920_plcy_refugees_and_asylees_fy2021_tables.zip/fy2021_table16/fy2021_table16 uploaded sucessfully\n1\n"
          ]
        },
        {
          "output_type": "display_data",
          "data": {
            "application/vnd.synapse.widget-view+json": {
              "widget_id": "2a1a3b16-54a5-4aab-a6d2-0ef5d5d526c0",
              "widget_type": "Synapse.DataFrame"
            },
            "text/plain": "SynapseWidget(Synapse.DataFrame, 2a1a3b16-54a5-4aab-a6d2-0ef5d5d526c0)"
          },
          "metadata": {}
        },
        {
          "output_type": "stream",
          "name": "stdout",
          "text": [
            "wasbs://silver@usafactssilver.blob.core.windows.net/immigration_yearbook_excel_files/2021/2022_0920_plcy_refugees_and_asylees_fy2021_tables.zip/fy2021_table14d/fy2021_table14d uploaded sucessfully\n1\n"
          ]
        },
        {
          "output_type": "display_data",
          "data": {
            "application/vnd.synapse.widget-view+json": {
              "widget_id": "ef1b1662-a98b-4ebc-beaa-a46b853a1dd2",
              "widget_type": "Synapse.DataFrame"
            },
            "text/plain": "SynapseWidget(Synapse.DataFrame, ef1b1662-a98b-4ebc-beaa-a46b853a1dd2)"
          },
          "metadata": {}
        },
        {
          "output_type": "stream",
          "name": "stdout",
          "text": [
            "wasbs://silver@usafactssilver.blob.core.windows.net/immigration_yearbook_excel_files/2021/2022_0920_plcy_refugees_and_asylees_fy2021_tables.zip/fy2021_table17d/fy2021_table17d uploaded sucessfully\n1\n"
          ]
        },
        {
          "output_type": "display_data",
          "data": {
            "application/vnd.synapse.widget-view+json": {
              "widget_id": "3d7c61d3-5896-4c22-bc85-b071ba376c55",
              "widget_type": "Synapse.DataFrame"
            },
            "text/plain": "SynapseWidget(Synapse.DataFrame, 3d7c61d3-5896-4c22-bc85-b071ba376c55)"
          },
          "metadata": {}
        },
        {
          "output_type": "stream",
          "name": "stdout",
          "text": [
            "wasbs://silver@usafactssilver.blob.core.windows.net/immigration_yearbook_excel_files/2021/2022_0920_plcy_refugees_and_asylees_fy2021_tables.zip/fy2021_table13/fy2021_table13 uploaded sucessfully\n1\n"
          ]
        },
        {
          "output_type": "display_data",
          "data": {
            "application/vnd.synapse.widget-view+json": {
              "widget_id": "d1c0a3e3-d551-4d87-8412-28e199d74842",
              "widget_type": "Synapse.DataFrame"
            },
            "text/plain": "SynapseWidget(Synapse.DataFrame, d1c0a3e3-d551-4d87-8412-28e199d74842)"
          },
          "metadata": {}
        },
        {
          "output_type": "stream",
          "name": "stdout",
          "text": [
            "wasbs://silver@usafactssilver.blob.core.windows.net/immigration_yearbook_excel_files/2021/2022_0920_plcy_refugees_and_asylees_fy2021_tables.zip/fy2021_table15d/fy2021_table15d uploaded sucessfully\n1\n"
          ]
        },
        {
          "output_type": "display_data",
          "data": {
            "application/vnd.synapse.widget-view+json": {
              "widget_id": "53b090ad-2255-43d4-bb13-bd657ae9f82b",
              "widget_type": "Synapse.DataFrame"
            },
            "text/plain": "SynapseWidget(Synapse.DataFrame, 53b090ad-2255-43d4-bb13-bd657ae9f82b)"
          },
          "metadata": {}
        },
        {
          "output_type": "stream",
          "name": "stdout",
          "text": [
            "wasbs://silver@usafactssilver.blob.core.windows.net/immigration_yearbook_excel_files/2021/2022_0920_plcy_refugees_and_asylees_fy2021_tables.zip/fy2021_table19d/fy2021_table19d uploaded sucessfully\n1\n"
          ]
        },
        {
          "output_type": "display_data",
          "data": {
            "application/vnd.synapse.widget-view+json": {
              "widget_id": "1cd3fccf-8f31-4251-80e9-a41133668c94",
              "widget_type": "Synapse.DataFrame"
            },
            "text/plain": "SynapseWidget(Synapse.DataFrame, 1cd3fccf-8f31-4251-80e9-a41133668c94)"
          },
          "metadata": {}
        },
        {
          "output_type": "stream",
          "name": "stdout",
          "text": [
            "wasbs://silver@usafactssilver.blob.core.windows.net/immigration_yearbook_excel_files/2021/2022_0920_plcy_refugees_and_asylees_fy2021_tables.zip/fy2021_table18d/fy2021_table18d uploaded sucessfully\n"
          ]
        }
      ],
      "execution_count": 140,
      "metadata": {
        "jupyter": {
          "source_hidden": false,
          "outputs_hidden": false
        },
        "nteract": {
          "transient": {
            "deleting": false
          }
        },
        "collapsed": false
      }
    },
    {
      "cell_type": "code",
      "source": [
        "if len(bad_records)>= 1:\r\n",
        "    pandas_df = pd.DataFrame(bad_records,columns=[\"URL\",\"File_name\",\"Reason\"])\r\n",
        "    bad_path = blob_relative_path+'bad_records/bad_record.csv'\r\n",
        "    blob_client = container_client.get_blob_client(bad_path)\r\n",
        "    csv_file = pandas_df.to_csv(index=False)\r\n",
        "    blob_client.upload_blob(csv_file,overwrite=True)"
      ],
      "outputs": [
        {
          "output_type": "display_data",
          "data": {
            "application/vnd.livy.statement-meta+json": {
              "spark_pool": null,
              "session_id": null,
              "statement_id": null,
              "state": "cancelled",
              "livy_statement_state": null,
              "queued_time": "2023-12-06T14:56:46.4581138Z",
              "session_start_time": null,
              "execution_start_time": null,
              "execution_finish_time": "2023-12-06T14:56:47.9537519Z",
              "spark_jobs": null,
              "parent_msg_id": "d4e22f03-0baf-4f77-99d5-a5d47deee7e8"
            },
            "text/plain": "StatementMeta(, , , Cancelled, )"
          },
          "metadata": {}
        }
      ],
      "execution_count": null,
      "metadata": {
        "jupyter": {
          "source_hidden": false,
          "outputs_hidden": false
        },
        "nteract": {
          "transient": {
            "deleting": false
          }
        }
      }
    }
  ],
  "metadata": {
    "kernelspec": {
      "name": "synapse_pyspark",
      "language": "Python",
      "display_name": "Synapse PySpark"
    },
    "language_info": {
      "name": "python"
    },
    "kernel_info": {
      "name": "synapse_pyspark"
    },
    "save_output": true,
    "synapse_widget": {
      "version": "0.1",
      "state": {
        "a816ae00-ec39-4c8d-b484-8a7f7d492e70": {
          "type": "Synapse.DataFrame",
          "sync_state": {
            "table": {
              "rows": [
                {
                  "0": "1990",
                  "1": "8472",
                  "2": "5672",
                  "3": "2800",
                  "4": "Table 16.. INDIVIDUALS GRANTED ASYLUM AFFIRMATIVELY OR DEFENSIVELY: FISCAL YEARS 1990 TO 2021",
                  "5": "Source: DHS Office of Immigration Statistics."
                },
                {
                  "0": "1991",
                  "1": "5035",
                  "2": "2908",
                  "3": "2127",
                  "4": "Table 16.. INDIVIDUALS GRANTED ASYLUM AFFIRMATIVELY OR DEFENSIVELY: FISCAL YEARS 1990 TO 2021",
                  "5": "Source: DHS Office of Immigration Statistics."
                },
                {
                  "0": "1992",
                  "1": "6307",
                  "2": "4123",
                  "3": "2184",
                  "4": "Table 16.. INDIVIDUALS GRANTED ASYLUM AFFIRMATIVELY OR DEFENSIVELY: FISCAL YEARS 1990 TO 2021",
                  "5": "Source: DHS Office of Immigration Statistics."
                },
                {
                  "0": "1993",
                  "1": "9543",
                  "2": "7509",
                  "3": "2034",
                  "4": "Table 16.. INDIVIDUALS GRANTED ASYLUM AFFIRMATIVELY OR DEFENSIVELY: FISCAL YEARS 1990 TO 2021",
                  "5": "Source: DHS Office of Immigration Statistics."
                },
                {
                  "0": "1994",
                  "1": "13828",
                  "2": "11775",
                  "3": "2053",
                  "4": "Table 16.. INDIVIDUALS GRANTED ASYLUM AFFIRMATIVELY OR DEFENSIVELY: FISCAL YEARS 1990 TO 2021",
                  "5": "Source: DHS Office of Immigration Statistics."
                },
                {
                  "0": "1995",
                  "1": "20703",
                  "2": "17573",
                  "3": "3130",
                  "4": "Table 16.. INDIVIDUALS GRANTED ASYLUM AFFIRMATIVELY OR DEFENSIVELY: FISCAL YEARS 1990 TO 2021",
                  "5": "Source: DHS Office of Immigration Statistics."
                },
                {
                  "0": "1996",
                  "1": "23532",
                  "2": "18624",
                  "3": "4908",
                  "4": "Table 16.. INDIVIDUALS GRANTED ASYLUM AFFIRMATIVELY OR DEFENSIVELY: FISCAL YEARS 1990 TO 2021",
                  "5": "Source: DHS Office of Immigration Statistics."
                },
                {
                  "0": "1997",
                  "1": "22939",
                  "2": "16380",
                  "3": "6559",
                  "4": "Table 16.. INDIVIDUALS GRANTED ASYLUM AFFIRMATIVELY OR DEFENSIVELY: FISCAL YEARS 1990 TO 2021",
                  "5": "Source: DHS Office of Immigration Statistics."
                },
                {
                  "0": "1998",
                  "1": "20507",
                  "2": "13216",
                  "3": "7291",
                  "4": "Table 16.. INDIVIDUALS GRANTED ASYLUM AFFIRMATIVELY OR DEFENSIVELY: FISCAL YEARS 1990 TO 2021",
                  "5": "Source: DHS Office of Immigration Statistics."
                },
                {
                  "0": "1999",
                  "1": "26571",
                  "2": "18150",
                  "3": "8421",
                  "4": "Table 16.. INDIVIDUALS GRANTED ASYLUM AFFIRMATIVELY OR DEFENSIVELY: FISCAL YEARS 1990 TO 2021",
                  "5": "Source: DHS Office of Immigration Statistics."
                },
                {
                  "0": "2000",
                  "1": "32514",
                  "2": "23278",
                  "3": "9236",
                  "4": "Table 16.. INDIVIDUALS GRANTED ASYLUM AFFIRMATIVELY OR DEFENSIVELY: FISCAL YEARS 1990 TO 2021",
                  "5": "Source: DHS Office of Immigration Statistics."
                },
                {
                  "0": "2001",
                  "1": "39148",
                  "2": "29147",
                  "3": "10001",
                  "4": "Table 16.. INDIVIDUALS GRANTED ASYLUM AFFIRMATIVELY OR DEFENSIVELY: FISCAL YEARS 1990 TO 2021",
                  "5": "Source: DHS Office of Immigration Statistics."
                },
                {
                  "0": "2002",
                  "1": "36937",
                  "2": "25960",
                  "3": "10977",
                  "4": "Table 16.. INDIVIDUALS GRANTED ASYLUM AFFIRMATIVELY OR DEFENSIVELY: FISCAL YEARS 1990 TO 2021",
                  "5": "Source: DHS Office of Immigration Statistics."
                },
                {
                  "0": "2003",
                  "1": "28743",
                  "2": "15367",
                  "3": "13376",
                  "4": "Table 16.. INDIVIDUALS GRANTED ASYLUM AFFIRMATIVELY OR DEFENSIVELY: FISCAL YEARS 1990 TO 2021",
                  "5": "Source: DHS Office of Immigration Statistics."
                },
                {
                  "0": "2004",
                  "1": "27376",
                  "2": "14354",
                  "3": "13022",
                  "4": "Table 16.. INDIVIDUALS GRANTED ASYLUM AFFIRMATIVELY OR DEFENSIVELY: FISCAL YEARS 1990 TO 2021",
                  "5": "Source: DHS Office of Immigration Statistics."
                },
                {
                  "0": "2005",
                  "1": "25304",
                  "2": "13547",
                  "3": "11757",
                  "4": "Table 16.. INDIVIDUALS GRANTED ASYLUM AFFIRMATIVELY OR DEFENSIVELY: FISCAL YEARS 1990 TO 2021",
                  "5": "Source: DHS Office of Immigration Statistics."
                },
                {
                  "0": "2006",
                  "1": "26352",
                  "2": "13048",
                  "3": "13304",
                  "4": "Table 16.. INDIVIDUALS GRANTED ASYLUM AFFIRMATIVELY OR DEFENSIVELY: FISCAL YEARS 1990 TO 2021",
                  "5": "Source: DHS Office of Immigration Statistics."
                },
                {
                  "0": "2007",
                  "1": "25318",
                  "2": "12459",
                  "3": "12859",
                  "4": "Table 16.. INDIVIDUALS GRANTED ASYLUM AFFIRMATIVELY OR DEFENSIVELY: FISCAL YEARS 1990 TO 2021",
                  "5": "Source: DHS Office of Immigration Statistics."
                },
                {
                  "0": "2008",
                  "1": "23022",
                  "2": "12130",
                  "3": "10892",
                  "4": "Table 16.. INDIVIDUALS GRANTED ASYLUM AFFIRMATIVELY OR DEFENSIVELY: FISCAL YEARS 1990 TO 2021",
                  "5": "Source: DHS Office of Immigration Statistics."
                },
                {
                  "0": "2009",
                  "1": "22303",
                  "2": "12003",
                  "3": "10300",
                  "4": "Table 16.. INDIVIDUALS GRANTED ASYLUM AFFIRMATIVELY OR DEFENSIVELY: FISCAL YEARS 1990 TO 2021",
                  "5": "Source: DHS Office of Immigration Statistics."
                },
                {
                  "0": "2010",
                  "1": "19777",
                  "2": "11258",
                  "3": "8519",
                  "4": "Table 16.. INDIVIDUALS GRANTED ASYLUM AFFIRMATIVELY OR DEFENSIVELY: FISCAL YEARS 1990 TO 2021",
                  "5": "Source: DHS Office of Immigration Statistics."
                },
                {
                  "0": "2011",
                  "1": "23631",
                  "2": "13493",
                  "3": "10138",
                  "4": "Table 16.. INDIVIDUALS GRANTED ASYLUM AFFIRMATIVELY OR DEFENSIVELY: FISCAL YEARS 1990 TO 2021",
                  "5": "Source: DHS Office of Immigration Statistics."
                },
                {
                  "0": "2012",
                  "1": "27446",
                  "2": "16871",
                  "3": "10575",
                  "4": "Table 16.. INDIVIDUALS GRANTED ASYLUM AFFIRMATIVELY OR DEFENSIVELY: FISCAL YEARS 1990 TO 2021",
                  "5": "Source: DHS Office of Immigration Statistics."
                },
                {
                  "0": "2013",
                  "1": "24657",
                  "2": "14890",
                  "3": "9767",
                  "4": "Table 16.. INDIVIDUALS GRANTED ASYLUM AFFIRMATIVELY OR DEFENSIVELY: FISCAL YEARS 1990 TO 2021",
                  "5": "Source: DHS Office of Immigration Statistics."
                },
                {
                  "0": "2014",
                  "1": "23061",
                  "2": "14425",
                  "3": "8636",
                  "4": "Table 16.. INDIVIDUALS GRANTED ASYLUM AFFIRMATIVELY OR DEFENSIVELY: FISCAL YEARS 1990 TO 2021",
                  "5": "Source: DHS Office of Immigration Statistics."
                },
                {
                  "0": "2015",
                  "1": "25947",
                  "2": "17807",
                  "3": "8140",
                  "4": "Table 16.. INDIVIDUALS GRANTED ASYLUM AFFIRMATIVELY OR DEFENSIVELY: FISCAL YEARS 1990 TO 2021",
                  "5": "Source: DHS Office of Immigration Statistics."
                },
                {
                  "0": "2016",
                  "1": "20313",
                  "2": "11620",
                  "3": "8693",
                  "4": "Table 16.. INDIVIDUALS GRANTED ASYLUM AFFIRMATIVELY OR DEFENSIVELY: FISCAL YEARS 1990 TO 2021",
                  "5": "Source: DHS Office of Immigration Statistics."
                },
                {
                  "0": "2017",
                  "1": "26380",
                  "2": "15815",
                  "3": "10565",
                  "4": "Table 16.. INDIVIDUALS GRANTED ASYLUM AFFIRMATIVELY OR DEFENSIVELY: FISCAL YEARS 1990 TO 2021",
                  "5": "Source: DHS Office of Immigration Statistics."
                },
                {
                  "0": "2018",
                  "1": "37740",
                  "2": "24543",
                  "3": "13197",
                  "4": "Table 16.. INDIVIDUALS GRANTED ASYLUM AFFIRMATIVELY OR DEFENSIVELY: FISCAL YEARS 1990 TO 2021",
                  "5": "Source: DHS Office of Immigration Statistics."
                },
                {
                  "0": "2019",
                  "1": "45888",
                  "2": "26979",
                  "3": "18909",
                  "4": "Table 16.. INDIVIDUALS GRANTED ASYLUM AFFIRMATIVELY OR DEFENSIVELY: FISCAL YEARS 1990 TO 2021",
                  "5": "Source: DHS Office of Immigration Statistics."
                },
                {
                  "0": "2020",
                  "1": "30964",
                  "2": "16363",
                  "3": "14601",
                  "4": "Table 16.. INDIVIDUALS GRANTED ASYLUM AFFIRMATIVELY OR DEFENSIVELY: FISCAL YEARS 1990 TO 2021",
                  "5": "Source: DHS Office of Immigration Statistics."
                },
                {
                  "0": "2021",
                  "1": "17692",
                  "2": "10325",
                  "3": "7367",
                  "4": "Table 16.. INDIVIDUALS GRANTED ASYLUM AFFIRMATIVELY OR DEFENSIVELY: FISCAL YEARS 1990 TO 2021",
                  "5": "Source: DHS Office of Immigration Statistics."
                }
              ],
              "schema": [
                {
                  "key": "0",
                  "name": "Year",
                  "type": "string"
                },
                {
                  "key": "1",
                  "name": "Total",
                  "type": "string"
                },
                {
                  "key": "2",
                  "name": "Affirmative",
                  "type": "string"
                },
                {
                  "key": "3",
                  "name": "Defensive",
                  "type": "string"
                },
                {
                  "key": "4",
                  "name": "Header",
                  "type": "string"
                },
                {
                  "key": "5",
                  "name": "Footer",
                  "type": "string"
                }
              ],
              "truncated": false
            },
            "isSummary": false,
            "language": "scala"
          },
          "persist_state": {
            "view": {
              "type": "details",
              "tableOptions": {},
              "chartOptions": {
                "chartType": "bar",
                "aggregationType": "count",
                "categoryFieldKeys": [
                  "0"
                ],
                "seriesFieldKeys": [
                  "0"
                ],
                "isStacked": false
              }
            }
          }
        },
        "2a1a3b16-54a5-4aab-a6d2-0ef5d5d526c0": {
          "type": "Synapse.DataFrame",
          "sync_state": {
            "table": {
              "rows": [
                {
                  "0": "REGION  Total",
                  "1": "58179",
                  "2": "69909",
                  "3": "69975",
                  "4": "69920",
                  "5": "84989",
                  "6": "53691",
                  "7": "22405",
                  "8": "29916",
                  "9": "11840",
                  "10": "11454",
                  "11": "Table 14.. REFUGEE ARRIVALS BY REGION AND COUNTRY OF NATIONALITY: FISCAL YEARS 2012 TO 2021",
                  "12": "D Data withheld to limit disclosure.. - Represents zero.. 1 Includes countries with fewer than 10 refugee arrivals per year.. 2 Includes admissions from Palestinian Territory.. Notes: Excludes Amerasian immigrants. In previous Yearbooks, OIS reported nationality by that of the Principal Applicant but has changed its methodology to report on the individual's nationality. Figures are based on refugee arrival date; certain refugee applicants who arrived in FY 2020 and 2021 are counted for those years and not towards the FY 2018 refugee admissions ceiling.. Source: DHS Office of Immigration Statistics."
                },
                {
                  "0": "REGION  Africa",
                  "1": "10629",
                  "2": "15990",
                  "3": "17506",
                  "4": "22497",
                  "5": "31640",
                  "6": "20251",
                  "7": "10462",
                  "8": "16373",
                  "9": "4173",
                  "10": "6259",
                  "11": "Table 14.. REFUGEE ARRIVALS BY REGION AND COUNTRY OF NATIONALITY: FISCAL YEARS 2012 TO 2021",
                  "12": "D Data withheld to limit disclosure.. - Represents zero.. 1 Includes countries with fewer than 10 refugee arrivals per year.. 2 Includes admissions from Palestinian Territory.. Notes: Excludes Amerasian immigrants. In previous Yearbooks, OIS reported nationality by that of the Principal Applicant but has changed its methodology to report on the individual's nationality. Figures are based on refugee arrival date; certain refugee applicants who arrived in FY 2020 and 2021 are counted for those years and not towards the FY 2018 refugee admissions ceiling.. Source: DHS Office of Immigration Statistics."
                },
                {
                  "0": "REGION  Asia",
                  "1": "44351",
                  "2": "48756",
                  "3": "47165",
                  "4": "43091",
                  "5": "48268",
                  "6": "26648",
                  "7": "7524",
                  "8": "7852",
                  "9": "4235",
                  "10": "3833",
                  "11": "Table 14.. REFUGEE ARRIVALS BY REGION AND COUNTRY OF NATIONALITY: FISCAL YEARS 2012 TO 2021",
                  "12": "D Data withheld to limit disclosure.. - Represents zero.. 1 Includes countries with fewer than 10 refugee arrivals per year.. 2 Includes admissions from Palestinian Territory.. Notes: Excludes Amerasian immigrants. In previous Yearbooks, OIS reported nationality by that of the Principal Applicant but has changed its methodology to report on the individual's nationality. Figures are based on refugee arrival date; certain refugee applicants who arrived in FY 2020 and 2021 are counted for those years and not towards the FY 2018 refugee admissions ceiling.. Source: DHS Office of Immigration Statistics."
                },
                {
                  "0": "REGION  Europe",
                  "1": "943",
                  "2": "530",
                  "3": "825",
                  "4": "2178",
                  "5": "3676",
                  "6": "5019",
                  "7": "3459",
                  "8": "4850",
                  "9": "2477",
                  "10": "924",
                  "11": "Table 14.. REFUGEE ARRIVALS BY REGION AND COUNTRY OF NATIONALITY: FISCAL YEARS 2012 TO 2021",
                  "12": "D Data withheld to limit disclosure.. - Represents zero.. 1 Includes countries with fewer than 10 refugee arrivals per year.. 2 Includes admissions from Palestinian Territory.. Notes: Excludes Amerasian immigrants. In previous Yearbooks, OIS reported nationality by that of the Principal Applicant but has changed its methodology to report on the individual's nationality. Figures are based on refugee arrival date; certain refugee applicants who arrived in FY 2020 and 2021 are counted for those years and not towards the FY 2018 refugee admissions ceiling.. Source: DHS Office of Immigration Statistics."
                },
                {
                  "0": "REGION  North America",
                  "1": "1948",
                  "2": "4206",
                  "3": "4067",
                  "4": "1528",
                  "5": "812",
                  "6": "1456",
                  "7": "827",
                  "8": "511",
                  "9": "712",
                  "10": "349",
                  "11": "Table 14.. REFUGEE ARRIVALS BY REGION AND COUNTRY OF NATIONALITY: FISCAL YEARS 2012 TO 2021",
                  "12": "D Data withheld to limit disclosure.. - Represents zero.. 1 Includes countries with fewer than 10 refugee arrivals per year.. 2 Includes admissions from Palestinian Territory.. Notes: Excludes Amerasian immigrants. In previous Yearbooks, OIS reported nationality by that of the Principal Applicant but has changed its methodology to report on the individual's nationality. Figures are based on refugee arrival date; certain refugee applicants who arrived in FY 2020 and 2021 are counted for those years and not towards the FY 2018 refugee admissions ceiling.. Source: DHS Office of Immigration Statistics."
                },
                {
                  "0": "REGION  Oceania",
                  "1": "-",
                  "2": "-",
                  "3": "-",
                  "4": "-",
                  "5": "-",
                  "6": "-",
                  "7": "5",
                  "8": "-",
                  "9": "4",
                  "10": "3",
                  "11": "Table 14.. REFUGEE ARRIVALS BY REGION AND COUNTRY OF NATIONALITY: FISCAL YEARS 2012 TO 2021",
                  "12": "D Data withheld to limit disclosure.. - Represents zero.. 1 Includes countries with fewer than 10 refugee arrivals per year.. 2 Includes admissions from Palestinian Territory.. Notes: Excludes Amerasian immigrants. In previous Yearbooks, OIS reported nationality by that of the Principal Applicant but has changed its methodology to report on the individual's nationality. Figures are based on refugee arrival date; certain refugee applicants who arrived in FY 2020 and 2021 are counted for those years and not towards the FY 2018 refugee admissions ceiling.. Source: DHS Office of Immigration Statistics."
                },
                {
                  "0": "REGION  South America",
                  "1": "130",
                  "2": "233",
                  "3": "253",
                  "4": "522",
                  "5": "531",
                  "6": "232",
                  "7": "128",
                  "8": "298",
                  "9": "236",
                  "10": "53",
                  "11": "Table 14.. REFUGEE ARRIVALS BY REGION AND COUNTRY OF NATIONALITY: FISCAL YEARS 2012 TO 2021",
                  "12": "D Data withheld to limit disclosure.. - Represents zero.. 1 Includes countries with fewer than 10 refugee arrivals per year.. 2 Includes admissions from Palestinian Territory.. Notes: Excludes Amerasian immigrants. In previous Yearbooks, OIS reported nationality by that of the Principal Applicant but has changed its methodology to report on the individual's nationality. Figures are based on refugee arrival date; certain refugee applicants who arrived in FY 2020 and 2021 are counted for those years and not towards the FY 2018 refugee admissions ceiling.. Source: DHS Office of Immigration Statistics."
                },
                {
                  "0": "REGION  Unknown",
                  "1": "178",
                  "2": "194",
                  "3": "159",
                  "4": "104",
                  "5": "62",
                  "6": "85",
                  "7": "-",
                  "8": "32",
                  "9": "3",
                  "10": "33",
                  "11": "Table 14.. REFUGEE ARRIVALS BY REGION AND COUNTRY OF NATIONALITY: FISCAL YEARS 2012 TO 2021",
                  "12": "D Data withheld to limit disclosure.. - Represents zero.. 1 Includes countries with fewer than 10 refugee arrivals per year.. 2 Includes admissions from Palestinian Territory.. Notes: Excludes Amerasian immigrants. In previous Yearbooks, OIS reported nationality by that of the Principal Applicant but has changed its methodology to report on the individual's nationality. Figures are based on refugee arrival date; certain refugee applicants who arrived in FY 2020 and 2021 are counted for those years and not towards the FY 2018 refugee admissions ceiling.. Source: DHS Office of Immigration Statistics."
                },
                {
                  "0": "COUNTRY  Total",
                  "1": "58179",
                  "2": "69909",
                  "3": "69975",
                  "4": "69920",
                  "5": "84989",
                  "6": "53691",
                  "7": "22405",
                  "8": "29916",
                  "9": "11840",
                  "10": "11454",
                  "11": "Table 14.. REFUGEE ARRIVALS BY REGION AND COUNTRY OF NATIONALITY: FISCAL YEARS 2012 TO 2021",
                  "12": "D Data withheld to limit disclosure.. - Represents zero.. 1 Includes countries with fewer than 10 refugee arrivals per year.. 2 Includes admissions from Palestinian Territory.. Notes: Excludes Amerasian immigrants. In previous Yearbooks, OIS reported nationality by that of the Principal Applicant but has changed its methodology to report on the individual's nationality. Figures are based on refugee arrival date; certain refugee applicants who arrived in FY 2020 and 2021 are counted for those years and not towards the FY 2018 refugee admissions ceiling.. Source: DHS Office of Immigration Statistics."
                },
                {
                  "0": "COUNTRY  Afghanistan",
                  "1": "450",
                  "2": "622",
                  "3": "758",
                  "4": "914",
                  "5": "2743",
                  "6": "1315",
                  "7": "802",
                  "8": "1197",
                  "9": "603",
                  "10": "874",
                  "11": "Table 14.. REFUGEE ARRIVALS BY REGION AND COUNTRY OF NATIONALITY: FISCAL YEARS 2012 TO 2021",
                  "12": "D Data withheld to limit disclosure.. - Represents zero.. 1 Includes countries with fewer than 10 refugee arrivals per year.. 2 Includes admissions from Palestinian Territory.. Notes: Excludes Amerasian immigrants. In previous Yearbooks, OIS reported nationality by that of the Principal Applicant but has changed its methodology to report on the individual's nationality. Figures are based on refugee arrival date; certain refugee applicants who arrived in FY 2020 and 2021 are counted for those years and not towards the FY 2018 refugee admissions ceiling.. Source: DHS Office of Immigration Statistics."
                },
                {
                  "0": "COUNTRY  Angola",
                  "1": "D",
                  "2": "11",
                  "3": "-",
                  "4": "8",
                  "5": "5",
                  "6": "-",
                  "7": "D",
                  "8": "3",
                  "9": "-",
                  "10": "-",
                  "11": "Table 14.. REFUGEE ARRIVALS BY REGION AND COUNTRY OF NATIONALITY: FISCAL YEARS 2012 TO 2021",
                  "12": "D Data withheld to limit disclosure.. - Represents zero.. 1 Includes countries with fewer than 10 refugee arrivals per year.. 2 Includes admissions from Palestinian Territory.. Notes: Excludes Amerasian immigrants. In previous Yearbooks, OIS reported nationality by that of the Principal Applicant but has changed its methodology to report on the individual's nationality. Figures are based on refugee arrival date; certain refugee applicants who arrived in FY 2020 and 2021 are counted for those years and not towards the FY 2018 refugee admissions ceiling.. Source: DHS Office of Immigration Statistics."
                },
                {
                  "0": "COUNTRY  Armenia",
                  "1": "8",
                  "2": "5",
                  "3": "9",
                  "4": "47",
                  "5": "56",
                  "6": "58",
                  "7": "58",
                  "8": "33",
                  "9": "63",
                  "10": "34",
                  "11": "Table 14.. REFUGEE ARRIVALS BY REGION AND COUNTRY OF NATIONALITY: FISCAL YEARS 2012 TO 2021",
                  "12": "D Data withheld to limit disclosure.. - Represents zero.. 1 Includes countries with fewer than 10 refugee arrivals per year.. 2 Includes admissions from Palestinian Territory.. Notes: Excludes Amerasian immigrants. In previous Yearbooks, OIS reported nationality by that of the Principal Applicant but has changed its methodology to report on the individual's nationality. Figures are based on refugee arrival date; certain refugee applicants who arrived in FY 2020 and 2021 are counted for those years and not towards the FY 2018 refugee admissions ceiling.. Source: DHS Office of Immigration Statistics."
                },
                {
                  "0": "COUNTRY  Azerbaijan",
                  "1": "10",
                  "2": "8",
                  "3": "15",
                  "4": "15",
                  "5": "32",
                  "6": "21",
                  "7": "D",
                  "8": "-",
                  "9": "D",
                  "10": "-",
                  "11": "Table 14.. REFUGEE ARRIVALS BY REGION AND COUNTRY OF NATIONALITY: FISCAL YEARS 2012 TO 2021",
                  "12": "D Data withheld to limit disclosure.. - Represents zero.. 1 Includes countries with fewer than 10 refugee arrivals per year.. 2 Includes admissions from Palestinian Territory.. Notes: Excludes Amerasian immigrants. In previous Yearbooks, OIS reported nationality by that of the Principal Applicant but has changed its methodology to report on the individual's nationality. Figures are based on refugee arrival date; certain refugee applicants who arrived in FY 2020 and 2021 are counted for those years and not towards the FY 2018 refugee admissions ceiling.. Source: DHS Office of Immigration Statistics."
                },
                {
                  "0": "COUNTRY  Belarus",
                  "1": "84",
                  "2": "17",
                  "3": "43",
                  "4": "97",
                  "5": "187",
                  "6": "79",
                  "7": "180",
                  "8": "100",
                  "9": "-",
                  "10": "3",
                  "11": "Table 14.. REFUGEE ARRIVALS BY REGION AND COUNTRY OF NATIONALITY: FISCAL YEARS 2012 TO 2021",
                  "12": "D Data withheld to limit disclosure.. - Represents zero.. 1 Includes countries with fewer than 10 refugee arrivals per year.. 2 Includes admissions from Palestinian Territory.. Notes: Excludes Amerasian immigrants. In previous Yearbooks, OIS reported nationality by that of the Principal Applicant but has changed its methodology to report on the individual's nationality. Figures are based on refugee arrival date; certain refugee applicants who arrived in FY 2020 and 2021 are counted for those years and not towards the FY 2018 refugee admissions ceiling.. Source: DHS Office of Immigration Statistics."
                },
                {
                  "0": "COUNTRY  Bhutan",
                  "1": "15022",
                  "2": "9045",
                  "3": "8316",
                  "4": "5563",
                  "5": "5455",
                  "6": "3340",
                  "7": "2016",
                  "8": "28",
                  "9": "7",
                  "10": "3",
                  "11": "Table 14.. REFUGEE ARRIVALS BY REGION AND COUNTRY OF NATIONALITY: FISCAL YEARS 2012 TO 2021",
                  "12": "D Data withheld to limit disclosure.. - Represents zero.. 1 Includes countries with fewer than 10 refugee arrivals per year.. 2 Includes admissions from Palestinian Territory.. Notes: Excludes Amerasian immigrants. In previous Yearbooks, OIS reported nationality by that of the Principal Applicant but has changed its methodology to report on the individual's nationality. Figures are based on refugee arrival date; certain refugee applicants who arrived in FY 2020 and 2021 are counted for those years and not towards the FY 2018 refugee admissions ceiling.. Source: DHS Office of Immigration Statistics."
                },
                {
                  "0": "COUNTRY  Burma",
                  "1": "14159",
                  "2": "16295",
                  "3": "14578",
                  "4": "18323",
                  "5": "12294",
                  "6": "5047",
                  "7": "3525",
                  "8": "4928",
                  "9": "2112",
                  "10": "769",
                  "11": "Table 14.. REFUGEE ARRIVALS BY REGION AND COUNTRY OF NATIONALITY: FISCAL YEARS 2012 TO 2021",
                  "12": "D Data withheld to limit disclosure.. - Represents zero.. 1 Includes countries with fewer than 10 refugee arrivals per year.. 2 Includes admissions from Palestinian Territory.. Notes: Excludes Amerasian immigrants. In previous Yearbooks, OIS reported nationality by that of the Principal Applicant but has changed its methodology to report on the individual's nationality. Figures are based on refugee arrival date; certain refugee applicants who arrived in FY 2020 and 2021 are counted for those years and not towards the FY 2018 refugee admissions ceiling.. Source: DHS Office of Immigration Statistics."
                },
                {
                  "0": "COUNTRY  Burundi",
                  "1": "188",
                  "2": "203",
                  "3": "84",
                  "4": "1218",
                  "5": "729",
                  "6": "304",
                  "7": "219",
                  "8": "259",
                  "9": "53",
                  "10": "134",
                  "11": "Table 14.. REFUGEE ARRIVALS BY REGION AND COUNTRY OF NATIONALITY: FISCAL YEARS 2012 TO 2021",
                  "12": "D Data withheld to limit disclosure.. - Represents zero.. 1 Includes countries with fewer than 10 refugee arrivals per year.. 2 Includes admissions from Palestinian Territory.. Notes: Excludes Amerasian immigrants. In previous Yearbooks, OIS reported nationality by that of the Principal Applicant but has changed its methodology to report on the individual's nationality. Figures are based on refugee arrival date; certain refugee applicants who arrived in FY 2020 and 2021 are counted for those years and not towards the FY 2018 refugee admissions ceiling.. Source: DHS Office of Immigration Statistics."
                },
                {
                  "0": "COUNTRY  Cambodia",
                  "1": "6",
                  "2": "30",
                  "3": "45",
                  "4": "D",
                  "5": "21",
                  "6": "5",
                  "7": "-",
                  "8": "D",
                  "9": "-",
                  "10": "D",
                  "11": "Table 14.. REFUGEE ARRIVALS BY REGION AND COUNTRY OF NATIONALITY: FISCAL YEARS 2012 TO 2021",
                  "12": "D Data withheld to limit disclosure.. - Represents zero.. 1 Includes countries with fewer than 10 refugee arrivals per year.. 2 Includes admissions from Palestinian Territory.. Notes: Excludes Amerasian immigrants. In previous Yearbooks, OIS reported nationality by that of the Principal Applicant but has changed its methodology to report on the individual's nationality. Figures are based on refugee arrival date; certain refugee applicants who arrived in FY 2020 and 2021 are counted for those years and not towards the FY 2018 refugee admissions ceiling.. Source: DHS Office of Immigration Statistics."
                },
                {
                  "0": "COUNTRY  Cameroon",
                  "1": "12",
                  "2": "-",
                  "3": "5",
                  "4": "17",
                  "5": "14",
                  "6": "24",
                  "7": "14",
                  "8": "28",
                  "9": "6",
                  "10": "D",
                  "11": "Table 14.. REFUGEE ARRIVALS BY REGION AND COUNTRY OF NATIONALITY: FISCAL YEARS 2012 TO 2021",
                  "12": "D Data withheld to limit disclosure.. - Represents zero.. 1 Includes countries with fewer than 10 refugee arrivals per year.. 2 Includes admissions from Palestinian Territory.. Notes: Excludes Amerasian immigrants. In previous Yearbooks, OIS reported nationality by that of the Principal Applicant but has changed its methodology to report on the individual's nationality. Figures are based on refugee arrival date; certain refugee applicants who arrived in FY 2020 and 2021 are counted for those years and not towards the FY 2018 refugee admissions ceiling.. Source: DHS Office of Immigration Statistics."
                },
                {
                  "0": "COUNTRY  Central African Republic",
                  "1": "132",
                  "2": "315",
                  "3": "25",
                  "4": "262",
                  "5": "395",
                  "6": "271",
                  "7": "143",
                  "8": "244",
                  "9": "85",
                  "10": "21",
                  "11": "Table 14.. REFUGEE ARRIVALS BY REGION AND COUNTRY OF NATIONALITY: FISCAL YEARS 2012 TO 2021",
                  "12": "D Data withheld to limit disclosure.. - Represents zero.. 1 Includes countries with fewer than 10 refugee arrivals per year.. 2 Includes admissions from Palestinian Territory.. Notes: Excludes Amerasian immigrants. In previous Yearbooks, OIS reported nationality by that of the Principal Applicant but has changed its methodology to report on the individual's nationality. Figures are based on refugee arrival date; certain refugee applicants who arrived in FY 2020 and 2021 are counted for those years and not towards the FY 2018 refugee admissions ceiling.. Source: DHS Office of Immigration Statistics."
                },
                {
                  "0": "COUNTRY  Chad",
                  "1": "13",
                  "2": "37",
                  "3": "23",
                  "4": "19",
                  "5": "6",
                  "6": "9",
                  "7": "3",
                  "8": "8",
                  "9": "-",
                  "10": "-",
                  "11": "Table 14.. REFUGEE ARRIVALS BY REGION AND COUNTRY OF NATIONALITY: FISCAL YEARS 2012 TO 2021",
                  "12": "D Data withheld to limit disclosure.. - Represents zero.. 1 Includes countries with fewer than 10 refugee arrivals per year.. 2 Includes admissions from Palestinian Territory.. Notes: Excludes Amerasian immigrants. In previous Yearbooks, OIS reported nationality by that of the Principal Applicant but has changed its methodology to report on the individual's nationality. Figures are based on refugee arrival date; certain refugee applicants who arrived in FY 2020 and 2021 are counted for those years and not towards the FY 2018 refugee admissions ceiling.. Source: DHS Office of Immigration Statistics."
                },
                {
                  "0": "COUNTRY  China, People's Republic",
                  "1": "51",
                  "2": "102",
                  "3": "57",
                  "4": "30",
                  "5": "57",
                  "6": "27",
                  "7": "6",
                  "8": "D",
                  "9": "-",
                  "10": "-",
                  "11": "Table 14.. REFUGEE ARRIVALS BY REGION AND COUNTRY OF NATIONALITY: FISCAL YEARS 2012 TO 2021",
                  "12": "D Data withheld to limit disclosure.. - Represents zero.. 1 Includes countries with fewer than 10 refugee arrivals per year.. 2 Includes admissions from Palestinian Territory.. Notes: Excludes Amerasian immigrants. In previous Yearbooks, OIS reported nationality by that of the Principal Applicant but has changed its methodology to report on the individual's nationality. Figures are based on refugee arrival date; certain refugee applicants who arrived in FY 2020 and 2021 are counted for those years and not towards the FY 2018 refugee admissions ceiling.. Source: DHS Office of Immigration Statistics."
                },
                {
                  "0": "COUNTRY  Colombia",
                  "1": "125",
                  "2": "214",
                  "3": "243",
                  "4": "504",
                  "5": "523",
                  "6": "231",
                  "7": "127",
                  "8": "298",
                  "9": "219",
                  "10": "50",
                  "11": "Table 14.. REFUGEE ARRIVALS BY REGION AND COUNTRY OF NATIONALITY: FISCAL YEARS 2012 TO 2021",
                  "12": "D Data withheld to limit disclosure.. - Represents zero.. 1 Includes countries with fewer than 10 refugee arrivals per year.. 2 Includes admissions from Palestinian Territory.. Notes: Excludes Amerasian immigrants. In previous Yearbooks, OIS reported nationality by that of the Principal Applicant but has changed its methodology to report on the individual's nationality. Figures are based on refugee arrival date; certain refugee applicants who arrived in FY 2020 and 2021 are counted for those years and not towards the FY 2018 refugee admissions ceiling.. Source: DHS Office of Immigration Statistics."
                },
                {
                  "0": "COUNTRY  Congo, Democratic Republic",
                  "1": "1849",
                  "2": "2545",
                  "3": "4502",
                  "4": "7823",
                  "5": "16279",
                  "6": "9325",
                  "7": "7841",
                  "8": "12875",
                  "9": "2863",
                  "10": "4876",
                  "11": "Table 14.. REFUGEE ARRIVALS BY REGION AND COUNTRY OF NATIONALITY: FISCAL YEARS 2012 TO 2021",
                  "12": "D Data withheld to limit disclosure.. - Represents zero.. 1 Includes countries with fewer than 10 refugee arrivals per year.. 2 Includes admissions from Palestinian Territory.. Notes: Excludes Amerasian immigrants. In previous Yearbooks, OIS reported nationality by that of the Principal Applicant but has changed its methodology to report on the individual's nationality. Figures are based on refugee arrival date; certain refugee applicants who arrived in FY 2020 and 2021 are counted for those years and not towards the FY 2018 refugee admissions ceiling.. Source: DHS Office of Immigration Statistics."
                },
                {
                  "0": "COUNTRY  Congo, Republic",
                  "1": "97",
                  "2": "152",
                  "3": "29",
                  "4": "49",
                  "5": "23",
                  "6": "6",
                  "7": "7",
                  "8": "3",
                  "9": "D",
                  "10": "3",
                  "11": "Table 14.. REFUGEE ARRIVALS BY REGION AND COUNTRY OF NATIONALITY: FISCAL YEARS 2012 TO 2021",
                  "12": "D Data withheld to limit disclosure.. - Represents zero.. 1 Includes countries with fewer than 10 refugee arrivals per year.. 2 Includes admissions from Palestinian Territory.. Notes: Excludes Amerasian immigrants. In previous Yearbooks, OIS reported nationality by that of the Principal Applicant but has changed its methodology to report on the individual's nationality. Figures are based on refugee arrival date; certain refugee applicants who arrived in FY 2020 and 2021 are counted for those years and not towards the FY 2018 refugee admissions ceiling.. Source: DHS Office of Immigration Statistics."
                },
                {
                  "0": "COUNTRY  Cote d'Ivoire",
                  "1": "33",
                  "2": "21",
                  "3": "42",
                  "4": "28",
                  "5": "81",
                  "6": "50",
                  "7": "15",
                  "8": "67",
                  "9": "26",
                  "10": "31",
                  "11": "Table 14.. REFUGEE ARRIVALS BY REGION AND COUNTRY OF NATIONALITY: FISCAL YEARS 2012 TO 2021",
                  "12": "D Data withheld to limit disclosure.. - Represents zero.. 1 Includes countries with fewer than 10 refugee arrivals per year.. 2 Includes admissions from Palestinian Territory.. Notes: Excludes Amerasian immigrants. In previous Yearbooks, OIS reported nationality by that of the Principal Applicant but has changed its methodology to report on the individual's nationality. Figures are based on refugee arrival date; certain refugee applicants who arrived in FY 2020 and 2021 are counted for those years and not towards the FY 2018 refugee admissions ceiling.. Source: DHS Office of Immigration Statistics."
                },
                {
                  "0": "COUNTRY  Cuba",
                  "1": "1948",
                  "2": "4205",
                  "3": "4063",
                  "4": "1526",
                  "5": "354",
                  "6": "178",
                  "7": "-",
                  "8": "D",
                  "9": "7",
                  "10": "D",
                  "11": "Table 14.. REFUGEE ARRIVALS BY REGION AND COUNTRY OF NATIONALITY: FISCAL YEARS 2012 TO 2021",
                  "12": "D Data withheld to limit disclosure.. - Represents zero.. 1 Includes countries with fewer than 10 refugee arrivals per year.. 2 Includes admissions from Palestinian Territory.. Notes: Excludes Amerasian immigrants. In previous Yearbooks, OIS reported nationality by that of the Principal Applicant but has changed its methodology to report on the individual's nationality. Figures are based on refugee arrival date; certain refugee applicants who arrived in FY 2020 and 2021 are counted for those years and not towards the FY 2018 refugee admissions ceiling.. Source: DHS Office of Immigration Statistics."
                },
                {
                  "0": "COUNTRY  Ecuador",
                  "1": "D",
                  "2": "16",
                  "3": "9",
                  "4": "18",
                  "5": "6",
                  "6": "D",
                  "7": "D",
                  "8": "-",
                  "9": "-",
                  "10": "D",
                  "11": "Table 14.. REFUGEE ARRIVALS BY REGION AND COUNTRY OF NATIONALITY: FISCAL YEARS 2012 TO 2021",
                  "12": "D Data withheld to limit disclosure.. - Represents zero.. 1 Includes countries with fewer than 10 refugee arrivals per year.. 2 Includes admissions from Palestinian Territory.. Notes: Excludes Amerasian immigrants. In previous Yearbooks, OIS reported nationality by that of the Principal Applicant but has changed its methodology to report on the individual's nationality. Figures are based on refugee arrival date; certain refugee applicants who arrived in FY 2020 and 2021 are counted for those years and not towards the FY 2018 refugee admissions ceiling.. Source: DHS Office of Immigration Statistics."
                },
                {
                  "0": "COUNTRY  Egypt",
                  "1": "17",
                  "2": "20",
                  "3": "27",
                  "4": "14",
                  "5": "19",
                  "6": "10",
                  "7": "D",
                  "8": "6",
                  "9": "D",
                  "10": "-",
                  "11": "Table 14.. REFUGEE ARRIVALS BY REGION AND COUNTRY OF NATIONALITY: FISCAL YEARS 2012 TO 2021",
                  "12": "D Data withheld to limit disclosure.. - Represents zero.. 1 Includes countries with fewer than 10 refugee arrivals per year.. 2 Includes admissions from Palestinian Territory.. Notes: Excludes Amerasian immigrants. In previous Yearbooks, OIS reported nationality by that of the Principal Applicant but has changed its methodology to report on the individual's nationality. Figures are based on refugee arrival date; certain refugee applicants who arrived in FY 2020 and 2021 are counted for those years and not towards the FY 2018 refugee admissions ceiling.. Source: DHS Office of Immigration Statistics."
                },
                {
                  "0": "COUNTRY  El Salvador",
                  "1": "-",
                  "2": "-",
                  "3": "-",
                  "4": "-",
                  "5": "364",
                  "6": "1124",
                  "7": "724",
                  "8": "311",
                  "9": "362",
                  "10": "200",
                  "11": "Table 14.. REFUGEE ARRIVALS BY REGION AND COUNTRY OF NATIONALITY: FISCAL YEARS 2012 TO 2021",
                  "12": "D Data withheld to limit disclosure.. - Represents zero.. 1 Includes countries with fewer than 10 refugee arrivals per year.. 2 Includes admissions from Palestinian Territory.. Notes: Excludes Amerasian immigrants. In previous Yearbooks, OIS reported nationality by that of the Principal Applicant but has changed its methodology to report on the individual's nationality. Figures are based on refugee arrival date; certain refugee applicants who arrived in FY 2020 and 2021 are counted for those years and not towards the FY 2018 refugee admissions ceiling.. Source: DHS Office of Immigration Statistics."
                },
                {
                  "0": "COUNTRY  Eritrea",
                  "1": "1329",
                  "2": "1763",
                  "3": "1445",
                  "4": "1576",
                  "5": "1924",
                  "6": "1912",
                  "7": "1260",
                  "8": "1750",
                  "9": "475",
                  "10": "185",
                  "11": "Table 14.. REFUGEE ARRIVALS BY REGION AND COUNTRY OF NATIONALITY: FISCAL YEARS 2012 TO 2021",
                  "12": "D Data withheld to limit disclosure.. - Represents zero.. 1 Includes countries with fewer than 10 refugee arrivals per year.. 2 Includes admissions from Palestinian Territory.. Notes: Excludes Amerasian immigrants. In previous Yearbooks, OIS reported nationality by that of the Principal Applicant but has changed its methodology to report on the individual's nationality. Figures are based on refugee arrival date; certain refugee applicants who arrived in FY 2020 and 2021 are counted for those years and not towards the FY 2018 refugee admissions ceiling.. Source: DHS Office of Immigration Statistics."
                },
                {
                  "0": "COUNTRY  Ethiopia",
                  "1": "639",
                  "2": "859",
                  "3": "754",
                  "4": "646",
                  "5": "1147",
                  "6": "791",
                  "7": "387",
                  "8": "258",
                  "9": "119",
                  "10": "75",
                  "11": "Table 14.. REFUGEE ARRIVALS BY REGION AND COUNTRY OF NATIONALITY: FISCAL YEARS 2012 TO 2021",
                  "12": "D Data withheld to limit disclosure.. - Represents zero.. 1 Includes countries with fewer than 10 refugee arrivals per year.. 2 Includes admissions from Palestinian Territory.. Notes: Excludes Amerasian immigrants. In previous Yearbooks, OIS reported nationality by that of the Principal Applicant but has changed its methodology to report on the individual's nationality. Figures are based on refugee arrival date; certain refugee applicants who arrived in FY 2020 and 2021 are counted for those years and not towards the FY 2018 refugee admissions ceiling.. Source: DHS Office of Immigration Statistics."
                },
                {
                  "0": "COUNTRY  Gambia",
                  "1": "D",
                  "2": "11",
                  "3": "D",
                  "4": "D",
                  "5": "-",
                  "6": "5",
                  "7": "-",
                  "8": "D",
                  "9": "-",
                  "10": "3",
                  "11": "Table 14.. REFUGEE ARRIVALS BY REGION AND COUNTRY OF NATIONALITY: FISCAL YEARS 2012 TO 2021",
                  "12": "D Data withheld to limit disclosure.. - Represents zero.. 1 Includes countries with fewer than 10 refugee arrivals per year.. 2 Includes admissions from Palestinian Territory.. Notes: Excludes Amerasian immigrants. In previous Yearbooks, OIS reported nationality by that of the Principal Applicant but has changed its methodology to report on the individual's nationality. Figures are based on refugee arrival date; certain refugee applicants who arrived in FY 2020 and 2021 are counted for those years and not towards the FY 2018 refugee admissions ceiling.. Source: DHS Office of Immigration Statistics."
                },
                {
                  "0": "COUNTRY  Georgia",
                  "1": "7",
                  "2": "D",
                  "3": "13",
                  "4": "9",
                  "5": "17",
                  "6": "-",
                  "7": "3",
                  "8": "26",
                  "9": "-",
                  "10": "-",
                  "11": "Table 14.. REFUGEE ARRIVALS BY REGION AND COUNTRY OF NATIONALITY: FISCAL YEARS 2012 TO 2021",
                  "12": "D Data withheld to limit disclosure.. - Represents zero.. 1 Includes countries with fewer than 10 refugee arrivals per year.. 2 Includes admissions from Palestinian Territory.. Notes: Excludes Amerasian immigrants. In previous Yearbooks, OIS reported nationality by that of the Principal Applicant but has changed its methodology to report on the individual's nationality. Figures are based on refugee arrival date; certain refugee applicants who arrived in FY 2020 and 2021 are counted for those years and not towards the FY 2018 refugee admissions ceiling.. Source: DHS Office of Immigration Statistics."
                },
                {
                  "0": "COUNTRY  Guatemala",
                  "1": "-",
                  "2": "-",
                  "3": "-",
                  "4": "-",
                  "5": "8",
                  "6": "50",
                  "7": "42",
                  "8": "117",
                  "9": "249",
                  "10": "64",
                  "11": "Table 14.. REFUGEE ARRIVALS BY REGION AND COUNTRY OF NATIONALITY: FISCAL YEARS 2012 TO 2021",
                  "12": "D Data withheld to limit disclosure.. - Represents zero.. 1 Includes countries with fewer than 10 refugee arrivals per year.. 2 Includes admissions from Palestinian Territory.. Notes: Excludes Amerasian immigrants. In previous Yearbooks, OIS reported nationality by that of the Principal Applicant but has changed its methodology to report on the individual's nationality. Figures are based on refugee arrival date; certain refugee applicants who arrived in FY 2020 and 2021 are counted for those years and not towards the FY 2018 refugee admissions ceiling.. Source: DHS Office of Immigration Statistics."
                },
                {
                  "0": "COUNTRY  Guinea",
                  "1": "-",
                  "2": "8",
                  "3": "9",
                  "4": "4",
                  "5": "5",
                  "6": "6",
                  "7": "10",
                  "8": "10",
                  "9": "D",
                  "10": "D",
                  "11": "Table 14.. REFUGEE ARRIVALS BY REGION AND COUNTRY OF NATIONALITY: FISCAL YEARS 2012 TO 2021",
                  "12": "D Data withheld to limit disclosure.. - Represents zero.. 1 Includes countries with fewer than 10 refugee arrivals per year.. 2 Includes admissions from Palestinian Territory.. Notes: Excludes Amerasian immigrants. In previous Yearbooks, OIS reported nationality by that of the Principal Applicant but has changed its methodology to report on the individual's nationality. Figures are based on refugee arrival date; certain refugee applicants who arrived in FY 2020 and 2021 are counted for those years and not towards the FY 2018 refugee admissions ceiling.. Source: DHS Office of Immigration Statistics."
                },
                {
                  "0": "COUNTRY  Honduras",
                  "1": "-",
                  "2": "-",
                  "3": "-",
                  "4": "-",
                  "5": "84",
                  "6": "104",
                  "7": "59",
                  "8": "74",
                  "9": "90",
                  "10": "83",
                  "11": "Table 14.. REFUGEE ARRIVALS BY REGION AND COUNTRY OF NATIONALITY: FISCAL YEARS 2012 TO 2021",
                  "12": "D Data withheld to limit disclosure.. - Represents zero.. 1 Includes countries with fewer than 10 refugee arrivals per year.. 2 Includes admissions from Palestinian Territory.. Notes: Excludes Amerasian immigrants. In previous Yearbooks, OIS reported nationality by that of the Principal Applicant but has changed its methodology to report on the individual's nationality. Figures are based on refugee arrival date; certain refugee applicants who arrived in FY 2020 and 2021 are counted for those years and not towards the FY 2018 refugee admissions ceiling.. Source: DHS Office of Immigration Statistics."
                },
                {
                  "0": "COUNTRY  India",
                  "1": "17",
                  "2": "15",
                  "3": "26",
                  "4": "23",
                  "5": "92",
                  "6": "53",
                  "7": "32",
                  "8": "D",
                  "9": "3",
                  "10": "D",
                  "11": "Table 14.. REFUGEE ARRIVALS BY REGION AND COUNTRY OF NATIONALITY: FISCAL YEARS 2012 TO 2021",
                  "12": "D Data withheld to limit disclosure.. - Represents zero.. 1 Includes countries with fewer than 10 refugee arrivals per year.. 2 Includes admissions from Palestinian Territory.. Notes: Excludes Amerasian immigrants. In previous Yearbooks, OIS reported nationality by that of the Principal Applicant but has changed its methodology to report on the individual's nationality. Figures are based on refugee arrival date; certain refugee applicants who arrived in FY 2020 and 2021 are counted for those years and not towards the FY 2018 refugee admissions ceiling.. Source: DHS Office of Immigration Statistics."
                },
                {
                  "0": "COUNTRY  Indonesia",
                  "1": "D",
                  "2": "4",
                  "3": "17",
                  "4": "53",
                  "5": "38",
                  "6": "25",
                  "7": "16",
                  "8": "D",
                  "9": "D",
                  "10": "D",
                  "11": "Table 14.. REFUGEE ARRIVALS BY REGION AND COUNTRY OF NATIONALITY: FISCAL YEARS 2012 TO 2021",
                  "12": "D Data withheld to limit disclosure.. - Represents zero.. 1 Includes countries with fewer than 10 refugee arrivals per year.. 2 Includes admissions from Palestinian Territory.. Notes: Excludes Amerasian immigrants. In previous Yearbooks, OIS reported nationality by that of the Principal Applicant but has changed its methodology to report on the individual's nationality. Figures are based on refugee arrival date; certain refugee applicants who arrived in FY 2020 and 2021 are counted for those years and not towards the FY 2018 refugee admissions ceiling.. Source: DHS Office of Immigration Statistics."
                },
                {
                  "0": "COUNTRY  Iran",
                  "1": "1760",
                  "2": "2579",
                  "3": "2833",
                  "4": "3099",
                  "5": "3736",
                  "6": "2575",
                  "7": "41",
                  "8": "198",
                  "9": "135",
                  "10": "182",
                  "11": "Table 14.. REFUGEE ARRIVALS BY REGION AND COUNTRY OF NATIONALITY: FISCAL YEARS 2012 TO 2021",
                  "12": "D Data withheld to limit disclosure.. - Represents zero.. 1 Includes countries with fewer than 10 refugee arrivals per year.. 2 Includes admissions from Palestinian Territory.. Notes: Excludes Amerasian immigrants. In previous Yearbooks, OIS reported nationality by that of the Principal Applicant but has changed its methodology to report on the individual's nationality. Figures are based on refugee arrival date; certain refugee applicants who arrived in FY 2020 and 2021 are counted for those years and not towards the FY 2018 refugee admissions ceiling.. Source: DHS Office of Immigration Statistics."
                },
                {
                  "0": "COUNTRY  Iraq",
                  "1": "12057",
                  "2": "19331",
                  "3": "19651",
                  "4": "12608",
                  "5": "9837",
                  "6": "6857",
                  "7": "140",
                  "8": "462",
                  "9": "541",
                  "10": "500",
                  "11": "Table 14.. REFUGEE ARRIVALS BY REGION AND COUNTRY OF NATIONALITY: FISCAL YEARS 2012 TO 2021",
                  "12": "D Data withheld to limit disclosure.. - Represents zero.. 1 Includes countries with fewer than 10 refugee arrivals per year.. 2 Includes admissions from Palestinian Territory.. Notes: Excludes Amerasian immigrants. In previous Yearbooks, OIS reported nationality by that of the Principal Applicant but has changed its methodology to report on the individual's nationality. Figures are based on refugee arrival date; certain refugee applicants who arrived in FY 2020 and 2021 are counted for those years and not towards the FY 2018 refugee admissions ceiling.. Source: DHS Office of Immigration Statistics."
                },
                {
                  "0": "COUNTRY  Jordan",
                  "1": "38",
                  "2": "74",
                  "3": "41",
                  "4": "21",
                  "5": "13",
                  "6": "9",
                  "7": "D",
                  "8": "5",
                  "9": "D",
                  "10": "-",
                  "11": "Table 14.. REFUGEE ARRIVALS BY REGION AND COUNTRY OF NATIONALITY: FISCAL YEARS 2012 TO 2021",
                  "12": "D Data withheld to limit disclosure.. - Represents zero.. 1 Includes countries with fewer than 10 refugee arrivals per year.. 2 Includes admissions from Palestinian Territory.. Notes: Excludes Amerasian immigrants. In previous Yearbooks, OIS reported nationality by that of the Principal Applicant but has changed its methodology to report on the individual's nationality. Figures are based on refugee arrival date; certain refugee applicants who arrived in FY 2020 and 2021 are counted for those years and not towards the FY 2018 refugee admissions ceiling.. Source: DHS Office of Immigration Statistics."
                },
                {
                  "0": "COUNTRY  Kazakhstan",
                  "1": "7",
                  "2": "11",
                  "3": "22",
                  "4": "58",
                  "5": "87",
                  "6": "43",
                  "7": "45",
                  "8": "9",
                  "9": "28",
                  "10": "23",
                  "11": "Table 14.. REFUGEE ARRIVALS BY REGION AND COUNTRY OF NATIONALITY: FISCAL YEARS 2012 TO 2021",
                  "12": "D Data withheld to limit disclosure.. - Represents zero.. 1 Includes countries with fewer than 10 refugee arrivals per year.. 2 Includes admissions from Palestinian Territory.. Notes: Excludes Amerasian immigrants. In previous Yearbooks, OIS reported nationality by that of the Principal Applicant but has changed its methodology to report on the individual's nationality. Figures are based on refugee arrival date; certain refugee applicants who arrived in FY 2020 and 2021 are counted for those years and not towards the FY 2018 refugee admissions ceiling.. Source: DHS Office of Immigration Statistics."
                },
                {
                  "0": "COUNTRY  Kenya",
                  "1": "23",
                  "2": "5",
                  "3": "24",
                  "4": "7",
                  "5": "11",
                  "6": "8",
                  "7": "4",
                  "8": "17",
                  "9": "D",
                  "10": "4",
                  "11": "Table 14.. REFUGEE ARRIVALS BY REGION AND COUNTRY OF NATIONALITY: FISCAL YEARS 2012 TO 2021",
                  "12": "D Data withheld to limit disclosure.. - Represents zero.. 1 Includes countries with fewer than 10 refugee arrivals per year.. 2 Includes admissions from Palestinian Territory.. Notes: Excludes Amerasian immigrants. In previous Yearbooks, OIS reported nationality by that of the Principal Applicant but has changed its methodology to report on the individual's nationality. Figures are based on refugee arrival date; certain refugee applicants who arrived in FY 2020 and 2021 are counted for those years and not towards the FY 2018 refugee admissions ceiling.. Source: DHS Office of Immigration Statistics."
                },
                {
                  "0": "COUNTRY  Korea, North",
                  "1": "21",
                  "2": "17",
                  "3": "8",
                  "4": "15",
                  "5": "14",
                  "6": "10",
                  "7": "5",
                  "8": "D",
                  "9": "D",
                  "10": "-",
                  "11": "Table 14.. REFUGEE ARRIVALS BY REGION AND COUNTRY OF NATIONALITY: FISCAL YEARS 2012 TO 2021",
                  "12": "D Data withheld to limit disclosure.. - Represents zero.. 1 Includes countries with fewer than 10 refugee arrivals per year.. 2 Includes admissions from Palestinian Territory.. Notes: Excludes Amerasian immigrants. In previous Yearbooks, OIS reported nationality by that of the Principal Applicant but has changed its methodology to report on the individual's nationality. Figures are based on refugee arrival date; certain refugee applicants who arrived in FY 2020 and 2021 are counted for those years and not towards the FY 2018 refugee admissions ceiling.. Source: DHS Office of Immigration Statistics."
                },
                {
                  "0": "COUNTRY  Kuwait",
                  "1": "D",
                  "2": "13",
                  "3": "10",
                  "4": "8",
                  "5": "4",
                  "6": "6",
                  "7": "D",
                  "8": "D",
                  "9": "-",
                  "10": "-",
                  "11": "Table 14.. REFUGEE ARRIVALS BY REGION AND COUNTRY OF NATIONALITY: FISCAL YEARS 2012 TO 2021",
                  "12": "D Data withheld to limit disclosure.. - Represents zero.. 1 Includes countries with fewer than 10 refugee arrivals per year.. 2 Includes admissions from Palestinian Territory.. Notes: Excludes Amerasian immigrants. In previous Yearbooks, OIS reported nationality by that of the Principal Applicant but has changed its methodology to report on the individual's nationality. Figures are based on refugee arrival date; certain refugee applicants who arrived in FY 2020 and 2021 are counted for those years and not towards the FY 2018 refugee admissions ceiling.. Source: DHS Office of Immigration Statistics."
                },
                {
                  "0": "COUNTRY  Kyrgyzstan",
                  "1": "57",
                  "2": "19",
                  "3": "13",
                  "4": "18",
                  "5": "39",
                  "6": "25",
                  "7": "12",
                  "8": "45",
                  "9": "-",
                  "10": "-",
                  "11": "Table 14.. REFUGEE ARRIVALS BY REGION AND COUNTRY OF NATIONALITY: FISCAL YEARS 2012 TO 2021",
                  "12": "D Data withheld to limit disclosure.. - Represents zero.. 1 Includes countries with fewer than 10 refugee arrivals per year.. 2 Includes admissions from Palestinian Territory.. Notes: Excludes Amerasian immigrants. In previous Yearbooks, OIS reported nationality by that of the Principal Applicant but has changed its methodology to report on the individual's nationality. Figures are based on refugee arrival date; certain refugee applicants who arrived in FY 2020 and 2021 are counted for those years and not towards the FY 2018 refugee admissions ceiling.. Source: DHS Office of Immigration Statistics."
                },
                {
                  "0": "COUNTRY  Laos",
                  "1": "21",
                  "2": "-",
                  "3": "D",
                  "4": "-",
                  "5": "7",
                  "6": "-",
                  "7": "-",
                  "8": "-",
                  "9": "-",
                  "10": "-",
                  "11": "Table 14.. REFUGEE ARRIVALS BY REGION AND COUNTRY OF NATIONALITY: FISCAL YEARS 2012 TO 2021",
                  "12": "D Data withheld to limit disclosure.. - Represents zero.. 1 Includes countries with fewer than 10 refugee arrivals per year.. 2 Includes admissions from Palestinian Territory.. Notes: Excludes Amerasian immigrants. In previous Yearbooks, OIS reported nationality by that of the Principal Applicant but has changed its methodology to report on the individual's nationality. Figures are based on refugee arrival date; certain refugee applicants who arrived in FY 2020 and 2021 are counted for those years and not towards the FY 2018 refugee admissions ceiling.. Source: DHS Office of Immigration Statistics."
                },
                {
                  "0": "COUNTRY  Latvia",
                  "1": "-",
                  "2": "-",
                  "3": "-",
                  "4": "-",
                  "5": "-",
                  "6": "13",
                  "7": "-",
                  "8": "-",
                  "9": "-",
                  "10": "-",
                  "11": "Table 14.. REFUGEE ARRIVALS BY REGION AND COUNTRY OF NATIONALITY: FISCAL YEARS 2012 TO 2021",
                  "12": "D Data withheld to limit disclosure.. - Represents zero.. 1 Includes countries with fewer than 10 refugee arrivals per year.. 2 Includes admissions from Palestinian Territory.. Notes: Excludes Amerasian immigrants. In previous Yearbooks, OIS reported nationality by that of the Principal Applicant but has changed its methodology to report on the individual's nationality. Figures are based on refugee arrival date; certain refugee applicants who arrived in FY 2020 and 2021 are counted for those years and not towards the FY 2018 refugee admissions ceiling.. Source: DHS Office of Immigration Statistics."
                },
                {
                  "0": "COUNTRY  Lebanon",
                  "1": "11",
                  "2": "24",
                  "3": "13",
                  "4": "6",
                  "5": "7",
                  "6": "-",
                  "7": "-",
                  "8": "D",
                  "9": "5",
                  "10": "-",
                  "11": "Table 14.. REFUGEE ARRIVALS BY REGION AND COUNTRY OF NATIONALITY: FISCAL YEARS 2012 TO 2021",
                  "12": "D Data withheld to limit disclosure.. - Represents zero.. 1 Includes countries with fewer than 10 refugee arrivals per year.. 2 Includes admissions from Palestinian Territory.. Notes: Excludes Amerasian immigrants. In previous Yearbooks, OIS reported nationality by that of the Principal Applicant but has changed its methodology to report on the individual's nationality. Figures are based on refugee arrival date; certain refugee applicants who arrived in FY 2020 and 2021 are counted for those years and not towards the FY 2018 refugee admissions ceiling.. Source: DHS Office of Immigration Statistics."
                },
                {
                  "0": "COUNTRY  Liberia",
                  "1": "72",
                  "2": "96",
                  "3": "32",
                  "4": "13",
                  "5": "17",
                  "6": "8",
                  "7": "6",
                  "8": "31",
                  "9": "31",
                  "10": "23",
                  "11": "Table 14.. REFUGEE ARRIVALS BY REGION AND COUNTRY OF NATIONALITY: FISCAL YEARS 2012 TO 2021",
                  "12": "D Data withheld to limit disclosure.. - Represents zero.. 1 Includes countries with fewer than 10 refugee arrivals per year.. 2 Includes admissions from Palestinian Territory.. Notes: Excludes Amerasian immigrants. In previous Yearbooks, OIS reported nationality by that of the Principal Applicant but has changed its methodology to report on the individual's nationality. Figures are based on refugee arrival date; certain refugee applicants who arrived in FY 2020 and 2021 are counted for those years and not towards the FY 2018 refugee admissions ceiling.. Source: DHS Office of Immigration Statistics."
                },
                {
                  "0": "COUNTRY  Moldova",
                  "1": "257",
                  "2": "115",
                  "3": "141",
                  "4": "323",
                  "5": "464",
                  "6": "293",
                  "7": "197",
                  "8": "116",
                  "9": "352",
                  "10": "75",
                  "11": "Table 14.. REFUGEE ARRIVALS BY REGION AND COUNTRY OF NATIONALITY: FISCAL YEARS 2012 TO 2021",
                  "12": "D Data withheld to limit disclosure.. - Represents zero.. 1 Includes countries with fewer than 10 refugee arrivals per year.. 2 Includes admissions from Palestinian Territory.. Notes: Excludes Amerasian immigrants. In previous Yearbooks, OIS reported nationality by that of the Principal Applicant but has changed its methodology to report on the individual's nationality. Figures are based on refugee arrival date; certain refugee applicants who arrived in FY 2020 and 2021 are counted for those years and not towards the FY 2018 refugee admissions ceiling.. Source: DHS Office of Immigration Statistics."
                },
                {
                  "0": "COUNTRY  Nepal",
                  "1": "83",
                  "2": "115",
                  "3": "148",
                  "4": "217",
                  "5": "310",
                  "6": "199",
                  "7": "193",
                  "8": "16",
                  "9": "4",
                  "10": "21",
                  "11": "Table 14.. REFUGEE ARRIVALS BY REGION AND COUNTRY OF NATIONALITY: FISCAL YEARS 2012 TO 2021",
                  "12": "D Data withheld to limit disclosure.. - Represents zero.. 1 Includes countries with fewer than 10 refugee arrivals per year.. 2 Includes admissions from Palestinian Territory.. Notes: Excludes Amerasian immigrants. In previous Yearbooks, OIS reported nationality by that of the Principal Applicant but has changed its methodology to report on the individual's nationality. Figures are based on refugee arrival date; certain refugee applicants who arrived in FY 2020 and 2021 are counted for those years and not towards the FY 2018 refugee admissions ceiling.. Source: DHS Office of Immigration Statistics."
                },
                {
                  "0": "COUNTRY  Pakistan",
                  "1": "274",
                  "2": "155",
                  "3": "239",
                  "4": "159",
                  "5": "546",
                  "6": "347",
                  "7": "444",
                  "8": "266",
                  "9": "169",
                  "10": "128",
                  "11": "Table 14.. REFUGEE ARRIVALS BY REGION AND COUNTRY OF NATIONALITY: FISCAL YEARS 2012 TO 2021",
                  "12": "D Data withheld to limit disclosure.. - Represents zero.. 1 Includes countries with fewer than 10 refugee arrivals per year.. 2 Includes admissions from Palestinian Territory.. Notes: Excludes Amerasian immigrants. In previous Yearbooks, OIS reported nationality by that of the Principal Applicant but has changed its methodology to report on the individual's nationality. Figures are based on refugee arrival date; certain refugee applicants who arrived in FY 2020 and 2021 are counted for those years and not towards the FY 2018 refugee admissions ceiling.. Source: DHS Office of Immigration Statistics."
                },
                {
                  "0": "COUNTRY  Russia",
                  "1": "224",
                  "2": "162",
                  "3": "147",
                  "4": "301",
                  "5": "487",
                  "6": "377",
                  "7": "442",
                  "8": "198",
                  "9": "190",
                  "10": "43",
                  "11": "Table 14.. REFUGEE ARRIVALS BY REGION AND COUNTRY OF NATIONALITY: FISCAL YEARS 2012 TO 2021",
                  "12": "D Data withheld to limit disclosure.. - Represents zero.. 1 Includes countries with fewer than 10 refugee arrivals per year.. 2 Includes admissions from Palestinian Territory.. Notes: Excludes Amerasian immigrants. In previous Yearbooks, OIS reported nationality by that of the Principal Applicant but has changed its methodology to report on the individual's nationality. Figures are based on refugee arrival date; certain refugee applicants who arrived in FY 2020 and 2021 are counted for those years and not towards the FY 2018 refugee admissions ceiling.. Source: DHS Office of Immigration Statistics."
                },
                {
                  "0": "COUNTRY  Rwanda",
                  "1": "161",
                  "2": "143",
                  "3": "60",
                  "4": "186",
                  "5": "169",
                  "6": "122",
                  "7": "121",
                  "8": "104",
                  "9": "14",
                  "10": "47",
                  "11": "Table 14.. REFUGEE ARRIVALS BY REGION AND COUNTRY OF NATIONALITY: FISCAL YEARS 2012 TO 2021",
                  "12": "D Data withheld to limit disclosure.. - Represents zero.. 1 Includes countries with fewer than 10 refugee arrivals per year.. 2 Includes admissions from Palestinian Territory.. Notes: Excludes Amerasian immigrants. In previous Yearbooks, OIS reported nationality by that of the Principal Applicant but has changed its methodology to report on the individual's nationality. Figures are based on refugee arrival date; certain refugee applicants who arrived in FY 2020 and 2021 are counted for those years and not towards the FY 2018 refugee admissions ceiling.. Source: DHS Office of Immigration Statistics."
                },
                {
                  "0": "COUNTRY  Senegal",
                  "1": "5",
                  "2": "D",
                  "3": "-",
                  "4": "4",
                  "5": "16",
                  "6": "22",
                  "7": "14",
                  "8": "14",
                  "9": "14",
                  "10": "-",
                  "11": "Table 14.. REFUGEE ARRIVALS BY REGION AND COUNTRY OF NATIONALITY: FISCAL YEARS 2012 TO 2021",
                  "12": "D Data withheld to limit disclosure.. - Represents zero.. 1 Includes countries with fewer than 10 refugee arrivals per year.. 2 Includes admissions from Palestinian Territory.. Notes: Excludes Amerasian immigrants. In previous Yearbooks, OIS reported nationality by that of the Principal Applicant but has changed its methodology to report on the individual's nationality. Figures are based on refugee arrival date; certain refugee applicants who arrived in FY 2020 and 2021 are counted for those years and not towards the FY 2018 refugee admissions ceiling.. Source: DHS Office of Immigration Statistics."
                },
                {
                  "0": "COUNTRY  Somalia",
                  "1": "4915",
                  "2": "7579",
                  "3": "9011",
                  "4": "8852",
                  "5": "9032",
                  "6": "6122",
                  "7": "257",
                  "8": "230",
                  "9": "149",
                  "10": "196",
                  "11": "Table 14.. REFUGEE ARRIVALS BY REGION AND COUNTRY OF NATIONALITY: FISCAL YEARS 2012 TO 2021",
                  "12": "D Data withheld to limit disclosure.. - Represents zero.. 1 Includes countries with fewer than 10 refugee arrivals per year.. 2 Includes admissions from Palestinian Territory.. Notes: Excludes Amerasian immigrants. In previous Yearbooks, OIS reported nationality by that of the Principal Applicant but has changed its methodology to report on the individual's nationality. Figures are based on refugee arrival date; certain refugee applicants who arrived in FY 2020 and 2021 are counted for those years and not towards the FY 2018 refugee admissions ceiling.. Source: DHS Office of Immigration Statistics."
                },
                {
                  "0": "COUNTRY  South Sudan",
                  "1": "D",
                  "2": "19",
                  "3": "52",
                  "4": "82",
                  "5": "198",
                  "6": "183",
                  "7": "13",
                  "8": "45",
                  "9": "35",
                  "10": "97",
                  "11": "Table 14.. REFUGEE ARRIVALS BY REGION AND COUNTRY OF NATIONALITY: FISCAL YEARS 2012 TO 2021",
                  "12": "D Data withheld to limit disclosure.. - Represents zero.. 1 Includes countries with fewer than 10 refugee arrivals per year.. 2 Includes admissions from Palestinian Territory.. Notes: Excludes Amerasian immigrants. In previous Yearbooks, OIS reported nationality by that of the Principal Applicant but has changed its methodology to report on the individual's nationality. Figures are based on refugee arrival date; certain refugee applicants who arrived in FY 2020 and 2021 are counted for those years and not towards the FY 2018 refugee admissions ceiling.. Source: DHS Office of Immigration Statistics."
                },
                {
                  "0": "COUNTRY  Sri Lanka",
                  "1": "58",
                  "2": "92",
                  "3": "58",
                  "4": "90",
                  "5": "89",
                  "6": "14",
                  "7": "57",
                  "8": "17",
                  "9": "42",
                  "10": "20",
                  "11": "Table 14.. REFUGEE ARRIVALS BY REGION AND COUNTRY OF NATIONALITY: FISCAL YEARS 2012 TO 2021",
                  "12": "D Data withheld to limit disclosure.. - Represents zero.. 1 Includes countries with fewer than 10 refugee arrivals per year.. 2 Includes admissions from Palestinian Territory.. Notes: Excludes Amerasian immigrants. In previous Yearbooks, OIS reported nationality by that of the Principal Applicant but has changed its methodology to report on the individual's nationality. Figures are based on refugee arrival date; certain refugee applicants who arrived in FY 2020 and 2021 are counted for those years and not towards the FY 2018 refugee admissions ceiling.. Source: DHS Office of Immigration Statistics."
                },
                {
                  "0": "COUNTRY  Sudan",
                  "1": "1059",
                  "2": "2137",
                  "3": "1307",
                  "4": "1576",
                  "5": "1444",
                  "6": "962",
                  "7": "74",
                  "8": "376",
                  "9": "258",
                  "10": "510",
                  "11": "Table 14.. REFUGEE ARRIVALS BY REGION AND COUNTRY OF NATIONALITY: FISCAL YEARS 2012 TO 2021",
                  "12": "D Data withheld to limit disclosure.. - Represents zero.. 1 Includes countries with fewer than 10 refugee arrivals per year.. 2 Includes admissions from Palestinian Territory.. Notes: Excludes Amerasian immigrants. In previous Yearbooks, OIS reported nationality by that of the Principal Applicant but has changed its methodology to report on the individual's nationality. Figures are based on refugee arrival date; certain refugee applicants who arrived in FY 2020 and 2021 are counted for those years and not towards the FY 2018 refugee admissions ceiling.. Source: DHS Office of Immigration Statistics."
                },
                {
                  "0": "COUNTRY  Syria",
                  "1": "31",
                  "2": "48",
                  "3": "132",
                  "4": "1693",
                  "5": "12583",
                  "6": "6566",
                  "7": "62",
                  "8": "560",
                  "9": "486",
                  "10": "1255",
                  "11": "Table 14.. REFUGEE ARRIVALS BY REGION AND COUNTRY OF NATIONALITY: FISCAL YEARS 2012 TO 2021",
                  "12": "D Data withheld to limit disclosure.. - Represents zero.. 1 Includes countries with fewer than 10 refugee arrivals per year.. 2 Includes admissions from Palestinian Territory.. Notes: Excludes Amerasian immigrants. In previous Yearbooks, OIS reported nationality by that of the Principal Applicant but has changed its methodology to report on the individual's nationality. Figures are based on refugee arrival date; certain refugee applicants who arrived in FY 2020 and 2021 are counted for those years and not towards the FY 2018 refugee admissions ceiling.. Source: DHS Office of Immigration Statistics."
                },
                {
                  "0": "COUNTRY  Tajikistan",
                  "1": "4",
                  "2": "5",
                  "3": "-",
                  "4": "-",
                  "5": "23",
                  "6": "-",
                  "7": "D",
                  "8": "-",
                  "9": "-",
                  "10": "-",
                  "11": "Table 14.. REFUGEE ARRIVALS BY REGION AND COUNTRY OF NATIONALITY: FISCAL YEARS 2012 TO 2021",
                  "12": "D Data withheld to limit disclosure.. - Represents zero.. 1 Includes countries with fewer than 10 refugee arrivals per year.. 2 Includes admissions from Palestinian Territory.. Notes: Excludes Amerasian immigrants. In previous Yearbooks, OIS reported nationality by that of the Principal Applicant but has changed its methodology to report on the individual's nationality. Figures are based on refugee arrival date; certain refugee applicants who arrived in FY 2020 and 2021 are counted for those years and not towards the FY 2018 refugee admissions ceiling.. Source: DHS Office of Immigration Statistics."
                },
                {
                  "0": "COUNTRY  Thailand",
                  "1": "8",
                  "2": "5",
                  "3": "6",
                  "4": "20",
                  "5": "33",
                  "6": "11",
                  "7": "10",
                  "8": "3",
                  "9": "7",
                  "10": "D",
                  "11": "Table 14.. REFUGEE ARRIVALS BY REGION AND COUNTRY OF NATIONALITY: FISCAL YEARS 2012 TO 2021",
                  "12": "D Data withheld to limit disclosure.. - Represents zero.. 1 Includes countries with fewer than 10 refugee arrivals per year.. 2 Includes admissions from Palestinian Territory.. Notes: Excludes Amerasian immigrants. In previous Yearbooks, OIS reported nationality by that of the Principal Applicant but has changed its methodology to report on the individual's nationality. Figures are based on refugee arrival date; certain refugee applicants who arrived in FY 2020 and 2021 are counted for those years and not towards the FY 2018 refugee admissions ceiling.. Source: DHS Office of Immigration Statistics."
                },
                {
                  "0": "COUNTRY  Togo",
                  "1": "25",
                  "2": "16",
                  "3": "26",
                  "4": "D",
                  "5": "19",
                  "6": "D",
                  "7": "-",
                  "8": "D",
                  "9": "-",
                  "10": "-",
                  "11": "Table 14.. REFUGEE ARRIVALS BY REGION AND COUNTRY OF NATIONALITY: FISCAL YEARS 2012 TO 2021",
                  "12": "D Data withheld to limit disclosure.. - Represents zero.. 1 Includes countries with fewer than 10 refugee arrivals per year.. 2 Includes admissions from Palestinian Territory.. Notes: Excludes Amerasian immigrants. In previous Yearbooks, OIS reported nationality by that of the Principal Applicant but has changed its methodology to report on the individual's nationality. Figures are based on refugee arrival date; certain refugee applicants who arrived in FY 2020 and 2021 are counted for those years and not towards the FY 2018 refugee admissions ceiling.. Source: DHS Office of Immigration Statistics."
                },
                {
                  "0": "COUNTRY  Turkmenistan",
                  "1": "-",
                  "2": "7",
                  "3": "D",
                  "4": "D",
                  "5": "-",
                  "6": "-",
                  "7": "5",
                  "8": "18",
                  "9": "-",
                  "10": "-",
                  "11": "Table 14.. REFUGEE ARRIVALS BY REGION AND COUNTRY OF NATIONALITY: FISCAL YEARS 2012 TO 2021",
                  "12": "D Data withheld to limit disclosure.. - Represents zero.. 1 Includes countries with fewer than 10 refugee arrivals per year.. 2 Includes admissions from Palestinian Territory.. Notes: Excludes Amerasian immigrants. In previous Yearbooks, OIS reported nationality by that of the Principal Applicant but has changed its methodology to report on the individual's nationality. Figures are based on refugee arrival date; certain refugee applicants who arrived in FY 2020 and 2021 are counted for those years and not towards the FY 2018 refugee admissions ceiling.. Source: DHS Office of Immigration Statistics."
                },
                {
                  "0": "COUNTRY  Uganda",
                  "1": "18",
                  "2": "15",
                  "3": "8",
                  "4": "68",
                  "5": "65",
                  "6": "58",
                  "7": "42",
                  "8": "25",
                  "9": "26",
                  "10": "29",
                  "11": "Table 14.. REFUGEE ARRIVALS BY REGION AND COUNTRY OF NATIONALITY: FISCAL YEARS 2012 TO 2021",
                  "12": "D Data withheld to limit disclosure.. - Represents zero.. 1 Includes countries with fewer than 10 refugee arrivals per year.. 2 Includes admissions from Palestinian Territory.. Notes: Excludes Amerasian immigrants. In previous Yearbooks, OIS reported nationality by that of the Principal Applicant but has changed its methodology to report on the individual's nationality. Figures are based on refugee arrival date; certain refugee applicants who arrived in FY 2020 and 2021 are counted for those years and not towards the FY 2018 refugee admissions ceiling.. Source: DHS Office of Immigration Statistics."
                },
                {
                  "0": "COUNTRY  Ukraine",
                  "1": "377",
                  "2": "235",
                  "3": "493",
                  "4": "1454",
                  "5": "2526",
                  "6": "4254",
                  "7": "2637",
                  "8": "4432",
                  "9": "1935",
                  "10": "802",
                  "11": "Table 14.. REFUGEE ARRIVALS BY REGION AND COUNTRY OF NATIONALITY: FISCAL YEARS 2012 TO 2021",
                  "12": "D Data withheld to limit disclosure.. - Represents zero.. 1 Includes countries with fewer than 10 refugee arrivals per year.. 2 Includes admissions from Palestinian Territory.. Notes: Excludes Amerasian immigrants. In previous Yearbooks, OIS reported nationality by that of the Principal Applicant but has changed its methodology to report on the individual's nationality. Figures are based on refugee arrival date; certain refugee applicants who arrived in FY 2020 and 2021 are counted for those years and not towards the FY 2018 refugee admissions ceiling.. Source: DHS Office of Immigration Statistics."
                },
                {
                  "0": "COUNTRY  Uzbekistan",
                  "1": "139",
                  "2": "49",
                  "3": "68",
                  "4": "42",
                  "5": "37",
                  "6": "35",
                  "7": "27",
                  "8": "11",
                  "9": "8",
                  "10": "D",
                  "11": "Table 14.. REFUGEE ARRIVALS BY REGION AND COUNTRY OF NATIONALITY: FISCAL YEARS 2012 TO 2021",
                  "12": "D Data withheld to limit disclosure.. - Represents zero.. 1 Includes countries with fewer than 10 refugee arrivals per year.. 2 Includes admissions from Palestinian Territory.. Notes: Excludes Amerasian immigrants. In previous Yearbooks, OIS reported nationality by that of the Principal Applicant but has changed its methodology to report on the individual's nationality. Figures are based on refugee arrival date; certain refugee applicants who arrived in FY 2020 and 2021 are counted for those years and not towards the FY 2018 refugee admissions ceiling.. Source: DHS Office of Immigration Statistics."
                },
                {
                  "0": "COUNTRY  Venezuela",
                  "1": "4",
                  "2": "3",
                  "3": "-",
                  "4": "-",
                  "5": "-",
                  "6": "-",
                  "7": "-",
                  "8": "-",
                  "9": "17",
                  "10": "D",
                  "11": "Table 14.. REFUGEE ARRIVALS BY REGION AND COUNTRY OF NATIONALITY: FISCAL YEARS 2012 TO 2021",
                  "12": "D Data withheld to limit disclosure.. - Represents zero.. 1 Includes countries with fewer than 10 refugee arrivals per year.. 2 Includes admissions from Palestinian Territory.. Notes: Excludes Amerasian immigrants. In previous Yearbooks, OIS reported nationality by that of the Principal Applicant but has changed its methodology to report on the individual's nationality. Figures are based on refugee arrival date; certain refugee applicants who arrived in FY 2020 and 2021 are counted for those years and not towards the FY 2018 refugee admissions ceiling.. Source: DHS Office of Immigration Statistics."
                },
                {
                  "0": "COUNTRY  Vietnam",
                  "1": "41",
                  "2": "69",
                  "3": "68",
                  "4": "22",
                  "5": "55",
                  "6": "20",
                  "7": "10",
                  "8": "10",
                  "9": "12",
                  "10": "D",
                  "11": "Table 14.. REFUGEE ARRIVALS BY REGION AND COUNTRY OF NATIONALITY: FISCAL YEARS 2012 TO 2021",
                  "12": "D Data withheld to limit disclosure.. - Represents zero.. 1 Includes countries with fewer than 10 refugee arrivals per year.. 2 Includes admissions from Palestinian Territory.. Notes: Excludes Amerasian immigrants. In previous Yearbooks, OIS reported nationality by that of the Principal Applicant but has changed its methodology to report on the individual's nationality. Figures are based on refugee arrival date; certain refugee applicants who arrived in FY 2020 and 2021 are counted for those years and not towards the FY 2018 refugee admissions ceiling.. Source: DHS Office of Immigration Statistics."
                },
                {
                  "0": "COUNTRY  Yemen",
                  "1": "-",
                  "2": "12",
                  "3": "4",
                  "4": "23",
                  "5": "23",
                  "6": "23",
                  "7": "D",
                  "8": "3",
                  "9": "D",
                  "10": "7",
                  "11": "Table 14.. REFUGEE ARRIVALS BY REGION AND COUNTRY OF NATIONALITY: FISCAL YEARS 2012 TO 2021",
                  "12": "D Data withheld to limit disclosure.. - Represents zero.. 1 Includes countries with fewer than 10 refugee arrivals per year.. 2 Includes admissions from Palestinian Territory.. Notes: Excludes Amerasian immigrants. In previous Yearbooks, OIS reported nationality by that of the Principal Applicant but has changed its methodology to report on the individual's nationality. Figures are based on refugee arrival date; certain refugee applicants who arrived in FY 2020 and 2021 are counted for those years and not towards the FY 2018 refugee admissions ceiling.. Source: DHS Office of Immigration Statistics."
                },
                {
                  "0": "COUNTRY  Zimbabwe",
                  "1": "3",
                  "2": "17",
                  "3": "4",
                  "4": "8",
                  "5": "14",
                  "6": "D",
                  "7": "11",
                  "8": "D",
                  "9": "3",
                  "10": "D",
                  "11": "Table 14.. REFUGEE ARRIVALS BY REGION AND COUNTRY OF NATIONALITY: FISCAL YEARS 2012 TO 2021",
                  "12": "D Data withheld to limit disclosure.. - Represents zero.. 1 Includes countries with fewer than 10 refugee arrivals per year.. 2 Includes admissions from Palestinian Territory.. Notes: Excludes Amerasian immigrants. In previous Yearbooks, OIS reported nationality by that of the Principal Applicant but has changed its methodology to report on the individual's nationality. Figures are based on refugee arrival date; certain refugee applicants who arrived in FY 2020 and 2021 are counted for those years and not towards the FY 2018 refugee admissions ceiling.. Source: DHS Office of Immigration Statistics."
                },
                {
                  "0": "COUNTRY  All other countries1",
                  "1": "45",
                  "2": "22",
                  "3": "55",
                  "4": "51",
                  "5": "64",
                  "6": "70",
                  "7": "36",
                  "8": "34",
                  "9": "20",
                  "10": "30",
                  "11": "Table 14.. REFUGEE ARRIVALS BY REGION AND COUNTRY OF NATIONALITY: FISCAL YEARS 2012 TO 2021",
                  "12": "D Data withheld to limit disclosure.. - Represents zero.. 1 Includes countries with fewer than 10 refugee arrivals per year.. 2 Includes admissions from Palestinian Territory.. Notes: Excludes Amerasian immigrants. In previous Yearbooks, OIS reported nationality by that of the Principal Applicant but has changed its methodology to report on the individual's nationality. Figures are based on refugee arrival date; certain refugee applicants who arrived in FY 2020 and 2021 are counted for those years and not towards the FY 2018 refugee admissions ceiling.. Source: DHS Office of Immigration Statistics."
                },
                {
                  "0": "COUNTRY  Unknown2",
                  "1": "178",
                  "2": "194",
                  "3": "159",
                  "4": "104",
                  "5": "62",
                  "6": "85",
                  "7": "-",
                  "8": "32",
                  "9": "3",
                  "10": "33",
                  "11": "Table 14.. REFUGEE ARRIVALS BY REGION AND COUNTRY OF NATIONALITY: FISCAL YEARS 2012 TO 2021",
                  "12": "D Data withheld to limit disclosure.. - Represents zero.. 1 Includes countries with fewer than 10 refugee arrivals per year.. 2 Includes admissions from Palestinian Territory.. Notes: Excludes Amerasian immigrants. In previous Yearbooks, OIS reported nationality by that of the Principal Applicant but has changed its methodology to report on the individual's nationality. Figures are based on refugee arrival date; certain refugee applicants who arrived in FY 2020 and 2021 are counted for those years and not towards the FY 2018 refugee admissions ceiling.. Source: DHS Office of Immigration Statistics."
                }
              ],
              "schema": [
                {
                  "key": "0",
                  "name": "Region_and_country_of_nationality",
                  "type": "string"
                },
                {
                  "key": "1",
                  "name": "2012",
                  "type": "string"
                },
                {
                  "key": "2",
                  "name": "2013",
                  "type": "string"
                },
                {
                  "key": "3",
                  "name": "2014",
                  "type": "string"
                },
                {
                  "key": "4",
                  "name": "2015",
                  "type": "string"
                },
                {
                  "key": "5",
                  "name": "2016",
                  "type": "string"
                },
                {
                  "key": "6",
                  "name": "2017",
                  "type": "string"
                },
                {
                  "key": "7",
                  "name": "2018",
                  "type": "string"
                },
                {
                  "key": "8",
                  "name": "2019",
                  "type": "string"
                },
                {
                  "key": "9",
                  "name": "2020",
                  "type": "string"
                },
                {
                  "key": "10",
                  "name": "2021",
                  "type": "string"
                },
                {
                  "key": "11",
                  "name": "Header",
                  "type": "string"
                },
                {
                  "key": "12",
                  "name": "Footer",
                  "type": "string"
                }
              ],
              "truncated": false
            },
            "isSummary": false,
            "language": "scala"
          },
          "persist_state": {
            "view": {
              "type": "details",
              "tableOptions": {},
              "chartOptions": {
                "chartType": "bar",
                "aggregationType": "count",
                "categoryFieldKeys": [
                  "0"
                ],
                "seriesFieldKeys": [
                  "0"
                ],
                "isStacked": false
              }
            }
          }
        },
        "ef1b1662-a98b-4ebc-beaa-a46b853a1dd2": {
          "type": "Synapse.DataFrame",
          "sync_state": {
            "table": {
              "rows": [
                {
                  "0": "REGION  Total",
                  "1": "16871",
                  "2": "14890",
                  "3": "14425",
                  "4": "17807",
                  "5": "11620",
                  "6": "15815",
                  "7": "24543",
                  "8": "26979",
                  "9": "16363",
                  "10": "10325",
                  "11": "Table 17.. INDIVIDUALS GRANTED ASYLUM AFFIRMATIVELY BY REGION AND COUNTRY OF NATIONALITY: FISCAL YEARS 2012 TO 2021",
                  "12": "X Not applicable.. D Data withheld to limit disclosure.. - Represents zero.. 1 Includes countries with fewer than 10 individuals granted asylum affirmatively per year.. 2 Includes admissions from Palestinian Territories. Figures for Soviet Union (former) and Serbia and Montenegro (former) for 2021 and onward are assigned to Unknown.. Source: DHS Office of Immigration Statistics."
                },
                {
                  "0": "REGION  Africa",
                  "1": "4903",
                  "2": "4758",
                  "3": "4223",
                  "4": "3805",
                  "5": "2144",
                  "6": "2921",
                  "7": "4517",
                  "8": "5222",
                  "9": "3353",
                  "10": "2230",
                  "11": "Table 17.. INDIVIDUALS GRANTED ASYLUM AFFIRMATIVELY BY REGION AND COUNTRY OF NATIONALITY: FISCAL YEARS 2012 TO 2021",
                  "12": "X Not applicable.. D Data withheld to limit disclosure.. - Represents zero.. 1 Includes countries with fewer than 10 individuals granted asylum affirmatively per year.. 2 Includes admissions from Palestinian Territories. Figures for Soviet Union (former) and Serbia and Montenegro (former) for 2021 and onward are assigned to Unknown.. Source: DHS Office of Immigration Statistics."
                },
                {
                  "0": "REGION  Asia",
                  "1": "7831",
                  "2": "7392",
                  "3": "7409",
                  "4": "6571",
                  "5": "4366",
                  "6": "5712",
                  "7": "7889",
                  "8": "9250",
                  "9": "6407",
                  "10": "3733",
                  "11": "Table 17.. INDIVIDUALS GRANTED ASYLUM AFFIRMATIVELY BY REGION AND COUNTRY OF NATIONALITY: FISCAL YEARS 2012 TO 2021",
                  "12": "X Not applicable.. D Data withheld to limit disclosure.. - Represents zero.. 1 Includes countries with fewer than 10 individuals granted asylum affirmatively per year.. 2 Includes admissions from Palestinian Territories. Figures for Soviet Union (former) and Serbia and Montenegro (former) for 2021 and onward are assigned to Unknown.. Source: DHS Office of Immigration Statistics."
                },
                {
                  "0": "REGION  Europe",
                  "1": "1183",
                  "2": "769",
                  "3": "557",
                  "4": "725",
                  "5": "466",
                  "6": "660",
                  "7": "1562",
                  "8": "1886",
                  "9": "1083",
                  "10": "654",
                  "11": "Table 17.. INDIVIDUALS GRANTED ASYLUM AFFIRMATIVELY BY REGION AND COUNTRY OF NATIONALITY: FISCAL YEARS 2012 TO 2021",
                  "12": "X Not applicable.. D Data withheld to limit disclosure.. - Represents zero.. 1 Includes countries with fewer than 10 individuals granted asylum affirmatively per year.. 2 Includes admissions from Palestinian Territories. Figures for Soviet Union (former) and Serbia and Montenegro (former) for 2021 and onward are assigned to Unknown.. Source: DHS Office of Immigration Statistics."
                },
                {
                  "0": "REGION  North America",
                  "1": "1564",
                  "2": "1095",
                  "3": "1586",
                  "4": "5754",
                  "5": "4105",
                  "6": "5804",
                  "7": "4292",
                  "8": "3828",
                  "9": "1822",
                  "10": "1769",
                  "11": "Table 17.. INDIVIDUALS GRANTED ASYLUM AFFIRMATIVELY BY REGION AND COUNTRY OF NATIONALITY: FISCAL YEARS 2012 TO 2021",
                  "12": "X Not applicable.. D Data withheld to limit disclosure.. - Represents zero.. 1 Includes countries with fewer than 10 individuals granted asylum affirmatively per year.. 2 Includes admissions from Palestinian Territories. Figures for Soviet Union (former) and Serbia and Montenegro (former) for 2021 and onward are assigned to Unknown.. Source: DHS Office of Immigration Statistics."
                },
                {
                  "0": "REGION  Oceania",
                  "1": "20",
                  "2": "10",
                  "3": "21",
                  "4": "4",
                  "5": "7",
                  "6": "5",
                  "7": "4",
                  "8": "3",
                  "9": "4",
                  "10": "D",
                  "11": "Table 17.. INDIVIDUALS GRANTED ASYLUM AFFIRMATIVELY BY REGION AND COUNTRY OF NATIONALITY: FISCAL YEARS 2012 TO 2021",
                  "12": "X Not applicable.. D Data withheld to limit disclosure.. - Represents zero.. 1 Includes countries with fewer than 10 individuals granted asylum affirmatively per year.. 2 Includes admissions from Palestinian Territories. Figures for Soviet Union (former) and Serbia and Montenegro (former) for 2021 and onward are assigned to Unknown.. Source: DHS Office of Immigration Statistics."
                },
                {
                  "0": "REGION  South America",
                  "1": "1328",
                  "2": "825",
                  "3": "589",
                  "4": "895",
                  "5": "505",
                  "6": "675",
                  "7": "6213",
                  "8": "6687",
                  "9": "3633",
                  "10": "1880",
                  "11": "Table 17.. INDIVIDUALS GRANTED ASYLUM AFFIRMATIVELY BY REGION AND COUNTRY OF NATIONALITY: FISCAL YEARS 2012 TO 2021",
                  "12": "X Not applicable.. D Data withheld to limit disclosure.. - Represents zero.. 1 Includes countries with fewer than 10 individuals granted asylum affirmatively per year.. 2 Includes admissions from Palestinian Territories. Figures for Soviet Union (former) and Serbia and Montenegro (former) for 2021 and onward are assigned to Unknown.. Source: DHS Office of Immigration Statistics."
                },
                {
                  "0": "REGION  Unknown",
                  "1": "42",
                  "2": "41",
                  "3": "40",
                  "4": "53",
                  "5": "27",
                  "6": "38",
                  "7": "66",
                  "8": "103",
                  "9": "61",
                  "10": "D",
                  "11": "Table 17.. INDIVIDUALS GRANTED ASYLUM AFFIRMATIVELY BY REGION AND COUNTRY OF NATIONALITY: FISCAL YEARS 2012 TO 2021",
                  "12": "X Not applicable.. D Data withheld to limit disclosure.. - Represents zero.. 1 Includes countries with fewer than 10 individuals granted asylum affirmatively per year.. 2 Includes admissions from Palestinian Territories. Figures for Soviet Union (former) and Serbia and Montenegro (former) for 2021 and onward are assigned to Unknown.. Source: DHS Office of Immigration Statistics."
                },
                {
                  "0": "COUNTRY  Total",
                  "1": "16871",
                  "2": "14890",
                  "3": "14425",
                  "4": "17807",
                  "5": "11620",
                  "6": "15815",
                  "7": "24543",
                  "8": "26979",
                  "9": "16363",
                  "10": "10325",
                  "11": "Table 17.. INDIVIDUALS GRANTED ASYLUM AFFIRMATIVELY BY REGION AND COUNTRY OF NATIONALITY: FISCAL YEARS 2012 TO 2021",
                  "12": "X Not applicable.. D Data withheld to limit disclosure.. - Represents zero.. 1 Includes countries with fewer than 10 individuals granted asylum affirmatively per year.. 2 Includes admissions from Palestinian Territories. Figures for Soviet Union (former) and Serbia and Montenegro (former) for 2021 and onward are assigned to Unknown.. Source: DHS Office of Immigration Statistics."
                },
                {
                  "0": "COUNTRY  Afghanistan",
                  "1": "149",
                  "2": "94",
                  "3": "103",
                  "4": "155",
                  "5": "84",
                  "6": "90",
                  "7": "75",
                  "8": "76",
                  "9": "40",
                  "10": "104",
                  "11": "Table 17.. INDIVIDUALS GRANTED ASYLUM AFFIRMATIVELY BY REGION AND COUNTRY OF NATIONALITY: FISCAL YEARS 2012 TO 2021",
                  "12": "X Not applicable.. D Data withheld to limit disclosure.. - Represents zero.. 1 Includes countries with fewer than 10 individuals granted asylum affirmatively per year.. 2 Includes admissions from Palestinian Territories. Figures for Soviet Union (former) and Serbia and Montenegro (former) for 2021 and onward are assigned to Unknown.. Source: DHS Office of Immigration Statistics."
                },
                {
                  "0": "COUNTRY  Albania",
                  "1": "21",
                  "2": "12",
                  "3": "25",
                  "4": "29",
                  "5": "7",
                  "6": "16",
                  "7": "48",
                  "8": "50",
                  "9": "14",
                  "10": "28",
                  "11": "Table 17.. INDIVIDUALS GRANTED ASYLUM AFFIRMATIVELY BY REGION AND COUNTRY OF NATIONALITY: FISCAL YEARS 2012 TO 2021",
                  "12": "X Not applicable.. D Data withheld to limit disclosure.. - Represents zero.. 1 Includes countries with fewer than 10 individuals granted asylum affirmatively per year.. 2 Includes admissions from Palestinian Territories. Figures for Soviet Union (former) and Serbia and Montenegro (former) for 2021 and onward are assigned to Unknown.. Source: DHS Office of Immigration Statistics."
                },
                {
                  "0": "COUNTRY  Algeria",
                  "1": "12",
                  "2": "3",
                  "3": "8",
                  "4": "6",
                  "5": "4",
                  "6": "7",
                  "7": "18",
                  "8": "30",
                  "9": "12",
                  "10": "16",
                  "11": "Table 17.. INDIVIDUALS GRANTED ASYLUM AFFIRMATIVELY BY REGION AND COUNTRY OF NATIONALITY: FISCAL YEARS 2012 TO 2021",
                  "12": "X Not applicable.. D Data withheld to limit disclosure.. - Represents zero.. 1 Includes countries with fewer than 10 individuals granted asylum affirmatively per year.. 2 Includes admissions from Palestinian Territories. Figures for Soviet Union (former) and Serbia and Montenegro (former) for 2021 and onward are assigned to Unknown.. Source: DHS Office of Immigration Statistics."
                },
                {
                  "0": "COUNTRY  Angola",
                  "1": "9",
                  "2": "8",
                  "3": "7",
                  "4": "32",
                  "5": "7",
                  "6": "15",
                  "7": "38",
                  "8": "31",
                  "9": "21",
                  "10": "12",
                  "11": "Table 17.. INDIVIDUALS GRANTED ASYLUM AFFIRMATIVELY BY REGION AND COUNTRY OF NATIONALITY: FISCAL YEARS 2012 TO 2021",
                  "12": "X Not applicable.. D Data withheld to limit disclosure.. - Represents zero.. 1 Includes countries with fewer than 10 individuals granted asylum affirmatively per year.. 2 Includes admissions from Palestinian Territories. Figures for Soviet Union (former) and Serbia and Montenegro (former) for 2021 and onward are assigned to Unknown.. Source: DHS Office of Immigration Statistics."
                },
                {
                  "0": "COUNTRY  Armenia",
                  "1": "36",
                  "2": "76",
                  "3": "89",
                  "4": "45",
                  "5": "13",
                  "6": "34",
                  "7": "113",
                  "8": "126",
                  "9": "62",
                  "10": "21",
                  "11": "Table 17.. INDIVIDUALS GRANTED ASYLUM AFFIRMATIVELY BY REGION AND COUNTRY OF NATIONALITY: FISCAL YEARS 2012 TO 2021",
                  "12": "X Not applicable.. D Data withheld to limit disclosure.. - Represents zero.. 1 Includes countries with fewer than 10 individuals granted asylum affirmatively per year.. 2 Includes admissions from Palestinian Territories. Figures for Soviet Union (former) and Serbia and Montenegro (former) for 2021 and onward are assigned to Unknown.. Source: DHS Office of Immigration Statistics."
                },
                {
                  "0": "COUNTRY  Azerbaijan",
                  "1": "27",
                  "2": "21",
                  "3": "16",
                  "4": "15",
                  "5": "14",
                  "6": "18",
                  "7": "71",
                  "8": "93",
                  "9": "74",
                  "10": "20",
                  "11": "Table 17.. INDIVIDUALS GRANTED ASYLUM AFFIRMATIVELY BY REGION AND COUNTRY OF NATIONALITY: FISCAL YEARS 2012 TO 2021",
                  "12": "X Not applicable.. D Data withheld to limit disclosure.. - Represents zero.. 1 Includes countries with fewer than 10 individuals granted asylum affirmatively per year.. 2 Includes admissions from Palestinian Territories. Figures for Soviet Union (former) and Serbia and Montenegro (former) for 2021 and onward are assigned to Unknown.. Source: DHS Office of Immigration Statistics."
                },
                {
                  "0": "COUNTRY  Bahrain",
                  "1": "22",
                  "2": "4",
                  "3": "D",
                  "4": "D",
                  "5": "-",
                  "6": "D",
                  "7": "-",
                  "8": "D",
                  "9": "3",
                  "10": "4",
                  "11": "Table 17.. INDIVIDUALS GRANTED ASYLUM AFFIRMATIVELY BY REGION AND COUNTRY OF NATIONALITY: FISCAL YEARS 2012 TO 2021",
                  "12": "X Not applicable.. D Data withheld to limit disclosure.. - Represents zero.. 1 Includes countries with fewer than 10 individuals granted asylum affirmatively per year.. 2 Includes admissions from Palestinian Territories. Figures for Soviet Union (former) and Serbia and Montenegro (former) for 2021 and onward are assigned to Unknown.. Source: DHS Office of Immigration Statistics."
                },
                {
                  "0": "COUNTRY  Bangladesh",
                  "1": "29",
                  "2": "38",
                  "3": "137",
                  "4": "131",
                  "5": "44",
                  "6": "108",
                  "7": "141",
                  "8": "66",
                  "9": "43",
                  "10": "17",
                  "11": "Table 17.. INDIVIDUALS GRANTED ASYLUM AFFIRMATIVELY BY REGION AND COUNTRY OF NATIONALITY: FISCAL YEARS 2012 TO 2021",
                  "12": "X Not applicable.. D Data withheld to limit disclosure.. - Represents zero.. 1 Includes countries with fewer than 10 individuals granted asylum affirmatively per year.. 2 Includes admissions from Palestinian Territories. Figures for Soviet Union (former) and Serbia and Montenegro (former) for 2021 and onward are assigned to Unknown.. Source: DHS Office of Immigration Statistics."
                },
                {
                  "0": "COUNTRY  Belarus",
                  "1": "200",
                  "2": "106",
                  "3": "48",
                  "4": "72",
                  "5": "17",
                  "6": "34",
                  "7": "136",
                  "8": "171",
                  "9": "68",
                  "10": "67",
                  "11": "Table 17.. INDIVIDUALS GRANTED ASYLUM AFFIRMATIVELY BY REGION AND COUNTRY OF NATIONALITY: FISCAL YEARS 2012 TO 2021",
                  "12": "X Not applicable.. D Data withheld to limit disclosure.. - Represents zero.. 1 Includes countries with fewer than 10 individuals granted asylum affirmatively per year.. 2 Includes admissions from Palestinian Territories. Figures for Soviet Union (former) and Serbia and Montenegro (former) for 2021 and onward are assigned to Unknown.. Source: DHS Office of Immigration Statistics."
                },
                {
                  "0": "COUNTRY  Bolivia",
                  "1": "21",
                  "2": "3",
                  "3": "D",
                  "4": "3",
                  "5": "5",
                  "6": "-",
                  "7": "6",
                  "8": "8",
                  "9": "D",
                  "10": "9",
                  "11": "Table 17.. INDIVIDUALS GRANTED ASYLUM AFFIRMATIVELY BY REGION AND COUNTRY OF NATIONALITY: FISCAL YEARS 2012 TO 2021",
                  "12": "X Not applicable.. D Data withheld to limit disclosure.. - Represents zero.. 1 Includes countries with fewer than 10 individuals granted asylum affirmatively per year.. 2 Includes admissions from Palestinian Territories. Figures for Soviet Union (former) and Serbia and Montenegro (former) for 2021 and onward are assigned to Unknown.. Source: DHS Office of Immigration Statistics."
                },
                {
                  "0": "COUNTRY  Bosnia and Herzegovina",
                  "1": "8",
                  "2": "5",
                  "3": "3",
                  "4": "6",
                  "5": "D",
                  "6": "D",
                  "7": "10",
                  "8": "10",
                  "9": "5",
                  "10": "D",
                  "11": "Table 17.. INDIVIDUALS GRANTED ASYLUM AFFIRMATIVELY BY REGION AND COUNTRY OF NATIONALITY: FISCAL YEARS 2012 TO 2021",
                  "12": "X Not applicable.. D Data withheld to limit disclosure.. - Represents zero.. 1 Includes countries with fewer than 10 individuals granted asylum affirmatively per year.. 2 Includes admissions from Palestinian Territories. Figures for Soviet Union (former) and Serbia and Montenegro (former) for 2021 and onward are assigned to Unknown.. Source: DHS Office of Immigration Statistics."
                },
                {
                  "0": "COUNTRY  Brazil",
                  "1": "46",
                  "2": "27",
                  "3": "24",
                  "4": "30",
                  "5": "17",
                  "6": "30",
                  "7": "110",
                  "8": "187",
                  "9": "124",
                  "10": "63",
                  "11": "Table 17.. INDIVIDUALS GRANTED ASYLUM AFFIRMATIVELY BY REGION AND COUNTRY OF NATIONALITY: FISCAL YEARS 2012 TO 2021",
                  "12": "X Not applicable.. D Data withheld to limit disclosure.. - Represents zero.. 1 Includes countries with fewer than 10 individuals granted asylum affirmatively per year.. 2 Includes admissions from Palestinian Territories. Figures for Soviet Union (former) and Serbia and Montenegro (former) for 2021 and onward are assigned to Unknown.. Source: DHS Office of Immigration Statistics."
                },
                {
                  "0": "COUNTRY  Bulgaria",
                  "1": "18",
                  "2": "13",
                  "3": "18",
                  "4": "12",
                  "5": "4",
                  "6": "5",
                  "7": "7",
                  "8": "11",
                  "9": "8",
                  "10": "D",
                  "11": "Table 17.. INDIVIDUALS GRANTED ASYLUM AFFIRMATIVELY BY REGION AND COUNTRY OF NATIONALITY: FISCAL YEARS 2012 TO 2021",
                  "12": "X Not applicable.. D Data withheld to limit disclosure.. - Represents zero.. 1 Includes countries with fewer than 10 individuals granted asylum affirmatively per year.. 2 Includes admissions from Palestinian Territories. Figures for Soviet Union (former) and Serbia and Montenegro (former) for 2021 and onward are assigned to Unknown.. Source: DHS Office of Immigration Statistics."
                },
                {
                  "0": "COUNTRY  Burkina Faso",
                  "1": "56",
                  "2": "65",
                  "3": "64",
                  "4": "42",
                  "5": "28",
                  "6": "59",
                  "7": "113",
                  "8": "73",
                  "9": "39",
                  "10": "39",
                  "11": "Table 17.. INDIVIDUALS GRANTED ASYLUM AFFIRMATIVELY BY REGION AND COUNTRY OF NATIONALITY: FISCAL YEARS 2012 TO 2021",
                  "12": "X Not applicable.. D Data withheld to limit disclosure.. - Represents zero.. 1 Includes countries with fewer than 10 individuals granted asylum affirmatively per year.. 2 Includes admissions from Palestinian Territories. Figures for Soviet Union (former) and Serbia and Montenegro (former) for 2021 and onward are assigned to Unknown.. Source: DHS Office of Immigration Statistics."
                },
                {
                  "0": "COUNTRY  Burma",
                  "1": "98",
                  "2": "48",
                  "3": "36",
                  "4": "41",
                  "5": "9",
                  "6": "25",
                  "7": "74",
                  "8": "129",
                  "9": "95",
                  "10": "107",
                  "11": "Table 17.. INDIVIDUALS GRANTED ASYLUM AFFIRMATIVELY BY REGION AND COUNTRY OF NATIONALITY: FISCAL YEARS 2012 TO 2021",
                  "12": "X Not applicable.. D Data withheld to limit disclosure.. - Represents zero.. 1 Includes countries with fewer than 10 individuals granted asylum affirmatively per year.. 2 Includes admissions from Palestinian Territories. Figures for Soviet Union (former) and Serbia and Montenegro (former) for 2021 and onward are assigned to Unknown.. Source: DHS Office of Immigration Statistics."
                },
                {
                  "0": "COUNTRY  Burundi",
                  "1": "19",
                  "2": "24",
                  "3": "69",
                  "4": "75",
                  "5": "46",
                  "6": "35",
                  "7": "43",
                  "8": "35",
                  "9": "35",
                  "10": "11",
                  "11": "Table 17.. INDIVIDUALS GRANTED ASYLUM AFFIRMATIVELY BY REGION AND COUNTRY OF NATIONALITY: FISCAL YEARS 2012 TO 2021",
                  "12": "X Not applicable.. D Data withheld to limit disclosure.. - Represents zero.. 1 Includes countries with fewer than 10 individuals granted asylum affirmatively per year.. 2 Includes admissions from Palestinian Territories. Figures for Soviet Union (former) and Serbia and Montenegro (former) for 2021 and onward are assigned to Unknown.. Source: DHS Office of Immigration Statistics."
                },
                {
                  "0": "COUNTRY  Cambodia",
                  "1": "-",
                  "2": "3",
                  "3": "9",
                  "4": "-",
                  "5": "-",
                  "6": "D",
                  "7": "12",
                  "8": "10",
                  "9": "D",
                  "10": "5",
                  "11": "Table 17.. INDIVIDUALS GRANTED ASYLUM AFFIRMATIVELY BY REGION AND COUNTRY OF NATIONALITY: FISCAL YEARS 2012 TO 2021",
                  "12": "X Not applicable.. D Data withheld to limit disclosure.. - Represents zero.. 1 Includes countries with fewer than 10 individuals granted asylum affirmatively per year.. 2 Includes admissions from Palestinian Territories. Figures for Soviet Union (former) and Serbia and Montenegro (former) for 2021 and onward are assigned to Unknown.. Source: DHS Office of Immigration Statistics."
                },
                {
                  "0": "COUNTRY  Cameroon",
                  "1": "244",
                  "2": "144",
                  "3": "106",
                  "4": "107",
                  "5": "51",
                  "6": "102",
                  "7": "203",
                  "8": "244",
                  "9": "146",
                  "10": "137",
                  "11": "Table 17.. INDIVIDUALS GRANTED ASYLUM AFFIRMATIVELY BY REGION AND COUNTRY OF NATIONALITY: FISCAL YEARS 2012 TO 2021",
                  "12": "X Not applicable.. D Data withheld to limit disclosure.. - Represents zero.. 1 Includes countries with fewer than 10 individuals granted asylum affirmatively per year.. 2 Includes admissions from Palestinian Territories. Figures for Soviet Union (former) and Serbia and Montenegro (former) for 2021 and onward are assigned to Unknown.. Source: DHS Office of Immigration Statistics."
                },
                {
                  "0": "COUNTRY  Central African Republic",
                  "1": "8",
                  "2": "10",
                  "3": "13",
                  "4": "16",
                  "5": "4",
                  "6": "10",
                  "7": "19",
                  "8": "15",
                  "9": "6",
                  "10": "4",
                  "11": "Table 17.. INDIVIDUALS GRANTED ASYLUM AFFIRMATIVELY BY REGION AND COUNTRY OF NATIONALITY: FISCAL YEARS 2012 TO 2021",
                  "12": "X Not applicable.. D Data withheld to limit disclosure.. - Represents zero.. 1 Includes countries with fewer than 10 individuals granted asylum affirmatively per year.. 2 Includes admissions from Palestinian Territories. Figures for Soviet Union (former) and Serbia and Montenegro (former) for 2021 and onward are assigned to Unknown.. Source: DHS Office of Immigration Statistics."
                },
                {
                  "0": "COUNTRY  Chad",
                  "1": "10",
                  "2": "6",
                  "3": "8",
                  "4": "10",
                  "5": "7",
                  "6": "10",
                  "7": "30",
                  "8": "6",
                  "9": "13",
                  "10": "8",
                  "11": "Table 17.. INDIVIDUALS GRANTED ASYLUM AFFIRMATIVELY BY REGION AND COUNTRY OF NATIONALITY: FISCAL YEARS 2012 TO 2021",
                  "12": "X Not applicable.. D Data withheld to limit disclosure.. - Represents zero.. 1 Includes countries with fewer than 10 individuals granted asylum affirmatively per year.. 2 Includes admissions from Palestinian Territories. Figures for Soviet Union (former) and Serbia and Montenegro (former) for 2021 and onward are assigned to Unknown.. Source: DHS Office of Immigration Statistics."
                },
                {
                  "0": "COUNTRY  China, People's Republic",
                  "1": "4622",
                  "2": "4005",
                  "3": "3896",
                  "4": "2593",
                  "5": "1409",
                  "6": "2820",
                  "7": "3763",
                  "8": "3957",
                  "9": "2808",
                  "10": "1195",
                  "11": "Table 17.. INDIVIDUALS GRANTED ASYLUM AFFIRMATIVELY BY REGION AND COUNTRY OF NATIONALITY: FISCAL YEARS 2012 TO 2021",
                  "12": "X Not applicable.. D Data withheld to limit disclosure.. - Represents zero.. 1 Includes countries with fewer than 10 individuals granted asylum affirmatively per year.. 2 Includes admissions from Palestinian Territories. Figures for Soviet Union (former) and Serbia and Montenegro (former) for 2021 and onward are assigned to Unknown.. Source: DHS Office of Immigration Statistics."
                },
                {
                  "0": "COUNTRY  Colombia",
                  "1": "282",
                  "2": "165",
                  "3": "226",
                  "4": "245",
                  "5": "73",
                  "6": "74",
                  "7": "312",
                  "8": "281",
                  "9": "278",
                  "10": "162",
                  "11": "Table 17.. INDIVIDUALS GRANTED ASYLUM AFFIRMATIVELY BY REGION AND COUNTRY OF NATIONALITY: FISCAL YEARS 2012 TO 2021",
                  "12": "X Not applicable.. D Data withheld to limit disclosure.. - Represents zero.. 1 Includes countries with fewer than 10 individuals granted asylum affirmatively per year.. 2 Includes admissions from Palestinian Territories. Figures for Soviet Union (former) and Serbia and Montenegro (former) for 2021 and onward are assigned to Unknown.. Source: DHS Office of Immigration Statistics."
                },
                {
                  "0": "COUNTRY  Congo, Democratic Republic",
                  "1": "68",
                  "2": "51",
                  "3": "36",
                  "4": "70",
                  "5": "38",
                  "6": "57",
                  "7": "83",
                  "8": "83",
                  "9": "50",
                  "10": "33",
                  "11": "Table 17.. INDIVIDUALS GRANTED ASYLUM AFFIRMATIVELY BY REGION AND COUNTRY OF NATIONALITY: FISCAL YEARS 2012 TO 2021",
                  "12": "X Not applicable.. D Data withheld to limit disclosure.. - Represents zero.. 1 Includes countries with fewer than 10 individuals granted asylum affirmatively per year.. 2 Includes admissions from Palestinian Territories. Figures for Soviet Union (former) and Serbia and Montenegro (former) for 2021 and onward are assigned to Unknown.. Source: DHS Office of Immigration Statistics."
                },
                {
                  "0": "COUNTRY  Congo, Republic",
                  "1": "72",
                  "2": "65",
                  "3": "50",
                  "4": "65",
                  "5": "30",
                  "6": "69",
                  "7": "105",
                  "8": "82",
                  "9": "54",
                  "10": "41",
                  "11": "Table 17.. INDIVIDUALS GRANTED ASYLUM AFFIRMATIVELY BY REGION AND COUNTRY OF NATIONALITY: FISCAL YEARS 2012 TO 2021",
                  "12": "X Not applicable.. D Data withheld to limit disclosure.. - Represents zero.. 1 Includes countries with fewer than 10 individuals granted asylum affirmatively per year.. 2 Includes admissions from Palestinian Territories. Figures for Soviet Union (former) and Serbia and Montenegro (former) for 2021 and onward are assigned to Unknown.. Source: DHS Office of Immigration Statistics."
                },
                {
                  "0": "COUNTRY  Cote d'Ivoire",
                  "1": "109",
                  "2": "54",
                  "3": "24",
                  "4": "39",
                  "5": "19",
                  "6": "36",
                  "7": "46",
                  "8": "26",
                  "9": "22",
                  "10": "19",
                  "11": "Table 17.. INDIVIDUALS GRANTED ASYLUM AFFIRMATIVELY BY REGION AND COUNTRY OF NATIONALITY: FISCAL YEARS 2012 TO 2021",
                  "12": "X Not applicable.. D Data withheld to limit disclosure.. - Represents zero.. 1 Includes countries with fewer than 10 individuals granted asylum affirmatively per year.. 2 Includes admissions from Palestinian Territories. Figures for Soviet Union (former) and Serbia and Montenegro (former) for 2021 and onward are assigned to Unknown.. Source: DHS Office of Immigration Statistics."
                },
                {
                  "0": "COUNTRY  Cuba",
                  "1": "21",
                  "2": "24",
                  "3": "10",
                  "4": "7",
                  "5": "4",
                  "6": "D",
                  "7": "D",
                  "8": "10",
                  "9": "14",
                  "10": "29",
                  "11": "Table 17.. INDIVIDUALS GRANTED ASYLUM AFFIRMATIVELY BY REGION AND COUNTRY OF NATIONALITY: FISCAL YEARS 2012 TO 2021",
                  "12": "X Not applicable.. D Data withheld to limit disclosure.. - Represents zero.. 1 Includes countries with fewer than 10 individuals granted asylum affirmatively per year.. 2 Includes admissions from Palestinian Territories. Figures for Soviet Union (former) and Serbia and Montenegro (former) for 2021 and onward are assigned to Unknown.. Source: DHS Office of Immigration Statistics."
                },
                {
                  "0": "COUNTRY  Djibouti",
                  "1": "14",
                  "2": "6",
                  "3": "8",
                  "4": "50",
                  "5": "39",
                  "6": "17",
                  "7": "23",
                  "8": "33",
                  "9": "33",
                  "10": "17",
                  "11": "Table 17.. INDIVIDUALS GRANTED ASYLUM AFFIRMATIVELY BY REGION AND COUNTRY OF NATIONALITY: FISCAL YEARS 2012 TO 2021",
                  "12": "X Not applicable.. D Data withheld to limit disclosure.. - Represents zero.. 1 Includes countries with fewer than 10 individuals granted asylum affirmatively per year.. 2 Includes admissions from Palestinian Territories. Figures for Soviet Union (former) and Serbia and Montenegro (former) for 2021 and onward are assigned to Unknown.. Source: DHS Office of Immigration Statistics."
                },
                {
                  "0": "COUNTRY  Dominican Republic",
                  "1": "16",
                  "2": "4",
                  "3": "3",
                  "4": "7",
                  "5": "3",
                  "6": "D",
                  "7": "5",
                  "8": "15",
                  "9": "12",
                  "10": "D",
                  "11": "Table 17.. INDIVIDUALS GRANTED ASYLUM AFFIRMATIVELY BY REGION AND COUNTRY OF NATIONALITY: FISCAL YEARS 2012 TO 2021",
                  "12": "X Not applicable.. D Data withheld to limit disclosure.. - Represents zero.. 1 Includes countries with fewer than 10 individuals granted asylum affirmatively per year.. 2 Includes admissions from Palestinian Territories. Figures for Soviet Union (former) and Serbia and Montenegro (former) for 2021 and onward are assigned to Unknown.. Source: DHS Office of Immigration Statistics."
                },
                {
                  "0": "COUNTRY  Ecuador",
                  "1": "18",
                  "2": "13",
                  "3": "15",
                  "4": "137",
                  "5": "83",
                  "6": "65",
                  "7": "60",
                  "8": "37",
                  "9": "23",
                  "10": "27",
                  "11": "Table 17.. INDIVIDUALS GRANTED ASYLUM AFFIRMATIVELY BY REGION AND COUNTRY OF NATIONALITY: FISCAL YEARS 2012 TO 2021",
                  "12": "X Not applicable.. D Data withheld to limit disclosure.. - Represents zero.. 1 Includes countries with fewer than 10 individuals granted asylum affirmatively per year.. 2 Includes admissions from Palestinian Territories. Figures for Soviet Union (former) and Serbia and Montenegro (former) for 2021 and onward are assigned to Unknown.. Source: DHS Office of Immigration Statistics."
                },
                {
                  "0": "COUNTRY  Egypt",
                  "1": "2556",
                  "2": "3065",
                  "3": "2585",
                  "4": "1512",
                  "5": "682",
                  "6": "1007",
                  "7": "1382",
                  "8": "2104",
                  "9": "1303",
                  "10": "654",
                  "11": "Table 17.. INDIVIDUALS GRANTED ASYLUM AFFIRMATIVELY BY REGION AND COUNTRY OF NATIONALITY: FISCAL YEARS 2012 TO 2021",
                  "12": "X Not applicable.. D Data withheld to limit disclosure.. - Represents zero.. 1 Includes countries with fewer than 10 individuals granted asylum affirmatively per year.. 2 Includes admissions from Palestinian Territories. Figures for Soviet Union (former) and Serbia and Montenegro (former) for 2021 and onward are assigned to Unknown.. Source: DHS Office of Immigration Statistics."
                },
                {
                  "0": "COUNTRY  El Salvador",
                  "1": "118",
                  "2": "65",
                  "3": "177",
                  "4": "1853",
                  "5": "1376",
                  "6": "2105",
                  "7": "1136",
                  "8": "861",
                  "9": "262",
                  "10": "310",
                  "11": "Table 17.. INDIVIDUALS GRANTED ASYLUM AFFIRMATIVELY BY REGION AND COUNTRY OF NATIONALITY: FISCAL YEARS 2012 TO 2021",
                  "12": "X Not applicable.. D Data withheld to limit disclosure.. - Represents zero.. 1 Includes countries with fewer than 10 individuals granted asylum affirmatively per year.. 2 Includes admissions from Palestinian Territories. Figures for Soviet Union (former) and Serbia and Montenegro (former) for 2021 and onward are assigned to Unknown.. Source: DHS Office of Immigration Statistics."
                },
                {
                  "0": "COUNTRY  Eritrea",
                  "1": "113",
                  "2": "83",
                  "3": "147",
                  "4": "244",
                  "5": "257",
                  "6": "352",
                  "7": "329",
                  "8": "249",
                  "9": "172",
                  "10": "63",
                  "11": "Table 17.. INDIVIDUALS GRANTED ASYLUM AFFIRMATIVELY BY REGION AND COUNTRY OF NATIONALITY: FISCAL YEARS 2012 TO 2021",
                  "12": "X Not applicable.. D Data withheld to limit disclosure.. - Represents zero.. 1 Includes countries with fewer than 10 individuals granted asylum affirmatively per year.. 2 Includes admissions from Palestinian Territories. Figures for Soviet Union (former) and Serbia and Montenegro (former) for 2021 and onward are assigned to Unknown.. Source: DHS Office of Immigration Statistics."
                },
                {
                  "0": "COUNTRY  Ethiopia",
                  "1": "646",
                  "2": "474",
                  "3": "504",
                  "4": "619",
                  "5": "300",
                  "6": "293",
                  "7": "396",
                  "8": "298",
                  "9": "213",
                  "10": "297",
                  "11": "Table 17.. INDIVIDUALS GRANTED ASYLUM AFFIRMATIVELY BY REGION AND COUNTRY OF NATIONALITY: FISCAL YEARS 2012 TO 2021",
                  "12": "X Not applicable.. D Data withheld to limit disclosure.. - Represents zero.. 1 Includes countries with fewer than 10 individuals granted asylum affirmatively per year.. 2 Includes admissions from Palestinian Territories. Figures for Soviet Union (former) and Serbia and Montenegro (former) for 2021 and onward are assigned to Unknown.. Source: DHS Office of Immigration Statistics."
                },
                {
                  "0": "COUNTRY  Fiji",
                  "1": "17",
                  "2": "10",
                  "3": "20",
                  "4": "4",
                  "5": "7",
                  "6": "5",
                  "7": "D",
                  "8": "3",
                  "9": "D",
                  "10": "D",
                  "11": "Table 17.. INDIVIDUALS GRANTED ASYLUM AFFIRMATIVELY BY REGION AND COUNTRY OF NATIONALITY: FISCAL YEARS 2012 TO 2021",
                  "12": "X Not applicable.. D Data withheld to limit disclosure.. - Represents zero.. 1 Includes countries with fewer than 10 individuals granted asylum affirmatively per year.. 2 Includes admissions from Palestinian Territories. Figures for Soviet Union (former) and Serbia and Montenegro (former) for 2021 and onward are assigned to Unknown.. Source: DHS Office of Immigration Statistics."
                },
                {
                  "0": "COUNTRY  Gabon",
                  "1": "6",
                  "2": "-",
                  "3": "6",
                  "4": "3",
                  "5": "-",
                  "6": "D",
                  "7": "10",
                  "8": "5",
                  "9": "10",
                  "10": "D",
                  "11": "Table 17.. INDIVIDUALS GRANTED ASYLUM AFFIRMATIVELY BY REGION AND COUNTRY OF NATIONALITY: FISCAL YEARS 2012 TO 2021",
                  "12": "X Not applicable.. D Data withheld to limit disclosure.. - Represents zero.. 1 Includes countries with fewer than 10 individuals granted asylum affirmatively per year.. 2 Includes admissions from Palestinian Territories. Figures for Soviet Union (former) and Serbia and Montenegro (former) for 2021 and onward are assigned to Unknown.. Source: DHS Office of Immigration Statistics."
                },
                {
                  "0": "COUNTRY  Gambia",
                  "1": "111",
                  "2": "56",
                  "3": "53",
                  "4": "85",
                  "5": "61",
                  "6": "86",
                  "7": "70",
                  "8": "51",
                  "9": "32",
                  "10": "27",
                  "11": "Table 17.. INDIVIDUALS GRANTED ASYLUM AFFIRMATIVELY BY REGION AND COUNTRY OF NATIONALITY: FISCAL YEARS 2012 TO 2021",
                  "12": "X Not applicable.. D Data withheld to limit disclosure.. - Represents zero.. 1 Includes countries with fewer than 10 individuals granted asylum affirmatively per year.. 2 Includes admissions from Palestinian Territories. Figures for Soviet Union (former) and Serbia and Montenegro (former) for 2021 and onward are assigned to Unknown.. Source: DHS Office of Immigration Statistics."
                },
                {
                  "0": "COUNTRY  Georgia",
                  "1": "10",
                  "2": "11",
                  "3": "17",
                  "4": "22",
                  "5": "27",
                  "6": "25",
                  "7": "50",
                  "8": "54",
                  "9": "32",
                  "10": "17",
                  "11": "Table 17.. INDIVIDUALS GRANTED ASYLUM AFFIRMATIVELY BY REGION AND COUNTRY OF NATIONALITY: FISCAL YEARS 2012 TO 2021",
                  "12": "X Not applicable.. D Data withheld to limit disclosure.. - Represents zero.. 1 Includes countries with fewer than 10 individuals granted asylum affirmatively per year.. 2 Includes admissions from Palestinian Territories. Figures for Soviet Union (former) and Serbia and Montenegro (former) for 2021 and onward are assigned to Unknown.. Source: DHS Office of Immigration Statistics."
                },
                {
                  "0": "COUNTRY  Ghana",
                  "1": "8",
                  "2": "5",
                  "3": "7",
                  "4": "10",
                  "5": "12",
                  "6": "5",
                  "7": "10",
                  "8": "9",
                  "9": "5",
                  "10": "5",
                  "11": "Table 17.. INDIVIDUALS GRANTED ASYLUM AFFIRMATIVELY BY REGION AND COUNTRY OF NATIONALITY: FISCAL YEARS 2012 TO 2021",
                  "12": "X Not applicable.. D Data withheld to limit disclosure.. - Represents zero.. 1 Includes countries with fewer than 10 individuals granted asylum affirmatively per year.. 2 Includes admissions from Palestinian Territories. Figures for Soviet Union (former) and Serbia and Montenegro (former) for 2021 and onward are assigned to Unknown.. Source: DHS Office of Immigration Statistics."
                },
                {
                  "0": "COUNTRY  Guatemala",
                  "1": "291",
                  "2": "215",
                  "3": "320",
                  "4": "1690",
                  "5": "1269",
                  "6": "1995",
                  "7": "1300",
                  "8": "1034",
                  "9": "416",
                  "10": "456",
                  "11": "Table 17.. INDIVIDUALS GRANTED ASYLUM AFFIRMATIVELY BY REGION AND COUNTRY OF NATIONALITY: FISCAL YEARS 2012 TO 2021",
                  "12": "X Not applicable.. D Data withheld to limit disclosure.. - Represents zero.. 1 Includes countries with fewer than 10 individuals granted asylum affirmatively per year.. 2 Includes admissions from Palestinian Territories. Figures for Soviet Union (former) and Serbia and Montenegro (former) for 2021 and onward are assigned to Unknown.. Source: DHS Office of Immigration Statistics."
                },
                {
                  "0": "COUNTRY  Guinea",
                  "1": "43",
                  "2": "24",
                  "3": "21",
                  "4": "67",
                  "5": "29",
                  "6": "63",
                  "7": "78",
                  "8": "52",
                  "9": "51",
                  "10": "38",
                  "11": "Table 17.. INDIVIDUALS GRANTED ASYLUM AFFIRMATIVELY BY REGION AND COUNTRY OF NATIONALITY: FISCAL YEARS 2012 TO 2021",
                  "12": "X Not applicable.. D Data withheld to limit disclosure.. - Represents zero.. 1 Includes countries with fewer than 10 individuals granted asylum affirmatively per year.. 2 Includes admissions from Palestinian Territories. Figures for Soviet Union (former) and Serbia and Montenegro (former) for 2021 and onward are assigned to Unknown.. Source: DHS Office of Immigration Statistics."
                },
                {
                  "0": "COUNTRY  Guyana",
                  "1": "6",
                  "2": "3",
                  "3": "10",
                  "4": "3",
                  "5": "-",
                  "6": "4",
                  "7": "16",
                  "8": "24",
                  "9": "4",
                  "10": "7",
                  "11": "Table 17.. INDIVIDUALS GRANTED ASYLUM AFFIRMATIVELY BY REGION AND COUNTRY OF NATIONALITY: FISCAL YEARS 2012 TO 2021",
                  "12": "X Not applicable.. D Data withheld to limit disclosure.. - Represents zero.. 1 Includes countries with fewer than 10 individuals granted asylum affirmatively per year.. 2 Includes admissions from Palestinian Territories. Figures for Soviet Union (former) and Serbia and Montenegro (former) for 2021 and onward are assigned to Unknown.. Source: DHS Office of Immigration Statistics."
                },
                {
                  "0": "COUNTRY  Haiti",
                  "1": "621",
                  "2": "433",
                  "3": "469",
                  "4": "357",
                  "5": "105",
                  "6": "62",
                  "7": "174",
                  "8": "183",
                  "9": "151",
                  "10": "104",
                  "11": "Table 17.. INDIVIDUALS GRANTED ASYLUM AFFIRMATIVELY BY REGION AND COUNTRY OF NATIONALITY: FISCAL YEARS 2012 TO 2021",
                  "12": "X Not applicable.. D Data withheld to limit disclosure.. - Represents zero.. 1 Includes countries with fewer than 10 individuals granted asylum affirmatively per year.. 2 Includes admissions from Palestinian Territories. Figures for Soviet Union (former) and Serbia and Montenegro (former) for 2021 and onward are assigned to Unknown.. Source: DHS Office of Immigration Statistics."
                },
                {
                  "0": "COUNTRY  Honduras",
                  "1": "132",
                  "2": "103",
                  "3": "87",
                  "4": "1101",
                  "5": "856",
                  "6": "1078",
                  "7": "811",
                  "8": "514",
                  "9": "248",
                  "10": "419",
                  "11": "Table 17.. INDIVIDUALS GRANTED ASYLUM AFFIRMATIVELY BY REGION AND COUNTRY OF NATIONALITY: FISCAL YEARS 2012 TO 2021",
                  "12": "X Not applicable.. D Data withheld to limit disclosure.. - Represents zero.. 1 Includes countries with fewer than 10 individuals granted asylum affirmatively per year.. 2 Includes admissions from Palestinian Territories. Figures for Soviet Union (former) and Serbia and Montenegro (former) for 2021 and onward are assigned to Unknown.. Source: DHS Office of Immigration Statistics."
                },
                {
                  "0": "COUNTRY  India",
                  "1": "90",
                  "2": "92",
                  "3": "113",
                  "4": "171",
                  "5": "163",
                  "6": "215",
                  "7": "354",
                  "8": "332",
                  "9": "158",
                  "10": "86",
                  "11": "Table 17.. INDIVIDUALS GRANTED ASYLUM AFFIRMATIVELY BY REGION AND COUNTRY OF NATIONALITY: FISCAL YEARS 2012 TO 2021",
                  "12": "X Not applicable.. D Data withheld to limit disclosure.. - Represents zero.. 1 Includes countries with fewer than 10 individuals granted asylum affirmatively per year.. 2 Includes admissions from Palestinian Territories. Figures for Soviet Union (former) and Serbia and Montenegro (former) for 2021 and onward are assigned to Unknown.. Source: DHS Office of Immigration Statistics."
                },
                {
                  "0": "COUNTRY  Indonesia",
                  "1": "87",
                  "2": "40",
                  "3": "24",
                  "4": "14",
                  "5": "18",
                  "6": "35",
                  "7": "55",
                  "8": "84",
                  "9": "37",
                  "10": "10",
                  "11": "Table 17.. INDIVIDUALS GRANTED ASYLUM AFFIRMATIVELY BY REGION AND COUNTRY OF NATIONALITY: FISCAL YEARS 2012 TO 2021",
                  "12": "X Not applicable.. D Data withheld to limit disclosure.. - Represents zero.. 1 Includes countries with fewer than 10 individuals granted asylum affirmatively per year.. 2 Includes admissions from Palestinian Territories. Figures for Soviet Union (former) and Serbia and Montenegro (former) for 2021 and onward are assigned to Unknown.. Source: DHS Office of Immigration Statistics."
                },
                {
                  "0": "COUNTRY  Iran",
                  "1": "602",
                  "2": "608",
                  "3": "575",
                  "4": "638",
                  "5": "377",
                  "6": "311",
                  "7": "299",
                  "8": "336",
                  "9": "191",
                  "10": "176",
                  "11": "Table 17.. INDIVIDUALS GRANTED ASYLUM AFFIRMATIVELY BY REGION AND COUNTRY OF NATIONALITY: FISCAL YEARS 2012 TO 2021",
                  "12": "X Not applicable.. D Data withheld to limit disclosure.. - Represents zero.. 1 Includes countries with fewer than 10 individuals granted asylum affirmatively per year.. 2 Includes admissions from Palestinian Territories. Figures for Soviet Union (former) and Serbia and Montenegro (former) for 2021 and onward are assigned to Unknown.. Source: DHS Office of Immigration Statistics."
                },
                {
                  "0": "COUNTRY  Iraq",
                  "1": "299",
                  "2": "401",
                  "3": "531",
                  "4": "695",
                  "5": "584",
                  "6": "453",
                  "7": "378",
                  "8": "352",
                  "9": "174",
                  "10": "143",
                  "11": "Table 17.. INDIVIDUALS GRANTED ASYLUM AFFIRMATIVELY BY REGION AND COUNTRY OF NATIONALITY: FISCAL YEARS 2012 TO 2021",
                  "12": "X Not applicable.. D Data withheld to limit disclosure.. - Represents zero.. 1 Includes countries with fewer than 10 individuals granted asylum affirmatively per year.. 2 Includes admissions from Palestinian Territories. Figures for Soviet Union (former) and Serbia and Montenegro (former) for 2021 and onward are assigned to Unknown.. Source: DHS Office of Immigration Statistics."
                },
                {
                  "0": "COUNTRY  Israel",
                  "1": "5",
                  "2": "4",
                  "3": "4",
                  "4": "D",
                  "5": "10",
                  "6": "20",
                  "7": "22",
                  "8": "5",
                  "9": "D",
                  "10": "3",
                  "11": "Table 17.. INDIVIDUALS GRANTED ASYLUM AFFIRMATIVELY BY REGION AND COUNTRY OF NATIONALITY: FISCAL YEARS 2012 TO 2021",
                  "12": "X Not applicable.. D Data withheld to limit disclosure.. - Represents zero.. 1 Includes countries with fewer than 10 individuals granted asylum affirmatively per year.. 2 Includes admissions from Palestinian Territories. Figures for Soviet Union (former) and Serbia and Montenegro (former) for 2021 and onward are assigned to Unknown.. Source: DHS Office of Immigration Statistics."
                },
                {
                  "0": "COUNTRY  Jamaica",
                  "1": "48",
                  "2": "36",
                  "3": "33",
                  "4": "41",
                  "5": "25",
                  "6": "38",
                  "7": "94",
                  "8": "88",
                  "9": "39",
                  "10": "30",
                  "11": "Table 17.. INDIVIDUALS GRANTED ASYLUM AFFIRMATIVELY BY REGION AND COUNTRY OF NATIONALITY: FISCAL YEARS 2012 TO 2021",
                  "12": "X Not applicable.. D Data withheld to limit disclosure.. - Represents zero.. 1 Includes countries with fewer than 10 individuals granted asylum affirmatively per year.. 2 Includes admissions from Palestinian Territories. Figures for Soviet Union (former) and Serbia and Montenegro (former) for 2021 and onward are assigned to Unknown.. Source: DHS Office of Immigration Statistics."
                },
                {
                  "0": "COUNTRY  Jordan",
                  "1": "48",
                  "2": "20",
                  "3": "46",
                  "4": "46",
                  "5": "37",
                  "6": "52",
                  "7": "113",
                  "8": "115",
                  "9": "70",
                  "10": "60",
                  "11": "Table 17.. INDIVIDUALS GRANTED ASYLUM AFFIRMATIVELY BY REGION AND COUNTRY OF NATIONALITY: FISCAL YEARS 2012 TO 2021",
                  "12": "X Not applicable.. D Data withheld to limit disclosure.. - Represents zero.. 1 Includes countries with fewer than 10 individuals granted asylum affirmatively per year.. 2 Includes admissions from Palestinian Territories. Figures for Soviet Union (former) and Serbia and Montenegro (former) for 2021 and onward are assigned to Unknown.. Source: DHS Office of Immigration Statistics."
                },
                {
                  "0": "COUNTRY  Kazakhstan",
                  "1": "88",
                  "2": "66",
                  "3": "60",
                  "4": "71",
                  "5": "45",
                  "6": "46",
                  "7": "119",
                  "8": "235",
                  "9": "150",
                  "10": "54",
                  "11": "Table 17.. INDIVIDUALS GRANTED ASYLUM AFFIRMATIVELY BY REGION AND COUNTRY OF NATIONALITY: FISCAL YEARS 2012 TO 2021",
                  "12": "X Not applicable.. D Data withheld to limit disclosure.. - Represents zero.. 1 Includes countries with fewer than 10 individuals granted asylum affirmatively per year.. 2 Includes admissions from Palestinian Territories. Figures for Soviet Union (former) and Serbia and Montenegro (former) for 2021 and onward are assigned to Unknown.. Source: DHS Office of Immigration Statistics."
                },
                {
                  "0": "COUNTRY  Kenya",
                  "1": "122",
                  "2": "90",
                  "3": "64",
                  "4": "54",
                  "5": "28",
                  "6": "77",
                  "7": "97",
                  "8": "123",
                  "9": "63",
                  "10": "30",
                  "11": "Table 17.. INDIVIDUALS GRANTED ASYLUM AFFIRMATIVELY BY REGION AND COUNTRY OF NATIONALITY: FISCAL YEARS 2012 TO 2021",
                  "12": "X Not applicable.. D Data withheld to limit disclosure.. - Represents zero.. 1 Includes countries with fewer than 10 individuals granted asylum affirmatively per year.. 2 Includes admissions from Palestinian Territories. Figures for Soviet Union (former) and Serbia and Montenegro (former) for 2021 and onward are assigned to Unknown.. Source: DHS Office of Immigration Statistics."
                },
                {
                  "0": "COUNTRY  Kosovo",
                  "1": "28",
                  "2": "18",
                  "3": "32",
                  "4": "52",
                  "5": "16",
                  "6": "33",
                  "7": "21",
                  "8": "26",
                  "9": "7",
                  "10": "7",
                  "11": "Table 17.. INDIVIDUALS GRANTED ASYLUM AFFIRMATIVELY BY REGION AND COUNTRY OF NATIONALITY: FISCAL YEARS 2012 TO 2021",
                  "12": "X Not applicable.. D Data withheld to limit disclosure.. - Represents zero.. 1 Includes countries with fewer than 10 individuals granted asylum affirmatively per year.. 2 Includes admissions from Palestinian Territories. Figures for Soviet Union (former) and Serbia and Montenegro (former) for 2021 and onward are assigned to Unknown.. Source: DHS Office of Immigration Statistics."
                },
                {
                  "0": "COUNTRY  Kuwait",
                  "1": "6",
                  "2": "8",
                  "3": "6",
                  "4": "14",
                  "5": "7",
                  "6": "11",
                  "7": "15",
                  "8": "8",
                  "9": "5",
                  "10": "D",
                  "11": "Table 17.. INDIVIDUALS GRANTED ASYLUM AFFIRMATIVELY BY REGION AND COUNTRY OF NATIONALITY: FISCAL YEARS 2012 TO 2021",
                  "12": "X Not applicable.. D Data withheld to limit disclosure.. - Represents zero.. 1 Includes countries with fewer than 10 individuals granted asylum affirmatively per year.. 2 Includes admissions from Palestinian Territories. Figures for Soviet Union (former) and Serbia and Montenegro (former) for 2021 and onward are assigned to Unknown.. Source: DHS Office of Immigration Statistics."
                },
                {
                  "0": "COUNTRY  Kyrgyzstan",
                  "1": "127",
                  "2": "77",
                  "3": "96",
                  "4": "98",
                  "5": "67",
                  "6": "93",
                  "7": "87",
                  "8": "87",
                  "9": "76",
                  "10": "58",
                  "11": "Table 17.. INDIVIDUALS GRANTED ASYLUM AFFIRMATIVELY BY REGION AND COUNTRY OF NATIONALITY: FISCAL YEARS 2012 TO 2021",
                  "12": "X Not applicable.. D Data withheld to limit disclosure.. - Represents zero.. 1 Includes countries with fewer than 10 individuals granted asylum affirmatively per year.. 2 Includes admissions from Palestinian Territories. Figures for Soviet Union (former) and Serbia and Montenegro (former) for 2021 and onward are assigned to Unknown.. Source: DHS Office of Immigration Statistics."
                },
                {
                  "0": "COUNTRY  Laos",
                  "1": "D",
                  "2": "D",
                  "3": "3",
                  "4": "3",
                  "5": "3",
                  "6": "3",
                  "7": "10",
                  "8": "D",
                  "9": "10",
                  "10": "-",
                  "11": "Table 17.. INDIVIDUALS GRANTED ASYLUM AFFIRMATIVELY BY REGION AND COUNTRY OF NATIONALITY: FISCAL YEARS 2012 TO 2021",
                  "12": "X Not applicable.. D Data withheld to limit disclosure.. - Represents zero.. 1 Includes countries with fewer than 10 individuals granted asylum affirmatively per year.. 2 Includes admissions from Palestinian Territories. Figures for Soviet Union (former) and Serbia and Montenegro (former) for 2021 and onward are assigned to Unknown.. Source: DHS Office of Immigration Statistics."
                },
                {
                  "0": "COUNTRY  Lebanon",
                  "1": "20",
                  "2": "10",
                  "3": "21",
                  "4": "23",
                  "5": "29",
                  "6": "29",
                  "7": "39",
                  "8": "29",
                  "9": "37",
                  "10": "29",
                  "11": "Table 17.. INDIVIDUALS GRANTED ASYLUM AFFIRMATIVELY BY REGION AND COUNTRY OF NATIONALITY: FISCAL YEARS 2012 TO 2021",
                  "12": "X Not applicable.. D Data withheld to limit disclosure.. - Represents zero.. 1 Includes countries with fewer than 10 individuals granted asylum affirmatively per year.. 2 Includes admissions from Palestinian Territories. Figures for Soviet Union (former) and Serbia and Montenegro (former) for 2021 and onward are assigned to Unknown.. Source: DHS Office of Immigration Statistics."
                },
                {
                  "0": "COUNTRY  Liberia",
                  "1": "10",
                  "2": "30",
                  "3": "14",
                  "4": "48",
                  "5": "35",
                  "6": "59",
                  "7": "104",
                  "8": "101",
                  "9": "47",
                  "10": "33",
                  "11": "Table 17.. INDIVIDUALS GRANTED ASYLUM AFFIRMATIVELY BY REGION AND COUNTRY OF NATIONALITY: FISCAL YEARS 2012 TO 2021",
                  "12": "X Not applicable.. D Data withheld to limit disclosure.. - Represents zero.. 1 Includes countries with fewer than 10 individuals granted asylum affirmatively per year.. 2 Includes admissions from Palestinian Territories. Figures for Soviet Union (former) and Serbia and Montenegro (former) for 2021 and onward are assigned to Unknown.. Source: DHS Office of Immigration Statistics."
                },
                {
                  "0": "COUNTRY  Libya",
                  "1": "43",
                  "2": "30",
                  "3": "19",
                  "4": "47",
                  "5": "35",
                  "6": "21",
                  "7": "94",
                  "8": "57",
                  "9": "47",
                  "10": "26",
                  "11": "Table 17.. INDIVIDUALS GRANTED ASYLUM AFFIRMATIVELY BY REGION AND COUNTRY OF NATIONALITY: FISCAL YEARS 2012 TO 2021",
                  "12": "X Not applicable.. D Data withheld to limit disclosure.. - Represents zero.. 1 Includes countries with fewer than 10 individuals granted asylum affirmatively per year.. 2 Includes admissions from Palestinian Territories. Figures for Soviet Union (former) and Serbia and Montenegro (former) for 2021 and onward are assigned to Unknown.. Source: DHS Office of Immigration Statistics."
                },
                {
                  "0": "COUNTRY  Malaysia",
                  "1": "7",
                  "2": "8",
                  "3": "8",
                  "4": "3",
                  "5": "3",
                  "6": "D",
                  "7": "10",
                  "8": "8",
                  "9": "6",
                  "10": "3",
                  "11": "Table 17.. INDIVIDUALS GRANTED ASYLUM AFFIRMATIVELY BY REGION AND COUNTRY OF NATIONALITY: FISCAL YEARS 2012 TO 2021",
                  "12": "X Not applicable.. D Data withheld to limit disclosure.. - Represents zero.. 1 Includes countries with fewer than 10 individuals granted asylum affirmatively per year.. 2 Includes admissions from Palestinian Territories. Figures for Soviet Union (former) and Serbia and Montenegro (former) for 2021 and onward are assigned to Unknown.. Source: DHS Office of Immigration Statistics."
                },
                {
                  "0": "COUNTRY  Mali",
                  "1": "58",
                  "2": "61",
                  "3": "39",
                  "4": "68",
                  "5": "40",
                  "6": "21",
                  "7": "42",
                  "8": "18",
                  "9": "13",
                  "10": "19",
                  "11": "Table 17.. INDIVIDUALS GRANTED ASYLUM AFFIRMATIVELY BY REGION AND COUNTRY OF NATIONALITY: FISCAL YEARS 2012 TO 2021",
                  "12": "X Not applicable.. D Data withheld to limit disclosure.. - Represents zero.. 1 Includes countries with fewer than 10 individuals granted asylum affirmatively per year.. 2 Includes admissions from Palestinian Territories. Figures for Soviet Union (former) and Serbia and Montenegro (former) for 2021 and onward are assigned to Unknown.. Source: DHS Office of Immigration Statistics."
                },
                {
                  "0": "COUNTRY  Mauritania",
                  "1": "25",
                  "2": "24",
                  "3": "36",
                  "4": "48",
                  "5": "37",
                  "6": "33",
                  "7": "86",
                  "8": "73",
                  "9": "67",
                  "10": "27",
                  "11": "Table 17.. INDIVIDUALS GRANTED ASYLUM AFFIRMATIVELY BY REGION AND COUNTRY OF NATIONALITY: FISCAL YEARS 2012 TO 2021",
                  "12": "X Not applicable.. D Data withheld to limit disclosure.. - Represents zero.. 1 Includes countries with fewer than 10 individuals granted asylum affirmatively per year.. 2 Includes admissions from Palestinian Territories. Figures for Soviet Union (former) and Serbia and Montenegro (former) for 2021 and onward are assigned to Unknown.. Source: DHS Office of Immigration Statistics."
                },
                {
                  "0": "COUNTRY  Mexico",
                  "1": "280",
                  "2": "196",
                  "3": "464",
                  "4": "651",
                  "5": "442",
                  "6": "479",
                  "7": "724",
                  "8": "789",
                  "9": "491",
                  "10": "303",
                  "11": "Table 17.. INDIVIDUALS GRANTED ASYLUM AFFIRMATIVELY BY REGION AND COUNTRY OF NATIONALITY: FISCAL YEARS 2012 TO 2021",
                  "12": "X Not applicable.. D Data withheld to limit disclosure.. - Represents zero.. 1 Includes countries with fewer than 10 individuals granted asylum affirmatively per year.. 2 Includes admissions from Palestinian Territories. Figures for Soviet Union (former) and Serbia and Montenegro (former) for 2021 and onward are assigned to Unknown.. Source: DHS Office of Immigration Statistics."
                },
                {
                  "0": "COUNTRY  Moldova",
                  "1": "170",
                  "2": "96",
                  "3": "54",
                  "4": "69",
                  "5": "67",
                  "6": "51",
                  "7": "105",
                  "8": "75",
                  "9": "34",
                  "10": "21",
                  "11": "Table 17.. INDIVIDUALS GRANTED ASYLUM AFFIRMATIVELY BY REGION AND COUNTRY OF NATIONALITY: FISCAL YEARS 2012 TO 2021",
                  "12": "X Not applicable.. D Data withheld to limit disclosure.. - Represents zero.. 1 Includes countries with fewer than 10 individuals granted asylum affirmatively per year.. 2 Includes admissions from Palestinian Territories. Figures for Soviet Union (former) and Serbia and Montenegro (former) for 2021 and onward are assigned to Unknown.. Source: DHS Office of Immigration Statistics."
                },
                {
                  "0": "COUNTRY  Mongolia",
                  "1": "74",
                  "2": "38",
                  "3": "27",
                  "4": "40",
                  "5": "28",
                  "6": "33",
                  "7": "55",
                  "8": "74",
                  "9": "51",
                  "10": "19",
                  "11": "Table 17.. INDIVIDUALS GRANTED ASYLUM AFFIRMATIVELY BY REGION AND COUNTRY OF NATIONALITY: FISCAL YEARS 2012 TO 2021",
                  "12": "X Not applicable.. D Data withheld to limit disclosure.. - Represents zero.. 1 Includes countries with fewer than 10 individuals granted asylum affirmatively per year.. 2 Includes admissions from Palestinian Territories. Figures for Soviet Union (former) and Serbia and Montenegro (former) for 2021 and onward are assigned to Unknown.. Source: DHS Office of Immigration Statistics."
                },
                {
                  "0": "COUNTRY  Montenegro",
                  "1": "D",
                  "2": "3",
                  "3": "3",
                  "4": "4",
                  "5": "D",
                  "6": "D",
                  "7": "6",
                  "8": "16",
                  "9": "7",
                  "10": "D",
                  "11": "Table 17.. INDIVIDUALS GRANTED ASYLUM AFFIRMATIVELY BY REGION AND COUNTRY OF NATIONALITY: FISCAL YEARS 2012 TO 2021",
                  "12": "X Not applicable.. D Data withheld to limit disclosure.. - Represents zero.. 1 Includes countries with fewer than 10 individuals granted asylum affirmatively per year.. 2 Includes admissions from Palestinian Territories. Figures for Soviet Union (former) and Serbia and Montenegro (former) for 2021 and onward are assigned to Unknown.. Source: DHS Office of Immigration Statistics."
                },
                {
                  "0": "COUNTRY  Morocco",
                  "1": "9",
                  "2": "4",
                  "3": "4",
                  "4": "9",
                  "5": "6",
                  "6": "5",
                  "7": "7",
                  "8": "18",
                  "9": "3",
                  "10": "9",
                  "11": "Table 17.. INDIVIDUALS GRANTED ASYLUM AFFIRMATIVELY BY REGION AND COUNTRY OF NATIONALITY: FISCAL YEARS 2012 TO 2021",
                  "12": "X Not applicable.. D Data withheld to limit disclosure.. - Represents zero.. 1 Includes countries with fewer than 10 individuals granted asylum affirmatively per year.. 2 Includes admissions from Palestinian Territories. Figures for Soviet Union (former) and Serbia and Montenegro (former) for 2021 and onward are assigned to Unknown.. Source: DHS Office of Immigration Statistics."
                },
                {
                  "0": "COUNTRY  Nepal",
                  "1": "563",
                  "2": "468",
                  "3": "257",
                  "4": "354",
                  "5": "237",
                  "6": "149",
                  "7": "97",
                  "8": "35",
                  "9": "16",
                  "10": "19",
                  "11": "Table 17.. INDIVIDUALS GRANTED ASYLUM AFFIRMATIVELY BY REGION AND COUNTRY OF NATIONALITY: FISCAL YEARS 2012 TO 2021",
                  "12": "X Not applicable.. D Data withheld to limit disclosure.. - Represents zero.. 1 Includes countries with fewer than 10 individuals granted asylum affirmatively per year.. 2 Includes admissions from Palestinian Territories. Figures for Soviet Union (former) and Serbia and Montenegro (former) for 2021 and onward are assigned to Unknown.. Source: DHS Office of Immigration Statistics."
                },
                {
                  "0": "COUNTRY  Nicaragua",
                  "1": "19",
                  "2": "5",
                  "3": "9",
                  "4": "33",
                  "5": "20",
                  "6": "31",
                  "7": "32",
                  "8": "312",
                  "9": "182",
                  "10": "103",
                  "11": "Table 17.. INDIVIDUALS GRANTED ASYLUM AFFIRMATIVELY BY REGION AND COUNTRY OF NATIONALITY: FISCAL YEARS 2012 TO 2021",
                  "12": "X Not applicable.. D Data withheld to limit disclosure.. - Represents zero.. 1 Includes countries with fewer than 10 individuals granted asylum affirmatively per year.. 2 Includes admissions from Palestinian Territories. Figures for Soviet Union (former) and Serbia and Montenegro (former) for 2021 and onward are assigned to Unknown.. Source: DHS Office of Immigration Statistics."
                },
                {
                  "0": "COUNTRY  Niger",
                  "1": "3",
                  "2": "5",
                  "3": "4",
                  "4": "4",
                  "5": "10",
                  "6": "11",
                  "7": "27",
                  "8": "5",
                  "9": "9",
                  "10": "3",
                  "11": "Table 17.. INDIVIDUALS GRANTED ASYLUM AFFIRMATIVELY BY REGION AND COUNTRY OF NATIONALITY: FISCAL YEARS 2012 TO 2021",
                  "12": "X Not applicable.. D Data withheld to limit disclosure.. - Represents zero.. 1 Includes countries with fewer than 10 individuals granted asylum affirmatively per year.. 2 Includes admissions from Palestinian Territories. Figures for Soviet Union (former) and Serbia and Montenegro (former) for 2021 and onward are assigned to Unknown.. Source: DHS Office of Immigration Statistics."
                },
                {
                  "0": "COUNTRY  Nigeria",
                  "1": "62",
                  "2": "61",
                  "3": "51",
                  "4": "100",
                  "5": "69",
                  "6": "123",
                  "7": "452",
                  "8": "749",
                  "9": "400",
                  "10": "306",
                  "11": "Table 17.. INDIVIDUALS GRANTED ASYLUM AFFIRMATIVELY BY REGION AND COUNTRY OF NATIONALITY: FISCAL YEARS 2012 TO 2021",
                  "12": "X Not applicable.. D Data withheld to limit disclosure.. - Represents zero.. 1 Includes countries with fewer than 10 individuals granted asylum affirmatively per year.. 2 Includes admissions from Palestinian Territories. Figures for Soviet Union (former) and Serbia and Montenegro (former) for 2021 and onward are assigned to Unknown.. Source: DHS Office of Immigration Statistics."
                },
                {
                  "0": "COUNTRY  North Macedonia",
                  "1": "-",
                  "2": "11",
                  "3": "11",
                  "4": "4",
                  "5": "D",
                  "6": "4",
                  "7": "14",
                  "8": "19",
                  "9": "D",
                  "10": "-",
                  "11": "Table 17.. INDIVIDUALS GRANTED ASYLUM AFFIRMATIVELY BY REGION AND COUNTRY OF NATIONALITY: FISCAL YEARS 2012 TO 2021",
                  "12": "X Not applicable.. D Data withheld to limit disclosure.. - Represents zero.. 1 Includes countries with fewer than 10 individuals granted asylum affirmatively per year.. 2 Includes admissions from Palestinian Territories. Figures for Soviet Union (former) and Serbia and Montenegro (former) for 2021 and onward are assigned to Unknown.. Source: DHS Office of Immigration Statistics."
                },
                {
                  "0": "COUNTRY  Pakistan",
                  "1": "227",
                  "2": "257",
                  "3": "271",
                  "4": "263",
                  "5": "262",
                  "6": "245",
                  "7": "459",
                  "8": "382",
                  "9": "230",
                  "10": "167",
                  "11": "Table 17.. INDIVIDUALS GRANTED ASYLUM AFFIRMATIVELY BY REGION AND COUNTRY OF NATIONALITY: FISCAL YEARS 2012 TO 2021",
                  "12": "X Not applicable.. D Data withheld to limit disclosure.. - Represents zero.. 1 Includes countries with fewer than 10 individuals granted asylum affirmatively per year.. 2 Includes admissions from Palestinian Territories. Figures for Soviet Union (former) and Serbia and Montenegro (former) for 2021 and onward are assigned to Unknown.. Source: DHS Office of Immigration Statistics."
                },
                {
                  "0": "COUNTRY  Peru",
                  "1": "26",
                  "2": "12",
                  "3": "11",
                  "4": "17",
                  "5": "9",
                  "6": "26",
                  "7": "26",
                  "8": "29",
                  "9": "9",
                  "10": "14",
                  "11": "Table 17.. INDIVIDUALS GRANTED ASYLUM AFFIRMATIVELY BY REGION AND COUNTRY OF NATIONALITY: FISCAL YEARS 2012 TO 2021",
                  "12": "X Not applicable.. D Data withheld to limit disclosure.. - Represents zero.. 1 Includes countries with fewer than 10 individuals granted asylum affirmatively per year.. 2 Includes admissions from Palestinian Territories. Figures for Soviet Union (former) and Serbia and Montenegro (former) for 2021 and onward are assigned to Unknown.. Source: DHS Office of Immigration Statistics."
                },
                {
                  "0": "COUNTRY  Philippines",
                  "1": "14",
                  "2": "9",
                  "3": "4",
                  "4": "3",
                  "5": "9",
                  "6": "8",
                  "7": "27",
                  "8": "17",
                  "9": "D",
                  "10": "5",
                  "11": "Table 17.. INDIVIDUALS GRANTED ASYLUM AFFIRMATIVELY BY REGION AND COUNTRY OF NATIONALITY: FISCAL YEARS 2012 TO 2021",
                  "12": "X Not applicable.. D Data withheld to limit disclosure.. - Represents zero.. 1 Includes countries with fewer than 10 individuals granted asylum affirmatively per year.. 2 Includes admissions from Palestinian Territories. Figures for Soviet Union (former) and Serbia and Montenegro (former) for 2021 and onward are assigned to Unknown.. Source: DHS Office of Immigration Statistics."
                },
                {
                  "0": "COUNTRY  Romania",
                  "1": "8",
                  "2": "4",
                  "3": "10",
                  "4": "D",
                  "5": "6",
                  "6": "13",
                  "7": "18",
                  "8": "17",
                  "9": "17",
                  "10": "3",
                  "11": "Table 17.. INDIVIDUALS GRANTED ASYLUM AFFIRMATIVELY BY REGION AND COUNTRY OF NATIONALITY: FISCAL YEARS 2012 TO 2021",
                  "12": "X Not applicable.. D Data withheld to limit disclosure.. - Represents zero.. 1 Includes countries with fewer than 10 individuals granted asylum affirmatively per year.. 2 Includes admissions from Palestinian Territories. Figures for Soviet Union (former) and Serbia and Montenegro (former) for 2021 and onward are assigned to Unknown.. Source: DHS Office of Immigration Statistics."
                },
                {
                  "0": "COUNTRY  Russia",
                  "1": "534",
                  "2": "342",
                  "3": "217",
                  "4": "303",
                  "5": "199",
                  "6": "276",
                  "7": "735",
                  "8": "1095",
                  "9": "727",
                  "10": "418",
                  "11": "Table 17.. INDIVIDUALS GRANTED ASYLUM AFFIRMATIVELY BY REGION AND COUNTRY OF NATIONALITY: FISCAL YEARS 2012 TO 2021",
                  "12": "X Not applicable.. D Data withheld to limit disclosure.. - Represents zero.. 1 Includes countries with fewer than 10 individuals granted asylum affirmatively per year.. 2 Includes admissions from Palestinian Territories. Figures for Soviet Union (former) and Serbia and Montenegro (former) for 2021 and onward are assigned to Unknown.. Source: DHS Office of Immigration Statistics."
                },
                {
                  "0": "COUNTRY  Rwanda",
                  "1": "81",
                  "2": "56",
                  "3": "52",
                  "4": "68",
                  "5": "52",
                  "6": "70",
                  "7": "82",
                  "8": "123",
                  "9": "86",
                  "10": "51",
                  "11": "Table 17.. INDIVIDUALS GRANTED ASYLUM AFFIRMATIVELY BY REGION AND COUNTRY OF NATIONALITY: FISCAL YEARS 2012 TO 2021",
                  "12": "X Not applicable.. D Data withheld to limit disclosure.. - Represents zero.. 1 Includes countries with fewer than 10 individuals granted asylum affirmatively per year.. 2 Includes admissions from Palestinian Territories. Figures for Soviet Union (former) and Serbia and Montenegro (former) for 2021 and onward are assigned to Unknown.. Source: DHS Office of Immigration Statistics."
                },
                {
                  "0": "COUNTRY  Saudi Arabia",
                  "1": "17",
                  "2": "38",
                  "3": "33",
                  "4": "39",
                  "5": "45",
                  "6": "61",
                  "7": "108",
                  "8": "85",
                  "9": "53",
                  "10": "33",
                  "11": "Table 17.. INDIVIDUALS GRANTED ASYLUM AFFIRMATIVELY BY REGION AND COUNTRY OF NATIONALITY: FISCAL YEARS 2012 TO 2021",
                  "12": "X Not applicable.. D Data withheld to limit disclosure.. - Represents zero.. 1 Includes countries with fewer than 10 individuals granted asylum affirmatively per year.. 2 Includes admissions from Palestinian Territories. Figures for Soviet Union (former) and Serbia and Montenegro (former) for 2021 and onward are assigned to Unknown.. Source: DHS Office of Immigration Statistics."
                },
                {
                  "0": "COUNTRY  Senegal",
                  "1": "16",
                  "2": "7",
                  "3": "12",
                  "4": "12",
                  "5": "10",
                  "6": "20",
                  "7": "28",
                  "8": "15",
                  "9": "20",
                  "10": "10",
                  "11": "Table 17.. INDIVIDUALS GRANTED ASYLUM AFFIRMATIVELY BY REGION AND COUNTRY OF NATIONALITY: FISCAL YEARS 2012 TO 2021",
                  "12": "X Not applicable.. D Data withheld to limit disclosure.. - Represents zero.. 1 Includes countries with fewer than 10 individuals granted asylum affirmatively per year.. 2 Includes admissions from Palestinian Territories. Figures for Soviet Union (former) and Serbia and Montenegro (former) for 2021 and onward are assigned to Unknown.. Source: DHS Office of Immigration Statistics."
                },
                {
                  "0": "COUNTRY  Serbia",
                  "1": "-",
                  "2": "-",
                  "3": "-",
                  "4": "-",
                  "5": "-",
                  "6": "-",
                  "7": "-",
                  "8": "25",
                  "9": "6",
                  "10": "6",
                  "11": "Table 17.. INDIVIDUALS GRANTED ASYLUM AFFIRMATIVELY BY REGION AND COUNTRY OF NATIONALITY: FISCAL YEARS 2012 TO 2021",
                  "12": "X Not applicable.. D Data withheld to limit disclosure.. - Represents zero.. 1 Includes countries with fewer than 10 individuals granted asylum affirmatively per year.. 2 Includes admissions from Palestinian Territories. Figures for Soviet Union (former) and Serbia and Montenegro (former) for 2021 and onward are assigned to Unknown.. Source: DHS Office of Immigration Statistics."
                },
                {
                  "0": "COUNTRY  Serbia and Montenegro (former)",
                  "1": "26",
                  "2": "18",
                  "3": "21",
                  "4": "10",
                  "5": "5",
                  "6": "12",
                  "7": "42",
                  "8": "15",
                  "9": "D",
                  "10": "X",
                  "11": "Table 17.. INDIVIDUALS GRANTED ASYLUM AFFIRMATIVELY BY REGION AND COUNTRY OF NATIONALITY: FISCAL YEARS 2012 TO 2021",
                  "12": "X Not applicable.. D Data withheld to limit disclosure.. - Represents zero.. 1 Includes countries with fewer than 10 individuals granted asylum affirmatively per year.. 2 Includes admissions from Palestinian Territories. Figures for Soviet Union (former) and Serbia and Montenegro (former) for 2021 and onward are assigned to Unknown.. Source: DHS Office of Immigration Statistics."
                },
                {
                  "0": "COUNTRY  Sierra Leone",
                  "1": "13",
                  "2": "6",
                  "3": "14",
                  "4": "18",
                  "5": "14",
                  "6": "17",
                  "7": "38",
                  "8": "20",
                  "9": "22",
                  "10": "15",
                  "11": "Table 17.. INDIVIDUALS GRANTED ASYLUM AFFIRMATIVELY BY REGION AND COUNTRY OF NATIONALITY: FISCAL YEARS 2012 TO 2021",
                  "12": "X Not applicable.. D Data withheld to limit disclosure.. - Represents zero.. 1 Includes countries with fewer than 10 individuals granted asylum affirmatively per year.. 2 Includes admissions from Palestinian Territories. Figures for Soviet Union (former) and Serbia and Montenegro (former) for 2021 and onward are assigned to Unknown.. Source: DHS Office of Immigration Statistics."
                },
                {
                  "0": "COUNTRY  Somalia",
                  "1": "40",
                  "2": "24",
                  "3": "22",
                  "4": "24",
                  "5": "21",
                  "6": "25",
                  "7": "42",
                  "8": "19",
                  "9": "13",
                  "10": "17",
                  "11": "Table 17.. INDIVIDUALS GRANTED ASYLUM AFFIRMATIVELY BY REGION AND COUNTRY OF NATIONALITY: FISCAL YEARS 2012 TO 2021",
                  "12": "X Not applicable.. D Data withheld to limit disclosure.. - Represents zero.. 1 Includes countries with fewer than 10 individuals granted asylum affirmatively per year.. 2 Includes admissions from Palestinian Territories. Figures for Soviet Union (former) and Serbia and Montenegro (former) for 2021 and onward are assigned to Unknown.. Source: DHS Office of Immigration Statistics."
                },
                {
                  "0": "COUNTRY  South Africa",
                  "1": "9",
                  "2": "5",
                  "3": "D",
                  "4": "6",
                  "5": "D",
                  "6": "D",
                  "7": "9",
                  "8": "20",
                  "9": "6",
                  "10": "4",
                  "11": "Table 17.. INDIVIDUALS GRANTED ASYLUM AFFIRMATIVELY BY REGION AND COUNTRY OF NATIONALITY: FISCAL YEARS 2012 TO 2021",
                  "12": "X Not applicable.. D Data withheld to limit disclosure.. - Represents zero.. 1 Includes countries with fewer than 10 individuals granted asylum affirmatively per year.. 2 Includes admissions from Palestinian Territories. Figures for Soviet Union (former) and Serbia and Montenegro (former) for 2021 and onward are assigned to Unknown.. Source: DHS Office of Immigration Statistics."
                },
                {
                  "0": "COUNTRY  South Sudan",
                  "1": "-",
                  "2": "-",
                  "3": "-",
                  "4": "-",
                  "5": "-",
                  "6": "D",
                  "7": "5",
                  "8": "18",
                  "9": "4",
                  "10": "4",
                  "11": "Table 17.. INDIVIDUALS GRANTED ASYLUM AFFIRMATIVELY BY REGION AND COUNTRY OF NATIONALITY: FISCAL YEARS 2012 TO 2021",
                  "12": "X Not applicable.. D Data withheld to limit disclosure.. - Represents zero.. 1 Includes countries with fewer than 10 individuals granted asylum affirmatively per year.. 2 Includes admissions from Palestinian Territories. Figures for Soviet Union (former) and Serbia and Montenegro (former) for 2021 and onward are assigned to Unknown.. Source: DHS Office of Immigration Statistics."
                },
                {
                  "0": "COUNTRY  Soviet Union (former)",
                  "1": "-",
                  "2": "-",
                  "3": "-",
                  "4": "-",
                  "5": "-",
                  "6": "-",
                  "7": "-",
                  "8": "19",
                  "9": "12",
                  "10": "X",
                  "11": "Table 17.. INDIVIDUALS GRANTED ASYLUM AFFIRMATIVELY BY REGION AND COUNTRY OF NATIONALITY: FISCAL YEARS 2012 TO 2021",
                  "12": "X Not applicable.. D Data withheld to limit disclosure.. - Represents zero.. 1 Includes countries with fewer than 10 individuals granted asylum affirmatively per year.. 2 Includes admissions from Palestinian Territories. Figures for Soviet Union (former) and Serbia and Montenegro (former) for 2021 and onward are assigned to Unknown.. Source: DHS Office of Immigration Statistics."
                },
                {
                  "0": "COUNTRY  Sri Lanka",
                  "1": "25",
                  "2": "24",
                  "3": "25",
                  "4": "25",
                  "5": "24",
                  "6": "28",
                  "7": "41",
                  "8": "38",
                  "9": "22",
                  "10": "13",
                  "11": "Table 17.. INDIVIDUALS GRANTED ASYLUM AFFIRMATIVELY BY REGION AND COUNTRY OF NATIONALITY: FISCAL YEARS 2012 TO 2021",
                  "12": "X Not applicable.. D Data withheld to limit disclosure.. - Represents zero.. 1 Includes countries with fewer than 10 individuals granted asylum affirmatively per year.. 2 Includes admissions from Palestinian Territories. Figures for Soviet Union (former) and Serbia and Montenegro (former) for 2021 and onward are assigned to Unknown.. Source: DHS Office of Immigration Statistics."
                },
                {
                  "0": "COUNTRY  Sudan",
                  "1": "114",
                  "2": "82",
                  "3": "54",
                  "4": "100",
                  "5": "53",
                  "6": "68",
                  "7": "94",
                  "8": "113",
                  "9": "89",
                  "10": "76",
                  "11": "Table 17.. INDIVIDUALS GRANTED ASYLUM AFFIRMATIVELY BY REGION AND COUNTRY OF NATIONALITY: FISCAL YEARS 2012 TO 2021",
                  "12": "X Not applicable.. D Data withheld to limit disclosure.. - Represents zero.. 1 Includes countries with fewer than 10 individuals granted asylum affirmatively per year.. 2 Includes admissions from Palestinian Territories. Figures for Soviet Union (former) and Serbia and Montenegro (former) for 2021 and onward are assigned to Unknown.. Source: DHS Office of Immigration Statistics."
                },
                {
                  "0": "COUNTRY  Syria",
                  "1": "326",
                  "2": "741",
                  "3": "848",
                  "4": "862",
                  "5": "644",
                  "6": "608",
                  "7": "510",
                  "8": "480",
                  "9": "257",
                  "10": "233",
                  "11": "Table 17.. INDIVIDUALS GRANTED ASYLUM AFFIRMATIVELY BY REGION AND COUNTRY OF NATIONALITY: FISCAL YEARS 2012 TO 2021",
                  "12": "X Not applicable.. D Data withheld to limit disclosure.. - Represents zero.. 1 Includes countries with fewer than 10 individuals granted asylum affirmatively per year.. 2 Includes admissions from Palestinian Territories. Figures for Soviet Union (former) and Serbia and Montenegro (former) for 2021 and onward are assigned to Unknown.. Source: DHS Office of Immigration Statistics."
                },
                {
                  "0": "COUNTRY  Tajikistan",
                  "1": "24",
                  "2": "23",
                  "3": "20",
                  "4": "18",
                  "5": "18",
                  "6": "7",
                  "7": "21",
                  "8": "14",
                  "9": "12",
                  "10": "D",
                  "11": "Table 17.. INDIVIDUALS GRANTED ASYLUM AFFIRMATIVELY BY REGION AND COUNTRY OF NATIONALITY: FISCAL YEARS 2012 TO 2021",
                  "12": "X Not applicable.. D Data withheld to limit disclosure.. - Represents zero.. 1 Includes countries with fewer than 10 individuals granted asylum affirmatively per year.. 2 Includes admissions from Palestinian Territories. Figures for Soviet Union (former) and Serbia and Montenegro (former) for 2021 and onward are assigned to Unknown.. Source: DHS Office of Immigration Statistics."
                },
                {
                  "0": "COUNTRY  Tanzania",
                  "1": "12",
                  "2": "D",
                  "3": "10",
                  "4": "3",
                  "5": "3",
                  "6": "5",
                  "7": "9",
                  "8": "6",
                  "9": "5",
                  "10": "D",
                  "11": "Table 17.. INDIVIDUALS GRANTED ASYLUM AFFIRMATIVELY BY REGION AND COUNTRY OF NATIONALITY: FISCAL YEARS 2012 TO 2021",
                  "12": "X Not applicable.. D Data withheld to limit disclosure.. - Represents zero.. 1 Includes countries with fewer than 10 individuals granted asylum affirmatively per year.. 2 Includes admissions from Palestinian Territories. Figures for Soviet Union (former) and Serbia and Montenegro (former) for 2021 and onward are assigned to Unknown.. Source: DHS Office of Immigration Statistics."
                },
                {
                  "0": "COUNTRY  Thailand",
                  "1": "5",
                  "2": "D",
                  "3": "-",
                  "4": "-",
                  "5": "D",
                  "6": "4",
                  "7": "6",
                  "8": "14",
                  "9": "D",
                  "10": "6",
                  "11": "Table 17.. INDIVIDUALS GRANTED ASYLUM AFFIRMATIVELY BY REGION AND COUNTRY OF NATIONALITY: FISCAL YEARS 2012 TO 2021",
                  "12": "X Not applicable.. D Data withheld to limit disclosure.. - Represents zero.. 1 Includes countries with fewer than 10 individuals granted asylum affirmatively per year.. 2 Includes admissions from Palestinian Territories. Figures for Soviet Union (former) and Serbia and Montenegro (former) for 2021 and onward are assigned to Unknown.. Source: DHS Office of Immigration Statistics."
                },
                {
                  "0": "COUNTRY  Togo",
                  "1": "20",
                  "2": "22",
                  "3": "20",
                  "4": "14",
                  "5": "23",
                  "6": "22",
                  "7": "40",
                  "8": "40",
                  "9": "26",
                  "10": "27",
                  "11": "Table 17.. INDIVIDUALS GRANTED ASYLUM AFFIRMATIVELY BY REGION AND COUNTRY OF NATIONALITY: FISCAL YEARS 2012 TO 2021",
                  "12": "X Not applicable.. D Data withheld to limit disclosure.. - Represents zero.. 1 Includes countries with fewer than 10 individuals granted asylum affirmatively per year.. 2 Includes admissions from Palestinian Territories. Figures for Soviet Union (former) and Serbia and Montenegro (former) for 2021 and onward are assigned to Unknown.. Source: DHS Office of Immigration Statistics."
                },
                {
                  "0": "COUNTRY  Tunisia",
                  "1": "7",
                  "2": "9",
                  "3": "6",
                  "4": "8",
                  "5": "10",
                  "6": "3",
                  "7": "14",
                  "8": "7",
                  "9": "10",
                  "10": "9",
                  "11": "Table 17.. INDIVIDUALS GRANTED ASYLUM AFFIRMATIVELY BY REGION AND COUNTRY OF NATIONALITY: FISCAL YEARS 2012 TO 2021",
                  "12": "X Not applicable.. D Data withheld to limit disclosure.. - Represents zero.. 1 Includes countries with fewer than 10 individuals granted asylum affirmatively per year.. 2 Includes admissions from Palestinian Territories. Figures for Soviet Union (former) and Serbia and Montenegro (former) for 2021 and onward are assigned to Unknown.. Source: DHS Office of Immigration Statistics."
                },
                {
                  "0": "COUNTRY  Turkey",
                  "1": "29",
                  "2": "25",
                  "3": "5",
                  "4": "17",
                  "5": "11",
                  "6": "15",
                  "7": "473",
                  "8": "1694",
                  "9": "1525",
                  "10": "1030",
                  "11": "Table 17.. INDIVIDUALS GRANTED ASYLUM AFFIRMATIVELY BY REGION AND COUNTRY OF NATIONALITY: FISCAL YEARS 2012 TO 2021",
                  "12": "X Not applicable.. D Data withheld to limit disclosure.. - Represents zero.. 1 Includes countries with fewer than 10 individuals granted asylum affirmatively per year.. 2 Includes admissions from Palestinian Territories. Figures for Soviet Union (former) and Serbia and Montenegro (former) for 2021 and onward are assigned to Unknown.. Source: DHS Office of Immigration Statistics."
                },
                {
                  "0": "COUNTRY  Turkmenistan",
                  "1": "8",
                  "2": "6",
                  "3": "5",
                  "4": "11",
                  "5": "7",
                  "6": "13",
                  "7": "29",
                  "8": "51",
                  "9": "41",
                  "10": "22",
                  "11": "Table 17.. INDIVIDUALS GRANTED ASYLUM AFFIRMATIVELY BY REGION AND COUNTRY OF NATIONALITY: FISCAL YEARS 2012 TO 2021",
                  "12": "X Not applicable.. D Data withheld to limit disclosure.. - Represents zero.. 1 Includes countries with fewer than 10 individuals granted asylum affirmatively per year.. 2 Includes admissions from Palestinian Territories. Figures for Soviet Union (former) and Serbia and Montenegro (former) for 2021 and onward are assigned to Unknown.. Source: DHS Office of Immigration Statistics."
                },
                {
                  "0": "COUNTRY  Uganda",
                  "1": "84",
                  "2": "47",
                  "3": "55",
                  "4": "77",
                  "5": "62",
                  "6": "66",
                  "7": "171",
                  "8": "164",
                  "9": "137",
                  "10": "94",
                  "11": "Table 17.. INDIVIDUALS GRANTED ASYLUM AFFIRMATIVELY BY REGION AND COUNTRY OF NATIONALITY: FISCAL YEARS 2012 TO 2021",
                  "12": "X Not applicable.. D Data withheld to limit disclosure.. - Represents zero.. 1 Includes countries with fewer than 10 individuals granted asylum affirmatively per year.. 2 Includes admissions from Palestinian Territories. Figures for Soviet Union (former) and Serbia and Montenegro (former) for 2021 and onward are assigned to Unknown.. Source: DHS Office of Immigration Statistics."
                },
                {
                  "0": "COUNTRY  Ukraine",
                  "1": "147",
                  "2": "120",
                  "3": "94",
                  "4": "142",
                  "5": "125",
                  "6": "195",
                  "7": "382",
                  "8": "294",
                  "9": "156",
                  "10": "82",
                  "11": "Table 17.. INDIVIDUALS GRANTED ASYLUM AFFIRMATIVELY BY REGION AND COUNTRY OF NATIONALITY: FISCAL YEARS 2012 TO 2021",
                  "12": "X Not applicable.. D Data withheld to limit disclosure.. - Represents zero.. 1 Includes countries with fewer than 10 individuals granted asylum affirmatively per year.. 2 Includes admissions from Palestinian Territories. Figures for Soviet Union (former) and Serbia and Montenegro (former) for 2021 and onward are assigned to Unknown.. Source: DHS Office of Immigration Statistics."
                },
                {
                  "0": "COUNTRY  United Arab Emirates",
                  "1": "3",
                  "2": "9",
                  "3": "10",
                  "4": "15",
                  "5": "13",
                  "6": "18",
                  "7": "39",
                  "8": "15",
                  "9": "8",
                  "10": "6",
                  "11": "Table 17.. INDIVIDUALS GRANTED ASYLUM AFFIRMATIVELY BY REGION AND COUNTRY OF NATIONALITY: FISCAL YEARS 2012 TO 2021",
                  "12": "X Not applicable.. D Data withheld to limit disclosure.. - Represents zero.. 1 Includes countries with fewer than 10 individuals granted asylum affirmatively per year.. 2 Includes admissions from Palestinian Territories. Figures for Soviet Union (former) and Serbia and Montenegro (former) for 2021 and onward are assigned to Unknown.. Source: DHS Office of Immigration Statistics."
                },
                {
                  "0": "COUNTRY  Uzbekistan",
                  "1": "81",
                  "2": "61",
                  "3": "56",
                  "4": "65",
                  "5": "67",
                  "6": "52",
                  "7": "115",
                  "8": "85",
                  "9": "36",
                  "10": "25",
                  "11": "Table 17.. INDIVIDUALS GRANTED ASYLUM AFFIRMATIVELY BY REGION AND COUNTRY OF NATIONALITY: FISCAL YEARS 2012 TO 2021",
                  "12": "X Not applicable.. D Data withheld to limit disclosure.. - Represents zero.. 1 Includes countries with fewer than 10 individuals granted asylum affirmatively per year.. 2 Includes admissions from Palestinian Territories. Figures for Soviet Union (former) and Serbia and Montenegro (former) for 2021 and onward are assigned to Unknown.. Source: DHS Office of Immigration Statistics."
                },
                {
                  "0": "COUNTRY  Venezuela",
                  "1": "920",
                  "2": "599",
                  "3": "297",
                  "4": "460",
                  "5": "315",
                  "6": "471",
                  "7": "5678",
                  "8": "6111",
                  "9": "3187",
                  "10": "1596",
                  "11": "Table 17.. INDIVIDUALS GRANTED ASYLUM AFFIRMATIVELY BY REGION AND COUNTRY OF NATIONALITY: FISCAL YEARS 2012 TO 2021",
                  "12": "X Not applicable.. D Data withheld to limit disclosure.. - Represents zero.. 1 Includes countries with fewer than 10 individuals granted asylum affirmatively per year.. 2 Includes admissions from Palestinian Territories. Figures for Soviet Union (former) and Serbia and Montenegro (former) for 2021 and onward are assigned to Unknown.. Source: DHS Office of Immigration Statistics."
                },
                {
                  "0": "COUNTRY  Vietnam",
                  "1": "15",
                  "2": "8",
                  "3": "11",
                  "4": "12",
                  "5": "8",
                  "6": "16",
                  "7": "34",
                  "8": "36",
                  "9": "23",
                  "10": "11",
                  "11": "Table 17.. INDIVIDUALS GRANTED ASYLUM AFFIRMATIVELY BY REGION AND COUNTRY OF NATIONALITY: FISCAL YEARS 2012 TO 2021",
                  "12": "X Not applicable.. D Data withheld to limit disclosure.. - Represents zero.. 1 Includes countries with fewer than 10 individuals granted asylum affirmatively per year.. 2 Includes admissions from Palestinian Territories. Figures for Soviet Union (former) and Serbia and Montenegro (former) for 2021 and onward are assigned to Unknown.. Source: DHS Office of Immigration Statistics."
                },
                {
                  "0": "COUNTRY  Yemen",
                  "1": "34",
                  "2": "45",
                  "3": "34",
                  "4": "55",
                  "5": "42",
                  "6": "49",
                  "7": "60",
                  "8": "117",
                  "9": "47",
                  "10": "24",
                  "11": "Table 17.. INDIVIDUALS GRANTED ASYLUM AFFIRMATIVELY BY REGION AND COUNTRY OF NATIONALITY: FISCAL YEARS 2012 TO 2021",
                  "12": "X Not applicable.. D Data withheld to limit disclosure.. - Represents zero.. 1 Includes countries with fewer than 10 individuals granted asylum affirmatively per year.. 2 Includes admissions from Palestinian Territories. Figures for Soviet Union (former) and Serbia and Montenegro (former) for 2021 and onward are assigned to Unknown.. Source: DHS Office of Immigration Statistics."
                },
                {
                  "0": "COUNTRY  Zimbabwe",
                  "1": "55",
                  "2": "36",
                  "3": "18",
                  "4": "34",
                  "5": "12",
                  "6": "30",
                  "7": "69",
                  "8": "76",
                  "9": "48",
                  "10": "35",
                  "11": "Table 17.. INDIVIDUALS GRANTED ASYLUM AFFIRMATIVELY BY REGION AND COUNTRY OF NATIONALITY: FISCAL YEARS 2012 TO 2021",
                  "12": "X Not applicable.. D Data withheld to limit disclosure.. - Represents zero.. 1 Includes countries with fewer than 10 individuals granted asylum affirmatively per year.. 2 Includes admissions from Palestinian Territories. Figures for Soviet Union (former) and Serbia and Montenegro (former) for 2021 and onward are assigned to Unknown.. Source: DHS Office of Immigration Statistics."
                },
                {
                  "0": "COUNTRY  All other countries1",
                  "1": "79",
                  "2": "56",
                  "3": "63",
                  "4": "57",
                  "5": "39",
                  "6": "69",
                  "7": "83",
                  "8": "113",
                  "9": "64",
                  "10": "49",
                  "11": "Table 17.. INDIVIDUALS GRANTED ASYLUM AFFIRMATIVELY BY REGION AND COUNTRY OF NATIONALITY: FISCAL YEARS 2012 TO 2021",
                  "12": "X Not applicable.. D Data withheld to limit disclosure.. - Represents zero.. 1 Includes countries with fewer than 10 individuals granted asylum affirmatively per year.. 2 Includes admissions from Palestinian Territories. Figures for Soviet Union (former) and Serbia and Montenegro (former) for 2021 and onward are assigned to Unknown.. Source: DHS Office of Immigration Statistics."
                },
                {
                  "0": "COUNTRY  Unknown2",
                  "1": "42",
                  "2": "41",
                  "3": "40",
                  "4": "53",
                  "5": "27",
                  "6": "38",
                  "7": "66",
                  "8": "103",
                  "9": "61",
                  "10": "D",
                  "11": "Table 17.. INDIVIDUALS GRANTED ASYLUM AFFIRMATIVELY BY REGION AND COUNTRY OF NATIONALITY: FISCAL YEARS 2012 TO 2021",
                  "12": "X Not applicable.. D Data withheld to limit disclosure.. - Represents zero.. 1 Includes countries with fewer than 10 individuals granted asylum affirmatively per year.. 2 Includes admissions from Palestinian Territories. Figures for Soviet Union (former) and Serbia and Montenegro (former) for 2021 and onward are assigned to Unknown.. Source: DHS Office of Immigration Statistics."
                }
              ],
              "schema": [
                {
                  "key": "0",
                  "name": "Region_and_country_of_nationality",
                  "type": "string"
                },
                {
                  "key": "1",
                  "name": "2012",
                  "type": "string"
                },
                {
                  "key": "2",
                  "name": "2013",
                  "type": "string"
                },
                {
                  "key": "3",
                  "name": "2014",
                  "type": "string"
                },
                {
                  "key": "4",
                  "name": "2015",
                  "type": "string"
                },
                {
                  "key": "5",
                  "name": "2016",
                  "type": "string"
                },
                {
                  "key": "6",
                  "name": "2017",
                  "type": "string"
                },
                {
                  "key": "7",
                  "name": "2018",
                  "type": "string"
                },
                {
                  "key": "8",
                  "name": "2019",
                  "type": "string"
                },
                {
                  "key": "9",
                  "name": "2020",
                  "type": "string"
                },
                {
                  "key": "10",
                  "name": "2021",
                  "type": "string"
                },
                {
                  "key": "11",
                  "name": "Header",
                  "type": "string"
                },
                {
                  "key": "12",
                  "name": "Footer",
                  "type": "string"
                }
              ],
              "truncated": false
            },
            "isSummary": false,
            "language": "scala"
          },
          "persist_state": {
            "view": {
              "type": "details",
              "tableOptions": {},
              "chartOptions": {
                "chartType": "bar",
                "aggregationType": "count",
                "categoryFieldKeys": [
                  "0"
                ],
                "seriesFieldKeys": [
                  "0"
                ],
                "isStacked": false
              }
            }
          }
        },
        "3d7c61d3-5896-4c22-bc85-b071ba376c55": {
          "type": "Synapse.DataFrame",
          "sync_state": {
            "table": {
              "rows": [
                {
                  "0": "1980",
                  "1": "207116",
                  "2": "Table 13.. REFUGEE ARRIVALS: FISCAL YEARS 1980 TO 2021",
                  "3": "Notes: Data series began following the Refugee Act of 1980.  Excludes Amerasian immigrants except in Fiscal Years 1989 to 1991. Figures are based on refugee arrival date; certain refugee applicants who arrived in FY 2020 and 2021 are counted for those years and not towards the FY 2018 refugee admissions ceiling.. Source: DHS Office of Immigration Statistics."
                },
                {
                  "0": "1981",
                  "1": "159252",
                  "2": "Table 13.. REFUGEE ARRIVALS: FISCAL YEARS 1980 TO 2021",
                  "3": "Notes: Data series began following the Refugee Act of 1980.  Excludes Amerasian immigrants except in Fiscal Years 1989 to 1991. Figures are based on refugee arrival date; certain refugee applicants who arrived in FY 2020 and 2021 are counted for those years and not towards the FY 2018 refugee admissions ceiling.. Source: DHS Office of Immigration Statistics."
                },
                {
                  "0": "1982",
                  "1": "98096",
                  "2": "Table 13.. REFUGEE ARRIVALS: FISCAL YEARS 1980 TO 2021",
                  "3": "Notes: Data series began following the Refugee Act of 1980.  Excludes Amerasian immigrants except in Fiscal Years 1989 to 1991. Figures are based on refugee arrival date; certain refugee applicants who arrived in FY 2020 and 2021 are counted for those years and not towards the FY 2018 refugee admissions ceiling.. Source: DHS Office of Immigration Statistics."
                },
                {
                  "0": "1983",
                  "1": "61218",
                  "2": "Table 13.. REFUGEE ARRIVALS: FISCAL YEARS 1980 TO 2021",
                  "3": "Notes: Data series began following the Refugee Act of 1980.  Excludes Amerasian immigrants except in Fiscal Years 1989 to 1991. Figures are based on refugee arrival date; certain refugee applicants who arrived in FY 2020 and 2021 are counted for those years and not towards the FY 2018 refugee admissions ceiling.. Source: DHS Office of Immigration Statistics."
                },
                {
                  "0": "1984",
                  "1": "70393",
                  "2": "Table 13.. REFUGEE ARRIVALS: FISCAL YEARS 1980 TO 2021",
                  "3": "Notes: Data series began following the Refugee Act of 1980.  Excludes Amerasian immigrants except in Fiscal Years 1989 to 1991. Figures are based on refugee arrival date; certain refugee applicants who arrived in FY 2020 and 2021 are counted for those years and not towards the FY 2018 refugee admissions ceiling.. Source: DHS Office of Immigration Statistics."
                },
                {
                  "0": "1985",
                  "1": "67704",
                  "2": "Table 13.. REFUGEE ARRIVALS: FISCAL YEARS 1980 TO 2021",
                  "3": "Notes: Data series began following the Refugee Act of 1980.  Excludes Amerasian immigrants except in Fiscal Years 1989 to 1991. Figures are based on refugee arrival date; certain refugee applicants who arrived in FY 2020 and 2021 are counted for those years and not towards the FY 2018 refugee admissions ceiling.. Source: DHS Office of Immigration Statistics."
                },
                {
                  "0": "1986",
                  "1": "62146",
                  "2": "Table 13.. REFUGEE ARRIVALS: FISCAL YEARS 1980 TO 2021",
                  "3": "Notes: Data series began following the Refugee Act of 1980.  Excludes Amerasian immigrants except in Fiscal Years 1989 to 1991. Figures are based on refugee arrival date; certain refugee applicants who arrived in FY 2020 and 2021 are counted for those years and not towards the FY 2018 refugee admissions ceiling.. Source: DHS Office of Immigration Statistics."
                },
                {
                  "0": "1987",
                  "1": "64528",
                  "2": "Table 13.. REFUGEE ARRIVALS: FISCAL YEARS 1980 TO 2021",
                  "3": "Notes: Data series began following the Refugee Act of 1980.  Excludes Amerasian immigrants except in Fiscal Years 1989 to 1991. Figures are based on refugee arrival date; certain refugee applicants who arrived in FY 2020 and 2021 are counted for those years and not towards the FY 2018 refugee admissions ceiling.. Source: DHS Office of Immigration Statistics."
                },
                {
                  "0": "1988",
                  "1": "76483",
                  "2": "Table 13.. REFUGEE ARRIVALS: FISCAL YEARS 1980 TO 2021",
                  "3": "Notes: Data series began following the Refugee Act of 1980.  Excludes Amerasian immigrants except in Fiscal Years 1989 to 1991. Figures are based on refugee arrival date; certain refugee applicants who arrived in FY 2020 and 2021 are counted for those years and not towards the FY 2018 refugee admissions ceiling.. Source: DHS Office of Immigration Statistics."
                },
                {
                  "0": "1989",
                  "1": "107070",
                  "2": "Table 13.. REFUGEE ARRIVALS: FISCAL YEARS 1980 TO 2021",
                  "3": "Notes: Data series began following the Refugee Act of 1980.  Excludes Amerasian immigrants except in Fiscal Years 1989 to 1991. Figures are based on refugee arrival date; certain refugee applicants who arrived in FY 2020 and 2021 are counted for those years and not towards the FY 2018 refugee admissions ceiling.. Source: DHS Office of Immigration Statistics."
                },
                {
                  "0": "1990",
                  "1": "122066",
                  "2": "Table 13.. REFUGEE ARRIVALS: FISCAL YEARS 1980 TO 2021",
                  "3": "Notes: Data series began following the Refugee Act of 1980.  Excludes Amerasian immigrants except in Fiscal Years 1989 to 1991. Figures are based on refugee arrival date; certain refugee applicants who arrived in FY 2020 and 2021 are counted for those years and not towards the FY 2018 refugee admissions ceiling.. Source: DHS Office of Immigration Statistics."
                },
                {
                  "0": "1991",
                  "1": "113389",
                  "2": "Table 13.. REFUGEE ARRIVALS: FISCAL YEARS 1980 TO 2021",
                  "3": "Notes: Data series began following the Refugee Act of 1980.  Excludes Amerasian immigrants except in Fiscal Years 1989 to 1991. Figures are based on refugee arrival date; certain refugee applicants who arrived in FY 2020 and 2021 are counted for those years and not towards the FY 2018 refugee admissions ceiling.. Source: DHS Office of Immigration Statistics."
                },
                {
                  "0": "1992",
                  "1": "115548",
                  "2": "Table 13.. REFUGEE ARRIVALS: FISCAL YEARS 1980 TO 2021",
                  "3": "Notes: Data series began following the Refugee Act of 1980.  Excludes Amerasian immigrants except in Fiscal Years 1989 to 1991. Figures are based on refugee arrival date; certain refugee applicants who arrived in FY 2020 and 2021 are counted for those years and not towards the FY 2018 refugee admissions ceiling.. Source: DHS Office of Immigration Statistics."
                },
                {
                  "0": "1993",
                  "1": "114181",
                  "2": "Table 13.. REFUGEE ARRIVALS: FISCAL YEARS 1980 TO 2021",
                  "3": "Notes: Data series began following the Refugee Act of 1980.  Excludes Amerasian immigrants except in Fiscal Years 1989 to 1991. Figures are based on refugee arrival date; certain refugee applicants who arrived in FY 2020 and 2021 are counted for those years and not towards the FY 2018 refugee admissions ceiling.. Source: DHS Office of Immigration Statistics."
                },
                {
                  "0": "1994",
                  "1": "111680",
                  "2": "Table 13.. REFUGEE ARRIVALS: FISCAL YEARS 1980 TO 2021",
                  "3": "Notes: Data series began following the Refugee Act of 1980.  Excludes Amerasian immigrants except in Fiscal Years 1989 to 1991. Figures are based on refugee arrival date; certain refugee applicants who arrived in FY 2020 and 2021 are counted for those years and not towards the FY 2018 refugee admissions ceiling.. Source: DHS Office of Immigration Statistics."
                },
                {
                  "0": "1995",
                  "1": "98973",
                  "2": "Table 13.. REFUGEE ARRIVALS: FISCAL YEARS 1980 TO 2021",
                  "3": "Notes: Data series began following the Refugee Act of 1980.  Excludes Amerasian immigrants except in Fiscal Years 1989 to 1991. Figures are based on refugee arrival date; certain refugee applicants who arrived in FY 2020 and 2021 are counted for those years and not towards the FY 2018 refugee admissions ceiling.. Source: DHS Office of Immigration Statistics."
                },
                {
                  "0": "1996",
                  "1": "75421",
                  "2": "Table 13.. REFUGEE ARRIVALS: FISCAL YEARS 1980 TO 2021",
                  "3": "Notes: Data series began following the Refugee Act of 1980.  Excludes Amerasian immigrants except in Fiscal Years 1989 to 1991. Figures are based on refugee arrival date; certain refugee applicants who arrived in FY 2020 and 2021 are counted for those years and not towards the FY 2018 refugee admissions ceiling.. Source: DHS Office of Immigration Statistics."
                },
                {
                  "0": "1997",
                  "1": "69653",
                  "2": "Table 13.. REFUGEE ARRIVALS: FISCAL YEARS 1980 TO 2021",
                  "3": "Notes: Data series began following the Refugee Act of 1980.  Excludes Amerasian immigrants except in Fiscal Years 1989 to 1991. Figures are based on refugee arrival date; certain refugee applicants who arrived in FY 2020 and 2021 are counted for those years and not towards the FY 2018 refugee admissions ceiling.. Source: DHS Office of Immigration Statistics."
                },
                {
                  "0": "1998",
                  "1": "76712",
                  "2": "Table 13.. REFUGEE ARRIVALS: FISCAL YEARS 1980 TO 2021",
                  "3": "Notes: Data series began following the Refugee Act of 1980.  Excludes Amerasian immigrants except in Fiscal Years 1989 to 1991. Figures are based on refugee arrival date; certain refugee applicants who arrived in FY 2020 and 2021 are counted for those years and not towards the FY 2018 refugee admissions ceiling.. Source: DHS Office of Immigration Statistics."
                },
                {
                  "0": "1999",
                  "1": "85285",
                  "2": "Table 13.. REFUGEE ARRIVALS: FISCAL YEARS 1980 TO 2021",
                  "3": "Notes: Data series began following the Refugee Act of 1980.  Excludes Amerasian immigrants except in Fiscal Years 1989 to 1991. Figures are based on refugee arrival date; certain refugee applicants who arrived in FY 2020 and 2021 are counted for those years and not towards the FY 2018 refugee admissions ceiling.. Source: DHS Office of Immigration Statistics."
                },
                {
                  "0": "2000",
                  "1": "72165",
                  "2": "Table 13.. REFUGEE ARRIVALS: FISCAL YEARS 1980 TO 2021",
                  "3": "Notes: Data series began following the Refugee Act of 1980.  Excludes Amerasian immigrants except in Fiscal Years 1989 to 1991. Figures are based on refugee arrival date; certain refugee applicants who arrived in FY 2020 and 2021 are counted for those years and not towards the FY 2018 refugee admissions ceiling.. Source: DHS Office of Immigration Statistics."
                },
                {
                  "0": "2001",
                  "1": "68920",
                  "2": "Table 13.. REFUGEE ARRIVALS: FISCAL YEARS 1980 TO 2021",
                  "3": "Notes: Data series began following the Refugee Act of 1980.  Excludes Amerasian immigrants except in Fiscal Years 1989 to 1991. Figures are based on refugee arrival date; certain refugee applicants who arrived in FY 2020 and 2021 are counted for those years and not towards the FY 2018 refugee admissions ceiling.. Source: DHS Office of Immigration Statistics."
                },
                {
                  "0": "2002",
                  "1": "26785",
                  "2": "Table 13.. REFUGEE ARRIVALS: FISCAL YEARS 1980 TO 2021",
                  "3": "Notes: Data series began following the Refugee Act of 1980.  Excludes Amerasian immigrants except in Fiscal Years 1989 to 1991. Figures are based on refugee arrival date; certain refugee applicants who arrived in FY 2020 and 2021 are counted for those years and not towards the FY 2018 refugee admissions ceiling.. Source: DHS Office of Immigration Statistics."
                },
                {
                  "0": "2003",
                  "1": "28286",
                  "2": "Table 13.. REFUGEE ARRIVALS: FISCAL YEARS 1980 TO 2021",
                  "3": "Notes: Data series began following the Refugee Act of 1980.  Excludes Amerasian immigrants except in Fiscal Years 1989 to 1991. Figures are based on refugee arrival date; certain refugee applicants who arrived in FY 2020 and 2021 are counted for those years and not towards the FY 2018 refugee admissions ceiling.. Source: DHS Office of Immigration Statistics."
                },
                {
                  "0": "2004",
                  "1": "52840",
                  "2": "Table 13.. REFUGEE ARRIVALS: FISCAL YEARS 1980 TO 2021",
                  "3": "Notes: Data series began following the Refugee Act of 1980.  Excludes Amerasian immigrants except in Fiscal Years 1989 to 1991. Figures are based on refugee arrival date; certain refugee applicants who arrived in FY 2020 and 2021 are counted for those years and not towards the FY 2018 refugee admissions ceiling.. Source: DHS Office of Immigration Statistics."
                },
                {
                  "0": "2005",
                  "1": "53738",
                  "2": "Table 13.. REFUGEE ARRIVALS: FISCAL YEARS 1980 TO 2021",
                  "3": "Notes: Data series began following the Refugee Act of 1980.  Excludes Amerasian immigrants except in Fiscal Years 1989 to 1991. Figures are based on refugee arrival date; certain refugee applicants who arrived in FY 2020 and 2021 are counted for those years and not towards the FY 2018 refugee admissions ceiling.. Source: DHS Office of Immigration Statistics."
                },
                {
                  "0": "2006",
                  "1": "41094",
                  "2": "Table 13.. REFUGEE ARRIVALS: FISCAL YEARS 1980 TO 2021",
                  "3": "Notes: Data series began following the Refugee Act of 1980.  Excludes Amerasian immigrants except in Fiscal Years 1989 to 1991. Figures are based on refugee arrival date; certain refugee applicants who arrived in FY 2020 and 2021 are counted for those years and not towards the FY 2018 refugee admissions ceiling.. Source: DHS Office of Immigration Statistics."
                },
                {
                  "0": "2007",
                  "1": "48218",
                  "2": "Table 13.. REFUGEE ARRIVALS: FISCAL YEARS 1980 TO 2021",
                  "3": "Notes: Data series began following the Refugee Act of 1980.  Excludes Amerasian immigrants except in Fiscal Years 1989 to 1991. Figures are based on refugee arrival date; certain refugee applicants who arrived in FY 2020 and 2021 are counted for those years and not towards the FY 2018 refugee admissions ceiling.. Source: DHS Office of Immigration Statistics."
                },
                {
                  "0": "2008",
                  "1": "60107",
                  "2": "Table 13.. REFUGEE ARRIVALS: FISCAL YEARS 1980 TO 2021",
                  "3": "Notes: Data series began following the Refugee Act of 1980.  Excludes Amerasian immigrants except in Fiscal Years 1989 to 1991. Figures are based on refugee arrival date; certain refugee applicants who arrived in FY 2020 and 2021 are counted for those years and not towards the FY 2018 refugee admissions ceiling.. Source: DHS Office of Immigration Statistics."
                },
                {
                  "0": "2009",
                  "1": "74602",
                  "2": "Table 13.. REFUGEE ARRIVALS: FISCAL YEARS 1980 TO 2021",
                  "3": "Notes: Data series began following the Refugee Act of 1980.  Excludes Amerasian immigrants except in Fiscal Years 1989 to 1991. Figures are based on refugee arrival date; certain refugee applicants who arrived in FY 2020 and 2021 are counted for those years and not towards the FY 2018 refugee admissions ceiling.. Source: DHS Office of Immigration Statistics."
                },
                {
                  "0": "2010",
                  "1": "73293",
                  "2": "Table 13.. REFUGEE ARRIVALS: FISCAL YEARS 1980 TO 2021",
                  "3": "Notes: Data series began following the Refugee Act of 1980.  Excludes Amerasian immigrants except in Fiscal Years 1989 to 1991. Figures are based on refugee arrival date; certain refugee applicants who arrived in FY 2020 and 2021 are counted for those years and not towards the FY 2018 refugee admissions ceiling.. Source: DHS Office of Immigration Statistics."
                },
                {
                  "0": "2011",
                  "1": "56384",
                  "2": "Table 13.. REFUGEE ARRIVALS: FISCAL YEARS 1980 TO 2021",
                  "3": "Notes: Data series began following the Refugee Act of 1980.  Excludes Amerasian immigrants except in Fiscal Years 1989 to 1991. Figures are based on refugee arrival date; certain refugee applicants who arrived in FY 2020 and 2021 are counted for those years and not towards the FY 2018 refugee admissions ceiling.. Source: DHS Office of Immigration Statistics."
                },
                {
                  "0": "2012",
                  "1": "58179",
                  "2": "Table 13.. REFUGEE ARRIVALS: FISCAL YEARS 1980 TO 2021",
                  "3": "Notes: Data series began following the Refugee Act of 1980.  Excludes Amerasian immigrants except in Fiscal Years 1989 to 1991. Figures are based on refugee arrival date; certain refugee applicants who arrived in FY 2020 and 2021 are counted for those years and not towards the FY 2018 refugee admissions ceiling.. Source: DHS Office of Immigration Statistics."
                },
                {
                  "0": "2013",
                  "1": "69909",
                  "2": "Table 13.. REFUGEE ARRIVALS: FISCAL YEARS 1980 TO 2021",
                  "3": "Notes: Data series began following the Refugee Act of 1980.  Excludes Amerasian immigrants except in Fiscal Years 1989 to 1991. Figures are based on refugee arrival date; certain refugee applicants who arrived in FY 2020 and 2021 are counted for those years and not towards the FY 2018 refugee admissions ceiling.. Source: DHS Office of Immigration Statistics."
                },
                {
                  "0": "2014",
                  "1": "69975",
                  "2": "Table 13.. REFUGEE ARRIVALS: FISCAL YEARS 1980 TO 2021",
                  "3": "Notes: Data series began following the Refugee Act of 1980.  Excludes Amerasian immigrants except in Fiscal Years 1989 to 1991. Figures are based on refugee arrival date; certain refugee applicants who arrived in FY 2020 and 2021 are counted for those years and not towards the FY 2018 refugee admissions ceiling.. Source: DHS Office of Immigration Statistics."
                },
                {
                  "0": "2015",
                  "1": "69920",
                  "2": "Table 13.. REFUGEE ARRIVALS: FISCAL YEARS 1980 TO 2021",
                  "3": "Notes: Data series began following the Refugee Act of 1980.  Excludes Amerasian immigrants except in Fiscal Years 1989 to 1991. Figures are based on refugee arrival date; certain refugee applicants who arrived in FY 2020 and 2021 are counted for those years and not towards the FY 2018 refugee admissions ceiling.. Source: DHS Office of Immigration Statistics."
                },
                {
                  "0": "2016",
                  "1": "84989",
                  "2": "Table 13.. REFUGEE ARRIVALS: FISCAL YEARS 1980 TO 2021",
                  "3": "Notes: Data series began following the Refugee Act of 1980.  Excludes Amerasian immigrants except in Fiscal Years 1989 to 1991. Figures are based on refugee arrival date; certain refugee applicants who arrived in FY 2020 and 2021 are counted for those years and not towards the FY 2018 refugee admissions ceiling.. Source: DHS Office of Immigration Statistics."
                },
                {
                  "0": "2017",
                  "1": "53691",
                  "2": "Table 13.. REFUGEE ARRIVALS: FISCAL YEARS 1980 TO 2021",
                  "3": "Notes: Data series began following the Refugee Act of 1980.  Excludes Amerasian immigrants except in Fiscal Years 1989 to 1991. Figures are based on refugee arrival date; certain refugee applicants who arrived in FY 2020 and 2021 are counted for those years and not towards the FY 2018 refugee admissions ceiling.. Source: DHS Office of Immigration Statistics."
                },
                {
                  "0": "2018",
                  "1": "22405",
                  "2": "Table 13.. REFUGEE ARRIVALS: FISCAL YEARS 1980 TO 2021",
                  "3": "Notes: Data series began following the Refugee Act of 1980.  Excludes Amerasian immigrants except in Fiscal Years 1989 to 1991. Figures are based on refugee arrival date; certain refugee applicants who arrived in FY 2020 and 2021 are counted for those years and not towards the FY 2018 refugee admissions ceiling.. Source: DHS Office of Immigration Statistics."
                },
                {
                  "0": "2019",
                  "1": "29916",
                  "2": "Table 13.. REFUGEE ARRIVALS: FISCAL YEARS 1980 TO 2021",
                  "3": "Notes: Data series began following the Refugee Act of 1980.  Excludes Amerasian immigrants except in Fiscal Years 1989 to 1991. Figures are based on refugee arrival date; certain refugee applicants who arrived in FY 2020 and 2021 are counted for those years and not towards the FY 2018 refugee admissions ceiling.. Source: DHS Office of Immigration Statistics."
                },
                {
                  "0": "2020",
                  "1": "11840",
                  "2": "Table 13.. REFUGEE ARRIVALS: FISCAL YEARS 1980 TO 2021",
                  "3": "Notes: Data series began following the Refugee Act of 1980.  Excludes Amerasian immigrants except in Fiscal Years 1989 to 1991. Figures are based on refugee arrival date; certain refugee applicants who arrived in FY 2020 and 2021 are counted for those years and not towards the FY 2018 refugee admissions ceiling.. Source: DHS Office of Immigration Statistics."
                },
                {
                  "0": "2021",
                  "1": "11454",
                  "2": "Table 13.. REFUGEE ARRIVALS: FISCAL YEARS 1980 TO 2021",
                  "3": "Notes: Data series began following the Refugee Act of 1980.  Excludes Amerasian immigrants except in Fiscal Years 1989 to 1991. Figures are based on refugee arrival date; certain refugee applicants who arrived in FY 2020 and 2021 are counted for those years and not towards the FY 2018 refugee admissions ceiling.. Source: DHS Office of Immigration Statistics."
                }
              ],
              "schema": [
                {
                  "key": "0",
                  "name": "Year",
                  "type": "string"
                },
                {
                  "key": "1",
                  "name": "Number",
                  "type": "string"
                },
                {
                  "key": "2",
                  "name": "Header",
                  "type": "string"
                },
                {
                  "key": "3",
                  "name": "Footer",
                  "type": "string"
                }
              ],
              "truncated": false
            },
            "isSummary": false,
            "language": "scala"
          },
          "persist_state": {
            "view": {
              "type": "details",
              "tableOptions": {},
              "chartOptions": {
                "chartType": "bar",
                "aggregationType": "count",
                "categoryFieldKeys": [
                  "0"
                ],
                "seriesFieldKeys": [
                  "0"
                ],
                "isStacked": false
              }
            }
          }
        },
        "d1c0a3e3-d551-4d87-8412-28e199d74842": {
          "type": "Synapse.DataFrame",
          "sync_state": {
            "table": {
              "rows": [
                {
                  "0": "SEX  Total",
                  "1": "11454",
                  "2": "4557",
                  "3": "1364",
                  "4": "5493",
                  "5": "40",
                  "6": "Table 15.. REFUGEE ARRIVALS BY RELATIONSHIP TO PRINCIPAL APPLICANT AND SEX, AGE, AND MARITAL STATUS: FISCAL YEAR 2021",
                  "7": "D Data withheld to limit disclosure.. - Represents zero.. 1 The Principal Applicant category previously included siblings, parents, and other dependents, who are now included in the Other category.. 2 Includes persons in a civil union.. 3 Includes persons in common law marriage.. Note: Excludes Amerasian immigrants. Figures are based on refugee arrival date; certain refugee applicants who arrived in FY 2021 are counted for that year and not towards the FY 2018 refugee admissions ceiling.. Source: DHS Office of Immigration Statistics."
                },
                {
                  "0": "SEX  Female",
                  "1": "5486",
                  "2": "1939",
                  "3": "945",
                  "4": "2583",
                  "5": "19",
                  "6": "Table 15.. REFUGEE ARRIVALS BY RELATIONSHIP TO PRINCIPAL APPLICANT AND SEX, AGE, AND MARITAL STATUS: FISCAL YEAR 2021",
                  "7": "D Data withheld to limit disclosure.. - Represents zero.. 1 The Principal Applicant category previously included siblings, parents, and other dependents, who are now included in the Other category.. 2 Includes persons in a civil union.. 3 Includes persons in common law marriage.. Note: Excludes Amerasian immigrants. Figures are based on refugee arrival date; certain refugee applicants who arrived in FY 2021 are counted for that year and not towards the FY 2018 refugee admissions ceiling.. Source: DHS Office of Immigration Statistics."
                },
                {
                  "0": "SEX  Male",
                  "1": "5968",
                  "2": "2618",
                  "3": "419",
                  "4": "2910",
                  "5": "21",
                  "6": "Table 15.. REFUGEE ARRIVALS BY RELATIONSHIP TO PRINCIPAL APPLICANT AND SEX, AGE, AND MARITAL STATUS: FISCAL YEAR 2021",
                  "7": "D Data withheld to limit disclosure.. - Represents zero.. 1 The Principal Applicant category previously included siblings, parents, and other dependents, who are now included in the Other category.. 2 Includes persons in a civil union.. 3 Includes persons in common law marriage.. Note: Excludes Amerasian immigrants. Figures are based on refugee arrival date; certain refugee applicants who arrived in FY 2021 are counted for that year and not towards the FY 2018 refugee admissions ceiling.. Source: DHS Office of Immigration Statistics."
                },
                {
                  "0": "AGE  Total",
                  "1": "11454",
                  "2": "4557",
                  "3": "1364",
                  "4": "5493",
                  "5": "40",
                  "6": "Table 15.. REFUGEE ARRIVALS BY RELATIONSHIP TO PRINCIPAL APPLICANT AND SEX, AGE, AND MARITAL STATUS: FISCAL YEAR 2021",
                  "7": "D Data withheld to limit disclosure.. - Represents zero.. 1 The Principal Applicant category previously included siblings, parents, and other dependents, who are now included in the Other category.. 2 Includes persons in a civil union.. 3 Includes persons in common law marriage.. Note: Excludes Amerasian immigrants. Figures are based on refugee arrival date; certain refugee applicants who arrived in FY 2021 are counted for that year and not towards the FY 2018 refugee admissions ceiling.. Source: DHS Office of Immigration Statistics."
                },
                {
                  "0": "AGE  Under 1 year",
                  "1": "27",
                  "2": "-",
                  "3": "-",
                  "4": "27",
                  "5": "-",
                  "6": "Table 15.. REFUGEE ARRIVALS BY RELATIONSHIP TO PRINCIPAL APPLICANT AND SEX, AGE, AND MARITAL STATUS: FISCAL YEAR 2021",
                  "7": "D Data withheld to limit disclosure.. - Represents zero.. 1 The Principal Applicant category previously included siblings, parents, and other dependents, who are now included in the Other category.. 2 Includes persons in a civil union.. 3 Includes persons in common law marriage.. Note: Excludes Amerasian immigrants. Figures are based on refugee arrival date; certain refugee applicants who arrived in FY 2021 are counted for that year and not towards the FY 2018 refugee admissions ceiling.. Source: DHS Office of Immigration Statistics."
                },
                {
                  "0": "AGE  1 to 4 years",
                  "1": "944",
                  "2": "6",
                  "3": "-",
                  "4": "928",
                  "5": "10",
                  "6": "Table 15.. REFUGEE ARRIVALS BY RELATIONSHIP TO PRINCIPAL APPLICANT AND SEX, AGE, AND MARITAL STATUS: FISCAL YEAR 2021",
                  "7": "D Data withheld to limit disclosure.. - Represents zero.. 1 The Principal Applicant category previously included siblings, parents, and other dependents, who are now included in the Other category.. 2 Includes persons in a civil union.. 3 Includes persons in common law marriage.. Note: Excludes Amerasian immigrants. Figures are based on refugee arrival date; certain refugee applicants who arrived in FY 2021 are counted for that year and not towards the FY 2018 refugee admissions ceiling.. Source: DHS Office of Immigration Statistics."
                },
                {
                  "0": "AGE  5 to 9 years",
                  "1": "1519",
                  "2": "36",
                  "3": "-",
                  "4": "1478",
                  "5": "5",
                  "6": "Table 15.. REFUGEE ARRIVALS BY RELATIONSHIP TO PRINCIPAL APPLICANT AND SEX, AGE, AND MARITAL STATUS: FISCAL YEAR 2021",
                  "7": "D Data withheld to limit disclosure.. - Represents zero.. 1 The Principal Applicant category previously included siblings, parents, and other dependents, who are now included in the Other category.. 2 Includes persons in a civil union.. 3 Includes persons in common law marriage.. Note: Excludes Amerasian immigrants. Figures are based on refugee arrival date; certain refugee applicants who arrived in FY 2021 are counted for that year and not towards the FY 2018 refugee admissions ceiling.. Source: DHS Office of Immigration Statistics."
                },
                {
                  "0": "AGE  10 to 14 years",
                  "1": "1299",
                  "2": "40",
                  "3": "-",
                  "4": "1254",
                  "5": "5",
                  "6": "Table 15.. REFUGEE ARRIVALS BY RELATIONSHIP TO PRINCIPAL APPLICANT AND SEX, AGE, AND MARITAL STATUS: FISCAL YEAR 2021",
                  "7": "D Data withheld to limit disclosure.. - Represents zero.. 1 The Principal Applicant category previously included siblings, parents, and other dependents, who are now included in the Other category.. 2 Includes persons in a civil union.. 3 Includes persons in common law marriage.. Note: Excludes Amerasian immigrants. Figures are based on refugee arrival date; certain refugee applicants who arrived in FY 2021 are counted for that year and not towards the FY 2018 refugee admissions ceiling.. Source: DHS Office of Immigration Statistics."
                },
                {
                  "0": "AGE  15 to 19 years",
                  "1": "1235",
                  "2": "102",
                  "3": "-",
                  "4": "1117",
                  "5": "16",
                  "6": "Table 15.. REFUGEE ARRIVALS BY RELATIONSHIP TO PRINCIPAL APPLICANT AND SEX, AGE, AND MARITAL STATUS: FISCAL YEAR 2021",
                  "7": "D Data withheld to limit disclosure.. - Represents zero.. 1 The Principal Applicant category previously included siblings, parents, and other dependents, who are now included in the Other category.. 2 Includes persons in a civil union.. 3 Includes persons in common law marriage.. Note: Excludes Amerasian immigrants. Figures are based on refugee arrival date; certain refugee applicants who arrived in FY 2021 are counted for that year and not towards the FY 2018 refugee admissions ceiling.. Source: DHS Office of Immigration Statistics."
                },
                {
                  "0": "AGE  20 to 24 years",
                  "1": "1146",
                  "2": "445",
                  "3": "D",
                  "4": "658",
                  "5": "D",
                  "6": "Table 15.. REFUGEE ARRIVALS BY RELATIONSHIP TO PRINCIPAL APPLICANT AND SEX, AGE, AND MARITAL STATUS: FISCAL YEAR 2021",
                  "7": "D Data withheld to limit disclosure.. - Represents zero.. 1 The Principal Applicant category previously included siblings, parents, and other dependents, who are now included in the Other category.. 2 Includes persons in a civil union.. 3 Includes persons in common law marriage.. Note: Excludes Amerasian immigrants. Figures are based on refugee arrival date; certain refugee applicants who arrived in FY 2021 are counted for that year and not towards the FY 2018 refugee admissions ceiling.. Source: DHS Office of Immigration Statistics."
                },
                {
                  "0": "AGE  25 to 29 years",
                  "1": "1174",
                  "2": "986",
                  "3": "161",
                  "4": "27",
                  "5": "-",
                  "6": "Table 15.. REFUGEE ARRIVALS BY RELATIONSHIP TO PRINCIPAL APPLICANT AND SEX, AGE, AND MARITAL STATUS: FISCAL YEAR 2021",
                  "7": "D Data withheld to limit disclosure.. - Represents zero.. 1 The Principal Applicant category previously included siblings, parents, and other dependents, who are now included in the Other category.. 2 Includes persons in a civil union.. 3 Includes persons in common law marriage.. Note: Excludes Amerasian immigrants. Figures are based on refugee arrival date; certain refugee applicants who arrived in FY 2021 are counted for that year and not towards the FY 2018 refugee admissions ceiling.. Source: DHS Office of Immigration Statistics."
                },
                {
                  "0": "AGE  30 to 34 years",
                  "1": "1014",
                  "2": "769",
                  "3": "D",
                  "4": "D",
                  "5": "-",
                  "6": "Table 15.. REFUGEE ARRIVALS BY RELATIONSHIP TO PRINCIPAL APPLICANT AND SEX, AGE, AND MARITAL STATUS: FISCAL YEAR 2021",
                  "7": "D Data withheld to limit disclosure.. - Represents zero.. 1 The Principal Applicant category previously included siblings, parents, and other dependents, who are now included in the Other category.. 2 Includes persons in a civil union.. 3 Includes persons in common law marriage.. Note: Excludes Amerasian immigrants. Figures are based on refugee arrival date; certain refugee applicants who arrived in FY 2021 are counted for that year and not towards the FY 2018 refugee admissions ceiling.. Source: DHS Office of Immigration Statistics."
                },
                {
                  "0": "AGE  35 to 39 years",
                  "1": "858",
                  "2": "585",
                  "3": "273",
                  "4": "-",
                  "5": "-",
                  "6": "Table 15.. REFUGEE ARRIVALS BY RELATIONSHIP TO PRINCIPAL APPLICANT AND SEX, AGE, AND MARITAL STATUS: FISCAL YEAR 2021",
                  "7": "D Data withheld to limit disclosure.. - Represents zero.. 1 The Principal Applicant category previously included siblings, parents, and other dependents, who are now included in the Other category.. 2 Includes persons in a civil union.. 3 Includes persons in common law marriage.. Note: Excludes Amerasian immigrants. Figures are based on refugee arrival date; certain refugee applicants who arrived in FY 2021 are counted for that year and not towards the FY 2018 refugee admissions ceiling.. Source: DHS Office of Immigration Statistics."
                },
                {
                  "0": "AGE  40 to 44 years",
                  "1": "608",
                  "2": "423",
                  "3": "D",
                  "4": "D",
                  "5": "-",
                  "6": "Table 15.. REFUGEE ARRIVALS BY RELATIONSHIP TO PRINCIPAL APPLICANT AND SEX, AGE, AND MARITAL STATUS: FISCAL YEAR 2021",
                  "7": "D Data withheld to limit disclosure.. - Represents zero.. 1 The Principal Applicant category previously included siblings, parents, and other dependents, who are now included in the Other category.. 2 Includes persons in a civil union.. 3 Includes persons in common law marriage.. Note: Excludes Amerasian immigrants. Figures are based on refugee arrival date; certain refugee applicants who arrived in FY 2021 are counted for that year and not towards the FY 2018 refugee admissions ceiling.. Source: DHS Office of Immigration Statistics."
                },
                {
                  "0": "AGE  45 to 49 years",
                  "1": "461",
                  "2": "312",
                  "3": "D",
                  "4": "D",
                  "5": "-",
                  "6": "Table 15.. REFUGEE ARRIVALS BY RELATIONSHIP TO PRINCIPAL APPLICANT AND SEX, AGE, AND MARITAL STATUS: FISCAL YEAR 2021",
                  "7": "D Data withheld to limit disclosure.. - Represents zero.. 1 The Principal Applicant category previously included siblings, parents, and other dependents, who are now included in the Other category.. 2 Includes persons in a civil union.. 3 Includes persons in common law marriage.. Note: Excludes Amerasian immigrants. Figures are based on refugee arrival date; certain refugee applicants who arrived in FY 2021 are counted for that year and not towards the FY 2018 refugee admissions ceiling.. Source: DHS Office of Immigration Statistics."
                },
                {
                  "0": "AGE  50 to 54 years",
                  "1": "372",
                  "2": "270",
                  "3": "102",
                  "4": "-",
                  "5": "-",
                  "6": "Table 15.. REFUGEE ARRIVALS BY RELATIONSHIP TO PRINCIPAL APPLICANT AND SEX, AGE, AND MARITAL STATUS: FISCAL YEAR 2021",
                  "7": "D Data withheld to limit disclosure.. - Represents zero.. 1 The Principal Applicant category previously included siblings, parents, and other dependents, who are now included in the Other category.. 2 Includes persons in a civil union.. 3 Includes persons in common law marriage.. Note: Excludes Amerasian immigrants. Figures are based on refugee arrival date; certain refugee applicants who arrived in FY 2021 are counted for that year and not towards the FY 2018 refugee admissions ceiling.. Source: DHS Office of Immigration Statistics."
                },
                {
                  "0": "AGE  55 to 59 years",
                  "1": "277",
                  "2": "197",
                  "3": "80",
                  "4": "-",
                  "5": "-",
                  "6": "Table 15.. REFUGEE ARRIVALS BY RELATIONSHIP TO PRINCIPAL APPLICANT AND SEX, AGE, AND MARITAL STATUS: FISCAL YEAR 2021",
                  "7": "D Data withheld to limit disclosure.. - Represents zero.. 1 The Principal Applicant category previously included siblings, parents, and other dependents, who are now included in the Other category.. 2 Includes persons in a civil union.. 3 Includes persons in common law marriage.. Note: Excludes Amerasian immigrants. Figures are based on refugee arrival date; certain refugee applicants who arrived in FY 2021 are counted for that year and not towards the FY 2018 refugee admissions ceiling.. Source: DHS Office of Immigration Statistics."
                },
                {
                  "0": "AGE  60 to 64 years",
                  "1": "216",
                  "2": "157",
                  "3": "59",
                  "4": "-",
                  "5": "-",
                  "6": "Table 15.. REFUGEE ARRIVALS BY RELATIONSHIP TO PRINCIPAL APPLICANT AND SEX, AGE, AND MARITAL STATUS: FISCAL YEAR 2021",
                  "7": "D Data withheld to limit disclosure.. - Represents zero.. 1 The Principal Applicant category previously included siblings, parents, and other dependents, who are now included in the Other category.. 2 Includes persons in a civil union.. 3 Includes persons in common law marriage.. Note: Excludes Amerasian immigrants. Figures are based on refugee arrival date; certain refugee applicants who arrived in FY 2021 are counted for that year and not towards the FY 2018 refugee admissions ceiling.. Source: DHS Office of Immigration Statistics."
                },
                {
                  "0": "AGE  65 to 74 years",
                  "1": "233",
                  "2": "169",
                  "3": "D",
                  "4": "-",
                  "5": "D",
                  "6": "Table 15.. REFUGEE ARRIVALS BY RELATIONSHIP TO PRINCIPAL APPLICANT AND SEX, AGE, AND MARITAL STATUS: FISCAL YEAR 2021",
                  "7": "D Data withheld to limit disclosure.. - Represents zero.. 1 The Principal Applicant category previously included siblings, parents, and other dependents, who are now included in the Other category.. 2 Includes persons in a civil union.. 3 Includes persons in common law marriage.. Note: Excludes Amerasian immigrants. Figures are based on refugee arrival date; certain refugee applicants who arrived in FY 2021 are counted for that year and not towards the FY 2018 refugee admissions ceiling.. Source: DHS Office of Immigration Statistics."
                },
                {
                  "0": "AGE  75 years and over",
                  "1": "71",
                  "2": "60",
                  "3": "11",
                  "4": "-",
                  "5": "-",
                  "6": "Table 15.. REFUGEE ARRIVALS BY RELATIONSHIP TO PRINCIPAL APPLICANT AND SEX, AGE, AND MARITAL STATUS: FISCAL YEAR 2021",
                  "7": "D Data withheld to limit disclosure.. - Represents zero.. 1 The Principal Applicant category previously included siblings, parents, and other dependents, who are now included in the Other category.. 2 Includes persons in a civil union.. 3 Includes persons in common law marriage.. Note: Excludes Amerasian immigrants. Figures are based on refugee arrival date; certain refugee applicants who arrived in FY 2021 are counted for that year and not towards the FY 2018 refugee admissions ceiling.. Source: DHS Office of Immigration Statistics."
                },
                {
                  "0": "BROAD AGE GROUPS  Total",
                  "1": "11454",
                  "2": "4557",
                  "3": "1364",
                  "4": "5493",
                  "5": "40",
                  "6": "Table 15.. REFUGEE ARRIVALS BY RELATIONSHIP TO PRINCIPAL APPLICANT AND SEX, AGE, AND MARITAL STATUS: FISCAL YEAR 2021",
                  "7": "D Data withheld to limit disclosure.. - Represents zero.. 1 The Principal Applicant category previously included siblings, parents, and other dependents, who are now included in the Other category.. 2 Includes persons in a civil union.. 3 Includes persons in common law marriage.. Note: Excludes Amerasian immigrants. Figures are based on refugee arrival date; certain refugee applicants who arrived in FY 2021 are counted for that year and not towards the FY 2018 refugee admissions ceiling.. Source: DHS Office of Immigration Statistics."
                },
                {
                  "0": "BROAD AGE GROUPS  Under 16 years",
                  "1": "4030",
                  "2": "95",
                  "3": "-",
                  "4": "3912",
                  "5": "23",
                  "6": "Table 15.. REFUGEE ARRIVALS BY RELATIONSHIP TO PRINCIPAL APPLICANT AND SEX, AGE, AND MARITAL STATUS: FISCAL YEAR 2021",
                  "7": "D Data withheld to limit disclosure.. - Represents zero.. 1 The Principal Applicant category previously included siblings, parents, and other dependents, who are now included in the Other category.. 2 Includes persons in a civil union.. 3 Includes persons in common law marriage.. Note: Excludes Amerasian immigrants. Figures are based on refugee arrival date; certain refugee applicants who arrived in FY 2021 are counted for that year and not towards the FY 2018 refugee admissions ceiling.. Source: DHS Office of Immigration Statistics."
                },
                {
                  "0": "BROAD AGE GROUPS  16 to 20 years",
                  "1": "1230",
                  "2": "129",
                  "3": "D",
                  "4": "1085",
                  "5": "D",
                  "6": "Table 15.. REFUGEE ARRIVALS BY RELATIONSHIP TO PRINCIPAL APPLICANT AND SEX, AGE, AND MARITAL STATUS: FISCAL YEAR 2021",
                  "7": "D Data withheld to limit disclosure.. - Represents zero.. 1 The Principal Applicant category previously included siblings, parents, and other dependents, who are now included in the Other category.. 2 Includes persons in a civil union.. 3 Includes persons in common law marriage.. Note: Excludes Amerasian immigrants. Figures are based on refugee arrival date; certain refugee applicants who arrived in FY 2021 are counted for that year and not towards the FY 2018 refugee admissions ceiling.. Source: DHS Office of Immigration Statistics."
                },
                {
                  "0": "BROAD AGE GROUPS  21 years and over",
                  "1": "6194",
                  "2": "4333",
                  "3": "D",
                  "4": "496",
                  "5": "D",
                  "6": "Table 15.. REFUGEE ARRIVALS BY RELATIONSHIP TO PRINCIPAL APPLICANT AND SEX, AGE, AND MARITAL STATUS: FISCAL YEAR 2021",
                  "7": "D Data withheld to limit disclosure.. - Represents zero.. 1 The Principal Applicant category previously included siblings, parents, and other dependents, who are now included in the Other category.. 2 Includes persons in a civil union.. 3 Includes persons in common law marriage.. Note: Excludes Amerasian immigrants. Figures are based on refugee arrival date; certain refugee applicants who arrived in FY 2021 are counted for that year and not towards the FY 2018 refugee admissions ceiling.. Source: DHS Office of Immigration Statistics."
                },
                {
                  "0": "MARITAL STATUS  Total",
                  "1": "11454",
                  "2": "4557",
                  "3": "1364",
                  "4": "5493",
                  "5": "40",
                  "6": "Table 15.. REFUGEE ARRIVALS BY RELATIONSHIP TO PRINCIPAL APPLICANT AND SEX, AGE, AND MARITAL STATUS: FISCAL YEAR 2021",
                  "7": "D Data withheld to limit disclosure.. - Represents zero.. 1 The Principal Applicant category previously included siblings, parents, and other dependents, who are now included in the Other category.. 2 Includes persons in a civil union.. 3 Includes persons in common law marriage.. Note: Excludes Amerasian immigrants. Figures are based on refugee arrival date; certain refugee applicants who arrived in FY 2021 are counted for that year and not towards the FY 2018 refugee admissions ceiling.. Source: DHS Office of Immigration Statistics."
                },
                {
                  "0": "MARITAL STATUS  Married3",
                  "1": "3303",
                  "2": "1939",
                  "3": "D",
                  "4": "-",
                  "5": "D",
                  "6": "Table 15.. REFUGEE ARRIVALS BY RELATIONSHIP TO PRINCIPAL APPLICANT AND SEX, AGE, AND MARITAL STATUS: FISCAL YEAR 2021",
                  "7": "D Data withheld to limit disclosure.. - Represents zero.. 1 The Principal Applicant category previously included siblings, parents, and other dependents, who are now included in the Other category.. 2 Includes persons in a civil union.. 3 Includes persons in common law marriage.. Note: Excludes Amerasian immigrants. Figures are based on refugee arrival date; certain refugee applicants who arrived in FY 2021 are counted for that year and not towards the FY 2018 refugee admissions ceiling.. Source: DHS Office of Immigration Statistics."
                },
                {
                  "0": "MARITAL STATUS  Single",
                  "1": "7666",
                  "2": "2137",
                  "3": "-",
                  "4": "D",
                  "5": "D",
                  "6": "Table 15.. REFUGEE ARRIVALS BY RELATIONSHIP TO PRINCIPAL APPLICANT AND SEX, AGE, AND MARITAL STATUS: FISCAL YEAR 2021",
                  "7": "D Data withheld to limit disclosure.. - Represents zero.. 1 The Principal Applicant category previously included siblings, parents, and other dependents, who are now included in the Other category.. 2 Includes persons in a civil union.. 3 Includes persons in common law marriage.. Note: Excludes Amerasian immigrants. Figures are based on refugee arrival date; certain refugee applicants who arrived in FY 2021 are counted for that year and not towards the FY 2018 refugee admissions ceiling.. Source: DHS Office of Immigration Statistics."
                },
                {
                  "0": "MARITAL STATUS  Widowed",
                  "1": "347",
                  "2": "D",
                  "3": "-",
                  "4": "D",
                  "5": "D",
                  "6": "Table 15.. REFUGEE ARRIVALS BY RELATIONSHIP TO PRINCIPAL APPLICANT AND SEX, AGE, AND MARITAL STATUS: FISCAL YEAR 2021",
                  "7": "D Data withheld to limit disclosure.. - Represents zero.. 1 The Principal Applicant category previously included siblings, parents, and other dependents, who are now included in the Other category.. 2 Includes persons in a civil union.. 3 Includes persons in common law marriage.. Note: Excludes Amerasian immigrants. Figures are based on refugee arrival date; certain refugee applicants who arrived in FY 2021 are counted for that year and not towards the FY 2018 refugee admissions ceiling.. Source: DHS Office of Immigration Statistics."
                },
                {
                  "0": "MARITAL STATUS  Divorced/separated",
                  "1": "137",
                  "2": "D",
                  "3": "D",
                  "4": "D",
                  "5": "-",
                  "6": "Table 15.. REFUGEE ARRIVALS BY RELATIONSHIP TO PRINCIPAL APPLICANT AND SEX, AGE, AND MARITAL STATUS: FISCAL YEAR 2021",
                  "7": "D Data withheld to limit disclosure.. - Represents zero.. 1 The Principal Applicant category previously included siblings, parents, and other dependents, who are now included in the Other category.. 2 Includes persons in a civil union.. 3 Includes persons in common law marriage.. Note: Excludes Amerasian immigrants. Figures are based on refugee arrival date; certain refugee applicants who arrived in FY 2021 are counted for that year and not towards the FY 2018 refugee admissions ceiling.. Source: DHS Office of Immigration Statistics."
                },
                {
                  "0": "MARITAL STATUS  Unknown",
                  "1": "D",
                  "2": "D",
                  "3": "-",
                  "4": "-",
                  "5": "-",
                  "6": "Table 15.. REFUGEE ARRIVALS BY RELATIONSHIP TO PRINCIPAL APPLICANT AND SEX, AGE, AND MARITAL STATUS: FISCAL YEAR 2021",
                  "7": "D Data withheld to limit disclosure.. - Represents zero.. 1 The Principal Applicant category previously included siblings, parents, and other dependents, who are now included in the Other category.. 2 Includes persons in a civil union.. 3 Includes persons in common law marriage.. Note: Excludes Amerasian immigrants. Figures are based on refugee arrival date; certain refugee applicants who arrived in FY 2021 are counted for that year and not towards the FY 2018 refugee admissions ceiling.. Source: DHS Office of Immigration Statistics."
                }
              ],
              "schema": [
                {
                  "key": "0",
                  "name": "Characteristic",
                  "type": "string"
                },
                {
                  "key": "1",
                  "name": "Total",
                  "type": "string"
                },
                {
                  "key": "2",
                  "name": "col_2",
                  "type": "string"
                },
                {
                  "key": "3",
                  "name": "Spouses2",
                  "type": "string"
                },
                {
                  "key": "4",
                  "name": "Children",
                  "type": "string"
                },
                {
                  "key": "5",
                  "name": "Other",
                  "type": "string"
                },
                {
                  "key": "6",
                  "name": "Header",
                  "type": "string"
                },
                {
                  "key": "7",
                  "name": "Footer",
                  "type": "string"
                }
              ],
              "truncated": false
            },
            "isSummary": false,
            "language": "scala"
          },
          "persist_state": {
            "view": {
              "type": "details",
              "tableOptions": {},
              "chartOptions": {
                "chartType": "bar",
                "aggregationType": "count",
                "categoryFieldKeys": [
                  "0"
                ],
                "seriesFieldKeys": [
                  "0"
                ],
                "isStacked": false
              }
            }
          }
        },
        "53b090ad-2255-43d4-bb13-bd657ae9f82b": {
          "type": "Synapse.DataFrame",
          "sync_state": {
            "table": {
              "rows": [
                {
                  "0": "REGION  Total",
                  "1": "10575",
                  "2": "9767",
                  "3": "8636",
                  "4": "8140",
                  "5": "8693",
                  "6": "10565",
                  "7": "13197",
                  "8": "18909",
                  "9": "14601",
                  "10": "7367",
                  "11": "Table 19.. INDIVIDUALS GRANTED ASYLUM DEFENSIVELY BY REGION AND COUNTRY OF NATIONALITY: FISCAL YEARS 2012 TO 2021",
                  "12": "NA Not available.. D Data withheld to limit disclosure.. - Represents zero.  . 1 Includes countries with fewer than 10 individuals granted asylum defensively per year.. 2 Includes admissions from Palestinian Territories. Figures for Soviet Union (former) for 2016 and onward and for Serbia and Montenegro (former) for 2021 and onward are assigned to Unknown.. Note: In this table, data are withheld for any cell with a count of 1, 2, or 3, and for any associated cell that could be used to reveal such a count through calculation.. Source: DHS Office of Immigration Statistics."
                },
                {
                  "0": "REGION  Africa",
                  "1": "2078",
                  "2": "1897",
                  "3": "1643",
                  "4": "1372",
                  "5": "1308",
                  "6": "1535",
                  "7": "1600",
                  "8": "2315",
                  "9": "1559",
                  "10": "783",
                  "11": "Table 19.. INDIVIDUALS GRANTED ASYLUM DEFENSIVELY BY REGION AND COUNTRY OF NATIONALITY: FISCAL YEARS 2012 TO 2021",
                  "12": "NA Not available.. D Data withheld to limit disclosure.. - Represents zero.  . 1 Includes countries with fewer than 10 individuals granted asylum defensively per year.. 2 Includes admissions from Palestinian Territories. Figures for Soviet Union (former) for 2016 and onward and for Serbia and Montenegro (former) for 2021 and onward are assigned to Unknown.. Note: In this table, data are withheld for any cell with a count of 1, 2, or 3, and for any associated cell that could be used to reveal such a count through calculation.. Source: DHS Office of Immigration Statistics."
                },
                {
                  "0": "REGION  Asia",
                  "1": "6707",
                  "2": "6088",
                  "3": "5413",
                  "4": "4769",
                  "5": "4217",
                  "6": "4251",
                  "7": "5654",
                  "8": "7686",
                  "9": "4671",
                  "10": "2254",
                  "11": "Table 19.. INDIVIDUALS GRANTED ASYLUM DEFENSIVELY BY REGION AND COUNTRY OF NATIONALITY: FISCAL YEARS 2012 TO 2021",
                  "12": "NA Not available.. D Data withheld to limit disclosure.. - Represents zero.  . 1 Includes countries with fewer than 10 individuals granted asylum defensively per year.. 2 Includes admissions from Palestinian Territories. Figures for Soviet Union (former) for 2016 and onward and for Serbia and Montenegro (former) for 2021 and onward are assigned to Unknown.. Note: In this table, data are withheld for any cell with a count of 1, 2, or 3, and for any associated cell that could be used to reveal such a count through calculation.. Source: DHS Office of Immigration Statistics."
                },
                {
                  "0": "REGION  Europe",
                  "1": "817",
                  "2": "850",
                  "3": "636",
                  "4": "532",
                  "5": "360",
                  "6": "398",
                  "7": "597",
                  "8": "794",
                  "9": "547",
                  "10": "368",
                  "11": "Table 19.. INDIVIDUALS GRANTED ASYLUM DEFENSIVELY BY REGION AND COUNTRY OF NATIONALITY: FISCAL YEARS 2012 TO 2021",
                  "12": "NA Not available.. D Data withheld to limit disclosure.. - Represents zero.  . 1 Includes countries with fewer than 10 individuals granted asylum defensively per year.. 2 Includes admissions from Palestinian Territories. Figures for Soviet Union (former) for 2016 and onward and for Serbia and Montenegro (former) for 2021 and onward are assigned to Unknown.. Note: In this table, data are withheld for any cell with a count of 1, 2, or 3, and for any associated cell that could be used to reveal such a count through calculation.. Source: DHS Office of Immigration Statistics."
                },
                {
                  "0": "REGION  North America",
                  "1": "618",
                  "2": "678",
                  "3": "707",
                  "4": "1277",
                  "5": "2541",
                  "6": "4004",
                  "7": "4870",
                  "8": "7136",
                  "9": "6575",
                  "10": "3302",
                  "11": "Table 19.. INDIVIDUALS GRANTED ASYLUM DEFENSIVELY BY REGION AND COUNTRY OF NATIONALITY: FISCAL YEARS 2012 TO 2021",
                  "12": "NA Not available.. D Data withheld to limit disclosure.. - Represents zero.  . 1 Includes countries with fewer than 10 individuals granted asylum defensively per year.. 2 Includes admissions from Palestinian Territories. Figures for Soviet Union (former) for 2016 and onward and for Serbia and Montenegro (former) for 2021 and onward are assigned to Unknown.. Note: In this table, data are withheld for any cell with a count of 1, 2, or 3, and for any associated cell that could be used to reveal such a count through calculation.. Source: DHS Office of Immigration Statistics."
                },
                {
                  "0": "REGION  Oceania",
                  "1": "12",
                  "2": "5",
                  "3": "D",
                  "4": "D",
                  "5": "-",
                  "6": "D",
                  "7": "D",
                  "8": "6",
                  "9": "4",
                  "10": "-",
                  "11": "Table 19.. INDIVIDUALS GRANTED ASYLUM DEFENSIVELY BY REGION AND COUNTRY OF NATIONALITY: FISCAL YEARS 2012 TO 2021",
                  "12": "NA Not available.. D Data withheld to limit disclosure.. - Represents zero.  . 1 Includes countries with fewer than 10 individuals granted asylum defensively per year.. 2 Includes admissions from Palestinian Territories. Figures for Soviet Union (former) for 2016 and onward and for Serbia and Montenegro (former) for 2021 and onward are assigned to Unknown.. Note: In this table, data are withheld for any cell with a count of 1, 2, or 3, and for any associated cell that could be used to reveal such a count through calculation.. Source: DHS Office of Immigration Statistics."
                },
                {
                  "0": "REGION  South America",
                  "1": "251",
                  "2": "205",
                  "3": "201",
                  "4": "155",
                  "5": "114",
                  "6": "219",
                  "7": "337",
                  "8": "772",
                  "9": "1102",
                  "10": "609",
                  "11": "Table 19.. INDIVIDUALS GRANTED ASYLUM DEFENSIVELY BY REGION AND COUNTRY OF NATIONALITY: FISCAL YEARS 2012 TO 2021",
                  "12": "NA Not available.. D Data withheld to limit disclosure.. - Represents zero.  . 1 Includes countries with fewer than 10 individuals granted asylum defensively per year.. 2 Includes admissions from Palestinian Territories. Figures for Soviet Union (former) for 2016 and onward and for Serbia and Montenegro (former) for 2021 and onward are assigned to Unknown.. Note: In this table, data are withheld for any cell with a count of 1, 2, or 3, and for any associated cell that could be used to reveal such a count through calculation.. Source: DHS Office of Immigration Statistics."
                },
                {
                  "0": "REGION  Unknown",
                  "1": "92",
                  "2": "44",
                  "3": "D",
                  "4": "D",
                  "5": "153",
                  "6": "D",
                  "7": "D",
                  "8": "200",
                  "9": "143",
                  "10": "51",
                  "11": "Table 19.. INDIVIDUALS GRANTED ASYLUM DEFENSIVELY BY REGION AND COUNTRY OF NATIONALITY: FISCAL YEARS 2012 TO 2021",
                  "12": "NA Not available.. D Data withheld to limit disclosure.. - Represents zero.  . 1 Includes countries with fewer than 10 individuals granted asylum defensively per year.. 2 Includes admissions from Palestinian Territories. Figures for Soviet Union (former) for 2016 and onward and for Serbia and Montenegro (former) for 2021 and onward are assigned to Unknown.. Note: In this table, data are withheld for any cell with a count of 1, 2, or 3, and for any associated cell that could be used to reveal such a count through calculation.. Source: DHS Office of Immigration Statistics."
                },
                {
                  "0": "COUNTRY  Total",
                  "1": "10575",
                  "2": "9767",
                  "3": "8636",
                  "4": "8140",
                  "5": "8693",
                  "6": "10565",
                  "7": "13197",
                  "8": "18909",
                  "9": "14601",
                  "10": "7367",
                  "11": "Table 19.. INDIVIDUALS GRANTED ASYLUM DEFENSIVELY BY REGION AND COUNTRY OF NATIONALITY: FISCAL YEARS 2012 TO 2021",
                  "12": "NA Not available.. D Data withheld to limit disclosure.. - Represents zero.  . 1 Includes countries with fewer than 10 individuals granted asylum defensively per year.. 2 Includes admissions from Palestinian Territories. Figures for Soviet Union (former) for 2016 and onward and for Serbia and Montenegro (former) for 2021 and onward are assigned to Unknown.. Note: In this table, data are withheld for any cell with a count of 1, 2, or 3, and for any associated cell that could be used to reveal such a count through calculation.. Source: DHS Office of Immigration Statistics."
                },
                {
                  "0": "COUNTRY  Afghanistan",
                  "1": "33",
                  "2": "16",
                  "3": "18",
                  "4": "14",
                  "5": "23",
                  "6": "28",
                  "7": "28",
                  "8": "31",
                  "9": "20",
                  "10": "11",
                  "11": "Table 19.. INDIVIDUALS GRANTED ASYLUM DEFENSIVELY BY REGION AND COUNTRY OF NATIONALITY: FISCAL YEARS 2012 TO 2021",
                  "12": "NA Not available.. D Data withheld to limit disclosure.. - Represents zero.  . 1 Includes countries with fewer than 10 individuals granted asylum defensively per year.. 2 Includes admissions from Palestinian Territories. Figures for Soviet Union (former) for 2016 and onward and for Serbia and Montenegro (former) for 2021 and onward are assigned to Unknown.. Note: In this table, data are withheld for any cell with a count of 1, 2, or 3, and for any associated cell that could be used to reveal such a count through calculation.. Source: DHS Office of Immigration Statistics."
                },
                {
                  "0": "COUNTRY  Albania",
                  "1": "67",
                  "2": "60",
                  "3": "64",
                  "4": "75",
                  "5": "94",
                  "6": "118",
                  "7": "180",
                  "8": "122",
                  "9": "79",
                  "10": "28",
                  "11": "Table 19.. INDIVIDUALS GRANTED ASYLUM DEFENSIVELY BY REGION AND COUNTRY OF NATIONALITY: FISCAL YEARS 2012 TO 2021",
                  "12": "NA Not available.. D Data withheld to limit disclosure.. - Represents zero.  . 1 Includes countries with fewer than 10 individuals granted asylum defensively per year.. 2 Includes admissions from Palestinian Territories. Figures for Soviet Union (former) for 2016 and onward and for Serbia and Montenegro (former) for 2021 and onward are assigned to Unknown.. Note: In this table, data are withheld for any cell with a count of 1, 2, or 3, and for any associated cell that could be used to reveal such a count through calculation.. Source: DHS Office of Immigration Statistics."
                },
                {
                  "0": "COUNTRY  Angola",
                  "1": "D",
                  "2": "D",
                  "3": "D",
                  "4": "D",
                  "5": "6",
                  "6": "11",
                  "7": "19",
                  "8": "29",
                  "9": "22",
                  "10": "24",
                  "11": "Table 19.. INDIVIDUALS GRANTED ASYLUM DEFENSIVELY BY REGION AND COUNTRY OF NATIONALITY: FISCAL YEARS 2012 TO 2021",
                  "12": "NA Not available.. D Data withheld to limit disclosure.. - Represents zero.  . 1 Includes countries with fewer than 10 individuals granted asylum defensively per year.. 2 Includes admissions from Palestinian Territories. Figures for Soviet Union (former) for 2016 and onward and for Serbia and Montenegro (former) for 2021 and onward are assigned to Unknown.. Note: In this table, data are withheld for any cell with a count of 1, 2, or 3, and for any associated cell that could be used to reveal such a count through calculation.. Source: DHS Office of Immigration Statistics."
                },
                {
                  "0": "COUNTRY  Armenia",
                  "1": "72",
                  "2": "51",
                  "3": "49",
                  "4": "21",
                  "5": "18",
                  "6": "36",
                  "7": "58",
                  "8": "106",
                  "9": "61",
                  "10": "38",
                  "11": "Table 19.. INDIVIDUALS GRANTED ASYLUM DEFENSIVELY BY REGION AND COUNTRY OF NATIONALITY: FISCAL YEARS 2012 TO 2021",
                  "12": "NA Not available.. D Data withheld to limit disclosure.. - Represents zero.  . 1 Includes countries with fewer than 10 individuals granted asylum defensively per year.. 2 Includes admissions from Palestinian Territories. Figures for Soviet Union (former) for 2016 and onward and for Serbia and Montenegro (former) for 2021 and onward are assigned to Unknown.. Note: In this table, data are withheld for any cell with a count of 1, 2, or 3, and for any associated cell that could be used to reveal such a count through calculation.. Source: DHS Office of Immigration Statistics."
                },
                {
                  "0": "COUNTRY  Azerbaijan",
                  "1": "16",
                  "2": "6",
                  "3": "10",
                  "4": "11",
                  "5": "D",
                  "6": "14",
                  "7": "21",
                  "8": "21",
                  "9": "13",
                  "10": "22",
                  "11": "Table 19.. INDIVIDUALS GRANTED ASYLUM DEFENSIVELY BY REGION AND COUNTRY OF NATIONALITY: FISCAL YEARS 2012 TO 2021",
                  "12": "NA Not available.. D Data withheld to limit disclosure.. - Represents zero.  . 1 Includes countries with fewer than 10 individuals granted asylum defensively per year.. 2 Includes admissions from Palestinian Territories. Figures for Soviet Union (former) for 2016 and onward and for Serbia and Montenegro (former) for 2021 and onward are assigned to Unknown.. Note: In this table, data are withheld for any cell with a count of 1, 2, or 3, and for any associated cell that could be used to reveal such a count through calculation.. Source: DHS Office of Immigration Statistics."
                },
                {
                  "0": "COUNTRY  Bangladesh",
                  "1": "57",
                  "2": "65",
                  "3": "51",
                  "4": "92",
                  "5": "91",
                  "6": "120",
                  "7": "287",
                  "8": "367",
                  "9": "290",
                  "10": "108",
                  "11": "Table 19.. INDIVIDUALS GRANTED ASYLUM DEFENSIVELY BY REGION AND COUNTRY OF NATIONALITY: FISCAL YEARS 2012 TO 2021",
                  "12": "NA Not available.. D Data withheld to limit disclosure.. - Represents zero.  . 1 Includes countries with fewer than 10 individuals granted asylum defensively per year.. 2 Includes admissions from Palestinian Territories. Figures for Soviet Union (former) for 2016 and onward and for Serbia and Montenegro (former) for 2021 and onward are assigned to Unknown.. Note: In this table, data are withheld for any cell with a count of 1, 2, or 3, and for any associated cell that could be used to reveal such a count through calculation.. Source: DHS Office of Immigration Statistics."
                },
                {
                  "0": "COUNTRY  Belarus",
                  "1": "71",
                  "2": "72",
                  "3": "54",
                  "4": "34",
                  "5": "25",
                  "6": "25",
                  "7": "38",
                  "8": "37",
                  "9": "24",
                  "10": "36",
                  "11": "Table 19.. INDIVIDUALS GRANTED ASYLUM DEFENSIVELY BY REGION AND COUNTRY OF NATIONALITY: FISCAL YEARS 2012 TO 2021",
                  "12": "NA Not available.. D Data withheld to limit disclosure.. - Represents zero.  . 1 Includes countries with fewer than 10 individuals granted asylum defensively per year.. 2 Includes admissions from Palestinian Territories. Figures for Soviet Union (former) for 2016 and onward and for Serbia and Montenegro (former) for 2021 and onward are assigned to Unknown.. Note: In this table, data are withheld for any cell with a count of 1, 2, or 3, and for any associated cell that could be used to reveal such a count through calculation.. Source: DHS Office of Immigration Statistics."
                },
                {
                  "0": "COUNTRY  Benin",
                  "1": "5",
                  "2": "10",
                  "3": "4",
                  "4": "10",
                  "5": "D",
                  "6": "D",
                  "7": "-",
                  "8": "D",
                  "9": "D",
                  "10": "-",
                  "11": "Table 19.. INDIVIDUALS GRANTED ASYLUM DEFENSIVELY BY REGION AND COUNTRY OF NATIONALITY: FISCAL YEARS 2012 TO 2021",
                  "12": "NA Not available.. D Data withheld to limit disclosure.. - Represents zero.  . 1 Includes countries with fewer than 10 individuals granted asylum defensively per year.. 2 Includes admissions from Palestinian Territories. Figures for Soviet Union (former) for 2016 and onward and for Serbia and Montenegro (former) for 2021 and onward are assigned to Unknown.. Note: In this table, data are withheld for any cell with a count of 1, 2, or 3, and for any associated cell that could be used to reveal such a count through calculation.. Source: DHS Office of Immigration Statistics."
                },
                {
                  "0": "COUNTRY  Bolivia",
                  "1": "7",
                  "2": "4",
                  "3": "D",
                  "4": "D",
                  "5": "-",
                  "6": "D",
                  "7": "D",
                  "8": "11",
                  "9": "D",
                  "10": "D",
                  "11": "Table 19.. INDIVIDUALS GRANTED ASYLUM DEFENSIVELY BY REGION AND COUNTRY OF NATIONALITY: FISCAL YEARS 2012 TO 2021",
                  "12": "NA Not available.. D Data withheld to limit disclosure.. - Represents zero.  . 1 Includes countries with fewer than 10 individuals granted asylum defensively per year.. 2 Includes admissions from Palestinian Territories. Figures for Soviet Union (former) for 2016 and onward and for Serbia and Montenegro (former) for 2021 and onward are assigned to Unknown.. Note: In this table, data are withheld for any cell with a count of 1, 2, or 3, and for any associated cell that could be used to reveal such a count through calculation.. Source: DHS Office of Immigration Statistics."
                },
                {
                  "0": "COUNTRY  Brazil",
                  "1": "13",
                  "2": "14",
                  "3": "5",
                  "4": "D",
                  "5": "5",
                  "6": "10",
                  "7": "21",
                  "8": "38",
                  "9": "50",
                  "10": "30",
                  "11": "Table 19.. INDIVIDUALS GRANTED ASYLUM DEFENSIVELY BY REGION AND COUNTRY OF NATIONALITY: FISCAL YEARS 2012 TO 2021",
                  "12": "NA Not available.. D Data withheld to limit disclosure.. - Represents zero.  . 1 Includes countries with fewer than 10 individuals granted asylum defensively per year.. 2 Includes admissions from Palestinian Territories. Figures for Soviet Union (former) for 2016 and onward and for Serbia and Montenegro (former) for 2021 and onward are assigned to Unknown.. Note: In this table, data are withheld for any cell with a count of 1, 2, or 3, and for any associated cell that could be used to reveal such a count through calculation.. Source: DHS Office of Immigration Statistics."
                },
                {
                  "0": "COUNTRY  Bulgaria",
                  "1": "16",
                  "2": "5",
                  "3": "10",
                  "4": "D",
                  "5": "6",
                  "6": "D",
                  "7": "4",
                  "8": "10",
                  "9": "-",
                  "10": "4",
                  "11": "Table 19.. INDIVIDUALS GRANTED ASYLUM DEFENSIVELY BY REGION AND COUNTRY OF NATIONALITY: FISCAL YEARS 2012 TO 2021",
                  "12": "NA Not available.. D Data withheld to limit disclosure.. - Represents zero.  . 1 Includes countries with fewer than 10 individuals granted asylum defensively per year.. 2 Includes admissions from Palestinian Territories. Figures for Soviet Union (former) for 2016 and onward and for Serbia and Montenegro (former) for 2021 and onward are assigned to Unknown.. Note: In this table, data are withheld for any cell with a count of 1, 2, or 3, and for any associated cell that could be used to reveal such a count through calculation.. Source: DHS Office of Immigration Statistics."
                },
                {
                  "0": "COUNTRY  Burkina Faso",
                  "1": "53",
                  "2": "58",
                  "3": "60",
                  "4": "51",
                  "5": "71",
                  "6": "78",
                  "7": "63",
                  "8": "81",
                  "9": "58",
                  "10": "20",
                  "11": "Table 19.. INDIVIDUALS GRANTED ASYLUM DEFENSIVELY BY REGION AND COUNTRY OF NATIONALITY: FISCAL YEARS 2012 TO 2021",
                  "12": "NA Not available.. D Data withheld to limit disclosure.. - Represents zero.  . 1 Includes countries with fewer than 10 individuals granted asylum defensively per year.. 2 Includes admissions from Palestinian Territories. Figures for Soviet Union (former) for 2016 and onward and for Serbia and Montenegro (former) for 2021 and onward are assigned to Unknown.. Note: In this table, data are withheld for any cell with a count of 1, 2, or 3, and for any associated cell that could be used to reveal such a count through calculation.. Source: DHS Office of Immigration Statistics."
                },
                {
                  "0": "COUNTRY  Burma",
                  "1": "62",
                  "2": "33",
                  "3": "24",
                  "4": "20",
                  "5": "16",
                  "6": "10",
                  "7": "15",
                  "8": "26",
                  "9": "12",
                  "10": "21",
                  "11": "Table 19.. INDIVIDUALS GRANTED ASYLUM DEFENSIVELY BY REGION AND COUNTRY OF NATIONALITY: FISCAL YEARS 2012 TO 2021",
                  "12": "NA Not available.. D Data withheld to limit disclosure.. - Represents zero.  . 1 Includes countries with fewer than 10 individuals granted asylum defensively per year.. 2 Includes admissions from Palestinian Territories. Figures for Soviet Union (former) for 2016 and onward and for Serbia and Montenegro (former) for 2021 and onward are assigned to Unknown.. Note: In this table, data are withheld for any cell with a count of 1, 2, or 3, and for any associated cell that could be used to reveal such a count through calculation.. Source: DHS Office of Immigration Statistics."
                },
                {
                  "0": "COUNTRY  Burundi",
                  "1": "10",
                  "2": "12",
                  "3": "31",
                  "4": "18",
                  "5": "28",
                  "6": "20",
                  "7": "22",
                  "8": "47",
                  "9": "16",
                  "10": "7",
                  "11": "Table 19.. INDIVIDUALS GRANTED ASYLUM DEFENSIVELY BY REGION AND COUNTRY OF NATIONALITY: FISCAL YEARS 2012 TO 2021",
                  "12": "NA Not available.. D Data withheld to limit disclosure.. - Represents zero.  . 1 Includes countries with fewer than 10 individuals granted asylum defensively per year.. 2 Includes admissions from Palestinian Territories. Figures for Soviet Union (former) for 2016 and onward and for Serbia and Montenegro (former) for 2021 and onward are assigned to Unknown.. Note: In this table, data are withheld for any cell with a count of 1, 2, or 3, and for any associated cell that could be used to reveal such a count through calculation.. Source: DHS Office of Immigration Statistics."
                },
                {
                  "0": "COUNTRY  Cameroon",
                  "1": "150",
                  "2": "136",
                  "3": "110",
                  "4": "92",
                  "5": "114",
                  "6": "219",
                  "7": "312",
                  "8": "659",
                  "9": "591",
                  "10": "142",
                  "11": "Table 19.. INDIVIDUALS GRANTED ASYLUM DEFENSIVELY BY REGION AND COUNTRY OF NATIONALITY: FISCAL YEARS 2012 TO 2021",
                  "12": "NA Not available.. D Data withheld to limit disclosure.. - Represents zero.  . 1 Includes countries with fewer than 10 individuals granted asylum defensively per year.. 2 Includes admissions from Palestinian Territories. Figures for Soviet Union (former) for 2016 and onward and for Serbia and Montenegro (former) for 2021 and onward are assigned to Unknown.. Note: In this table, data are withheld for any cell with a count of 1, 2, or 3, and for any associated cell that could be used to reveal such a count through calculation.. Source: DHS Office of Immigration Statistics."
                },
                {
                  "0": "COUNTRY  Central African Republic",
                  "1": "D",
                  "2": "8",
                  "3": "D",
                  "4": "D",
                  "5": "D",
                  "6": "7",
                  "7": "11",
                  "8": "D",
                  "9": "D",
                  "10": "D",
                  "11": "Table 19.. INDIVIDUALS GRANTED ASYLUM DEFENSIVELY BY REGION AND COUNTRY OF NATIONALITY: FISCAL YEARS 2012 TO 2021",
                  "12": "NA Not available.. D Data withheld to limit disclosure.. - Represents zero.  . 1 Includes countries with fewer than 10 individuals granted asylum defensively per year.. 2 Includes admissions from Palestinian Territories. Figures for Soviet Union (former) for 2016 and onward and for Serbia and Montenegro (former) for 2021 and onward are assigned to Unknown.. Note: In this table, data are withheld for any cell with a count of 1, 2, or 3, and for any associated cell that could be used to reveal such a count through calculation.. Source: DHS Office of Immigration Statistics."
                },
                {
                  "0": "COUNTRY  Chad",
                  "1": "25",
                  "2": "4",
                  "3": "7",
                  "4": "D",
                  "5": "4",
                  "6": "10",
                  "7": "7",
                  "8": "17",
                  "9": "5",
                  "10": "D",
                  "11": "Table 19.. INDIVIDUALS GRANTED ASYLUM DEFENSIVELY BY REGION AND COUNTRY OF NATIONALITY: FISCAL YEARS 2012 TO 2021",
                  "12": "NA Not available.. D Data withheld to limit disclosure.. - Represents zero.  . 1 Includes countries with fewer than 10 individuals granted asylum defensively per year.. 2 Includes admissions from Palestinian Territories. Figures for Soviet Union (former) for 2016 and onward and for Serbia and Montenegro (former) for 2021 and onward are assigned to Unknown.. Note: In this table, data are withheld for any cell with a count of 1, 2, or 3, and for any associated cell that could be used to reveal such a count through calculation.. Source: DHS Office of Immigration Statistics."
                },
                {
                  "0": "COUNTRY  China, People's Republic",
                  "1": "5000",
                  "2": "4510",
                  "3": "3981",
                  "4": "3585",
                  "5": "3077",
                  "6": "2731",
                  "7": "3048",
                  "8": "3459",
                  "9": "1950",
                  "10": "780",
                  "11": "Table 19.. INDIVIDUALS GRANTED ASYLUM DEFENSIVELY BY REGION AND COUNTRY OF NATIONALITY: FISCAL YEARS 2012 TO 2021",
                  "12": "NA Not available.. D Data withheld to limit disclosure.. - Represents zero.  . 1 Includes countries with fewer than 10 individuals granted asylum defensively per year.. 2 Includes admissions from Palestinian Territories. Figures for Soviet Union (former) for 2016 and onward and for Serbia and Montenegro (former) for 2021 and onward are assigned to Unknown.. Note: In this table, data are withheld for any cell with a count of 1, 2, or 3, and for any associated cell that could be used to reveal such a count through calculation.. Source: DHS Office of Immigration Statistics."
                },
                {
                  "0": "COUNTRY  Colombia",
                  "1": "97",
                  "2": "67",
                  "3": "67",
                  "4": "51",
                  "5": "24",
                  "6": "38",
                  "7": "40",
                  "8": "46",
                  "9": "37",
                  "10": "47",
                  "11": "Table 19.. INDIVIDUALS GRANTED ASYLUM DEFENSIVELY BY REGION AND COUNTRY OF NATIONALITY: FISCAL YEARS 2012 TO 2021",
                  "12": "NA Not available.. D Data withheld to limit disclosure.. - Represents zero.  . 1 Includes countries with fewer than 10 individuals granted asylum defensively per year.. 2 Includes admissions from Palestinian Territories. Figures for Soviet Union (former) for 2016 and onward and for Serbia and Montenegro (former) for 2021 and onward are assigned to Unknown.. Note: In this table, data are withheld for any cell with a count of 1, 2, or 3, and for any associated cell that could be used to reveal such a count through calculation.. Source: DHS Office of Immigration Statistics."
                },
                {
                  "0": "COUNTRY  Congo, Democratic Republic",
                  "1": "14",
                  "2": "25",
                  "3": "25",
                  "4": "22",
                  "5": "8",
                  "6": "32",
                  "7": "50",
                  "8": "56",
                  "9": "42",
                  "10": "26",
                  "11": "Table 19.. INDIVIDUALS GRANTED ASYLUM DEFENSIVELY BY REGION AND COUNTRY OF NATIONALITY: FISCAL YEARS 2012 TO 2021",
                  "12": "NA Not available.. D Data withheld to limit disclosure.. - Represents zero.  . 1 Includes countries with fewer than 10 individuals granted asylum defensively per year.. 2 Includes admissions from Palestinian Territories. Figures for Soviet Union (former) for 2016 and onward and for Serbia and Montenegro (former) for 2021 and onward are assigned to Unknown.. Note: In this table, data are withheld for any cell with a count of 1, 2, or 3, and for any associated cell that could be used to reveal such a count through calculation.. Source: DHS Office of Immigration Statistics."
                },
                {
                  "0": "COUNTRY  Congo, Republic",
                  "1": "42",
                  "2": "41",
                  "3": "21",
                  "4": "16",
                  "5": "33",
                  "6": "24",
                  "7": "40",
                  "8": "30",
                  "9": "18",
                  "10": "13",
                  "11": "Table 19.. INDIVIDUALS GRANTED ASYLUM DEFENSIVELY BY REGION AND COUNTRY OF NATIONALITY: FISCAL YEARS 2012 TO 2021",
                  "12": "NA Not available.. D Data withheld to limit disclosure.. - Represents zero.  . 1 Includes countries with fewer than 10 individuals granted asylum defensively per year.. 2 Includes admissions from Palestinian Territories. Figures for Soviet Union (former) for 2016 and onward and for Serbia and Montenegro (former) for 2021 and onward are assigned to Unknown.. Note: In this table, data are withheld for any cell with a count of 1, 2, or 3, and for any associated cell that could be used to reveal such a count through calculation.. Source: DHS Office of Immigration Statistics."
                },
                {
                  "0": "COUNTRY  Cote d'Ivoire",
                  "1": "56",
                  "2": "58",
                  "3": "47",
                  "4": "36",
                  "5": "17",
                  "6": "19",
                  "7": "23",
                  "8": "30",
                  "9": "20",
                  "10": "7",
                  "11": "Table 19.. INDIVIDUALS GRANTED ASYLUM DEFENSIVELY BY REGION AND COUNTRY OF NATIONALITY: FISCAL YEARS 2012 TO 2021",
                  "12": "NA Not available.. D Data withheld to limit disclosure.. - Represents zero.  . 1 Includes countries with fewer than 10 individuals granted asylum defensively per year.. 2 Includes admissions from Palestinian Territories. Figures for Soviet Union (former) for 2016 and onward and for Serbia and Montenegro (former) for 2021 and onward are assigned to Unknown.. Note: In this table, data are withheld for any cell with a count of 1, 2, or 3, and for any associated cell that could be used to reveal such a count through calculation.. Source: DHS Office of Immigration Statistics."
                },
                {
                  "0": "COUNTRY  Cuba",
                  "1": "6",
                  "2": "6",
                  "3": "9",
                  "4": "11",
                  "5": "7",
                  "6": "62",
                  "7": "161",
                  "8": "711",
                  "9": "1227",
                  "10": "95",
                  "11": "Table 19.. INDIVIDUALS GRANTED ASYLUM DEFENSIVELY BY REGION AND COUNTRY OF NATIONALITY: FISCAL YEARS 2012 TO 2021",
                  "12": "NA Not available.. D Data withheld to limit disclosure.. - Represents zero.  . 1 Includes countries with fewer than 10 individuals granted asylum defensively per year.. 2 Includes admissions from Palestinian Territories. Figures for Soviet Union (former) for 2016 and onward and for Serbia and Montenegro (former) for 2021 and onward are assigned to Unknown.. Note: In this table, data are withheld for any cell with a count of 1, 2, or 3, and for any associated cell that could be used to reveal such a count through calculation.. Source: DHS Office of Immigration Statistics."
                },
                {
                  "0": "COUNTRY  Djibouti",
                  "1": "5",
                  "2": "9",
                  "3": "D",
                  "4": "12",
                  "5": "D",
                  "6": "11",
                  "7": "6",
                  "8": "10",
                  "9": "6",
                  "10": "D",
                  "11": "Table 19.. INDIVIDUALS GRANTED ASYLUM DEFENSIVELY BY REGION AND COUNTRY OF NATIONALITY: FISCAL YEARS 2012 TO 2021",
                  "12": "NA Not available.. D Data withheld to limit disclosure.. - Represents zero.  . 1 Includes countries with fewer than 10 individuals granted asylum defensively per year.. 2 Includes admissions from Palestinian Territories. Figures for Soviet Union (former) for 2016 and onward and for Serbia and Montenegro (former) for 2021 and onward are assigned to Unknown.. Note: In this table, data are withheld for any cell with a count of 1, 2, or 3, and for any associated cell that could be used to reveal such a count through calculation.. Source: DHS Office of Immigration Statistics."
                },
                {
                  "0": "COUNTRY  Dominican Republic",
                  "1": "4",
                  "2": "4",
                  "3": "11",
                  "4": "6",
                  "5": "8",
                  "6": "6",
                  "7": "8",
                  "8": "6",
                  "9": "22",
                  "10": "4",
                  "11": "Table 19.. INDIVIDUALS GRANTED ASYLUM DEFENSIVELY BY REGION AND COUNTRY OF NATIONALITY: FISCAL YEARS 2012 TO 2021",
                  "12": "NA Not available.. D Data withheld to limit disclosure.. - Represents zero.  . 1 Includes countries with fewer than 10 individuals granted asylum defensively per year.. 2 Includes admissions from Palestinian Territories. Figures for Soviet Union (former) for 2016 and onward and for Serbia and Montenegro (former) for 2021 and onward are assigned to Unknown.. Note: In this table, data are withheld for any cell with a count of 1, 2, or 3, and for any associated cell that could be used to reveal such a count through calculation.. Source: DHS Office of Immigration Statistics."
                },
                {
                  "0": "COUNTRY  Ecuador",
                  "1": "15",
                  "2": "25",
                  "3": "19",
                  "4": "43",
                  "5": "39",
                  "6": "77",
                  "7": "119",
                  "8": "121",
                  "9": "103",
                  "10": "47",
                  "11": "Table 19.. INDIVIDUALS GRANTED ASYLUM DEFENSIVELY BY REGION AND COUNTRY OF NATIONALITY: FISCAL YEARS 2012 TO 2021",
                  "12": "NA Not available.. D Data withheld to limit disclosure.. - Represents zero.  . 1 Includes countries with fewer than 10 individuals granted asylum defensively per year.. 2 Includes admissions from Palestinian Territories. Figures for Soviet Union (former) for 2016 and onward and for Serbia and Montenegro (former) for 2021 and onward are assigned to Unknown.. Note: In this table, data are withheld for any cell with a count of 1, 2, or 3, and for any associated cell that could be used to reveal such a count through calculation.. Source: DHS Office of Immigration Statistics."
                },
                {
                  "0": "COUNTRY  Egypt",
                  "1": "277",
                  "2": "293",
                  "3": "240",
                  "4": "148",
                  "5": "148",
                  "6": "140",
                  "7": "164",
                  "8": "146",
                  "9": "111",
                  "10": "70",
                  "11": "Table 19.. INDIVIDUALS GRANTED ASYLUM DEFENSIVELY BY REGION AND COUNTRY OF NATIONALITY: FISCAL YEARS 2012 TO 2021",
                  "12": "NA Not available.. D Data withheld to limit disclosure.. - Represents zero.  . 1 Includes countries with fewer than 10 individuals granted asylum defensively per year.. 2 Includes admissions from Palestinian Territories. Figures for Soviet Union (former) for 2016 and onward and for Serbia and Montenegro (former) for 2021 and onward are assigned to Unknown.. Note: In this table, data are withheld for any cell with a count of 1, 2, or 3, and for any associated cell that could be used to reveal such a count through calculation.. Source: DHS Office of Immigration Statistics."
                },
                {
                  "0": "COUNTRY  El Salvador",
                  "1": "156",
                  "2": "181",
                  "3": "187",
                  "4": "300",
                  "5": "758",
                  "6": "1343",
                  "7": "1773",
                  "8": "2321",
                  "9": "1731",
                  "10": "1149",
                  "11": "Table 19.. INDIVIDUALS GRANTED ASYLUM DEFENSIVELY BY REGION AND COUNTRY OF NATIONALITY: FISCAL YEARS 2012 TO 2021",
                  "12": "NA Not available.. D Data withheld to limit disclosure.. - Represents zero.  . 1 Includes countries with fewer than 10 individuals granted asylum defensively per year.. 2 Includes admissions from Palestinian Territories. Figures for Soviet Union (former) for 2016 and onward and for Serbia and Montenegro (former) for 2021 and onward are assigned to Unknown.. Note: In this table, data are withheld for any cell with a count of 1, 2, or 3, and for any associated cell that could be used to reveal such a count through calculation.. Source: DHS Office of Immigration Statistics."
                },
                {
                  "0": "COUNTRY  Eritrea",
                  "1": "331",
                  "2": "234",
                  "3": "162",
                  "4": "138",
                  "5": "151",
                  "6": "238",
                  "7": "271",
                  "8": "320",
                  "9": "122",
                  "10": "72",
                  "11": "Table 19.. INDIVIDUALS GRANTED ASYLUM DEFENSIVELY BY REGION AND COUNTRY OF NATIONALITY: FISCAL YEARS 2012 TO 2021",
                  "12": "NA Not available.. D Data withheld to limit disclosure.. - Represents zero.  . 1 Includes countries with fewer than 10 individuals granted asylum defensively per year.. 2 Includes admissions from Palestinian Territories. Figures for Soviet Union (former) for 2016 and onward and for Serbia and Montenegro (former) for 2021 and onward are assigned to Unknown.. Note: In this table, data are withheld for any cell with a count of 1, 2, or 3, and for any associated cell that could be used to reveal such a count through calculation.. Source: DHS Office of Immigration Statistics."
                },
                {
                  "0": "COUNTRY  Ethiopia",
                  "1": "406",
                  "2": "387",
                  "3": "317",
                  "4": "252",
                  "5": "185",
                  "6": "155",
                  "7": "121",
                  "8": "181",
                  "9": "74",
                  "10": "59",
                  "11": "Table 19.. INDIVIDUALS GRANTED ASYLUM DEFENSIVELY BY REGION AND COUNTRY OF NATIONALITY: FISCAL YEARS 2012 TO 2021",
                  "12": "NA Not available.. D Data withheld to limit disclosure.. - Represents zero.  . 1 Includes countries with fewer than 10 individuals granted asylum defensively per year.. 2 Includes admissions from Palestinian Territories. Figures for Soviet Union (former) for 2016 and onward and for Serbia and Montenegro (former) for 2021 and onward are assigned to Unknown.. Note: In this table, data are withheld for any cell with a count of 1, 2, or 3, and for any associated cell that could be used to reveal such a count through calculation.. Source: DHS Office of Immigration Statistics."
                },
                {
                  "0": "COUNTRY  Fiji",
                  "1": "10",
                  "2": "D",
                  "3": "D",
                  "4": "-",
                  "5": "-",
                  "6": "D",
                  "7": "D",
                  "8": "6",
                  "9": "-",
                  "10": "-",
                  "11": "Table 19.. INDIVIDUALS GRANTED ASYLUM DEFENSIVELY BY REGION AND COUNTRY OF NATIONALITY: FISCAL YEARS 2012 TO 2021",
                  "12": "NA Not available.. D Data withheld to limit disclosure.. - Represents zero.  . 1 Includes countries with fewer than 10 individuals granted asylum defensively per year.. 2 Includes admissions from Palestinian Territories. Figures for Soviet Union (former) for 2016 and onward and for Serbia and Montenegro (former) for 2021 and onward are assigned to Unknown.. Note: In this table, data are withheld for any cell with a count of 1, 2, or 3, and for any associated cell that could be used to reveal such a count through calculation.. Source: DHS Office of Immigration Statistics."
                },
                {
                  "0": "COUNTRY  Gambia",
                  "1": "70",
                  "2": "74",
                  "3": "76",
                  "4": "51",
                  "5": "45",
                  "6": "32",
                  "7": "32",
                  "8": "24",
                  "9": "8",
                  "10": "5",
                  "11": "Table 19.. INDIVIDUALS GRANTED ASYLUM DEFENSIVELY BY REGION AND COUNTRY OF NATIONALITY: FISCAL YEARS 2012 TO 2021",
                  "12": "NA Not available.. D Data withheld to limit disclosure.. - Represents zero.  . 1 Includes countries with fewer than 10 individuals granted asylum defensively per year.. 2 Includes admissions from Palestinian Territories. Figures for Soviet Union (former) for 2016 and onward and for Serbia and Montenegro (former) for 2021 and onward are assigned to Unknown.. Note: In this table, data are withheld for any cell with a count of 1, 2, or 3, and for any associated cell that could be used to reveal such a count through calculation.. Source: DHS Office of Immigration Statistics."
                },
                {
                  "0": "COUNTRY  Georgia",
                  "1": "18",
                  "2": "10",
                  "3": "13",
                  "4": "8",
                  "5": "9",
                  "6": "11",
                  "7": "8",
                  "8": "34",
                  "9": "31",
                  "10": "23",
                  "11": "Table 19.. INDIVIDUALS GRANTED ASYLUM DEFENSIVELY BY REGION AND COUNTRY OF NATIONALITY: FISCAL YEARS 2012 TO 2021",
                  "12": "NA Not available.. D Data withheld to limit disclosure.. - Represents zero.  . 1 Includes countries with fewer than 10 individuals granted asylum defensively per year.. 2 Includes admissions from Palestinian Territories. Figures for Soviet Union (former) for 2016 and onward and for Serbia and Montenegro (former) for 2021 and onward are assigned to Unknown.. Note: In this table, data are withheld for any cell with a count of 1, 2, or 3, and for any associated cell that could be used to reveal such a count through calculation.. Source: DHS Office of Immigration Statistics."
                },
                {
                  "0": "COUNTRY  Ghana",
                  "1": "7",
                  "2": "10",
                  "3": "14",
                  "4": "36",
                  "5": "65",
                  "6": "74",
                  "7": "36",
                  "8": "48",
                  "9": "28",
                  "10": "14",
                  "11": "Table 19.. INDIVIDUALS GRANTED ASYLUM DEFENSIVELY BY REGION AND COUNTRY OF NATIONALITY: FISCAL YEARS 2012 TO 2021",
                  "12": "NA Not available.. D Data withheld to limit disclosure.. - Represents zero.  . 1 Includes countries with fewer than 10 individuals granted asylum defensively per year.. 2 Includes admissions from Palestinian Territories. Figures for Soviet Union (former) for 2016 and onward and for Serbia and Montenegro (former) for 2021 and onward are assigned to Unknown.. Note: In this table, data are withheld for any cell with a count of 1, 2, or 3, and for any associated cell that could be used to reveal such a count through calculation.. Source: DHS Office of Immigration Statistics."
                },
                {
                  "0": "COUNTRY  Guatemala",
                  "1": "192",
                  "2": "149",
                  "3": "164",
                  "4": "363",
                  "5": "631",
                  "6": "953",
                  "7": "1018",
                  "8": "1545",
                  "9": "1437",
                  "10": "880",
                  "11": "Table 19.. INDIVIDUALS GRANTED ASYLUM DEFENSIVELY BY REGION AND COUNTRY OF NATIONALITY: FISCAL YEARS 2012 TO 2021",
                  "12": "NA Not available.. D Data withheld to limit disclosure.. - Represents zero.  . 1 Includes countries with fewer than 10 individuals granted asylum defensively per year.. 2 Includes admissions from Palestinian Territories. Figures for Soviet Union (former) for 2016 and onward and for Serbia and Montenegro (former) for 2021 and onward are assigned to Unknown.. Note: In this table, data are withheld for any cell with a count of 1, 2, or 3, and for any associated cell that could be used to reveal such a count through calculation.. Source: DHS Office of Immigration Statistics."
                },
                {
                  "0": "COUNTRY  Guinea",
                  "1": "124",
                  "2": "92",
                  "3": "57",
                  "4": "43",
                  "5": "49",
                  "6": "79",
                  "7": "85",
                  "8": "87",
                  "9": "33",
                  "10": "23",
                  "11": "Table 19.. INDIVIDUALS GRANTED ASYLUM DEFENSIVELY BY REGION AND COUNTRY OF NATIONALITY: FISCAL YEARS 2012 TO 2021",
                  "12": "NA Not available.. D Data withheld to limit disclosure.. - Represents zero.  . 1 Includes countries with fewer than 10 individuals granted asylum defensively per year.. 2 Includes admissions from Palestinian Territories. Figures for Soviet Union (former) for 2016 and onward and for Serbia and Montenegro (former) for 2021 and onward are assigned to Unknown.. Note: In this table, data are withheld for any cell with a count of 1, 2, or 3, and for any associated cell that could be used to reveal such a count through calculation.. Source: DHS Office of Immigration Statistics."
                },
                {
                  "0": "COUNTRY  Haiti",
                  "1": "34",
                  "2": "54",
                  "3": "50",
                  "4": "62",
                  "5": "27",
                  "6": "91",
                  "7": "49",
                  "8": "77",
                  "9": "47",
                  "10": "28",
                  "11": "Table 19.. INDIVIDUALS GRANTED ASYLUM DEFENSIVELY BY REGION AND COUNTRY OF NATIONALITY: FISCAL YEARS 2012 TO 2021",
                  "12": "NA Not available.. D Data withheld to limit disclosure.. - Represents zero.  . 1 Includes countries with fewer than 10 individuals granted asylum defensively per year.. 2 Includes admissions from Palestinian Territories. Figures for Soviet Union (former) for 2016 and onward and for Serbia and Montenegro (former) for 2021 and onward are assigned to Unknown.. Note: In this table, data are withheld for any cell with a count of 1, 2, or 3, and for any associated cell that could be used to reveal such a count through calculation.. Source: DHS Office of Immigration Statistics."
                },
                {
                  "0": "COUNTRY  Honduras",
                  "1": "73",
                  "2": "93",
                  "3": "151",
                  "4": "303",
                  "5": "620",
                  "6": "956",
                  "7": "1181",
                  "8": "1291",
                  "9": "1016",
                  "10": "603",
                  "11": "Table 19.. INDIVIDUALS GRANTED ASYLUM DEFENSIVELY BY REGION AND COUNTRY OF NATIONALITY: FISCAL YEARS 2012 TO 2021",
                  "12": "NA Not available.. D Data withheld to limit disclosure.. - Represents zero.  . 1 Includes countries with fewer than 10 individuals granted asylum defensively per year.. 2 Includes admissions from Palestinian Territories. Figures for Soviet Union (former) for 2016 and onward and for Serbia and Montenegro (former) for 2021 and onward are assigned to Unknown.. Note: In this table, data are withheld for any cell with a count of 1, 2, or 3, and for any associated cell that could be used to reveal such a count through calculation.. Source: DHS Office of Immigration Statistics."
                },
                {
                  "0": "COUNTRY  India",
                  "1": "250",
                  "2": "311",
                  "3": "368",
                  "4": "301",
                  "5": "308",
                  "6": "457",
                  "7": "951",
                  "8": "1929",
                  "9": "1179",
                  "10": "629",
                  "11": "Table 19.. INDIVIDUALS GRANTED ASYLUM DEFENSIVELY BY REGION AND COUNTRY OF NATIONALITY: FISCAL YEARS 2012 TO 2021",
                  "12": "NA Not available.. D Data withheld to limit disclosure.. - Represents zero.  . 1 Includes countries with fewer than 10 individuals granted asylum defensively per year.. 2 Includes admissions from Palestinian Territories. Figures for Soviet Union (former) for 2016 and onward and for Serbia and Montenegro (former) for 2021 and onward are assigned to Unknown.. Note: In this table, data are withheld for any cell with a count of 1, 2, or 3, and for any associated cell that could be used to reveal such a count through calculation.. Source: DHS Office of Immigration Statistics."
                },
                {
                  "0": "COUNTRY  Indonesia",
                  "1": "98",
                  "2": "75",
                  "3": "47",
                  "4": "19",
                  "5": "10",
                  "6": "11",
                  "7": "17",
                  "8": "27",
                  "9": "27",
                  "10": "9",
                  "11": "Table 19.. INDIVIDUALS GRANTED ASYLUM DEFENSIVELY BY REGION AND COUNTRY OF NATIONALITY: FISCAL YEARS 2012 TO 2021",
                  "12": "NA Not available.. D Data withheld to limit disclosure.. - Represents zero.  . 1 Includes countries with fewer than 10 individuals granted asylum defensively per year.. 2 Includes admissions from Palestinian Territories. Figures for Soviet Union (former) for 2016 and onward and for Serbia and Montenegro (former) for 2021 and onward are assigned to Unknown.. Note: In this table, data are withheld for any cell with a count of 1, 2, or 3, and for any associated cell that could be used to reveal such a count through calculation.. Source: DHS Office of Immigration Statistics."
                },
                {
                  "0": "COUNTRY  Iran",
                  "1": "88",
                  "2": "57",
                  "3": "58",
                  "4": "37",
                  "5": "56",
                  "6": "51",
                  "7": "53",
                  "8": "107",
                  "9": "56",
                  "10": "36",
                  "11": "Table 19.. INDIVIDUALS GRANTED ASYLUM DEFENSIVELY BY REGION AND COUNTRY OF NATIONALITY: FISCAL YEARS 2012 TO 2021",
                  "12": "NA Not available.. D Data withheld to limit disclosure.. - Represents zero.  . 1 Includes countries with fewer than 10 individuals granted asylum defensively per year.. 2 Includes admissions from Palestinian Territories. Figures for Soviet Union (former) for 2016 and onward and for Serbia and Montenegro (former) for 2021 and onward are assigned to Unknown.. Note: In this table, data are withheld for any cell with a count of 1, 2, or 3, and for any associated cell that could be used to reveal such a count through calculation.. Source: DHS Office of Immigration Statistics."
                },
                {
                  "0": "COUNTRY  Iraq",
                  "1": "91",
                  "2": "52",
                  "3": "79",
                  "4": "52",
                  "5": "26",
                  "6": "45",
                  "7": "74",
                  "8": "105",
                  "9": "94",
                  "10": "73",
                  "11": "Table 19.. INDIVIDUALS GRANTED ASYLUM DEFENSIVELY BY REGION AND COUNTRY OF NATIONALITY: FISCAL YEARS 2012 TO 2021",
                  "12": "NA Not available.. D Data withheld to limit disclosure.. - Represents zero.  . 1 Includes countries with fewer than 10 individuals granted asylum defensively per year.. 2 Includes admissions from Palestinian Territories. Figures for Soviet Union (former) for 2016 and onward and for Serbia and Montenegro (former) for 2021 and onward are assigned to Unknown.. Note: In this table, data are withheld for any cell with a count of 1, 2, or 3, and for any associated cell that could be used to reveal such a count through calculation.. Source: DHS Office of Immigration Statistics."
                },
                {
                  "0": "COUNTRY  Jamaica",
                  "1": "11",
                  "2": "5",
                  "3": "5",
                  "4": "7",
                  "5": "7",
                  "6": "8",
                  "7": "10",
                  "8": "15",
                  "9": "4",
                  "10": "4",
                  "11": "Table 19.. INDIVIDUALS GRANTED ASYLUM DEFENSIVELY BY REGION AND COUNTRY OF NATIONALITY: FISCAL YEARS 2012 TO 2021",
                  "12": "NA Not available.. D Data withheld to limit disclosure.. - Represents zero.  . 1 Includes countries with fewer than 10 individuals granted asylum defensively per year.. 2 Includes admissions from Palestinian Territories. Figures for Soviet Union (former) for 2016 and onward and for Serbia and Montenegro (former) for 2021 and onward are assigned to Unknown.. Note: In this table, data are withheld for any cell with a count of 1, 2, or 3, and for any associated cell that could be used to reveal such a count through calculation.. Source: DHS Office of Immigration Statistics."
                },
                {
                  "0": "COUNTRY  Jordan",
                  "1": "11",
                  "2": "13",
                  "3": "6",
                  "4": "5",
                  "5": "D",
                  "6": "D",
                  "7": "7",
                  "8": "29",
                  "9": "8",
                  "10": "8",
                  "11": "Table 19.. INDIVIDUALS GRANTED ASYLUM DEFENSIVELY BY REGION AND COUNTRY OF NATIONALITY: FISCAL YEARS 2012 TO 2021",
                  "12": "NA Not available.. D Data withheld to limit disclosure.. - Represents zero.  . 1 Includes countries with fewer than 10 individuals granted asylum defensively per year.. 2 Includes admissions from Palestinian Territories. Figures for Soviet Union (former) for 2016 and onward and for Serbia and Montenegro (former) for 2021 and onward are assigned to Unknown.. Note: In this table, data are withheld for any cell with a count of 1, 2, or 3, and for any associated cell that could be used to reveal such a count through calculation.. Source: DHS Office of Immigration Statistics."
                },
                {
                  "0": "COUNTRY  Kazakhstan",
                  "1": "13",
                  "2": "28",
                  "3": "31",
                  "4": "16",
                  "5": "15",
                  "6": "30",
                  "7": "25",
                  "8": "27",
                  "9": "20",
                  "10": "21",
                  "11": "Table 19.. INDIVIDUALS GRANTED ASYLUM DEFENSIVELY BY REGION AND COUNTRY OF NATIONALITY: FISCAL YEARS 2012 TO 2021",
                  "12": "NA Not available.. D Data withheld to limit disclosure.. - Represents zero.  . 1 Includes countries with fewer than 10 individuals granted asylum defensively per year.. 2 Includes admissions from Palestinian Territories. Figures for Soviet Union (former) for 2016 and onward and for Serbia and Montenegro (former) for 2021 and onward are assigned to Unknown.. Note: In this table, data are withheld for any cell with a count of 1, 2, or 3, and for any associated cell that could be used to reveal such a count through calculation.. Source: DHS Office of Immigration Statistics."
                },
                {
                  "0": "COUNTRY  Kenya",
                  "1": "69",
                  "2": "38",
                  "3": "49",
                  "4": "21",
                  "5": "11",
                  "6": "14",
                  "7": "22",
                  "8": "28",
                  "9": "26",
                  "10": "12",
                  "11": "Table 19.. INDIVIDUALS GRANTED ASYLUM DEFENSIVELY BY REGION AND COUNTRY OF NATIONALITY: FISCAL YEARS 2012 TO 2021",
                  "12": "NA Not available.. D Data withheld to limit disclosure.. - Represents zero.  . 1 Includes countries with fewer than 10 individuals granted asylum defensively per year.. 2 Includes admissions from Palestinian Territories. Figures for Soviet Union (former) for 2016 and onward and for Serbia and Montenegro (former) for 2021 and onward are assigned to Unknown.. Note: In this table, data are withheld for any cell with a count of 1, 2, or 3, and for any associated cell that could be used to reveal such a count through calculation.. Source: DHS Office of Immigration Statistics."
                },
                {
                  "0": "COUNTRY  Kosovo",
                  "1": "32",
                  "2": "34",
                  "3": "28",
                  "4": "18",
                  "5": "19",
                  "6": "32",
                  "7": "31",
                  "8": "43",
                  "9": "15",
                  "10": "13",
                  "11": "Table 19.. INDIVIDUALS GRANTED ASYLUM DEFENSIVELY BY REGION AND COUNTRY OF NATIONALITY: FISCAL YEARS 2012 TO 2021",
                  "12": "NA Not available.. D Data withheld to limit disclosure.. - Represents zero.  . 1 Includes countries with fewer than 10 individuals granted asylum defensively per year.. 2 Includes admissions from Palestinian Territories. Figures for Soviet Union (former) for 2016 and onward and for Serbia and Montenegro (former) for 2021 and onward are assigned to Unknown.. Note: In this table, data are withheld for any cell with a count of 1, 2, or 3, and for any associated cell that could be used to reveal such a count through calculation.. Source: DHS Office of Immigration Statistics."
                },
                {
                  "0": "COUNTRY  Kyrgyzstan",
                  "1": "25",
                  "2": "36",
                  "3": "35",
                  "4": "48",
                  "5": "48",
                  "6": "37",
                  "7": "64",
                  "8": "80",
                  "9": "55",
                  "10": "30",
                  "11": "Table 19.. INDIVIDUALS GRANTED ASYLUM DEFENSIVELY BY REGION AND COUNTRY OF NATIONALITY: FISCAL YEARS 2012 TO 2021",
                  "12": "NA Not available.. D Data withheld to limit disclosure.. - Represents zero.  . 1 Includes countries with fewer than 10 individuals granted asylum defensively per year.. 2 Includes admissions from Palestinian Territories. Figures for Soviet Union (former) for 2016 and onward and for Serbia and Montenegro (former) for 2021 and onward are assigned to Unknown.. Note: In this table, data are withheld for any cell with a count of 1, 2, or 3, and for any associated cell that could be used to reveal such a count through calculation.. Source: DHS Office of Immigration Statistics."
                },
                {
                  "0": "COUNTRY  Lebanon",
                  "1": "21",
                  "2": "17",
                  "3": "4",
                  "4": "D",
                  "5": "6",
                  "6": "4",
                  "7": "8",
                  "8": "28",
                  "9": "5",
                  "10": "12",
                  "11": "Table 19.. INDIVIDUALS GRANTED ASYLUM DEFENSIVELY BY REGION AND COUNTRY OF NATIONALITY: FISCAL YEARS 2012 TO 2021",
                  "12": "NA Not available.. D Data withheld to limit disclosure.. - Represents zero.  . 1 Includes countries with fewer than 10 individuals granted asylum defensively per year.. 2 Includes admissions from Palestinian Territories. Figures for Soviet Union (former) for 2016 and onward and for Serbia and Montenegro (former) for 2021 and onward are assigned to Unknown.. Note: In this table, data are withheld for any cell with a count of 1, 2, or 3, and for any associated cell that could be used to reveal such a count through calculation.. Source: DHS Office of Immigration Statistics."
                },
                {
                  "0": "COUNTRY  Liberia",
                  "1": "10",
                  "2": "10",
                  "3": "13",
                  "4": "6",
                  "5": "9",
                  "6": "8",
                  "7": "12",
                  "8": "15",
                  "9": "18",
                  "10": "6",
                  "11": "Table 19.. INDIVIDUALS GRANTED ASYLUM DEFENSIVELY BY REGION AND COUNTRY OF NATIONALITY: FISCAL YEARS 2012 TO 2021",
                  "12": "NA Not available.. D Data withheld to limit disclosure.. - Represents zero.  . 1 Includes countries with fewer than 10 individuals granted asylum defensively per year.. 2 Includes admissions from Palestinian Territories. Figures for Soviet Union (former) for 2016 and onward and for Serbia and Montenegro (former) for 2021 and onward are assigned to Unknown.. Note: In this table, data are withheld for any cell with a count of 1, 2, or 3, and for any associated cell that could be used to reveal such a count through calculation.. Source: DHS Office of Immigration Statistics."
                },
                {
                  "0": "COUNTRY  Libya",
                  "1": "6",
                  "2": "-",
                  "3": "D",
                  "4": "-",
                  "5": "5",
                  "6": "5",
                  "7": "D",
                  "8": "14",
                  "9": "14",
                  "10": "D",
                  "11": "Table 19.. INDIVIDUALS GRANTED ASYLUM DEFENSIVELY BY REGION AND COUNTRY OF NATIONALITY: FISCAL YEARS 2012 TO 2021",
                  "12": "NA Not available.. D Data withheld to limit disclosure.. - Represents zero.  . 1 Includes countries with fewer than 10 individuals granted asylum defensively per year.. 2 Includes admissions from Palestinian Territories. Figures for Soviet Union (former) for 2016 and onward and for Serbia and Montenegro (former) for 2021 and onward are assigned to Unknown.. Note: In this table, data are withheld for any cell with a count of 1, 2, or 3, and for any associated cell that could be used to reveal such a count through calculation.. Source: DHS Office of Immigration Statistics."
                },
                {
                  "0": "COUNTRY  Mali",
                  "1": "68",
                  "2": "74",
                  "3": "56",
                  "4": "33",
                  "5": "25",
                  "6": "31",
                  "7": "32",
                  "8": "26",
                  "9": "11",
                  "10": "11",
                  "11": "Table 19.. INDIVIDUALS GRANTED ASYLUM DEFENSIVELY BY REGION AND COUNTRY OF NATIONALITY: FISCAL YEARS 2012 TO 2021",
                  "12": "NA Not available.. D Data withheld to limit disclosure.. - Represents zero.  . 1 Includes countries with fewer than 10 individuals granted asylum defensively per year.. 2 Includes admissions from Palestinian Territories. Figures for Soviet Union (former) for 2016 and onward and for Serbia and Montenegro (former) for 2021 and onward are assigned to Unknown.. Note: In this table, data are withheld for any cell with a count of 1, 2, or 3, and for any associated cell that could be used to reveal such a count through calculation.. Source: DHS Office of Immigration Statistics."
                },
                {
                  "0": "COUNTRY  Mauritania",
                  "1": "26",
                  "2": "39",
                  "3": "24",
                  "4": "29",
                  "5": "13",
                  "6": "20",
                  "7": "13",
                  "8": "26",
                  "9": "22",
                  "10": "10",
                  "11": "Table 19.. INDIVIDUALS GRANTED ASYLUM DEFENSIVELY BY REGION AND COUNTRY OF NATIONALITY: FISCAL YEARS 2012 TO 2021",
                  "12": "NA Not available.. D Data withheld to limit disclosure.. - Represents zero.  . 1 Includes countries with fewer than 10 individuals granted asylum defensively per year.. 2 Includes admissions from Palestinian Territories. Figures for Soviet Union (former) for 2016 and onward and for Serbia and Montenegro (former) for 2021 and onward are assigned to Unknown.. Note: In this table, data are withheld for any cell with a count of 1, 2, or 3, and for any associated cell that could be used to reveal such a count through calculation.. Source: DHS Office of Immigration Statistics."
                },
                {
                  "0": "COUNTRY  Mexico",
                  "1": "117",
                  "2": "154",
                  "3": "105",
                  "4": "200",
                  "5": "456",
                  "6": "551",
                  "7": "631",
                  "8": "802",
                  "9": "719",
                  "10": "367",
                  "11": "Table 19.. INDIVIDUALS GRANTED ASYLUM DEFENSIVELY BY REGION AND COUNTRY OF NATIONALITY: FISCAL YEARS 2012 TO 2021",
                  "12": "NA Not available.. D Data withheld to limit disclosure.. - Represents zero.  . 1 Includes countries with fewer than 10 individuals granted asylum defensively per year.. 2 Includes admissions from Palestinian Territories. Figures for Soviet Union (former) for 2016 and onward and for Serbia and Montenegro (former) for 2021 and onward are assigned to Unknown.. Note: In this table, data are withheld for any cell with a count of 1, 2, or 3, and for any associated cell that could be used to reveal such a count through calculation.. Source: DHS Office of Immigration Statistics."
                },
                {
                  "0": "COUNTRY  Moldova",
                  "1": "88",
                  "2": "73",
                  "3": "70",
                  "4": "40",
                  "5": "32",
                  "6": "30",
                  "7": "38",
                  "8": "76",
                  "9": "38",
                  "10": "27",
                  "11": "Table 19.. INDIVIDUALS GRANTED ASYLUM DEFENSIVELY BY REGION AND COUNTRY OF NATIONALITY: FISCAL YEARS 2012 TO 2021",
                  "12": "NA Not available.. D Data withheld to limit disclosure.. - Represents zero.  . 1 Includes countries with fewer than 10 individuals granted asylum defensively per year.. 2 Includes admissions from Palestinian Territories. Figures for Soviet Union (former) for 2016 and onward and for Serbia and Montenegro (former) for 2021 and onward are assigned to Unknown.. Note: In this table, data are withheld for any cell with a count of 1, 2, or 3, and for any associated cell that could be used to reveal such a count through calculation.. Source: DHS Office of Immigration Statistics."
                },
                {
                  "0": "COUNTRY  Mongolia",
                  "1": "37",
                  "2": "40",
                  "3": "21",
                  "4": "6",
                  "5": "8",
                  "6": "5",
                  "7": "15",
                  "8": "34",
                  "9": "11",
                  "10": "8",
                  "11": "Table 19.. INDIVIDUALS GRANTED ASYLUM DEFENSIVELY BY REGION AND COUNTRY OF NATIONALITY: FISCAL YEARS 2012 TO 2021",
                  "12": "NA Not available.. D Data withheld to limit disclosure.. - Represents zero.  . 1 Includes countries with fewer than 10 individuals granted asylum defensively per year.. 2 Includes admissions from Palestinian Territories. Figures for Soviet Union (former) for 2016 and onward and for Serbia and Montenegro (former) for 2021 and onward are assigned to Unknown.. Note: In this table, data are withheld for any cell with a count of 1, 2, or 3, and for any associated cell that could be used to reveal such a count through calculation.. Source: DHS Office of Immigration Statistics."
                },
                {
                  "0": "COUNTRY  Nepal",
                  "1": "379",
                  "2": "385",
                  "3": "282",
                  "4": "250",
                  "5": "260",
                  "6": "290",
                  "7": "470",
                  "8": "606",
                  "9": "308",
                  "10": "143",
                  "11": "Table 19.. INDIVIDUALS GRANTED ASYLUM DEFENSIVELY BY REGION AND COUNTRY OF NATIONALITY: FISCAL YEARS 2012 TO 2021",
                  "12": "NA Not available.. D Data withheld to limit disclosure.. - Represents zero.  . 1 Includes countries with fewer than 10 individuals granted asylum defensively per year.. 2 Includes admissions from Palestinian Territories. Figures for Soviet Union (former) for 2016 and onward and for Serbia and Montenegro (former) for 2021 and onward are assigned to Unknown.. Note: In this table, data are withheld for any cell with a count of 1, 2, or 3, and for any associated cell that could be used to reveal such a count through calculation.. Source: DHS Office of Immigration Statistics."
                },
                {
                  "0": "COUNTRY  Nicaragua",
                  "1": "9",
                  "2": "17",
                  "3": "15",
                  "4": "20",
                  "5": "19",
                  "6": "27",
                  "7": "35",
                  "8": "357",
                  "9": "364",
                  "10": "163",
                  "11": "Table 19.. INDIVIDUALS GRANTED ASYLUM DEFENSIVELY BY REGION AND COUNTRY OF NATIONALITY: FISCAL YEARS 2012 TO 2021",
                  "12": "NA Not available.. D Data withheld to limit disclosure.. - Represents zero.  . 1 Includes countries with fewer than 10 individuals granted asylum defensively per year.. 2 Includes admissions from Palestinian Territories. Figures for Soviet Union (former) for 2016 and onward and for Serbia and Montenegro (former) for 2021 and onward are assigned to Unknown.. Note: In this table, data are withheld for any cell with a count of 1, 2, or 3, and for any associated cell that could be used to reveal such a count through calculation.. Source: DHS Office of Immigration Statistics."
                },
                {
                  "0": "COUNTRY  Nigeria",
                  "1": "26",
                  "2": "29",
                  "3": "59",
                  "4": "64",
                  "5": "66",
                  "6": "70",
                  "7": "53",
                  "8": "194",
                  "9": "154",
                  "10": "130",
                  "11": "Table 19.. INDIVIDUALS GRANTED ASYLUM DEFENSIVELY BY REGION AND COUNTRY OF NATIONALITY: FISCAL YEARS 2012 TO 2021",
                  "12": "NA Not available.. D Data withheld to limit disclosure.. - Represents zero.  . 1 Includes countries with fewer than 10 individuals granted asylum defensively per year.. 2 Includes admissions from Palestinian Territories. Figures for Soviet Union (former) for 2016 and onward and for Serbia and Montenegro (former) for 2021 and onward are assigned to Unknown.. Note: In this table, data are withheld for any cell with a count of 1, 2, or 3, and for any associated cell that could be used to reveal such a count through calculation.. Source: DHS Office of Immigration Statistics."
                },
                {
                  "0": "COUNTRY  Pakistan",
                  "1": "150",
                  "2": "122",
                  "3": "96",
                  "4": "55",
                  "5": "69",
                  "6": "93",
                  "7": "135",
                  "8": "181",
                  "9": "92",
                  "10": "55",
                  "11": "Table 19.. INDIVIDUALS GRANTED ASYLUM DEFENSIVELY BY REGION AND COUNTRY OF NATIONALITY: FISCAL YEARS 2012 TO 2021",
                  "12": "NA Not available.. D Data withheld to limit disclosure.. - Represents zero.  . 1 Includes countries with fewer than 10 individuals granted asylum defensively per year.. 2 Includes admissions from Palestinian Territories. Figures for Soviet Union (former) for 2016 and onward and for Serbia and Montenegro (former) for 2021 and onward are assigned to Unknown.. Note: In this table, data are withheld for any cell with a count of 1, 2, or 3, and for any associated cell that could be used to reveal such a count through calculation.. Source: DHS Office of Immigration Statistics."
                },
                {
                  "0": "COUNTRY  Peru",
                  "1": "14",
                  "2": "8",
                  "3": "13",
                  "4": "19",
                  "5": "17",
                  "6": "19",
                  "7": "26",
                  "8": "46",
                  "9": "17",
                  "10": "9",
                  "11": "Table 19.. INDIVIDUALS GRANTED ASYLUM DEFENSIVELY BY REGION AND COUNTRY OF NATIONALITY: FISCAL YEARS 2012 TO 2021",
                  "12": "NA Not available.. D Data withheld to limit disclosure.. - Represents zero.  . 1 Includes countries with fewer than 10 individuals granted asylum defensively per year.. 2 Includes admissions from Palestinian Territories. Figures for Soviet Union (former) for 2016 and onward and for Serbia and Montenegro (former) for 2021 and onward are assigned to Unknown.. Note: In this table, data are withheld for any cell with a count of 1, 2, or 3, and for any associated cell that could be used to reveal such a count through calculation.. Source: DHS Office of Immigration Statistics."
                },
                {
                  "0": "COUNTRY  Philippines",
                  "1": "8",
                  "2": "4",
                  "3": "-",
                  "4": "D",
                  "5": "D",
                  "6": "D",
                  "7": "11",
                  "8": "7",
                  "9": "8",
                  "10": "4",
                  "11": "Table 19.. INDIVIDUALS GRANTED ASYLUM DEFENSIVELY BY REGION AND COUNTRY OF NATIONALITY: FISCAL YEARS 2012 TO 2021",
                  "12": "NA Not available.. D Data withheld to limit disclosure.. - Represents zero.  . 1 Includes countries with fewer than 10 individuals granted asylum defensively per year.. 2 Includes admissions from Palestinian Territories. Figures for Soviet Union (former) for 2016 and onward and for Serbia and Montenegro (former) for 2021 and onward are assigned to Unknown.. Note: In this table, data are withheld for any cell with a count of 1, 2, or 3, and for any associated cell that could be used to reveal such a count through calculation.. Source: DHS Office of Immigration Statistics."
                },
                {
                  "0": "COUNTRY  Romania",
                  "1": "8",
                  "2": "38",
                  "3": "20",
                  "4": "28",
                  "5": "37",
                  "6": "38",
                  "7": "44",
                  "8": "40",
                  "9": "31",
                  "10": "29",
                  "11": "Table 19.. INDIVIDUALS GRANTED ASYLUM DEFENSIVELY BY REGION AND COUNTRY OF NATIONALITY: FISCAL YEARS 2012 TO 2021",
                  "12": "NA Not available.. D Data withheld to limit disclosure.. - Represents zero.  . 1 Includes countries with fewer than 10 individuals granted asylum defensively per year.. 2 Includes admissions from Palestinian Territories. Figures for Soviet Union (former) for 2016 and onward and for Serbia and Montenegro (former) for 2021 and onward are assigned to Unknown.. Note: In this table, data are withheld for any cell with a count of 1, 2, or 3, and for any associated cell that could be used to reveal such a count through calculation.. Source: DHS Office of Immigration Statistics."
                },
                {
                  "0": "COUNTRY  Russia",
                  "1": "155",
                  "2": "192",
                  "3": "115",
                  "4": "100",
                  "5": "81",
                  "6": "59",
                  "7": "118",
                  "8": "299",
                  "9": "245",
                  "10": "156",
                  "11": "Table 19.. INDIVIDUALS GRANTED ASYLUM DEFENSIVELY BY REGION AND COUNTRY OF NATIONALITY: FISCAL YEARS 2012 TO 2021",
                  "12": "NA Not available.. D Data withheld to limit disclosure.. - Represents zero.  . 1 Includes countries with fewer than 10 individuals granted asylum defensively per year.. 2 Includes admissions from Palestinian Territories. Figures for Soviet Union (former) for 2016 and onward and for Serbia and Montenegro (former) for 2021 and onward are assigned to Unknown.. Note: In this table, data are withheld for any cell with a count of 1, 2, or 3, and for any associated cell that could be used to reveal such a count through calculation.. Source: DHS Office of Immigration Statistics."
                },
                {
                  "0": "COUNTRY  Rwanda",
                  "1": "20",
                  "2": "28",
                  "3": "43",
                  "4": "15",
                  "5": "19",
                  "6": "22",
                  "7": "39",
                  "8": "28",
                  "9": "24",
                  "10": "24",
                  "11": "Table 19.. INDIVIDUALS GRANTED ASYLUM DEFENSIVELY BY REGION AND COUNTRY OF NATIONALITY: FISCAL YEARS 2012 TO 2021",
                  "12": "NA Not available.. D Data withheld to limit disclosure.. - Represents zero.  . 1 Includes countries with fewer than 10 individuals granted asylum defensively per year.. 2 Includes admissions from Palestinian Territories. Figures for Soviet Union (former) for 2016 and onward and for Serbia and Montenegro (former) for 2021 and onward are assigned to Unknown.. Note: In this table, data are withheld for any cell with a count of 1, 2, or 3, and for any associated cell that could be used to reveal such a count through calculation.. Source: DHS Office of Immigration Statistics."
                },
                {
                  "0": "COUNTRY  Saudi Arabia",
                  "1": "9",
                  "2": "7",
                  "3": "7",
                  "4": "4",
                  "5": "7",
                  "6": "10",
                  "7": "9",
                  "8": "10",
                  "9": "11",
                  "10": "6",
                  "11": "Table 19.. INDIVIDUALS GRANTED ASYLUM DEFENSIVELY BY REGION AND COUNTRY OF NATIONALITY: FISCAL YEARS 2012 TO 2021",
                  "12": "NA Not available.. D Data withheld to limit disclosure.. - Represents zero.  . 1 Includes countries with fewer than 10 individuals granted asylum defensively per year.. 2 Includes admissions from Palestinian Territories. Figures for Soviet Union (former) for 2016 and onward and for Serbia and Montenegro (former) for 2021 and onward are assigned to Unknown.. Note: In this table, data are withheld for any cell with a count of 1, 2, or 3, and for any associated cell that could be used to reveal such a count through calculation.. Source: DHS Office of Immigration Statistics."
                },
                {
                  "0": "COUNTRY  Senegal",
                  "1": "25",
                  "2": "19",
                  "3": "16",
                  "4": "18",
                  "5": "7",
                  "6": "23",
                  "7": "12",
                  "8": "14",
                  "9": "11",
                  "10": "6",
                  "11": "Table 19.. INDIVIDUALS GRANTED ASYLUM DEFENSIVELY BY REGION AND COUNTRY OF NATIONALITY: FISCAL YEARS 2012 TO 2021",
                  "12": "NA Not available.. D Data withheld to limit disclosure.. - Represents zero.  . 1 Includes countries with fewer than 10 individuals granted asylum defensively per year.. 2 Includes admissions from Palestinian Territories. Figures for Soviet Union (former) for 2016 and onward and for Serbia and Montenegro (former) for 2021 and onward are assigned to Unknown.. Note: In this table, data are withheld for any cell with a count of 1, 2, or 3, and for any associated cell that could be used to reveal such a count through calculation.. Source: DHS Office of Immigration Statistics."
                },
                {
                  "0": "COUNTRY  Serbia and Montenegro (former)",
                  "1": "45",
                  "2": "49",
                  "3": "31",
                  "4": "17",
                  "5": "D",
                  "6": "5",
                  "7": "D",
                  "8": "D",
                  "9": "4",
                  "11": "Table 19.. INDIVIDUALS GRANTED ASYLUM DEFENSIVELY BY REGION AND COUNTRY OF NATIONALITY: FISCAL YEARS 2012 TO 2021",
                  "12": "NA Not available.. D Data withheld to limit disclosure.. - Represents zero.  . 1 Includes countries with fewer than 10 individuals granted asylum defensively per year.. 2 Includes admissions from Palestinian Territories. Figures for Soviet Union (former) for 2016 and onward and for Serbia and Montenegro (former) for 2021 and onward are assigned to Unknown.. Note: In this table, data are withheld for any cell with a count of 1, 2, or 3, and for any associated cell that could be used to reveal such a count through calculation.. Source: DHS Office of Immigration Statistics."
                },
                {
                  "0": "COUNTRY  Sierra Leone",
                  "1": "20",
                  "2": "11",
                  "3": "10",
                  "4": "4",
                  "5": "4",
                  "6": "10",
                  "7": "21",
                  "8": "21",
                  "9": "8",
                  "10": "4",
                  "11": "Table 19.. INDIVIDUALS GRANTED ASYLUM DEFENSIVELY BY REGION AND COUNTRY OF NATIONALITY: FISCAL YEARS 2012 TO 2021",
                  "12": "NA Not available.. D Data withheld to limit disclosure.. - Represents zero.  . 1 Includes countries with fewer than 10 individuals granted asylum defensively per year.. 2 Includes admissions from Palestinian Territories. Figures for Soviet Union (former) for 2016 and onward and for Serbia and Montenegro (former) for 2021 and onward are assigned to Unknown.. Note: In this table, data are withheld for any cell with a count of 1, 2, or 3, and for any associated cell that could be used to reveal such a count through calculation.. Source: DHS Office of Immigration Statistics."
                },
                {
                  "0": "COUNTRY  Somalia",
                  "1": "82",
                  "2": "81",
                  "3": "117",
                  "4": "177",
                  "5": "154",
                  "6": "90",
                  "7": "41",
                  "8": "32",
                  "9": "16",
                  "10": "11",
                  "11": "Table 19.. INDIVIDUALS GRANTED ASYLUM DEFENSIVELY BY REGION AND COUNTRY OF NATIONALITY: FISCAL YEARS 2012 TO 2021",
                  "12": "NA Not available.. D Data withheld to limit disclosure.. - Represents zero.  . 1 Includes countries with fewer than 10 individuals granted asylum defensively per year.. 2 Includes admissions from Palestinian Territories. Figures for Soviet Union (former) for 2016 and onward and for Serbia and Montenegro (former) for 2021 and onward are assigned to Unknown.. Note: In this table, data are withheld for any cell with a count of 1, 2, or 3, and for any associated cell that could be used to reveal such a count through calculation.. Source: DHS Office of Immigration Statistics."
                },
                {
                  "0": "COUNTRY  Soviet Union (former)",
                  "1": "255",
                  "2": "228",
                  "3": "158",
                  "4": "159",
                  "11": "Table 19.. INDIVIDUALS GRANTED ASYLUM DEFENSIVELY BY REGION AND COUNTRY OF NATIONALITY: FISCAL YEARS 2012 TO 2021",
                  "12": "NA Not available.. D Data withheld to limit disclosure.. - Represents zero.  . 1 Includes countries with fewer than 10 individuals granted asylum defensively per year.. 2 Includes admissions from Palestinian Territories. Figures for Soviet Union (former) for 2016 and onward and for Serbia and Montenegro (former) for 2021 and onward are assigned to Unknown.. Note: In this table, data are withheld for any cell with a count of 1, 2, or 3, and for any associated cell that could be used to reveal such a count through calculation.. Source: DHS Office of Immigration Statistics."
                },
                {
                  "0": "COUNTRY  Sri Lanka",
                  "1": "101",
                  "2": "96",
                  "3": "74",
                  "4": "46",
                  "5": "32",
                  "6": "41",
                  "7": "56",
                  "8": "70",
                  "9": "57",
                  "10": "14",
                  "11": "Table 19.. INDIVIDUALS GRANTED ASYLUM DEFENSIVELY BY REGION AND COUNTRY OF NATIONALITY: FISCAL YEARS 2012 TO 2021",
                  "12": "NA Not available.. D Data withheld to limit disclosure.. - Represents zero.  . 1 Includes countries with fewer than 10 individuals granted asylum defensively per year.. 2 Includes admissions from Palestinian Territories. Figures for Soviet Union (former) for 2016 and onward and for Serbia and Montenegro (former) for 2021 and onward are assigned to Unknown.. Note: In this table, data are withheld for any cell with a count of 1, 2, or 3, and for any associated cell that could be used to reveal such a count through calculation.. Source: DHS Office of Immigration Statistics."
                },
                {
                  "0": "COUNTRY  Sudan",
                  "1": "36",
                  "2": "32",
                  "3": "14",
                  "4": "21",
                  "5": "25",
                  "6": "25",
                  "7": "25",
                  "8": "37",
                  "9": "9",
                  "10": "23",
                  "11": "Table 19.. INDIVIDUALS GRANTED ASYLUM DEFENSIVELY BY REGION AND COUNTRY OF NATIONALITY: FISCAL YEARS 2012 TO 2021",
                  "12": "NA Not available.. D Data withheld to limit disclosure.. - Represents zero.  . 1 Includes countries with fewer than 10 individuals granted asylum defensively per year.. 2 Includes admissions from Palestinian Territories. Figures for Soviet Union (former) for 2016 and onward and for Serbia and Montenegro (former) for 2021 and onward are assigned to Unknown.. Note: In this table, data are withheld for any cell with a count of 1, 2, or 3, and for any associated cell that could be used to reveal such a count through calculation.. Source: DHS Office of Immigration Statistics."
                },
                {
                  "0": "COUNTRY  Syria",
                  "1": "28",
                  "2": "46",
                  "3": "65",
                  "4": "104",
                  "5": "77",
                  "6": "145",
                  "7": "157",
                  "8": "135",
                  "9": "62",
                  "10": "41",
                  "11": "Table 19.. INDIVIDUALS GRANTED ASYLUM DEFENSIVELY BY REGION AND COUNTRY OF NATIONALITY: FISCAL YEARS 2012 TO 2021",
                  "12": "NA Not available.. D Data withheld to limit disclosure.. - Represents zero.  . 1 Includes countries with fewer than 10 individuals granted asylum defensively per year.. 2 Includes admissions from Palestinian Territories. Figures for Soviet Union (former) for 2016 and onward and for Serbia and Montenegro (former) for 2021 and onward are assigned to Unknown.. Note: In this table, data are withheld for any cell with a count of 1, 2, or 3, and for any associated cell that could be used to reveal such a count through calculation.. Source: DHS Office of Immigration Statistics."
                },
                {
                  "0": "COUNTRY  Tajikistan",
                  "1": "8",
                  "2": "13",
                  "3": "13",
                  "4": "8",
                  "5": "10",
                  "6": "6",
                  "7": "15",
                  "8": "14",
                  "9": "11",
                  "10": "8",
                  "11": "Table 19.. INDIVIDUALS GRANTED ASYLUM DEFENSIVELY BY REGION AND COUNTRY OF NATIONALITY: FISCAL YEARS 2012 TO 2021",
                  "12": "NA Not available.. D Data withheld to limit disclosure.. - Represents zero.  . 1 Includes countries with fewer than 10 individuals granted asylum defensively per year.. 2 Includes admissions from Palestinian Territories. Figures for Soviet Union (former) for 2016 and onward and for Serbia and Montenegro (former) for 2021 and onward are assigned to Unknown.. Note: In this table, data are withheld for any cell with a count of 1, 2, or 3, and for any associated cell that could be used to reveal such a count through calculation.. Source: DHS Office of Immigration Statistics."
                },
                {
                  "0": "COUNTRY  Togo",
                  "1": "13",
                  "2": "14",
                  "3": "11",
                  "4": "10",
                  "5": "D",
                  "6": "13",
                  "7": "11",
                  "8": "13",
                  "9": "10",
                  "10": "6",
                  "11": "Table 19.. INDIVIDUALS GRANTED ASYLUM DEFENSIVELY BY REGION AND COUNTRY OF NATIONALITY: FISCAL YEARS 2012 TO 2021",
                  "12": "NA Not available.. D Data withheld to limit disclosure.. - Represents zero.  . 1 Includes countries with fewer than 10 individuals granted asylum defensively per year.. 2 Includes admissions from Palestinian Territories. Figures for Soviet Union (former) for 2016 and onward and for Serbia and Montenegro (former) for 2021 and onward are assigned to Unknown.. Note: In this table, data are withheld for any cell with a count of 1, 2, or 3, and for any associated cell that could be used to reveal such a count through calculation.. Source: DHS Office of Immigration Statistics."
                },
                {
                  "0": "COUNTRY  Turkey",
                  "1": "22",
                  "2": "D",
                  "3": "D",
                  "4": "14",
                  "5": "D",
                  "6": "13",
                  "7": "26",
                  "8": "60",
                  "9": "54",
                  "10": "52",
                  "11": "Table 19.. INDIVIDUALS GRANTED ASYLUM DEFENSIVELY BY REGION AND COUNTRY OF NATIONALITY: FISCAL YEARS 2012 TO 2021",
                  "12": "NA Not available.. D Data withheld to limit disclosure.. - Represents zero.  . 1 Includes countries with fewer than 10 individuals granted asylum defensively per year.. 2 Includes admissions from Palestinian Territories. Figures for Soviet Union (former) for 2016 and onward and for Serbia and Montenegro (former) for 2021 and onward are assigned to Unknown.. Note: In this table, data are withheld for any cell with a count of 1, 2, or 3, and for any associated cell that could be used to reveal such a count through calculation.. Source: DHS Office of Immigration Statistics."
                },
                {
                  "0": "COUNTRY  Turkmenistan",
                  "1": "9",
                  "2": "D",
                  "3": "4",
                  "4": "4",
                  "5": "D",
                  "6": "4",
                  "7": "8",
                  "8": "12",
                  "9": "5",
                  "10": "D",
                  "11": "Table 19.. INDIVIDUALS GRANTED ASYLUM DEFENSIVELY BY REGION AND COUNTRY OF NATIONALITY: FISCAL YEARS 2012 TO 2021",
                  "12": "NA Not available.. D Data withheld to limit disclosure.. - Represents zero.  . 1 Includes countries with fewer than 10 individuals granted asylum defensively per year.. 2 Includes admissions from Palestinian Territories. Figures for Soviet Union (former) for 2016 and onward and for Serbia and Montenegro (former) for 2021 and onward are assigned to Unknown.. Note: In this table, data are withheld for any cell with a count of 1, 2, or 3, and for any associated cell that could be used to reveal such a count through calculation.. Source: DHS Office of Immigration Statistics."
                },
                {
                  "0": "COUNTRY  Uganda",
                  "1": "24",
                  "2": "27",
                  "3": "24",
                  "4": "11",
                  "5": "14",
                  "6": "19",
                  "7": "28",
                  "8": "59",
                  "9": "46",
                  "10": "30",
                  "11": "Table 19.. INDIVIDUALS GRANTED ASYLUM DEFENSIVELY BY REGION AND COUNTRY OF NATIONALITY: FISCAL YEARS 2012 TO 2021",
                  "12": "NA Not available.. D Data withheld to limit disclosure.. - Represents zero.  . 1 Includes countries with fewer than 10 individuals granted asylum defensively per year.. 2 Includes admissions from Palestinian Territories. Figures for Soviet Union (former) for 2016 and onward and for Serbia and Montenegro (former) for 2021 and onward are assigned to Unknown.. Note: In this table, data are withheld for any cell with a count of 1, 2, or 3, and for any associated cell that could be used to reveal such a count through calculation.. Source: DHS Office of Immigration Statistics."
                },
                {
                  "0": "COUNTRY  Ukraine",
                  "1": "52",
                  "2": "55",
                  "3": "55",
                  "4": "41",
                  "5": "48",
                  "6": "68",
                  "7": "106",
                  "8": "142",
                  "9": "83",
                  "10": "59",
                  "11": "Table 19.. INDIVIDUALS GRANTED ASYLUM DEFENSIVELY BY REGION AND COUNTRY OF NATIONALITY: FISCAL YEARS 2012 TO 2021",
                  "12": "NA Not available.. D Data withheld to limit disclosure.. - Represents zero.  . 1 Includes countries with fewer than 10 individuals granted asylum defensively per year.. 2 Includes admissions from Palestinian Territories. Figures for Soviet Union (former) for 2016 and onward and for Serbia and Montenegro (former) for 2021 and onward are assigned to Unknown.. Note: In this table, data are withheld for any cell with a count of 1, 2, or 3, and for any associated cell that could be used to reveal such a count through calculation.. Source: DHS Office of Immigration Statistics."
                },
                {
                  "0": "COUNTRY  Uzbekistan",
                  "1": "36",
                  "2": "54",
                  "3": "37",
                  "4": "25",
                  "5": "15",
                  "6": "32",
                  "7": "45",
                  "8": "89",
                  "9": "90",
                  "10": "29",
                  "11": "Table 19.. INDIVIDUALS GRANTED ASYLUM DEFENSIVELY BY REGION AND COUNTRY OF NATIONALITY: FISCAL YEARS 2012 TO 2021",
                  "12": "NA Not available.. D Data withheld to limit disclosure.. - Represents zero.  . 1 Includes countries with fewer than 10 individuals granted asylum defensively per year.. 2 Includes admissions from Palestinian Territories. Figures for Soviet Union (former) for 2016 and onward and for Serbia and Montenegro (former) for 2021 and onward are assigned to Unknown.. Note: In this table, data are withheld for any cell with a count of 1, 2, or 3, and for any associated cell that could be used to reveal such a count through calculation.. Source: DHS Office of Immigration Statistics."
                },
                {
                  "0": "COUNTRY  Venezuela",
                  "1": "100",
                  "2": "76",
                  "3": "90",
                  "4": "32",
                  "5": "27",
                  "6": "68",
                  "7": "123",
                  "8": "501",
                  "9": "890",
                  "10": "472",
                  "11": "Table 19.. INDIVIDUALS GRANTED ASYLUM DEFENSIVELY BY REGION AND COUNTRY OF NATIONALITY: FISCAL YEARS 2012 TO 2021",
                  "12": "NA Not available.. D Data withheld to limit disclosure.. - Represents zero.  . 1 Includes countries with fewer than 10 individuals granted asylum defensively per year.. 2 Includes admissions from Palestinian Territories. Figures for Soviet Union (former) for 2016 and onward and for Serbia and Montenegro (former) for 2021 and onward are assigned to Unknown.. Note: In this table, data are withheld for any cell with a count of 1, 2, or 3, and for any associated cell that could be used to reveal such a count through calculation.. Source: DHS Office of Immigration Statistics."
                },
                {
                  "0": "COUNTRY  Vietnam",
                  "1": "10",
                  "2": "4",
                  "3": "4",
                  "4": "D",
                  "5": "D",
                  "6": "D",
                  "7": "6",
                  "8": "36",
                  "9": "89",
                  "10": "45",
                  "11": "Table 19.. INDIVIDUALS GRANTED ASYLUM DEFENSIVELY BY REGION AND COUNTRY OF NATIONALITY: FISCAL YEARS 2012 TO 2021",
                  "12": "NA Not available.. D Data withheld to limit disclosure.. - Represents zero.  . 1 Includes countries with fewer than 10 individuals granted asylum defensively per year.. 2 Includes admissions from Palestinian Territories. Figures for Soviet Union (former) for 2016 and onward and for Serbia and Montenegro (former) for 2021 and onward are assigned to Unknown.. Note: In this table, data are withheld for any cell with a count of 1, 2, or 3, and for any associated cell that could be used to reveal such a count through calculation.. Source: DHS Office of Immigration Statistics."
                },
                {
                  "0": "COUNTRY  Yemen",
                  "1": "14",
                  "2": "9",
                  "3": "18",
                  "4": "7",
                  "5": "9",
                  "6": "4",
                  "7": "21",
                  "8": "21",
                  "9": "20",
                  "10": "13",
                  "11": "Table 19.. INDIVIDUALS GRANTED ASYLUM DEFENSIVELY BY REGION AND COUNTRY OF NATIONALITY: FISCAL YEARS 2012 TO 2021",
                  "12": "NA Not available.. D Data withheld to limit disclosure.. - Represents zero.  . 1 Includes countries with fewer than 10 individuals granted asylum defensively per year.. 2 Includes admissions from Palestinian Territories. Figures for Soviet Union (former) for 2016 and onward and for Serbia and Montenegro (former) for 2021 and onward are assigned to Unknown.. Note: In this table, data are withheld for any cell with a count of 1, 2, or 3, and for any associated cell that could be used to reveal such a count through calculation.. Source: DHS Office of Immigration Statistics."
                },
                {
                  "0": "COUNTRY  Zimbabwe",
                  "1": "34",
                  "2": "20",
                  "3": "7",
                  "4": "D",
                  "5": "D",
                  "6": "13",
                  "7": "8",
                  "8": "12",
                  "9": "8",
                  "10": "-",
                  "11": "Table 19.. INDIVIDUALS GRANTED ASYLUM DEFENSIVELY BY REGION AND COUNTRY OF NATIONALITY: FISCAL YEARS 2012 TO 2021",
                  "12": "NA Not available.. D Data withheld to limit disclosure.. - Represents zero.  . 1 Includes countries with fewer than 10 individuals granted asylum defensively per year.. 2 Includes admissions from Palestinian Territories. Figures for Soviet Union (former) for 2016 and onward and for Serbia and Montenegro (former) for 2021 and onward are assigned to Unknown.. Note: In this table, data are withheld for any cell with a count of 1, 2, or 3, and for any associated cell that could be used to reveal such a count through calculation.. Source: DHS Office of Immigration Statistics."
                },
                {
                  "0": "COUNTRY  All other countries1",
                  "1": "130",
                  "2": "119",
                  "3": "81",
                  "4": "74",
                  "5": "55",
                  "6": "69",
                  "7": "82",
                  "8": "105",
                  "9": "98",
                  "10": "63",
                  "11": "Table 19.. INDIVIDUALS GRANTED ASYLUM DEFENSIVELY BY REGION AND COUNTRY OF NATIONALITY: FISCAL YEARS 2012 TO 2021",
                  "12": "NA Not available.. D Data withheld to limit disclosure.. - Represents zero.  . 1 Includes countries with fewer than 10 individuals granted asylum defensively per year.. 2 Includes admissions from Palestinian Territories. Figures for Soviet Union (former) for 2016 and onward and for Serbia and Montenegro (former) for 2021 and onward are assigned to Unknown.. Note: In this table, data are withheld for any cell with a count of 1, 2, or 3, and for any associated cell that could be used to reveal such a count through calculation.. Source: DHS Office of Immigration Statistics."
                },
                {
                  "0": "COUNTRY  Unknown2",
                  "1": "92",
                  "2": "44",
                  "3": "D",
                  "4": "D",
                  "5": "153",
                  "6": "D",
                  "7": "D",
                  "8": "200",
                  "9": "143",
                  "10": "51",
                  "11": "Table 19.. INDIVIDUALS GRANTED ASYLUM DEFENSIVELY BY REGION AND COUNTRY OF NATIONALITY: FISCAL YEARS 2012 TO 2021",
                  "12": "NA Not available.. D Data withheld to limit disclosure.. - Represents zero.  . 1 Includes countries with fewer than 10 individuals granted asylum defensively per year.. 2 Includes admissions from Palestinian Territories. Figures for Soviet Union (former) for 2016 and onward and for Serbia and Montenegro (former) for 2021 and onward are assigned to Unknown.. Note: In this table, data are withheld for any cell with a count of 1, 2, or 3, and for any associated cell that could be used to reveal such a count through calculation.. Source: DHS Office of Immigration Statistics."
                }
              ],
              "schema": [
                {
                  "key": "0",
                  "name": "Region_and_country_of_nationality",
                  "type": "string"
                },
                {
                  "key": "1",
                  "name": "2012",
                  "type": "string"
                },
                {
                  "key": "2",
                  "name": "2013",
                  "type": "string"
                },
                {
                  "key": "3",
                  "name": "2014",
                  "type": "string"
                },
                {
                  "key": "4",
                  "name": "2015",
                  "type": "string"
                },
                {
                  "key": "5",
                  "name": "2016",
                  "type": "string"
                },
                {
                  "key": "6",
                  "name": "2017",
                  "type": "string"
                },
                {
                  "key": "7",
                  "name": "2018",
                  "type": "string"
                },
                {
                  "key": "8",
                  "name": "2019",
                  "type": "string"
                },
                {
                  "key": "9",
                  "name": "2020",
                  "type": "string"
                },
                {
                  "key": "10",
                  "name": "2021",
                  "type": "string"
                },
                {
                  "key": "11",
                  "name": "Header",
                  "type": "string"
                },
                {
                  "key": "12",
                  "name": "Footer",
                  "type": "string"
                }
              ],
              "truncated": false
            },
            "isSummary": false,
            "language": "scala"
          },
          "persist_state": {
            "view": {
              "type": "details",
              "tableOptions": {},
              "chartOptions": {
                "chartType": "bar",
                "aggregationType": "count",
                "categoryFieldKeys": [
                  "0"
                ],
                "seriesFieldKeys": [
                  "0"
                ],
                "isStacked": false
              }
            }
          }
        },
        "1cd3fccf-8f31-4251-80e9-a41133668c94": {
          "type": "Synapse.DataFrame",
          "sync_state": {
            "table": {
              "rows": [
                {
                  "0": "SEX  Total",
                  "1": "10325",
                  "2": "6597",
                  "3": "1572",
                  "4": "2156",
                  "5": "Table 18.. INDIVIDUALS GRANTED ASYLUM AFFIRMATIVELY BY RELATIONSHIP TO PRINCIPAL APPLICANT AND SEX, AGE, AND MARITAL STATUS: FISCAL YEAR 2021",
                  "6": "D Data withheld to limit disclosure.. - Represents zero. . Note: Data not available for individuals granted asylum defensively.. Source: DHS Office of Immigration Statistics."
                },
                {
                  "0": "SEX  Female",
                  "1": "4961",
                  "2": "3021",
                  "3": "894",
                  "4": "1046",
                  "5": "Table 18.. INDIVIDUALS GRANTED ASYLUM AFFIRMATIVELY BY RELATIONSHIP TO PRINCIPAL APPLICANT AND SEX, AGE, AND MARITAL STATUS: FISCAL YEAR 2021",
                  "6": "D Data withheld to limit disclosure.. - Represents zero. . Note: Data not available for individuals granted asylum defensively.. Source: DHS Office of Immigration Statistics."
                },
                {
                  "0": "SEX  Male",
                  "1": "5364",
                  "2": "3576",
                  "3": "678",
                  "4": "1110",
                  "5": "Table 18.. INDIVIDUALS GRANTED ASYLUM AFFIRMATIVELY BY RELATIONSHIP TO PRINCIPAL APPLICANT AND SEX, AGE, AND MARITAL STATUS: FISCAL YEAR 2021",
                  "6": "D Data withheld to limit disclosure.. - Represents zero. . Note: Data not available for individuals granted asylum defensively.. Source: DHS Office of Immigration Statistics."
                },
                {
                  "0": "AGE  Total",
                  "1": "10325",
                  "2": "6597",
                  "3": "1572",
                  "4": "2156",
                  "5": "Table 18.. INDIVIDUALS GRANTED ASYLUM AFFIRMATIVELY BY RELATIONSHIP TO PRINCIPAL APPLICANT AND SEX, AGE, AND MARITAL STATUS: FISCAL YEAR 2021",
                  "6": "D Data withheld to limit disclosure.. - Represents zero. . Note: Data not available for individuals granted asylum defensively.. Source: DHS Office of Immigration Statistics."
                },
                {
                  "0": "AGE  1 to 4 years",
                  "1": "132",
                  "2": "D",
                  "3": "-",
                  "4": "D",
                  "5": "Table 18.. INDIVIDUALS GRANTED ASYLUM AFFIRMATIVELY BY RELATIONSHIP TO PRINCIPAL APPLICANT AND SEX, AGE, AND MARITAL STATUS: FISCAL YEAR 2021",
                  "6": "D Data withheld to limit disclosure.. - Represents zero. . Note: Data not available for individuals granted asylum defensively.. Source: DHS Office of Immigration Statistics."
                },
                {
                  "0": "AGE  5 to 9 years",
                  "1": "629",
                  "2": "D",
                  "3": "-",
                  "4": "D",
                  "5": "Table 18.. INDIVIDUALS GRANTED ASYLUM AFFIRMATIVELY BY RELATIONSHIP TO PRINCIPAL APPLICANT AND SEX, AGE, AND MARITAL STATUS: FISCAL YEAR 2021",
                  "6": "D Data withheld to limit disclosure.. - Represents zero. . Note: Data not available for individuals granted asylum defensively.. Source: DHS Office of Immigration Statistics."
                },
                {
                  "0": "AGE  10 to 14 years",
                  "1": "735",
                  "2": "83",
                  "3": "-",
                  "4": "652",
                  "5": "Table 18.. INDIVIDUALS GRANTED ASYLUM AFFIRMATIVELY BY RELATIONSHIP TO PRINCIPAL APPLICANT AND SEX, AGE, AND MARITAL STATUS: FISCAL YEAR 2021",
                  "6": "D Data withheld to limit disclosure.. - Represents zero. . Note: Data not available for individuals granted asylum defensively.. Source: DHS Office of Immigration Statistics."
                },
                {
                  "0": "AGE  15 to 19 years",
                  "1": "1065",
                  "2": "567",
                  "3": "-",
                  "4": "498",
                  "5": "Table 18.. INDIVIDUALS GRANTED ASYLUM AFFIRMATIVELY BY RELATIONSHIP TO PRINCIPAL APPLICANT AND SEX, AGE, AND MARITAL STATUS: FISCAL YEAR 2021",
                  "6": "D Data withheld to limit disclosure.. - Represents zero. . Note: Data not available for individuals granted asylum defensively.. Source: DHS Office of Immigration Statistics."
                },
                {
                  "0": "AGE  20 to 24 years",
                  "1": "1001",
                  "2": "735",
                  "3": "22",
                  "4": "244",
                  "5": "Table 18.. INDIVIDUALS GRANTED ASYLUM AFFIRMATIVELY BY RELATIONSHIP TO PRINCIPAL APPLICANT AND SEX, AGE, AND MARITAL STATUS: FISCAL YEAR 2021",
                  "6": "D Data withheld to limit disclosure.. - Represents zero. . Note: Data not available for individuals granted asylum defensively.. Source: DHS Office of Immigration Statistics."
                },
                {
                  "0": "AGE  25 to 29 years",
                  "1": "1078",
                  "2": "894",
                  "3": "156",
                  "4": "28",
                  "5": "Table 18.. INDIVIDUALS GRANTED ASYLUM AFFIRMATIVELY BY RELATIONSHIP TO PRINCIPAL APPLICANT AND SEX, AGE, AND MARITAL STATUS: FISCAL YEAR 2021",
                  "6": "D Data withheld to limit disclosure.. - Represents zero. . Note: Data not available for individuals granted asylum defensively.. Source: DHS Office of Immigration Statistics."
                },
                {
                  "0": "AGE  30 to 34 years",
                  "1": "1309",
                  "2": "1041",
                  "3": "268",
                  "4": "-",
                  "5": "Table 18.. INDIVIDUALS GRANTED ASYLUM AFFIRMATIVELY BY RELATIONSHIP TO PRINCIPAL APPLICANT AND SEX, AGE, AND MARITAL STATUS: FISCAL YEAR 2021",
                  "6": "D Data withheld to limit disclosure.. - Represents zero. . Note: Data not available for individuals granted asylum defensively.. Source: DHS Office of Immigration Statistics."
                },
                {
                  "0": "AGE  35 to 39 years",
                  "1": "1409",
                  "2": "1037",
                  "3": "372",
                  "4": "-",
                  "5": "Table 18.. INDIVIDUALS GRANTED ASYLUM AFFIRMATIVELY BY RELATIONSHIP TO PRINCIPAL APPLICANT AND SEX, AGE, AND MARITAL STATUS: FISCAL YEAR 2021",
                  "6": "D Data withheld to limit disclosure.. - Represents zero. . Note: Data not available for individuals granted asylum defensively.. Source: DHS Office of Immigration Statistics."
                },
                {
                  "0": "AGE  40 to 44 years",
                  "1": "1112",
                  "2": "801",
                  "3": "311",
                  "4": "-",
                  "5": "Table 18.. INDIVIDUALS GRANTED ASYLUM AFFIRMATIVELY BY RELATIONSHIP TO PRINCIPAL APPLICANT AND SEX, AGE, AND MARITAL STATUS: FISCAL YEAR 2021",
                  "6": "D Data withheld to limit disclosure.. - Represents zero. . Note: Data not available for individuals granted asylum defensively.. Source: DHS Office of Immigration Statistics."
                },
                {
                  "0": "AGE  45 to 49 years",
                  "1": "798",
                  "2": "610",
                  "3": "188",
                  "4": "-",
                  "5": "Table 18.. INDIVIDUALS GRANTED ASYLUM AFFIRMATIVELY BY RELATIONSHIP TO PRINCIPAL APPLICANT AND SEX, AGE, AND MARITAL STATUS: FISCAL YEAR 2021",
                  "6": "D Data withheld to limit disclosure.. - Represents zero. . Note: Data not available for individuals granted asylum defensively.. Source: DHS Office of Immigration Statistics."
                },
                {
                  "0": "AGE  50 to 54 years",
                  "1": "468",
                  "2": "340",
                  "3": "128",
                  "4": "-",
                  "5": "Table 18.. INDIVIDUALS GRANTED ASYLUM AFFIRMATIVELY BY RELATIONSHIP TO PRINCIPAL APPLICANT AND SEX, AGE, AND MARITAL STATUS: FISCAL YEAR 2021",
                  "6": "D Data withheld to limit disclosure.. - Represents zero. . Note: Data not available for individuals granted asylum defensively.. Source: DHS Office of Immigration Statistics."
                },
                {
                  "0": "AGE  55 to 59 years",
                  "1": "289",
                  "2": "223",
                  "3": "66",
                  "4": "-",
                  "5": "Table 18.. INDIVIDUALS GRANTED ASYLUM AFFIRMATIVELY BY RELATIONSHIP TO PRINCIPAL APPLICANT AND SEX, AGE, AND MARITAL STATUS: FISCAL YEAR 2021",
                  "6": "D Data withheld to limit disclosure.. - Represents zero. . Note: Data not available for individuals granted asylum defensively.. Source: DHS Office of Immigration Statistics."
                },
                {
                  "0": "AGE  60 to 64 years",
                  "1": "124",
                  "2": "97",
                  "3": "27",
                  "4": "-",
                  "5": "Table 18.. INDIVIDUALS GRANTED ASYLUM AFFIRMATIVELY BY RELATIONSHIP TO PRINCIPAL APPLICANT AND SEX, AGE, AND MARITAL STATUS: FISCAL YEAR 2021",
                  "6": "D Data withheld to limit disclosure.. - Represents zero. . Note: Data not available for individuals granted asylum defensively.. Source: DHS Office of Immigration Statistics."
                },
                {
                  "0": "AGE  65 to 74 years",
                  "1": "126",
                  "2": "101",
                  "3": "25",
                  "4": "-",
                  "5": "Table 18.. INDIVIDUALS GRANTED ASYLUM AFFIRMATIVELY BY RELATIONSHIP TO PRINCIPAL APPLICANT AND SEX, AGE, AND MARITAL STATUS: FISCAL YEAR 2021",
                  "6": "D Data withheld to limit disclosure.. - Represents zero. . Note: Data not available for individuals granted asylum defensively.. Source: DHS Office of Immigration Statistics."
                },
                {
                  "0": "AGE  75 years and over",
                  "1": "50",
                  "2": "41",
                  "3": "9",
                  "4": "-",
                  "5": "Table 18.. INDIVIDUALS GRANTED ASYLUM AFFIRMATIVELY BY RELATIONSHIP TO PRINCIPAL APPLICANT AND SEX, AGE, AND MARITAL STATUS: FISCAL YEAR 2021",
                  "6": "D Data withheld to limit disclosure.. - Represents zero. . Note: Data not available for individuals granted asylum defensively.. Source: DHS Office of Immigration Statistics."
                },
                {
                  "0": "BROAD AGE GROUP  Total",
                  "1": "10325",
                  "2": "6597",
                  "3": "1572",
                  "4": "2156",
                  "5": "Table 18.. INDIVIDUALS GRANTED ASYLUM AFFIRMATIVELY BY RELATIONSHIP TO PRINCIPAL APPLICANT AND SEX, AGE, AND MARITAL STATUS: FISCAL YEAR 2021",
                  "6": "D Data withheld to limit disclosure.. - Represents zero. . Note: Data not available for individuals granted asylum defensively.. Source: DHS Office of Immigration Statistics."
                },
                {
                  "0": "BROAD AGE GROUP  Under 16 years",
                  "1": "1645",
                  "2": "148",
                  "3": "-",
                  "4": "1497",
                  "5": "Table 18.. INDIVIDUALS GRANTED ASYLUM AFFIRMATIVELY BY RELATIONSHIP TO PRINCIPAL APPLICANT AND SEX, AGE, AND MARITAL STATUS: FISCAL YEAR 2021",
                  "6": "D Data withheld to limit disclosure.. - Represents zero. . Note: Data not available for individuals granted asylum defensively.. Source: DHS Office of Immigration Statistics."
                },
                {
                  "0": "BROAD AGE GROUP  16 to 20 years",
                  "1": "1156",
                  "2": "679",
                  "3": "D",
                  "4": "D",
                  "5": "Table 18.. INDIVIDUALS GRANTED ASYLUM AFFIRMATIVELY BY RELATIONSHIP TO PRINCIPAL APPLICANT AND SEX, AGE, AND MARITAL STATUS: FISCAL YEAR 2021",
                  "6": "D Data withheld to limit disclosure.. - Represents zero. . Note: Data not available for individuals granted asylum defensively.. Source: DHS Office of Immigration Statistics."
                },
                {
                  "0": "BROAD AGE GROUP  21 years and over",
                  "1": "7524",
                  "2": "5770",
                  "3": "D",
                  "4": "D",
                  "5": "Table 18.. INDIVIDUALS GRANTED ASYLUM AFFIRMATIVELY BY RELATIONSHIP TO PRINCIPAL APPLICANT AND SEX, AGE, AND MARITAL STATUS: FISCAL YEAR 2021",
                  "6": "D Data withheld to limit disclosure.. - Represents zero. . Note: Data not available for individuals granted asylum defensively.. Source: DHS Office of Immigration Statistics."
                },
                {
                  "0": "MARITAL STATUS  Total",
                  "1": "10325",
                  "2": "6597",
                  "3": "1572",
                  "4": "2156",
                  "5": "Table 18.. INDIVIDUALS GRANTED ASYLUM AFFIRMATIVELY BY RELATIONSHIP TO PRINCIPAL APPLICANT AND SEX, AGE, AND MARITAL STATUS: FISCAL YEAR 2021",
                  "6": "D Data withheld to limit disclosure.. - Represents zero. . Note: Data not available for individuals granted asylum defensively.. Source: DHS Office of Immigration Statistics."
                },
                {
                  "0": "MARITAL STATUS  Married",
                  "1": "4403",
                  "2": "2831",
                  "3": "1572",
                  "4": "-",
                  "5": "Table 18.. INDIVIDUALS GRANTED ASYLUM AFFIRMATIVELY BY RELATIONSHIP TO PRINCIPAL APPLICANT AND SEX, AGE, AND MARITAL STATUS: FISCAL YEAR 2021",
                  "6": "D Data withheld to limit disclosure.. - Represents zero. . Note: Data not available for individuals granted asylum defensively.. Source: DHS Office of Immigration Statistics."
                },
                {
                  "0": "MARITAL STATUS  Single",
                  "1": "5406",
                  "2": "3250",
                  "3": "-",
                  "4": "2156",
                  "5": "Table 18.. INDIVIDUALS GRANTED ASYLUM AFFIRMATIVELY BY RELATIONSHIP TO PRINCIPAL APPLICANT AND SEX, AGE, AND MARITAL STATUS: FISCAL YEAR 2021",
                  "6": "D Data withheld to limit disclosure.. - Represents zero. . Note: Data not available for individuals granted asylum defensively.. Source: DHS Office of Immigration Statistics."
                },
                {
                  "0": "MARITAL STATUS  Widowed",
                  "1": "127",
                  "2": "127",
                  "3": "-",
                  "4": "-",
                  "5": "Table 18.. INDIVIDUALS GRANTED ASYLUM AFFIRMATIVELY BY RELATIONSHIP TO PRINCIPAL APPLICANT AND SEX, AGE, AND MARITAL STATUS: FISCAL YEAR 2021",
                  "6": "D Data withheld to limit disclosure.. - Represents zero. . Note: Data not available for individuals granted asylum defensively.. Source: DHS Office of Immigration Statistics."
                },
                {
                  "0": "MARITAL STATUS  Divorced/separated",
                  "1": "382",
                  "2": "382",
                  "3": "-",
                  "4": "-",
                  "5": "Table 18.. INDIVIDUALS GRANTED ASYLUM AFFIRMATIVELY BY RELATIONSHIP TO PRINCIPAL APPLICANT AND SEX, AGE, AND MARITAL STATUS: FISCAL YEAR 2021",
                  "6": "D Data withheld to limit disclosure.. - Represents zero. . Note: Data not available for individuals granted asylum defensively.. Source: DHS Office of Immigration Statistics."
                },
                {
                  "0": "MARITAL STATUS  Unknown",
                  "1": "7",
                  "2": "7",
                  "3": "-",
                  "4": "-",
                  "5": "Table 18.. INDIVIDUALS GRANTED ASYLUM AFFIRMATIVELY BY RELATIONSHIP TO PRINCIPAL APPLICANT AND SEX, AGE, AND MARITAL STATUS: FISCAL YEAR 2021",
                  "6": "D Data withheld to limit disclosure.. - Represents zero. . Note: Data not available for individuals granted asylum defensively.. Source: DHS Office of Immigration Statistics."
                }
              ],
              "schema": [
                {
                  "key": "0",
                  "name": "Characteristic",
                  "type": "string"
                },
                {
                  "key": "1",
                  "name": "Total",
                  "type": "string"
                },
                {
                  "key": "2",
                  "name": "col_2",
                  "type": "string"
                },
                {
                  "key": "3",
                  "name": "Spouses",
                  "type": "string"
                },
                {
                  "key": "4",
                  "name": "Children",
                  "type": "string"
                },
                {
                  "key": "5",
                  "name": "Header",
                  "type": "string"
                },
                {
                  "key": "6",
                  "name": "Footer",
                  "type": "string"
                }
              ],
              "truncated": false
            },
            "isSummary": false,
            "language": "scala"
          },
          "persist_state": {
            "view": {
              "type": "details",
              "tableOptions": {},
              "chartOptions": {
                "chartType": "bar",
                "aggregationType": "count",
                "categoryFieldKeys": [
                  "0"
                ],
                "seriesFieldKeys": [
                  "0"
                ],
                "isStacked": false
              }
            }
          }
        }
      }
    }
  },
  "nbformat": 4,
  "nbformat_minor": 2
}