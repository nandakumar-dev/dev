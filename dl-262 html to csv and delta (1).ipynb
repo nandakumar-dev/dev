{
  "cells": [
    {
      "cell_type": "code",
      "source": [
        "file_path='www.ssa.gov/www_ssa_gov_oact_ssir_SSI20_SingleYearTables_ssiSingleYearIndex_html.csv'"
      ],
      "outputs": [
        {
          "output_type": "display_data",
          "data": {
            "application/vnd.livy.statement-meta+json": {
              "spark_pool": "smallpool",
              "session_id": "21670",
              "statement_id": 30,
              "state": "finished",
              "livy_statement_state": "available",
              "queued_time": "2023-11-15T08:03:53.5136845Z",
              "session_start_time": null,
              "execution_start_time": "2023-11-15T08:03:53.6515238Z",
              "execution_finish_time": "2023-11-15T08:03:53.8445248Z",
              "spark_jobs": null,
              "parent_msg_id": "8354e7cd-31c3-4d41-aea0-55a425aa5be5"
            },
            "text/plain": "StatementMeta(smallpool, 21670, 30, Finished, Available)"
          },
          "metadata": {}
        }
      ],
      "execution_count": 29,
      "metadata": {}
    },
    {
      "cell_type": "code",
      "source": [
        "from azure.storage.blob import BlobServiceClient, BlobClient, ContainerClient\r\n",
        "import pandas as pd\r\n",
        "from io import StringIO\r\n",
        "from pyspark.sql.functions import *\r\n",
        "import requests\r\n",
        "from bs4 import BeautifulSoup"
      ],
      "outputs": [
        {
          "output_type": "display_data",
          "data": {
            "application/vnd.livy.statement-meta+json": {
              "spark_pool": "smallpool",
              "session_id": "21670",
              "statement_id": 41,
              "state": "finished",
              "livy_statement_state": "available",
              "queued_time": "2023-11-15T08:09:41.7147791Z",
              "session_start_time": null,
              "execution_start_time": "2023-11-15T08:09:41.8532085Z",
              "execution_finish_time": "2023-11-15T08:09:42.020196Z",
              "spark_jobs": null,
              "parent_msg_id": "0f43e9c3-e4ff-463a-bf29-9c9d3529d838"
            },
            "text/plain": "StatementMeta(smallpool, 21670, 41, Finished, Available)"
          },
          "metadata": {}
        }
      ],
      "execution_count": 40,
      "metadata": {
        "jupyter": {
          "source_hidden": false,
          "outputs_hidden": false
        },
        "nteract": {
          "transient": {
            "deleting": false
          }
        }
      }
    },
    {
      "cell_type": "code",
      "source": [
        "linked_service_name = 'bronze'\r\n",
        "container_name = 'ingestion-meta'\r\n",
        "account_name = 'usafactsbronze'\r\n",
        "blob_sas_token = mssparkutils.credentials.getConnectionStringOrCreds(linked_service_name)\r\n",
        "blob_service_client = BlobServiceClient(account_url=f'https://{account_name}.blob.core.windows.net/', credential=blob_sas_token)\r\n",
        "container_client = blob_service_client.get_container_client(container_name)"
      ],
      "outputs": [
        {
          "output_type": "display_data",
          "data": {
            "application/vnd.livy.statement-meta+json": {
              "spark_pool": "smallpool",
              "session_id": "21670",
              "statement_id": 32,
              "state": "finished",
              "livy_statement_state": "available",
              "queued_time": "2023-11-15T08:03:53.6197256Z",
              "session_start_time": null,
              "execution_start_time": "2023-11-15T08:03:54.3181047Z",
              "execution_finish_time": "2023-11-15T08:03:54.4923889Z",
              "spark_jobs": null,
              "parent_msg_id": "52e4bf3f-3f74-4172-8609-33e490b703ff"
            },
            "text/plain": "StatementMeta(smallpool, 21670, 32, Finished, Available)"
          },
          "metadata": {}
        }
      ],
      "execution_count": 31,
      "metadata": {
        "jupyter": {
          "source_hidden": false,
          "outputs_hidden": false
        },
        "nteract": {
          "transient": {
            "deleting": false
          }
        }
      }
    },
    {
      "cell_type": "code",
      "source": [
        "def write_bronze(df,pdf_path):\r\n",
        "\r\n",
        "    BLOB_ACCOUNT_NAME = 'usafactsbronze'\r\n",
        "    LINKED_SERVICE_NAME = 'Bronze'\r\n",
        "    BLOB_SAS_TOKEN = mssparkutils.credentials.getConnectionStringOrCreds(LINKED_SERVICE_NAME)\r\n",
        "    blob_service_client = BlobServiceClient(\"https://{}.blob.core.windows.net\".format(BLOB_ACCOUNT_NAME), credential=BLOB_SAS_TOKEN)\r\n",
        "    container_name='bronze'\r\n",
        "\r\n",
        "    ouput_file_path=pdf_path.replace(\"https://\",\"\").split('.')[:-1]\r\n",
        "    ouput_file_path='.'.join(ouput_file_path)+'.csv'\r\n",
        "\r\n",
        "    csv_data=df.to_csv(index=False)\r\n",
        "\r\n",
        "    # Create a blob client for the new file\r\n",
        "    blob_client = blob_service_client.get_blob_client(container=container_name, blob=ouput_file_path)\r\n",
        "\r\n",
        "    # Upload the CSV data to the blob\r\n",
        "    blob_client.upload_blob(csv_data, overwrite=True)\r\n",
        "\r\n",
        "    print(\"CSV file uploaded successfully:\",ouput_file_path)\r\n",
        "    "
      ],
      "outputs": [
        {
          "output_type": "display_data",
          "data": {
            "application/vnd.livy.statement-meta+json": {
              "spark_pool": "smallpool",
              "session_id": "21670",
              "statement_id": 33,
              "state": "finished",
              "livy_statement_state": "available",
              "queued_time": "2023-11-15T08:03:53.6873567Z",
              "session_start_time": null,
              "execution_start_time": "2023-11-15T08:03:54.6309185Z",
              "execution_finish_time": "2023-11-15T08:03:54.7913789Z",
              "spark_jobs": null,
              "parent_msg_id": "e4c53391-cb05-4dd1-8525-68174d0ece6a"
            },
            "text/plain": "StatementMeta(smallpool, 21670, 33, Finished, Available)"
          },
          "metadata": {}
        }
      ],
      "execution_count": 32,
      "metadata": {
        "jupyter": {
          "source_hidden": false,
          "outputs_hidden": false
        },
        "nteract": {
          "transient": {
            "deleting": false
          }
        }
      }
    },
    {
      "cell_type": "code",
      "source": [
        "def write_silver(df,ouput_file_path):    \r\n",
        "    # silver storage access\r\n",
        "    # Azure storage access info \r\n",
        "    blob_account_name = 'usafactssilver'\r\n",
        "    blob_container_name = 'silver'\r\n",
        "    linked_service_name = 'silver' \r\n",
        "\r\n",
        "    blob_sas_token = mssparkutils.credentials.getConnectionStringOrCreds(linked_service_name) \r\n",
        "\r\n",
        "    ouput_file_path=ouput_file_path.replace('https://','')\r\n",
        "\r\n",
        "    # Allow SPARK to access from Blob remotely\r\n",
        "    wasbs_path = 'wasbs://%s@%s.blob.core.windows.net/%s' % (blob_container_name, blob_account_name, ouput_file_path)\r\n",
        "    spark.conf.set('fs.azure.sas.%s.%s.blob.core.windows.net' % (blob_container_name, blob_account_name), blob_sas_token)\r\n",
        "    df.write.format('delta').mode('overwrite').option(\"overwriteSchema\",True).option(\"path\",wasbs_path).save()\r\n",
        "    print('DELTA file uploaded successfully: ',ouput_file_path)\r\n"
      ],
      "outputs": [
        {
          "output_type": "display_data",
          "data": {
            "application/vnd.livy.statement-meta+json": {
              "spark_pool": "smallpool",
              "session_id": "21670",
              "statement_id": 34,
              "state": "finished",
              "livy_statement_state": "available",
              "queued_time": "2023-11-15T08:03:53.8262112Z",
              "session_start_time": null,
              "execution_start_time": "2023-11-15T08:03:54.9334229Z",
              "execution_finish_time": "2023-11-15T08:03:55.0881004Z",
              "spark_jobs": null,
              "parent_msg_id": "58d74935-e59c-4cd1-860a-5a5b8ef480e2"
            },
            "text/plain": "StatementMeta(smallpool, 21670, 34, Finished, Available)"
          },
          "metadata": {}
        }
      ],
      "execution_count": 33,
      "metadata": {
        "jupyter": {
          "source_hidden": false,
          "outputs_hidden": false
        },
        "nteract": {
          "transient": {
            "deleting": false
          }
        }
      }
    },
    {
      "cell_type": "code",
      "source": [
        "blob_client = container_client.get_blob_client(file_path)\r\n",
        "content = blob_client.download_blob().readall()"
      ],
      "outputs": [
        {
          "output_type": "display_data",
          "data": {
            "application/vnd.livy.statement-meta+json": {
              "spark_pool": "smallpool",
              "session_id": "21670",
              "statement_id": 35,
              "state": "finished",
              "livy_statement_state": "available",
              "queued_time": "2023-11-15T08:03:53.9027148Z",
              "session_start_time": null,
              "execution_start_time": "2023-11-15T08:03:55.2235433Z",
              "execution_finish_time": "2023-11-15T08:03:55.4046998Z",
              "spark_jobs": null,
              "parent_msg_id": "48679d3e-cae2-4f3c-9715-1c8fdd71e5c7"
            },
            "text/plain": "StatementMeta(smallpool, 21670, 35, Finished, Available)"
          },
          "metadata": {}
        }
      ],
      "execution_count": 34,
      "metadata": {
        "jupyter": {
          "source_hidden": false,
          "outputs_hidden": false
        },
        "nteract": {
          "transient": {
            "deleting": false
          }
        }
      }
    },
    {
      "cell_type": "code",
      "source": [
        "# Convert bytes to string using StringIO\r\n",
        "blob_string = str(content, 'utf-8')\r\n",
        "blob_csv = StringIO(blob_string)\r\n",
        "\r\n",
        "# Create Pandas DataFrame\r\n",
        "df = pd.read_csv(blob_csv)\r\n",
        "\r\n",
        "Footer=[]\r\n",
        "# Create a list from the specified column\r\n",
        "url_list = df.URL.tolist()\r\n",
        "url_list=['https://www.ssa.gov/oact/ssir/SSI20/SingleYearTables/IV_A2.html']\r\n",
        "for url in url_list:  \r\n",
        "   \r\n",
        "    # Sending HTTP GET request to the URL\r\n",
        "    response = requests.get(url)\r\n",
        "\r\n",
        "    # Check if the request was successful (status code 200)\r\n",
        "    if response.status_code == 200:\r\n",
        "        # Get the HTML content from the response\r\n",
        "        html_content = response.text\r\n",
        "        # Parse the HTML content with BeautifulSoup\r\n",
        "        soup = BeautifulSoup(html_content, 'html.parser')\r\n",
        "\r\n",
        "        url_links = [a for a in soup.find_all(\"div\")]\r\n",
        "        # print(url_links)\r\n",
        "        header_text = soup.find('div', {'class': 'fs2 fw6 ta-c'}).get_text(strip=True)\r\n",
        "\r\n",
        "        # # Split the text into lines to get individual headers\r\n",
        "        headers = header_text.split('\\n')\r\n",
        "\r\n",
        "        # print(headers)\r\n",
        "\r\n",
        "        # Find all div tags with class \"fs2 fw6 ta-c\"\r\n",
        "        div_tags = soup.find_all('div', {'class': 'bt'})\r\n",
        "\r\n",
        "        # print(div_tags)\r\n",
        "        # Extract and print the text content within each div tag\r\n",
        "        for div_tag in div_tags:\r\n",
        "            header_text = div_tag.get_text(strip=True)\r\n",
        "            footers = header_text.split('\\n')\r\n",
        "            # headers=' '.join(headers)\r\n",
        "            for footer in footers:\r\n",
        "                Footer.append(footer.strip())\r\n",
        "\r\n",
        "            # print(header_text)\r\n",
        "        div_tags = soup.find_all('div', {'class': 'pb2'})\r\n",
        "\r\n",
        "        # print(div_tags)\r\n",
        "        # Extract and print the text content within each div tag\r\n",
        "        for div_tag in div_tags:\r\n",
        "            header_text = div_tag.get_text(strip=True)\r\n",
        "            footers = header_text.split('\\n')\r\n",
        "            # headers=' '.join(headers)\r\n",
        "            for footer in footers:\r\n",
        "                Footer.append(footer.strip())\r\n",
        "\r\n",
        "            "
      ],
      "outputs": [
        {
          "output_type": "display_data",
          "data": {
            "application/vnd.livy.statement-meta+json": {
              "spark_pool": "smallpool",
              "session_id": "21670",
              "statement_id": 90,
              "state": "finished",
              "livy_statement_state": "available",
              "queued_time": "2023-11-15T08:39:16.3130148Z",
              "session_start_time": null,
              "execution_start_time": "2023-11-15T08:39:16.4672404Z",
              "execution_finish_time": "2023-11-15T08:39:16.6293565Z",
              "spark_jobs": null,
              "parent_msg_id": "8496071b-6aa0-4d65-bf4a-5d6a292b65f7"
            },
            "text/plain": "StatementMeta(smallpool, 21670, 90, Finished, Available)"
          },
          "metadata": {}
        }
      ],
      "execution_count": 89,
      "metadata": {
        "jupyter": {
          "source_hidden": false,
          "outputs_hidden": false
        },
        "nteract": {
          "transient": {
            "deleting": false
          }
        }
      }
    },
    {
      "cell_type": "code",
      "source": [
        "Footer"
      ],
      "outputs": [
        {
          "output_type": "display_data",
          "data": {
            "application/vnd.livy.statement-meta+json": {
              "spark_pool": "smallpool",
              "session_id": "21670",
              "statement_id": 91,
              "state": "finished",
              "livy_statement_state": "available",
              "queued_time": "2023-11-15T08:39:17.801179Z",
              "session_start_time": null,
              "execution_start_time": "2023-11-15T08:39:17.9265645Z",
              "execution_finish_time": "2023-11-15T08:39:18.1012706Z",
              "spark_jobs": null,
              "parent_msg_id": "c6a7d050-4430-4e72-87c1-7905094cf2ad"
            },
            "text/plain": "StatementMeta(smallpool, 21670, 91, Finished, Available)"
          },
          "metadata": {}
        },
        {
          "output_type": "execute_result",
          "execution_count": 183,
          "data": {
            "text/plain": "['aIn this table the Social Security COLA is shown because',\n 'it is used for the determination of the increase in the FBR each year. However, the actual',\n 'application of these increases is different. For example, a newly eligible Social Security',\n 'beneficiary in one year will generally receive a benefit in that year that is larger',\n 'than the first year benefit for an equivalent worker who became eligible a year earlier by the',\n 'increase in the average wage level in the economy. The average wage level has historically',\n 'increased on average by about 1 percent relative to the annual increase in the CPI-W, on which the',\n 'COLA is based.',\n 'bIncreases prior to 1984 were effective for the',\n 'payment due for June of the year. Increases shown for 1984 and later are effective',\n 'for the payment due for December of the year.',\n 'cIncreases prior to 1984 were effective for the',\n 'payment due on July 1 of the year. Increases shown for 1984 and later are effective',\n 'for the payment due on January 1 of the year.',\n 'dA concept carried over from the former State',\n 'assistance plans. Fewer than 20 of those cases currently remain.',\n 'eBenefits paid in January, 1974 were based on',\n 'the Federal benefit rates established by Public Law 92-603, enacted October 30, 1972:',\n '$130.00 for individuals; $195.00 for couples; and $65.00 for essential persons.',\n 'Retroactive payments were subsequently made to adjust initial payments to the higher',\n 'Federal benefit rates established by Public Law 93-233, enacted December 31, 1973.',\n 'fAd hoc increases as specified in the law.',\n 'gOriginally determined as 2.4 percent, but pursuant to',\n 'Public Law 106-554, enacted December 21, 2000, is effectively now 2.5 percent.',\n 'hBenefits originally paid in 2000 and through July 2001',\n 'were based on Federal benefit rates of $512.00 and $530.00, respectively. Pursuant to',\n 'Public Law 106-554, monthly payments beginning in August 2001 were effectively based on the',\n 'higher $531 amount. Lump-sum compensation payments were made based on an adjusted benefit',\n 'rate for months prior to August 2001.']"
          },
          "metadata": {}
        }
      ],
      "execution_count": 90,
      "metadata": {
        "jupyter": {
          "source_hidden": false,
          "outputs_hidden": false
        },
        "nteract": {
          "transient": {
            "deleting": false
          }
        }
      }
    },
    {
      "cell_type": "code",
      "source": [
        "# Convert bytes to string using StringIO\r\n",
        "blob_string = str(content, 'utf-8')\r\n",
        "blob_csv = StringIO(blob_string)\r\n",
        "\r\n",
        "# Create Pandas DataFrame\r\n",
        "df = pd.read_csv(blob_csv)\r\n",
        "\r\n",
        "\r\n",
        "# Create a list from the specified column\r\n",
        "url_list = df.URL.tolist()\r\n",
        "\r\n",
        "for url in url_list:\r\n",
        "    try:\r\n",
        "        pandas_df=pd.read_html(url)\r\n",
        "        pandas_df = pandas_df[1]\r\n",
        "\r\n",
        "        pandas_df = pandas_df.dropna(axis=1)\r\n",
        "\r\n",
        "\r\n",
        "        # write_bronze(pandas_df,url)\r\n",
        "\r\n",
        "        spark_df=spark.createDataFrame(pandas_df)\r\n",
        "        spark_df=spark_df.coalesce(1)\r\n",
        "        columns = spark_df.columns\r\n",
        "        new_columns = [col(c).alias(c.replace(\" \", \"_\").replace(\",\", \"_\").replace(\";\", \"_\")\r\n",
        "                            .replace(\"{\", \"_\").replace(\"}\", \"_\")\r\n",
        "                            .replace(\"(\", \"_\").replace(\")\", \"_\")\r\n",
        "                            .replace(\"\\n\", \"_\").replace(\"\\t\", \"_\").replace(\"=\", \"_\"))\r\n",
        "                for c in spark_df.columns]\r\n",
        "\r\n",
        "        # Apply the new column names to the DataFrame\r\n",
        "        spark_df = spark_df.select(*new_columns)\r\n",
        "        spark_df = spark_df.drop(*[col_name for col_name in spark_df.columns if spark_df.filter(col(col_name).isNotNull()).count() == 0])\r\n",
        "        condition = ~((col(columns[0]) == 'Historical data:') | (col(columns[0]) == 'Projected:'))\r\n",
        "        for column in columns:\r\n",
        "            condition &= ~((col(column) == 'Historical data:') | (col(column) == 'Projected:'))\r\n",
        "\r\n",
        "        spark_df = spark_df.filter(condition)\r\n",
        "        spark_df=spark_df.withColumn('Header',lit(''))\r\n",
        "        display(spark_df)\r\n",
        "        # write_silver(spark_df,url)\r\n",
        "\r\n",
        "    except:\r\n",
        "\r\n",
        "        try:\r\n",
        "            pandas_df=pd.read_html(url)\r\n",
        "            pandas_df = pandas_df[1]\r\n",
        "            pandas_df = pandas_df.dropna(axis=1,how='all')\r\n",
        "\r\n",
        "            # write_bronze(pandas_df,url)\r\n",
        "\r\n",
        "            spark_df=spark.createDataFrame(pandas_df)\r\n",
        "            spark_df=spark_df.coalesce(1)\r\n",
        "            columns = df.columns\r\n",
        "            new_columns = [col(c).alias(c.replace(\" \", \"_\").replace(\",\", \"_\").replace(\";\", \"_\")\r\n",
        "                                .replace(\"{\", \"_\").replace(\"}\", \"_\")\r\n",
        "                                .replace(\"(\", \"_\").replace(\")\", \"_\")\r\n",
        "                                .replace(\"\\n\", \"_\").replace(\"\\t\", \"_\").replace(\"=\", \"_\"))\r\n",
        "                    for c in spark_df.columns]\r\n",
        "\r\n",
        "            # Apply the new column names to the DataFrame\r\n",
        "            spark_df = spark_df.select(*new_columns)\r\n",
        "            spark_df = spark_df.drop(*[col_name for col_name in spark_df.columns if spark_df.filter(col(col_name).isNotNull()).count() == 0])\r\n",
        "            condition = ~((col(columns[0]) == 'Historical data:') | (col(columns[0]) == 'Projected:'))\r\n",
        "            for column in columns:\r\n",
        "                condition &= ~((col(column) == 'Historical data:') | (col(column) == 'Projected:'))\r\n",
        "            spark_df = spark_df.filter(condition)\r\n",
        "            display(spark_df)\r\n",
        "            # write_silver(spark_df,url)\r\n",
        "\r\n",
        "        except Exception as e:\r\n",
        "            print(url,str(e))\r\n",
        "    \r\n",
        "    \r\n"
      ],
      "outputs": [
        {
          "output_type": "display_data",
          "data": {
            "application/vnd.livy.statement-meta+json": {
              "spark_pool": "smallpool",
              "session_id": "21670",
              "statement_id": 36,
              "state": "cancelled",
              "livy_statement_state": "waiting",
              "queued_time": "2023-11-15T08:03:55.4962704Z",
              "session_start_time": null,
              "execution_start_time": "2023-11-15T08:03:55.6634929Z",
              "execution_finish_time": "2023-11-15T08:04:04.0974546Z",
              "spark_jobs": null,
              "parent_msg_id": "26a7526e-29dd-4363-81a2-2de85c21c850"
            },
            "text/plain": "StatementMeta(smallpool, 21670, 36, Cancelled, Waiting)"
          },
          "metadata": {}
        },
        {
          "output_type": "display_data",
          "data": {
            "application/vnd.synapse.widget-view+json": {
              "widget_id": "04a22358-5998-4a8c-87ec-0c6946cf0b95",
              "widget_type": "Synapse.DataFrame"
            },
            "text/plain": "SynapseWidget(Synapse.DataFrame, 04a22358-5998-4a8c-87ec-0c6946cf0b95)"
          },
          "metadata": {}
        },
        {
          "output_type": "display_data",
          "data": {
            "application/vnd.synapse.widget-view+json": {
              "widget_id": "ff8cfd46-d4f0-4d19-b3fd-4d2fa3bb1450",
              "widget_type": "Synapse.DataFrame"
            },
            "text/plain": "SynapseWidget(Synapse.DataFrame, ff8cfd46-d4f0-4d19-b3fd-4d2fa3bb1450)"
          },
          "metadata": {}
        },
        {
          "output_type": "display_data",
          "data": {
            "application/vnd.synapse.widget-view+json": {
              "widget_id": "24b2dc59-b0d4-478c-8d27-1e2a91924d88",
              "widget_type": "Synapse.DataFrame"
            },
            "text/plain": "SynapseWidget(Synapse.DataFrame, 24b2dc59-b0d4-478c-8d27-1e2a91924d88)"
          },
          "metadata": {}
        },
        {
          "output_type": "display_data",
          "data": {
            "application/vnd.synapse.widget-view+json": {
              "widget_id": "7717895e-8bfc-41f0-9fa2-c3a030444841",
              "widget_type": "Synapse.DataFrame"
            },
            "text/plain": "SynapseWidget(Synapse.DataFrame, 7717895e-8bfc-41f0-9fa2-c3a030444841)"
          },
          "metadata": {}
        },
        {
          "output_type": "display_data",
          "data": {
            "application/vnd.synapse.widget-view+json": {
              "widget_id": "66b276ed-463a-4a93-8361-78ed9dff7f67",
              "widget_type": "Synapse.DataFrame"
            },
            "text/plain": "SynapseWidget(Synapse.DataFrame, 66b276ed-463a-4a93-8361-78ed9dff7f67)"
          },
          "metadata": {}
        }
      ],
      "execution_count": 35,
      "metadata": {
        "jupyter": {
          "source_hidden": false,
          "outputs_hidden": true
        },
        "nteract": {
          "transient": {
            "deleting": false
          }
        },
        "collapsed": false
      }
    }
  ],
  "metadata": {
    "kernelspec": {
      "name": "synapse_pyspark",
      "language": "Python",
      "display_name": "Synapse PySpark"
    },
    "language_info": {
      "name": "python"
    },
    "kernel_info": {
      "name": "synapse_pyspark"
    },
    "save_output": true,
    "synapse_widget": {
      "version": "0.1",
      "state": {
        "04a22358-5998-4a8c-87ec-0c6946cf0b95": {
          "type": "Synapse.DataFrame",
          "sync_state": {
            "table": {
              "rows": [
                {
                  "0": "1974",
                  "1": "70925",
                  "2": "59799",
                  "3": "36393",
                  "4": "32824",
                  "5": "13861",
                  "6": "8905",
                  "7": "222708",
                  "8": ""
                },
                {
                  "0": "1975",
                  "1": "69932",
                  "2": "61781",
                  "3": "36367",
                  "4": "33189",
                  "5": "14176",
                  "6": "9131",
                  "7": "224576",
                  "8": ""
                },
                {
                  "0": "1976",
                  "1": "68920",
                  "2": "63719",
                  "3": "36480",
                  "4": "33471",
                  "5": "14497",
                  "6": "9410",
                  "7": "226497",
                  "8": ""
                },
                {
                  "0": "1977",
                  "1": "68031",
                  "2": "65464",
                  "3": "36813",
                  "4": "33746",
                  "5": "14831",
                  "6": "9679",
                  "7": "228563",
                  "8": ""
                },
                {
                  "0": "1978",
                  "1": "67233",
                  "2": "67055",
                  "3": "37352",
                  "4": "33986",
                  "5": "15183",
                  "6": "9934",
                  "7": "230743",
                  "8": ""
                },
                {
                  "0": "1979",
                  "1": "66531",
                  "2": "68639",
                  "3": "37968",
                  "4": "34142",
                  "5": "15513",
                  "6": "10211",
                  "7": "233003",
                  "8": ""
                },
                {
                  "0": "1980",
                  "1": "65965",
                  "2": "70189",
                  "3": "38526",
                  "4": "34261",
                  "5": "15813",
                  "6": "10493",
                  "7": "235247",
                  "8": ""
                },
                {
                  "0": "1981",
                  "1": "65519",
                  "2": "71416",
                  "3": "39340",
                  "4": "34329",
                  "5": "16090",
                  "6": "10786",
                  "7": "237480",
                  "8": ""
                },
                {
                  "0": "1982",
                  "1": "65183",
                  "2": "72123",
                  "3": "40716",
                  "4": "34285",
                  "5": "16367",
                  "6": "11103",
                  "7": "239777",
                  "8": ""
                },
                {
                  "0": "1983",
                  "1": "64985",
                  "2": "72580",
                  "3": "42268",
                  "4": "34195",
                  "5": "16609",
                  "6": "11424",
                  "7": "242059",
                  "8": ""
                },
                {
                  "0": "1984",
                  "1": "64959",
                  "2": "72937",
                  "3": "43767",
                  "4": "34105",
                  "5": "16831",
                  "6": "11728",
                  "7": "244327",
                  "8": ""
                },
                {
                  "0": "1985",
                  "1": "65119",
                  "2": "73155",
                  "3": "45279",
                  "4": "33971",
                  "5": "17101",
                  "6": "12031",
                  "7": "246656",
                  "8": ""
                },
                {
                  "0": "1986",
                  "1": "65379",
                  "2": "73273",
                  "3": "46846",
                  "4": "33803",
                  "5": "17408",
                  "6": "12332",
                  "7": "249040",
                  "8": ""
                },
                {
                  "0": "1987",
                  "1": "65642",
                  "2": "73343",
                  "3": "48482",
                  "4": "33680",
                  "5": "17692",
                  "6": "12641",
                  "7": "251479",
                  "8": ""
                },
                {
                  "0": "1988",
                  "1": "65918",
                  "2": "73401",
                  "3": "50146",
                  "4": "33637",
                  "5": "17924",
                  "6": "12949",
                  "7": "253975",
                  "8": ""
                },
                {
                  "0": "1989",
                  "1": "66340",
                  "2": "73306",
                  "3": "51879",
                  "4": "33680",
                  "5": "18108",
                  "6": "13265",
                  "7": "256578",
                  "8": ""
                },
                {
                  "0": "1990",
                  "1": "67162",
                  "2": "72943",
                  "3": "53673",
                  "4": "33789",
                  "5": "18319",
                  "6": "13605",
                  "7": "259490",
                  "8": ""
                },
                {
                  "0": "1991",
                  "1": "68296",
                  "2": "72328",
                  "3": "55492",
                  "4": "33991",
                  "5": "18569",
                  "6": "13938",
                  "7": "262614",
                  "8": ""
                },
                {
                  "0": "1992",
                  "1": "69419",
                  "2": "71586",
                  "3": "57227",
                  "4": "34418",
                  "5": "18784",
                  "6": "14269",
                  "7": "265704",
                  "8": ""
                },
                {
                  "0": "1993",
                  "1": "70442",
                  "2": "70871",
                  "3": "58810",
                  "4": "35046",
                  "5": "18941",
                  "6": "14587",
                  "7": "268697",
                  "8": ""
                },
                {
                  "0": "1994",
                  "1": "71330",
                  "2": "70179",
                  "3": "60413",
                  "4": "35708",
                  "5": "19039",
                  "6": "14900",
                  "7": "271568",
                  "8": ""
                },
                {
                  "0": "1995",
                  "1": "72049",
                  "2": "69526",
                  "3": "62120",
                  "4": "36316",
                  "5": "19075",
                  "6": "15238",
                  "7": "274324",
                  "8": ""
                },
                {
                  "0": "1996",
                  "1": "72619",
                  "2": "68982",
                  "3": "63590",
                  "4": "37172",
                  "5": "19052",
                  "6": "15593",
                  "7": "277008",
                  "8": ""
                },
                {
                  "0": "1997",
                  "1": "73032",
                  "2": "68588",
                  "3": "64588",
                  "4": "38528",
                  "5": "18977",
                  "6": "15949",
                  "7": "279663",
                  "8": ""
                },
                {
                  "0": "1998",
                  "1": "73315",
                  "2": "68356",
                  "3": "65435",
                  "4": "40055",
                  "5": "18864",
                  "6": "16279",
                  "7": "282304",
                  "8": ""
                },
                {
                  "0": "1999",
                  "1": "73561",
                  "2": "68254",
                  "3": "66272",
                  "4": "41545",
                  "5": "18736",
                  "6": "16574",
                  "7": "284943",
                  "8": ""
                },
                {
                  "0": "2000",
                  "1": "73871",
                  "2": "68357",
                  "3": "66912",
                  "4": "43044",
                  "5": "18648",
                  "6": "16857",
                  "7": "287689",
                  "8": ""
                },
                {
                  "0": "2001",
                  "1": "74214",
                  "2": "68683",
                  "3": "67326",
                  "4": "44581",
                  "5": "18608",
                  "6": "17131",
                  "7": "290544",
                  "8": ""
                },
                {
                  "0": "2002",
                  "1": "74563",
                  "2": "69097",
                  "3": "67534",
                  "4": "46194",
                  "5": "18625",
                  "6": "17375",
                  "7": "293388",
                  "8": ""
                },
                {
                  "0": "2003",
                  "1": "74879",
                  "2": "69529",
                  "3": "67577",
                  "4": "47837",
                  "5": "18721",
                  "6": "17599",
                  "7": "296142",
                  "8": ""
                },
                {
                  "0": "2004",
                  "1": "75199",
                  "2": "69958",
                  "3": "67585",
                  "4": "49527",
                  "5": "18893",
                  "6": "17817",
                  "7": "298979",
                  "8": ""
                },
                {
                  "0": "2005",
                  "1": "75605",
                  "2": "70433",
                  "3": "67696",
                  "4": "51311",
                  "5": "19137",
                  "6": "18034",
                  "7": "302216",
                  "8": ""
                },
                {
                  "0": "2006",
                  "1": "76075",
                  "2": "70980",
                  "3": "67751",
                  "4": "53107",
                  "5": "19497",
                  "6": "18237",
                  "7": "305647",
                  "8": ""
                },
                {
                  "0": "2007",
                  "1": "76467",
                  "2": "71514",
                  "3": "67386",
                  "4": "54758",
                  "5": "20065",
                  "6": "18418",
                  "7": "308607",
                  "8": ""
                },
                {
                  "0": "2008",
                  "1": "76644",
                  "2": "71952",
                  "3": "66575",
                  "4": "56177",
                  "5": "20814",
                  "6": "18552",
                  "7": "310715",
                  "8": ""
                },
                {
                  "0": "2009",
                  "1": "76737",
                  "2": "72496",
                  "3": "65680",
                  "4": "57597",
                  "5": "21554",
                  "6": "18689",
                  "7": "312754",
                  "8": ""
                },
                {
                  "0": "2010",
                  "1": "76682",
                  "2": "73192",
                  "3": "64879",
                  "4": "59222",
                  "5": "22160",
                  "6": "18886",
                  "7": "315020",
                  "8": ""
                },
                {
                  "0": "2011",
                  "1": "76424",
                  "2": "73839",
                  "3": "64092",
                  "4": "60617",
                  "5": "22951",
                  "6": "19073",
                  "7": "316996",
                  "8": ""
                },
                {
                  "0": "2012",
                  "1": "76203",
                  "2": "74300",
                  "3": "63397",
                  "4": "61498",
                  "5": "24135",
                  "6": "19280",
                  "7": "318814",
                  "8": ""
                },
                {
                  "0": "2013",
                  "1": "76030",
                  "2": "74681",
                  "3": "62820",
                  "4": "62231",
                  "5": "25337",
                  "6": "19545",
                  "7": "320644",
                  "8": ""
                },
                {
                  "0": "2014",
                  "1": "75988",
                  "2": "75240",
                  "3": "62484",
                  "4": "62993",
                  "5": "26449",
                  "6": "19833",
                  "7": "322987",
                  "8": ""
                },
                {
                  "0": "2015",
                  "1": "76037",
                  "2": "75791",
                  "3": "62511",
                  "4": "63587",
                  "5": "27573",
                  "6": "20141",
                  "7": "325640",
                  "8": ""
                },
                {
                  "0": "2016",
                  "1": "76008",
                  "2": "76101",
                  "3": "62670",
                  "4": "63871",
                  "5": "28677",
                  "6": "20510",
                  "7": "327838",
                  "8": ""
                },
                {
                  "0": "2017",
                  "1": "75870",
                  "2": "76324",
                  "3": "62899",
                  "4": "63907",
                  "5": "29714",
                  "6": "21019",
                  "7": "329733",
                  "8": ""
                },
                {
                  "0": "2018b",
                  "1": "75700",
                  "2": "76696",
                  "3": "63260",
                  "4": "63898",
                  "5": "30662",
                  "6": "21652",
                  "7": "331867",
                  "8": ""
                },
                {
                  "0": "2019b",
                  "1": "75532",
                  "2": "77203",
                  "3": "63555",
                  "4": "63911",
                  "5": "31682",
                  "6": "22269",
                  "7": "334152",
                  "8": ""
                },
                {
                  "0": "2020",
                  "1": "75370",
                  "2": "77617",
                  "3": "63743",
                  "4": "63971",
                  "5": "32825",
                  "6": "22820",
                  "7": "336345",
                  "8": ""
                },
                {
                  "0": "2021",
                  "1": "75216",
                  "2": "78013",
                  "3": "63969",
                  "4": "63964",
                  "5": "33807",
                  "6": "23551",
                  "7": "338519",
                  "8": ""
                },
                {
                  "0": "2022",
                  "1": "75073",
                  "2": "78429",
                  "3": "64403",
                  "4": "63672",
                  "5": "34504",
                  "6": "24618",
                  "7": "340700",
                  "8": ""
                },
                {
                  "0": "2023",
                  "1": "74977",
                  "2": "78796",
                  "3": "65095",
                  "4": "63179",
                  "5": "35133",
                  "6": "25737",
                  "7": "342916",
                  "8": ""
                },
                {
                  "0": "2024",
                  "1": "74919",
                  "2": "79119",
                  "3": "65950",
                  "4": "62621",
                  "5": "35818",
                  "6": "26770",
                  "7": "345197",
                  "8": ""
                },
                {
                  "0": "2025",
                  "1": "74903",
                  "2": "79397",
                  "3": "66897",
                  "4": "62028",
                  "5": "36527",
                  "6": "27805",
                  "7": "347557",
                  "8": ""
                },
                {
                  "0": "2026",
                  "1": "74982",
                  "2": "79641",
                  "3": "67876",
                  "4": "61450",
                  "5": "37168",
                  "6": "28862",
                  "7": "349979",
                  "8": ""
                },
                {
                  "0": "2027",
                  "1": "75240",
                  "2": "79828",
                  "3": "68727",
                  "4": "60997",
                  "5": "37682",
                  "6": "29960",
                  "7": "352433",
                  "8": ""
                },
                {
                  "0": "2028",
                  "1": "75671",
                  "2": "79954",
                  "3": "69431",
                  "4": "60653",
                  "5": "38103",
                  "6": "31074",
                  "7": "354886",
                  "8": ""
                },
                {
                  "0": "2029",
                  "1": "76217",
                  "2": "80067",
                  "3": "69984",
                  "4": "60423",
                  "5": "38415",
                  "6": "32210",
                  "7": "357316",
                  "8": ""
                },
                {
                  "0": "2030",
                  "1": "76820",
                  "2": "80178",
                  "3": "70346",
                  "4": "60456",
                  "5": "38536",
                  "6": "33366",
                  "7": "359703",
                  "8": ""
                },
                {
                  "0": "2031",
                  "1": "77432",
                  "2": "80300",
                  "3": "70640",
                  "4": "60709",
                  "5": "38443",
                  "6": "34514",
                  "7": "362038",
                  "8": ""
                },
                {
                  "0": "2032",
                  "1": "78027",
                  "2": "80447",
                  "3": "70921",
                  "4": "61063",
                  "5": "38182",
                  "6": "35677",
                  "7": "364317",
                  "8": ""
                },
                {
                  "0": "2033",
                  "1": "78602",
                  "2": "80584",
                  "3": "71236",
                  "4": "61424",
                  "5": "37896",
                  "6": "36799",
                  "7": "366541",
                  "8": ""
                },
                {
                  "0": "2034",
                  "1": "79204",
                  "2": "80657",
                  "3": "71620",
                  "4": "61689",
                  "5": "37667",
                  "6": "37871",
                  "7": "368708",
                  "8": ""
                },
                {
                  "0": "2035",
                  "1": "79879",
                  "2": "80618",
                  "3": "71992",
                  "4": "61878",
                  "5": "37511",
                  "6": "38941",
                  "7": "370818",
                  "8": ""
                },
                {
                  "0": "2036",
                  "1": "80636",
                  "2": "80492",
                  "3": "72329",
                  "4": "62114",
                  "5": "37348",
                  "6": "39951",
                  "7": "372870",
                  "8": ""
                },
                {
                  "0": "2037",
                  "1": "81462",
                  "2": "80324",
                  "3": "72620",
                  "4": "62545",
                  "5": "37042",
                  "6": "40870",
                  "7": "374863",
                  "8": ""
                },
                {
                  "0": "2038",
                  "1": "82301",
                  "2": "80102",
                  "3": "72869",
                  "4": "63217",
                  "5": "36596",
                  "6": "41711",
                  "7": "376796",
                  "8": ""
                },
                {
                  "0": "2039",
                  "1": "83083",
                  "2": "79881",
                  "3": "73056",
                  "4": "64042",
                  "5": "36137",
                  "6": "42468",
                  "7": "378668",
                  "8": ""
                },
                {
                  "0": "2040",
                  "1": "83795",
                  "2": "79679",
                  "3": "73163",
                  "4": "64956",
                  "5": "35809",
                  "6": "43077",
                  "7": "380478",
                  "8": ""
                },
                {
                  "0": "2041",
                  "1": "84406",
                  "2": "79486",
                  "3": "73303",
                  "4": "65895",
                  "5": "35642",
                  "6": "43497",
                  "7": "382228",
                  "8": ""
                },
                {
                  "0": "2042",
                  "1": "84888",
                  "2": "79324",
                  "3": "73567",
                  "4": "66712",
                  "5": "35634",
                  "6": "43796",
                  "7": "383920",
                  "8": ""
                },
                {
                  "0": "2043",
                  "1": "85228",
                  "2": "79271",
                  "3": "73909",
                  "4": "67390",
                  "5": "35710",
                  "6": "44051",
                  "7": "385560",
                  "8": ""
                },
                {
                  "0": "2044",
                  "1": "85443",
                  "2": "79427",
                  "3": "74225",
                  "4": "67926",
                  "5": "35802",
                  "6": "44331",
                  "7": "387154",
                  "8": ""
                }
              ],
              "schema": [
                {
                  "key": "0",
                  "name": "_'Unnamed:_0_level_0'__'Year'_",
                  "type": "string"
                },
                {
                  "key": "1",
                  "name": "_'Age_groupsa'__'0-17'_",
                  "type": "string"
                },
                {
                  "key": "2",
                  "name": "_'Age_groupsa'__'18-34'_",
                  "type": "string"
                },
                {
                  "key": "3",
                  "name": "_'Age_groupsa'__'35-49'_",
                  "type": "string"
                },
                {
                  "key": "4",
                  "name": "_'Age_groupsa'__'50-64'_",
                  "type": "string"
                },
                {
                  "key": "5",
                  "name": "_'Age_groupsa'__'65-74'_",
                  "type": "string"
                },
                {
                  "key": "6",
                  "name": "_'Age_groupsa'__'75_or_older'_",
                  "type": "string"
                },
                {
                  "key": "7",
                  "name": "_'Unnamed:_14_level_0'__'Total__all_ages'_",
                  "type": "string"
                },
                {
                  "key": "8",
                  "name": "Header",
                  "type": "string"
                }
              ],
              "truncated": false
            },
            "isSummary": false,
            "language": "scala"
          },
          "persist_state": {
            "view": {
              "type": "details",
              "tableOptions": {},
              "chartOptions": {
                "chartType": "bar",
                "aggregationType": "count",
                "categoryFieldKeys": [
                  "0"
                ],
                "seriesFieldKeys": [
                  "0"
                ],
                "isStacked": false
              }
            }
          }
        },
        "ff8cfd46-d4f0-4d19-b3fd-4d2fa3bb1450": {
          "type": "Synapse.DataFrame",
          "sync_state": {
            "table": {
              "rows": [
                {
                  "0": "Initial benefit paid January 1, 1974  e",
                  "1": "—",
                  "2": "—",
                  "3": "$140.00",
                  "4": "$210.00",
                  "5": "$70.00",
                  "6": ""
                },
                {
                  "0": "1974",
                  "1": "8.0",
                  "2": "f 4.3",
                  "3": "146.00",
                  "4": "219.00",
                  "5": "73.00",
                  "6": ""
                },
                {
                  "0": "1975",
                  "1": "6.4",
                  "2": "8.0",
                  "3": "157.70",
                  "4": "236.60",
                  "5": "78.90",
                  "6": ""
                },
                {
                  "0": "1976",
                  "1": "5.9",
                  "2": "6.4",
                  "3": "167.80",
                  "4": "251.80",
                  "5": "84.00",
                  "6": ""
                },
                {
                  "0": "1977",
                  "1": "6.5",
                  "2": "5.9",
                  "3": "177.80",
                  "4": "266.70",
                  "5": "89.00",
                  "6": ""
                },
                {
                  "0": "1978",
                  "1": "9.9",
                  "2": "6.5",
                  "3": "189.40",
                  "4": "284.10",
                  "5": "94.80",
                  "6": ""
                },
                {
                  "0": "1979",
                  "1": "14.3",
                  "2": "9.9",
                  "3": "208.20",
                  "4": "312.30",
                  "5": "104.20",
                  "6": ""
                },
                {
                  "0": "1980",
                  "1": "11.2",
                  "2": "14.3",
                  "3": "238.00",
                  "4": "357.00",
                  "5": "119.20",
                  "6": ""
                },
                {
                  "0": "1981",
                  "1": "7.4",
                  "2": "11.2",
                  "3": "264.70",
                  "4": "397.00",
                  "5": "132.60",
                  "6": ""
                },
                {
                  "0": "1982",
                  "1": "3.5",
                  "2": "7.4",
                  "3": "284.30",
                  "4": "426.40",
                  "5": "142.50",
                  "6": ""
                },
                {
                  "0": "1983",
                  "1": "3.5",
                  "2": "f 7.0",
                  "3": "304.30",
                  "4": "456.40",
                  "5": "152.50",
                  "6": ""
                },
                {
                  "0": "1984",
                  "1": "3.5",
                  "2": "3.5",
                  "3": "314.00",
                  "4": "472.00",
                  "5": "157.00",
                  "6": ""
                },
                {
                  "0": "1985",
                  "1": "3.1",
                  "2": "3.5",
                  "3": "325.00",
                  "4": "488.00",
                  "5": "163.00",
                  "6": ""
                },
                {
                  "0": "1986",
                  "1": "1.3",
                  "2": "3.1",
                  "3": "336.00",
                  "4": "504.00",
                  "5": "168.00",
                  "6": ""
                },
                {
                  "0": "1987",
                  "1": "4.2",
                  "2": "1.3",
                  "3": "340.00",
                  "4": "510.00",
                  "5": "170.00",
                  "6": ""
                },
                {
                  "0": "1988",
                  "1": "4.0",
                  "2": "4.2",
                  "3": "354.00",
                  "4": "532.00",
                  "5": "177.00",
                  "6": ""
                },
                {
                  "0": "1989",
                  "1": "4.7",
                  "2": "4.0",
                  "3": "368.00",
                  "4": "553.00",
                  "5": "184.00",
                  "6": ""
                },
                {
                  "0": "1990",
                  "1": "5.4",
                  "2": "4.7",
                  "3": "386.00",
                  "4": "579.00",
                  "5": "193.00",
                  "6": ""
                },
                {
                  "0": "1991",
                  "1": "3.7",
                  "2": "5.4",
                  "3": "407.00",
                  "4": "610.00",
                  "5": "204.00",
                  "6": ""
                },
                {
                  "0": "1992",
                  "1": "3.0",
                  "2": "3.7",
                  "3": "422.00",
                  "4": "633.00",
                  "5": "211.00",
                  "6": ""
                },
                {
                  "0": "1993",
                  "1": "2.6",
                  "2": "3.0",
                  "3": "434.00",
                  "4": "652.00",
                  "5": "217.00",
                  "6": ""
                },
                {
                  "0": "1994",
                  "1": "2.8",
                  "2": "2.6",
                  "3": "446.00",
                  "4": "669.00",
                  "5": "223.00",
                  "6": ""
                },
                {
                  "0": "1995",
                  "1": "2.6",
                  "2": "2.8",
                  "3": "458.00",
                  "4": "687.00",
                  "5": "229.00",
                  "6": ""
                },
                {
                  "0": "1996",
                  "1": "2.9",
                  "2": "2.6",
                  "3": "470.00",
                  "4": "705.00",
                  "5": "235.00",
                  "6": ""
                },
                {
                  "0": "1997",
                  "1": "2.1",
                  "2": "2.9",
                  "3": "484.00",
                  "4": "726.00",
                  "5": "242.00",
                  "6": ""
                },
                {
                  "0": "1998",
                  "1": "1.3",
                  "2": "2.1",
                  "3": "494.00",
                  "4": "741.00",
                  "5": "247.00",
                  "6": ""
                },
                {
                  "0": "1999",
                  "1": "g 2.5",
                  "2": "1.3",
                  "3": "500.00",
                  "4": "751.00",
                  "5": "250.00",
                  "6": ""
                },
                {
                  "0": "2000",
                  "1": "3.5",
                  "2": "g 2.5",
                  "3": "h 513.00",
                  "4": "769.00",
                  "5": "257.00",
                  "6": ""
                },
                {
                  "0": "2001",
                  "1": "2.6",
                  "2": "3.5",
                  "3": "h 531.00",
                  "4": "796.00",
                  "5": "266.00",
                  "6": ""
                },
                {
                  "0": "2002",
                  "1": "1.4",
                  "2": "2.6",
                  "3": "545.00",
                  "4": "817.00",
                  "5": "273.00",
                  "6": ""
                },
                {
                  "0": "2003",
                  "1": "2.1",
                  "2": "1.4",
                  "3": "552.00",
                  "4": "829.00",
                  "5": "277.00",
                  "6": ""
                },
                {
                  "0": "2004",
                  "1": "2.7",
                  "2": "2.1",
                  "3": "564.00",
                  "4": "846.00",
                  "5": "282.00",
                  "6": ""
                },
                {
                  "0": "2005",
                  "1": "4.1",
                  "2": "2.7",
                  "3": "579.00",
                  "4": "869.00",
                  "5": "290.00",
                  "6": ""
                },
                {
                  "0": "2006",
                  "1": "3.3",
                  "2": "4.1",
                  "3": "603.00",
                  "4": "904.00",
                  "5": "302.00",
                  "6": ""
                },
                {
                  "0": "2007",
                  "1": "2.3",
                  "2": "3.3",
                  "3": "623.00",
                  "4": "934.00",
                  "5": "312.00",
                  "6": ""
                },
                {
                  "0": "2008",
                  "1": "5.8",
                  "2": "2.3",
                  "3": "637.00",
                  "4": "956.00",
                  "5": "319.00",
                  "6": ""
                },
                {
                  "0": "2009",
                  "1": "0.0",
                  "2": "5.8",
                  "3": "674.00",
                  "4": "1011.00",
                  "5": "338.00",
                  "6": ""
                },
                {
                  "0": "2010",
                  "1": "0.0",
                  "2": "0.0",
                  "3": "674.00",
                  "4": "1011.00",
                  "5": "338.00",
                  "6": ""
                },
                {
                  "0": "2011",
                  "1": "3.6",
                  "2": "0.0",
                  "3": "674.00",
                  "4": "1011.00",
                  "5": "338.00",
                  "6": ""
                },
                {
                  "0": "2012",
                  "1": "1.7",
                  "2": "3.6",
                  "3": "698.00",
                  "4": "1048.00",
                  "5": "350.00",
                  "6": ""
                },
                {
                  "0": "2013",
                  "1": "1.5",
                  "2": "1.7",
                  "3": "710.00",
                  "4": "1066.00",
                  "5": "356.00",
                  "6": ""
                },
                {
                  "0": "2014",
                  "1": "1.7",
                  "2": "1.5",
                  "3": "721.00",
                  "4": "1082.00",
                  "5": "361.00",
                  "6": ""
                },
                {
                  "0": "2015",
                  "1": "0.0",
                  "2": "1.7",
                  "3": "733.00",
                  "4": "1100.00",
                  "5": "367.00",
                  "6": ""
                },
                {
                  "0": "2016",
                  "1": "0.3",
                  "2": "0.0",
                  "3": "733.00",
                  "4": "1100.00",
                  "5": "367.00",
                  "6": ""
                },
                {
                  "0": "2017",
                  "1": "2.0",
                  "2": "0.3",
                  "3": "735.00",
                  "4": "1103.00",
                  "5": "368.00",
                  "6": ""
                },
                {
                  "0": "2018",
                  "1": "2.8",
                  "2": "2.0",
                  "3": "750.00",
                  "4": "1125.00",
                  "5": "376.00",
                  "6": ""
                },
                {
                  "0": "2019",
                  "1": "1.6",
                  "2": "2.8",
                  "3": "771.00",
                  "4": "1157.00",
                  "5": "386.00",
                  "6": ""
                },
                {
                  "0": "2020",
                  "1": "2.3",
                  "2": "1.6",
                  "3": "783.00",
                  "4": "1175.00",
                  "5": "392.00",
                  "6": ""
                },
                {
                  "0": "2021",
                  "1": "2.5",
                  "2": "2.3",
                  "3": "802.00",
                  "4": "1202.00",
                  "5": "401.00",
                  "6": ""
                },
                {
                  "0": "2022",
                  "1": "2.4",
                  "2": "2.5",
                  "3": "822.00",
                  "4": "1232.00",
                  "5": "411.00",
                  "6": ""
                },
                {
                  "0": "2023",
                  "1": "2.4",
                  "2": "2.4",
                  "3": "841.00",
                  "4": "1262.00",
                  "5": "421.00",
                  "6": ""
                },
                {
                  "0": "2024",
                  "1": "2.4",
                  "2": "2.4",
                  "3": "862.00",
                  "4": "1292.00",
                  "5": "431.00",
                  "6": ""
                },
                {
                  "0": "2025",
                  "1": "2.4",
                  "2": "2.4",
                  "3": "882.00",
                  "4": "1323.00",
                  "5": "442.00",
                  "6": ""
                },
                {
                  "0": "2026",
                  "1": "2.4",
                  "2": "2.4",
                  "3": "903.00",
                  "4": "1355.00",
                  "5": "452.00",
                  "6": ""
                },
                {
                  "0": "2027",
                  "1": "2.4",
                  "2": "2.4",
                  "3": "925.00",
                  "4": "1388.00",
                  "5": "463.00",
                  "6": ""
                },
                {
                  "0": "2028",
                  "1": "2.4",
                  "2": "2.4",
                  "3": "947.00",
                  "4": "1421.00",
                  "5": "474.00",
                  "6": ""
                },
                {
                  "0": "2029",
                  "1": "2.4",
                  "2": "2.4",
                  "3": "970.00",
                  "4": "1455.00",
                  "5": "486.00",
                  "6": ""
                },
                {
                  "0": "2030",
                  "1": "2.4",
                  "2": "2.4",
                  "3": "993.00",
                  "4": "1490.00",
                  "5": "498.00",
                  "6": ""
                },
                {
                  "0": "2031",
                  "1": "2.4",
                  "2": "2.4",
                  "3": "1017.00",
                  "4": "1526.00",
                  "5": "510.00",
                  "6": ""
                },
                {
                  "0": "2032",
                  "1": "2.4",
                  "2": "2.4",
                  "3": "1042.00",
                  "4": "1562.00",
                  "5": "522.00",
                  "6": ""
                },
                {
                  "0": "2033",
                  "1": "2.4",
                  "2": "2.4",
                  "3": "1067.00",
                  "4": "1600.00",
                  "5": "534.00",
                  "6": ""
                },
                {
                  "0": "2034",
                  "1": "2.4",
                  "2": "2.4",
                  "3": "1092.00",
                  "4": "1638.00",
                  "5": "547.00",
                  "6": ""
                },
                {
                  "0": "2035",
                  "1": "2.4",
                  "2": "2.4",
                  "3": "1118.00",
                  "4": "1678.00",
                  "5": "560.00",
                  "6": ""
                },
                {
                  "0": "2036",
                  "1": "2.4",
                  "2": "2.4",
                  "3": "1145.00",
                  "4": "1718.00",
                  "5": "574.00",
                  "6": ""
                },
                {
                  "0": "2037",
                  "1": "2.4",
                  "2": "2.4",
                  "3": "1173.00",
                  "4": "1759.00",
                  "5": "587.00",
                  "6": ""
                },
                {
                  "0": "2038",
                  "1": "2.4",
                  "2": "2.4",
                  "3": "1201.00",
                  "4": "1801.00",
                  "5": "602.00",
                  "6": ""
                },
                {
                  "0": "2039",
                  "1": "2.4",
                  "2": "2.4",
                  "3": "1230.00",
                  "4": "1845.00",
                  "5": "616.00",
                  "6": ""
                },
                {
                  "0": "2040",
                  "1": "2.4",
                  "2": "2.4",
                  "3": "1259.00",
                  "4": "1889.00",
                  "5": "631.00",
                  "6": ""
                },
                {
                  "0": "2041",
                  "1": "2.4",
                  "2": "2.4",
                  "3": "1290.00",
                  "4": "1934.00",
                  "5": "646.00",
                  "6": ""
                },
                {
                  "0": "2042",
                  "1": "2.4",
                  "2": "2.4",
                  "3": "1321.00",
                  "4": "1981.00",
                  "5": "662.00",
                  "6": ""
                },
                {
                  "0": "2043",
                  "1": "2.4",
                  "2": "2.4",
                  "3": "1352.00",
                  "4": "2028.00",
                  "5": "677.00",
                  "6": ""
                },
                {
                  "0": "2044",
                  "1": "2.4",
                  "2": "2.4",
                  "3": "1385.00",
                  "4": "2077.00",
                  "5": "694.00",
                  "6": ""
                }
              ],
              "schema": [
                {
                  "key": "0",
                  "name": "_'Unnamed:_0_level_0'__'Year'_",
                  "type": "string"
                },
                {
                  "key": "1",
                  "name": "_'Unnamed:_2_level_0'__'Social_Security_benefit_rate_increasea__b'_",
                  "type": "string"
                },
                {
                  "key": "2",
                  "name": "_'Unnamed:_4_level_0'__'SSI_benefit_rate_increasea__c'_",
                  "type": "string"
                },
                {
                  "key": "3",
                  "name": "_'Federal_benefit_rate'__'Individual'_",
                  "type": "string"
                },
                {
                  "key": "4",
                  "name": "_'Federal_benefit_rate'__'Couple'_",
                  "type": "string"
                },
                {
                  "key": "5",
                  "name": "_'Federal_benefit_rate'__'Essential_persond'_",
                  "type": "string"
                },
                {
                  "key": "6",
                  "name": "Header",
                  "type": "string"
                }
              ],
              "truncated": false
            },
            "isSummary": false,
            "language": "scala"
          },
          "persist_state": {
            "view": {
              "type": "details",
              "tableOptions": {},
              "chartOptions": {
                "chartType": "bar",
                "aggregationType": "count",
                "categoryFieldKeys": [
                  "0"
                ],
                "seriesFieldKeys": [
                  "0"
                ],
                "isStacked": false
              }
            }
          }
        },
        "24b2dc59-b0d4-478c-8d27-1e2a91924d88": {
          "type": "Synapse.DataFrame",
          "sync_state": {
            "table": {
              "rows": [
                {
                  "0": "1974b, c",
                  "1": "125",
                  "2": "590",
                  "3": "626",
                  "4": "1303",
                  "5": "158",
                  "6": "20",
                  "7": "1434",
                  "8": "1496",
                  "9": "2822",
                  "10": "2931",
                  "11": "5752",
                  "12": ""
                },
                {
                  "0": "1975b",
                  "1": "94",
                  "2": "276",
                  "3": "258",
                  "4": "443",
                  "5": "15",
                  "6": "d",
                  "7": "238",
                  "8": "145",
                  "9": "1086",
                  "10": "382",
                  "11": "1468",
                  "12": ""
                },
                {
                  "0": "1976",
                  "1": "82",
                  "2": "260",
                  "3": "250",
                  "4": "384",
                  "5": "8",
                  "6": "d",
                  "7": "175",
                  "8": "80",
                  "9": "984",
                  "10": "254",
                  "11": "1239",
                  "12": ""
                },
                {
                  "0": "1977",
                  "1": "100",
                  "2": "286",
                  "3": "246",
                  "4": "401",
                  "5": "7",
                  "6": "1",
                  "7": "174",
                  "8": "84",
                  "9": "1040",
                  "10": "259",
                  "11": "1298",
                  "12": ""
                },
                {
                  "0": "1978",
                  "1": "94",
                  "2": "276",
                  "3": "256",
                  "4": "413",
                  "5": "7",
                  "6": "d",
                  "7": "170",
                  "8": "88",
                  "9": "1046",
                  "10": "258",
                  "11": "1304",
                  "12": ""
                },
                {
                  "0": "1979",
                  "1": "106",
                  "2": "282",
                  "3": "268",
                  "4": "426",
                  "5": "7",
                  "6": "d",
                  "7": "178",
                  "8": "84",
                  "9": "1090",
                  "10": "262",
                  "11": "1352",
                  "12": ""
                },
                {
                  "0": "1980",
                  "1": "122",
                  "2": "310",
                  "3": "272",
                  "4": "438",
                  "5": "8",
                  "6": "1",
                  "7": "187",
                  "8": "89",
                  "9": "1151",
                  "10": "276",
                  "11": "1427",
                  "12": ""
                },
                {
                  "0": "1981",
                  "1": "78",
                  "2": "206",
                  "3": "173",
                  "4": "271",
                  "5": "5",
                  "6": "d",
                  "7": "88",
                  "8": "42",
                  "9": "733",
                  "10": "130",
                  "11": "864",
                  "12": ""
                },
                {
                  "0": "1982",
                  "1": "87",
                  "2": "246",
                  "3": "207",
                  "4": "278",
                  "5": "11",
                  "6": "1",
                  "7": "93",
                  "8": "48",
                  "9": "830",
                  "10": "141",
                  "11": "971",
                  "12": ""
                },
                {
                  "0": "1983",
                  "1": "102",
                  "2": "258",
                  "3": "225",
                  "4": "311",
                  "5": "5",
                  "6": "1",
                  "7": "122",
                  "8": "68",
                  "9": "902",
                  "10": "190",
                  "11": "1092",
                  "12": ""
                },
                {
                  "0": "1984",
                  "1": "103",
                  "2": "267",
                  "3": "247",
                  "4": "321",
                  "5": "7",
                  "6": "d",
                  "7": "178",
                  "8": "108",
                  "9": "944",
                  "10": "286",
                  "11": "1230",
                  "12": ""
                },
                {
                  "0": "1985",
                  "1": "114",
                  "2": "294",
                  "3": "297",
                  "4": "409",
                  "5": "7",
                  "6": "d",
                  "7": "151",
                  "8": "73",
                  "9": "1122",
                  "10": "223",
                  "11": "1345",
                  "12": ""
                },
                {
                  "0": "1986",
                  "1": "122",
                  "2": "316",
                  "3": "334",
                  "4": "426",
                  "5": "7",
                  "6": "1",
                  "7": "150",
                  "8": "81",
                  "9": "1205",
                  "10": "231",
                  "11": "1437",
                  "12": ""
                },
                {
                  "0": "1987",
                  "1": "108",
                  "2": "287",
                  "3": "298",
                  "4": "332",
                  "5": "7",
                  "6": "1",
                  "7": "134",
                  "8": "66",
                  "9": "1033",
                  "10": "200",
                  "11": "1233",
                  "12": ""
                },
                {
                  "0": "1988",
                  "1": "114",
                  "2": "282",
                  "3": "301",
                  "4": "317",
                  "5": "7",
                  "6": "1",
                  "7": "131",
                  "8": "69",
                  "9": "1021",
                  "10": "200",
                  "11": "1221",
                  "12": ""
                },
                {
                  "0": "1989",
                  "1": "116",
                  "2": "297",
                  "3": "323",
                  "4": "329",
                  "5": "7",
                  "6": "d",
                  "7": "146",
                  "8": "76",
                  "9": "1072",
                  "10": "222",
                  "11": "1294",
                  "12": ""
                },
                {
                  "0": "1990",
                  "1": "149",
                  "2": "335",
                  "3": "380",
                  "4": "356",
                  "5": "6",
                  "6": "d",
                  "7": "156",
                  "8": "71",
                  "9": "1226",
                  "10": "227",
                  "11": "1454",
                  "12": ""
                },
                {
                  "0": "1991",
                  "1": "237",
                  "2": "391",
                  "3": "453",
                  "4": "391",
                  "5": "7",
                  "6": "d",
                  "7": "159",
                  "8": "68",
                  "9": "1479",
                  "10": "227",
                  "11": "1706",
                  "12": ""
                },
                {
                  "0": "1992",
                  "1": "336",
                  "2": "453",
                  "3": "525",
                  "4": "407",
                  "5": "7",
                  "6": "d",
                  "7": "163",
                  "8": "64",
                  "9": "1728",
                  "10": "226",
                  "11": "1955",
                  "12": ""
                },
                {
                  "0": "1993",
                  "1": "468",
                  "2": "506",
                  "3": "573",
                  "4": "418",
                  "5": "7",
                  "6": "d",
                  "7": "158",
                  "8": "60",
                  "9": "1973",
                  "10": "218",
                  "11": "2191",
                  "12": ""
                },
                {
                  "0": "1994",
                  "1": "515",
                  "2": "493",
                  "3": "573",
                  "4": "402",
                  "5": "6",
                  "6": "d",
                  "7": "136",
                  "8": "52",
                  "9": "1989",
                  "10": "188",
                  "11": "2177",
                  "12": ""
                },
                {
                  "0": "1995",
                  "1": "472",
                  "2": "435",
                  "3": "526",
                  "4": "362",
                  "5": "6",
                  "6": "1",
                  "7": "121",
                  "8": "44",
                  "9": "1801",
                  "10": "165",
                  "11": "1966",
                  "12": ""
                },
                {
                  "0": "1996",
                  "1": "433",
                  "2": "395",
                  "3": "501",
                  "4": "343",
                  "5": "6",
                  "6": "1",
                  "7": "110",
                  "8": "42",
                  "9": "1678",
                  "10": "153",
                  "11": "1831",
                  "12": ""
                },
                {
                  "0": "1997",
                  "1": "307",
                  "2": "319",
                  "3": "440",
                  "4": "306",
                  "5": "4",
                  "6": "d",
                  "7": "86",
                  "8": "32",
                  "9": "1377",
                  "10": "117",
                  "11": "1494",
                  "12": ""
                },
                {
                  "0": "1998",
                  "1": "318",
                  "2": "319",
                  "3": "455",
                  "4": "329",
                  "5": "6",
                  "6": "1",
                  "7": "98",
                  "8": "37",
                  "9": "1428",
                  "10": "136",
                  "11": "1563",
                  "12": ""
                },
                {
                  "0": "1999",
                  "1": "337",
                  "2": "318",
                  "3": "472",
                  "4": "336",
                  "5": "6",
                  "6": "d",
                  "7": "107",
                  "8": "39",
                  "9": "1468",
                  "10": "145",
                  "11": "1614",
                  "12": ""
                },
                {
                  "0": "2000",
                  "1": "338",
                  "2": "322",
                  "3": "486",
                  "4": "341",
                  "5": "5",
                  "6": "d",
                  "7": "102",
                  "8": "39",
                  "9": "1493",
                  "10": "141",
                  "11": "1633",
                  "12": ""
                },
                {
                  "0": "2001",
                  "1": "352",
                  "2": "347",
                  "3": "502",
                  "4": "353",
                  "5": "4",
                  "6": "d",
                  "7": "98",
                  "8": "35",
                  "9": "1558",
                  "10": "134",
                  "11": "1691",
                  "12": ""
                },
                {
                  "0": "2002",
                  "1": "385",
                  "2": "388",
                  "3": "549",
                  "4": "384",
                  "5": "4",
                  "6": "d",
                  "7": "104",
                  "8": "38",
                  "9": "1711",
                  "10": "142",
                  "11": "1853",
                  "12": ""
                },
                {
                  "0": "2003",
                  "1": "401",
                  "2": "404",
                  "3": "564",
                  "4": "407",
                  "5": "4",
                  "6": "d",
                  "7": "99",
                  "8": "36",
                  "9": "1781",
                  "10": "135",
                  "11": "1916",
                  "12": ""
                },
                {
                  "0": "2004",
                  "1": "420",
                  "2": "438",
                  "3": "605",
                  "4": "452",
                  "5": "4",
                  "6": "d",
                  "7": "101",
                  "8": "37",
                  "9": "1919",
                  "10": "138",
                  "11": "2057",
                  "12": ""
                },
                {
                  "0": "2005",
                  "1": "429",
                  "2": "439",
                  "3": "604",
                  "4": "477",
                  "5": "5",
                  "6": "d",
                  "7": "112",
                  "8": "44",
                  "9": "1954",
                  "10": "156",
                  "11": "2110",
                  "12": ""
                },
                {
                  "0": "2006",
                  "1": "415",
                  "2": "437",
                  "3": "584",
                  "4": "484",
                  "5": "4",
                  "6": "d",
                  "7": "109",
                  "8": "41",
                  "9": "1925",
                  "10": "150",
                  "11": "2075",
                  "12": ""
                },
                {
                  "0": "2007",
                  "1": "419",
                  "2": "442",
                  "3": "581",
                  "4": "502",
                  "5": "5",
                  "6": "d",
                  "7": "105",
                  "8": "38",
                  "9": "1948",
                  "10": "143",
                  "11": "2091",
                  "12": ""
                },
                {
                  "0": "2008",
                  "1": "432",
                  "2": "479",
                  "3": "596",
                  "4": "536",
                  "5": "5",
                  "6": "d",
                  "7": "108",
                  "8": "39",
                  "9": "2048",
                  "10": "147",
                  "11": "2195",
                  "12": ""
                },
                {
                  "0": "2009",
                  "1": "498",
                  "2": "578",
                  "3": "667",
                  "4": "611",
                  "5": "5",
                  "6": "d",
                  "7": "109",
                  "8": "38",
                  "9": "2359",
                  "10": "147",
                  "11": "2506",
                  "12": ""
                },
                {
                  "0": "2010",
                  "1": "502",
                  "2": "600",
                  "3": "667",
                  "4": "644",
                  "5": "5",
                  "6": "1",
                  "7": "110",
                  "8": "38",
                  "9": "2419",
                  "10": "148",
                  "11": "2567",
                  "12": ""
                },
                {
                  "0": "2011",
                  "1": "496",
                  "2": "588",
                  "3": "647",
                  "4": "663",
                  "5": "5",
                  "6": "1",
                  "7": "114",
                  "8": "39",
                  "9": "2400",
                  "10": "153",
                  "11": "2553",
                  "12": ""
                },
                {
                  "0": "2012",
                  "1": "475",
                  "2": "555",
                  "3": "604",
                  "4": "651",
                  "5": "5",
                  "6": "1",
                  "7": "111",
                  "8": "36",
                  "9": "2291",
                  "10": "147",
                  "11": "2438",
                  "12": ""
                },
                {
                  "0": "2013",
                  "1": "425",
                  "2": "483",
                  "3": "536",
                  "4": "616",
                  "5": "5",
                  "6": "1",
                  "7": "112",
                  "8": "36",
                  "9": "2066",
                  "10": "148",
                  "11": "2214",
                  "12": ""
                },
                {
                  "0": "2014",
                  "1": "397",
                  "2": "426",
                  "3": "482",
                  "4": "587",
                  "5": "5",
                  "6": "1",
                  "7": "108",
                  "8": "34",
                  "9": "1897",
                  "10": "142",
                  "11": "2039",
                  "12": ""
                },
                {
                  "0": "2015",
                  "1": "414",
                  "2": "422",
                  "3": "464",
                  "4": "570",
                  "5": "5",
                  "6": "1",
                  "7": "111",
                  "8": "36",
                  "9": "1877",
                  "10": "147",
                  "11": "2024",
                  "12": ""
                },
                {
                  "0": "2016",
                  "1": "381",
                  "2": "385",
                  "3": "423",
                  "4": "532",
                  "5": "4",
                  "6": "1",
                  "7": "105",
                  "8": "33",
                  "9": "1727",
                  "10": "139",
                  "11": "1865",
                  "12": ""
                },
                {
                  "0": "2017",
                  "1": "350",
                  "2": "366",
                  "3": "380",
                  "4": "493",
                  "5": "4",
                  "6": "1",
                  "7": "109",
                  "8": "33",
                  "9": "1595",
                  "10": "142",
                  "11": "1737",
                  "12": ""
                },
                {
                  "0": "2018",
                  "1": "339",
                  "2": "342",
                  "3": "354",
                  "4": "475",
                  "5": "4",
                  "6": "1",
                  "7": "98",
                  "8": "30",
                  "9": "1515",
                  "10": "128",
                  "11": "1643",
                  "12": ""
                },
                {
                  "0": "2019",
                  "1": "330",
                  "2": "343",
                  "3": "356",
                  "4": "486",
                  "5": "4",
                  "6": "1",
                  "7": "97",
                  "8": "30",
                  "9": "1521",
                  "10": "127",
                  "11": "1648",
                  "12": ""
                },
                {
                  "0": "2020",
                  "1": "347",
                  "2": "369",
                  "3": "396",
                  "4": "483",
                  "5": "5",
                  "6": "1",
                  "7": "97",
                  "8": "29",
                  "9": "1602",
                  "10": "126",
                  "11": "1728",
                  "12": ""
                },
                {
                  "0": "2021",
                  "1": "361",
                  "2": "403",
                  "3": "439",
                  "4": "494",
                  "5": "5",
                  "6": "1",
                  "7": "100",
                  "8": "31",
                  "9": "1703",
                  "10": "131",
                  "11": "1834",
                  "12": ""
                },
                {
                  "0": "2022",
                  "1": "378",
                  "2": "426",
                  "3": "466",
                  "4": "514",
                  "5": "6",
                  "6": "1",
                  "7": "103",
                  "8": "34",
                  "9": "1789",
                  "10": "137",
                  "11": "1926",
                  "12": ""
                },
                {
                  "0": "2023",
                  "1": "379",
                  "2": "428",
                  "3": "473",
                  "4": "508",
                  "5": "6",
                  "6": "1",
                  "7": "103",
                  "8": "35",
                  "9": "1794",
                  "10": "138",
                  "11": "1932",
                  "12": ""
                },
                {
                  "0": "2024",
                  "1": "383",
                  "2": "434",
                  "3": "484",
                  "4": "505",
                  "5": "6",
                  "6": "1",
                  "7": "105",
                  "8": "37",
                  "9": "1812",
                  "10": "143",
                  "11": "1955",
                  "12": ""
                },
                {
                  "0": "2025",
                  "1": "384",
                  "2": "436",
                  "3": "492",
                  "4": "497",
                  "5": "6",
                  "6": "1",
                  "7": "109",
                  "8": "40",
                  "9": "1815",
                  "10": "149",
                  "11": "1964",
                  "12": ""
                },
                {
                  "0": "2026",
                  "1": "383",
                  "2": "434",
                  "3": "496",
                  "4": "488",
                  "5": "6",
                  "6": "1",
                  "7": "110",
                  "8": "42",
                  "9": "1809",
                  "10": "152",
                  "11": "1961",
                  "12": ""
                },
                {
                  "0": "2027",
                  "1": "392",
                  "2": "441",
                  "3": "510",
                  "4": "491",
                  "5": "6",
                  "6": "1",
                  "7": "112",
                  "8": "45",
                  "9": "1841",
                  "10": "157",
                  "11": "1998",
                  "12": ""
                },
                {
                  "0": "2028",
                  "1": "387",
                  "2": "432",
                  "3": "504",
                  "4": "478",
                  "5": "6",
                  "6": "1",
                  "7": "111",
                  "8": "46",
                  "9": "1807",
                  "10": "157",
                  "11": "1964",
                  "12": ""
                },
                {
                  "0": "2029",
                  "1": "389",
                  "2": "430",
                  "3": "505",
                  "4": "475",
                  "5": "6",
                  "6": "1",
                  "7": "111",
                  "8": "49",
                  "9": "1805",
                  "10": "159",
                  "11": "1964",
                  "12": ""
                },
                {
                  "0": "2030",
                  "1": "390",
                  "2": "428",
                  "3": "506",
                  "4": "475",
                  "5": "5",
                  "6": "1",
                  "7": "109",
                  "8": "51",
                  "9": "1804",
                  "10": "160",
                  "11": "1965",
                  "12": ""
                },
                {
                  "0": "2031",
                  "1": "392",
                  "2": "426",
                  "3": "506",
                  "4": "473",
                  "5": "5",
                  "6": "1",
                  "7": "108",
                  "8": "53",
                  "9": "1804",
                  "10": "161",
                  "11": "1965",
                  "12": ""
                },
                {
                  "0": "2032",
                  "1": "394",
                  "2": "425",
                  "3": "506",
                  "4": "473",
                  "5": "5",
                  "6": "1",
                  "7": "106",
                  "8": "55",
                  "9": "1804",
                  "10": "161",
                  "11": "1965",
                  "12": ""
                },
                {
                  "0": "2033",
                  "1": "404",
                  "2": "432",
                  "3": "517",
                  "4": "482",
                  "5": "5",
                  "6": "1",
                  "7": "105",
                  "8": "58",
                  "9": "1840",
                  "10": "163",
                  "11": "2003",
                  "12": ""
                },
                {
                  "0": "2034",
                  "1": "398",
                  "2": "421",
                  "3": "508",
                  "4": "472",
                  "5": "5",
                  "6": "1",
                  "7": "102",
                  "8": "58",
                  "9": "1805",
                  "10": "160",
                  "11": "1965",
                  "12": ""
                },
                {
                  "0": "2035",
                  "1": "400",
                  "2": "418",
                  "3": "508",
                  "4": "473",
                  "5": "5",
                  "6": "1",
                  "7": "101",
                  "8": "59",
                  "9": "1806",
                  "10": "160",
                  "11": "1965",
                  "12": ""
                },
                {
                  "0": "2036",
                  "1": "402",
                  "2": "415",
                  "3": "508",
                  "4": "475",
                  "5": "5",
                  "6": "1",
                  "7": "98",
                  "8": "60",
                  "9": "1806",
                  "10": "158",
                  "11": "1965",
                  "12": ""
                },
                {
                  "0": "2037",
                  "1": "404",
                  "2": "412",
                  "3": "508",
                  "4": "478",
                  "5": "5",
                  "6": "1",
                  "7": "94",
                  "8": "61",
                  "9": "1807",
                  "10": "156",
                  "11": "1963",
                  "12": ""
                },
                {
                  "0": "2038",
                  "1": "406",
                  "2": "408",
                  "3": "507",
                  "4": "482",
                  "5": "5",
                  "6": "1",
                  "7": "91",
                  "8": "62",
                  "9": "1809",
                  "10": "153",
                  "11": "1962",
                  "12": ""
                },
                {
                  "0": "2039",
                  "1": "415",
                  "2": "414",
                  "3": "515",
                  "4": "497",
                  "5": "5",
                  "6": "1",
                  "7": "90",
                  "8": "64",
                  "9": "1847",
                  "10": "154",
                  "11": "2001",
                  "12": ""
                },
                {
                  "0": "2040",
                  "1": "408",
                  "2": "403",
                  "3": "503",
                  "4": "493",
                  "5": "5",
                  "6": "1",
                  "7": "86",
                  "8": "63",
                  "9": "1812",
                  "10": "149",
                  "11": "1961",
                  "12": ""
                },
                {
                  "0": "2041",
                  "1": "408",
                  "2": "400",
                  "3": "502",
                  "4": "497",
                  "5": "5",
                  "6": "1",
                  "7": "85",
                  "8": "63",
                  "9": "1813",
                  "10": "148",
                  "11": "1961",
                  "12": ""
                },
                {
                  "0": "2042",
                  "1": "408",
                  "2": "397",
                  "3": "501",
                  "4": "500",
                  "5": "5",
                  "6": "1",
                  "7": "84",
                  "8": "63",
                  "9": "1813",
                  "10": "147",
                  "11": "1960",
                  "12": ""
                },
                {
                  "0": "2043",
                  "1": "407",
                  "2": "396",
                  "3": "501",
                  "4": "502",
                  "5": "5",
                  "6": "1",
                  "7": "83",
                  "8": "63",
                  "9": "1813",
                  "10": "146",
                  "11": "1959",
                  "12": ""
                },
                {
                  "0": "2044",
                  "1": "414",
                  "2": "404",
                  "3": "511",
                  "4": "513",
                  "5": "5",
                  "6": "1",
                  "7": "84",
                  "8": "64",
                  "9": "1848",
                  "10": "148",
                  "11": "1996",
                  "12": ""
                }
              ],
              "schema": [
                {
                  "key": "0",
                  "name": "_'Unnamed:_0_level_0'__'Calendar_year'_",
                  "type": "string"
                },
                {
                  "key": "1",
                  "name": "_'Blind_or_disabled__by_age_group'__'0-17'_",
                  "type": "string"
                },
                {
                  "key": "2",
                  "name": "_'Blind_or_disabled__by_age_group'__'18-34'_",
                  "type": "string"
                },
                {
                  "key": "3",
                  "name": "_'Blind_or_disabled__by_age_group'__'35-49'_",
                  "type": "string"
                },
                {
                  "key": "4",
                  "name": "_'Blind_or_disabled__by_age_group'__'50-64'_",
                  "type": "string"
                },
                {
                  "key": "5",
                  "name": "_'Blind_or_disabled__by_age_group'__'65-74'_",
                  "type": "string"
                },
                {
                  "key": "6",
                  "name": "_'Blind_or_disabled__by_age_group'__'75_or_older'_",
                  "type": "string"
                },
                {
                  "key": "7",
                  "name": "_'Aged__by_age_group'__'65-74'_",
                  "type": "string"
                },
                {
                  "key": "8",
                  "name": "_'Aged__by_age_group'__'75_or_older'_",
                  "type": "string"
                },
                {
                  "key": "9",
                  "name": "_'Totals'__'Blind_or_disabled'_",
                  "type": "string"
                },
                {
                  "key": "10",
                  "name": "_'Totals'__'Aged'_",
                  "type": "string"
                },
                {
                  "key": "11",
                  "name": "_'Totals'__'All'_",
                  "type": "string"
                },
                {
                  "key": "12",
                  "name": "Header",
                  "type": "string"
                }
              ],
              "truncated": false
            },
            "isSummary": false,
            "language": "scala"
          },
          "persist_state": {
            "view": {
              "type": "details",
              "tableOptions": {},
              "chartOptions": {
                "chartType": "bar",
                "aggregationType": "count",
                "categoryFieldKeys": [
                  "0"
                ],
                "seriesFieldKeys": [
                  "0"
                ],
                "isStacked": false
              }
            }
          }
        },
        "7717895e-8bfc-41f0-9fa2-c3a030444841": {
          "type": "Synapse.DataFrame",
          "sync_state": {
            "table": {
              "rows": [
                {
                  "0": "1974c",
                  "1": "63",
                  "2": "390",
                  "3": "381",
                  "4": "925",
                  "5": "141",
                  "6": "18",
                  "7": "1211",
                  "8": "1268",
                  "9": "1919",
                  "10": "2479",
                  "11": "4398",
                  "12": ""
                },
                {
                  "0": "1975",
                  "1": "58",
                  "2": "133",
                  "3": "105",
                  "4": "272",
                  "5": "16",
                  "6": "d",
                  "7": "216",
                  "8": "131",
                  "9": "584",
                  "10": "347",
                  "11": "931",
                  "12": ""
                },
                {
                  "0": "1976",
                  "1": "43",
                  "2": "105",
                  "3": "88",
                  "4": "207",
                  "5": "9",
                  "6": "d",
                  "7": "147",
                  "8": "70",
                  "9": "452",
                  "10": "218",
                  "11": "669",
                  "12": ""
                },
                {
                  "0": "1977",
                  "1": "48",
                  "2": "104",
                  "3": "84",
                  "4": "184",
                  "5": "8",
                  "6": "1",
                  "7": "140",
                  "8": "69",
                  "9": "429",
                  "10": "209",
                  "11": "637",
                  "12": ""
                },
                {
                  "0": "1978",
                  "1": "43",
                  "2": "92",
                  "3": "76",
                  "4": "154",
                  "5": "6",
                  "6": "d",
                  "7": "127",
                  "8": "66",
                  "9": "370",
                  "10": "193",
                  "11": "563",
                  "12": ""
                },
                {
                  "0": "1979",
                  "1": "44",
                  "2": "87",
                  "3": "62",
                  "4": "133",
                  "5": "4",
                  "6": "d",
                  "7": "116",
                  "8": "53",
                  "9": "330",
                  "10": "169",
                  "11": "499",
                  "12": ""
                },
                {
                  "0": "1980",
                  "1": "41",
                  "2": "92",
                  "3": "61",
                  "4": "142",
                  "5": "4",
                  "6": "d",
                  "7": "125",
                  "8": "59",
                  "9": "341",
                  "10": "184",
                  "11": "524",
                  "12": ""
                },
                {
                  "0": "1981",
                  "1": "37",
                  "2": "77",
                  "3": "49",
                  "4": "106",
                  "5": "3",
                  "6": "d",
                  "7": "80",
                  "8": "37",
                  "9": "272",
                  "10": "117",
                  "11": "389",
                  "12": ""
                },
                {
                  "0": "1982",
                  "1": "38",
                  "2": "63",
                  "3": "51",
                  "4": "90",
                  "5": "4",
                  "6": "d",
                  "7": "72",
                  "8": "31",
                  "9": "245",
                  "10": "103",
                  "11": "348",
                  "12": ""
                },
                {
                  "0": "1983",
                  "1": "47",
                  "2": "88",
                  "3": "62",
                  "4": "117",
                  "5": "3",
                  "6": "d",
                  "7": "95",
                  "8": "51",
                  "9": "317",
                  "10": "146",
                  "11": "463",
                  "12": ""
                },
                {
                  "0": "1984",
                  "1": "47",
                  "2": "109",
                  "3": "78",
                  "4": "142",
                  "5": "4",
                  "6": "d",
                  "7": "131",
                  "8": "78",
                  "9": "380",
                  "10": "209",
                  "11": "589",
                  "12": ""
                },
                {
                  "0": "1985",
                  "1": "48",
                  "2": "104",
                  "3": "80",
                  "4": "148",
                  "5": "4",
                  "6": "d",
                  "7": "106",
                  "8": "46",
                  "9": "384",
                  "10": "152",
                  "11": "536",
                  "12": ""
                },
                {
                  "0": "1986",
                  "1": "55",
                  "2": "127",
                  "3": "109",
                  "4": "153",
                  "5": "5",
                  "6": "d",
                  "7": "110",
                  "8": "51",
                  "9": "449",
                  "10": "161",
                  "11": "610",
                  "12": ""
                },
                {
                  "0": "1987",
                  "1": "49",
                  "2": "120",
                  "3": "107",
                  "4": "157",
                  "5": "6",
                  "6": "1",
                  "7": "116",
                  "8": "53",
                  "9": "439",
                  "10": "169",
                  "11": "608",
                  "12": ""
                },
                {
                  "0": "1988",
                  "1": "50",
                  "2": "101",
                  "3": "108",
                  "4": "146",
                  "5": "5",
                  "6": "1",
                  "7": "112",
                  "8": "56",
                  "9": "412",
                  "10": "167",
                  "11": "579",
                  "12": ""
                },
                {
                  "0": "1989",
                  "1": "48",
                  "2": "113",
                  "3": "115",
                  "4": "155",
                  "5": "5",
                  "6": "d",
                  "7": "127",
                  "8": "62",
                  "9": "436",
                  "10": "189",
                  "11": "625",
                  "12": ""
                },
                {
                  "0": "1990",
                  "1": "76",
                  "2": "136",
                  "3": "134",
                  "4": "182",
                  "5": "5",
                  "6": "d",
                  "7": "149",
                  "8": "66",
                  "9": "533",
                  "10": "215",
                  "11": "748",
                  "12": ""
                },
                {
                  "0": "1991",
                  "1": "126",
                  "2": "146",
                  "3": "172",
                  "4": "200",
                  "5": "6",
                  "6": "d",
                  "7": "139",
                  "8": "54",
                  "9": "650",
                  "10": "193",
                  "11": "844",
                  "12": ""
                },
                {
                  "0": "1992",
                  "1": "221",
                  "2": "199",
                  "3": "221",
                  "4": "233",
                  "5": "6",
                  "6": "d",
                  "7": "133",
                  "8": "48",
                  "9": "881",
                  "10": "181",
                  "11": "1062",
                  "12": ""
                },
                {
                  "0": "1993",
                  "1": "234",
                  "2": "193",
                  "3": "221",
                  "4": "226",
                  "5": "6",
                  "6": "d",
                  "7": "136",
                  "8": "49",
                  "9": "881",
                  "10": "185",
                  "11": "1066",
                  "12": ""
                },
                {
                  "0": "1994",
                  "1": "205",
                  "2": "164",
                  "3": "208",
                  "4": "216",
                  "5": "6",
                  "6": "d",
                  "7": "116",
                  "8": "42",
                  "9": "798",
                  "10": "158",
                  "11": "956",
                  "12": ""
                },
                {
                  "0": "1995",
                  "1": "178",
                  "2": "148",
                  "3": "208",
                  "4": "218",
                  "5": "5",
                  "6": "d",
                  "7": "105",
                  "8": "36",
                  "9": "757",
                  "10": "141",
                  "11": "899",
                  "12": ""
                },
                {
                  "0": "1996",
                  "1": "145",
                  "2": "134",
                  "3": "194",
                  "4": "203",
                  "5": "6",
                  "6": "1",
                  "7": "93",
                  "8": "35",
                  "9": "683",
                  "10": "128",
                  "11": "811",
                  "12": ""
                },
                {
                  "0": "1997",
                  "1": "116",
                  "2": "111",
                  "3": "172",
                  "4": "179",
                  "5": "4",
                  "6": "d",
                  "7": "69",
                  "8": "25",
                  "9": "583",
                  "10": "93",
                  "11": "676",
                  "12": ""
                },
                {
                  "0": "1998",
                  "1": "135",
                  "2": "117",
                  "3": "181",
                  "4": "194",
                  "5": "7",
                  "6": "1",
                  "7": "78",
                  "8": "30",
                  "9": "636",
                  "10": "108",
                  "11": "744",
                  "12": ""
                },
                {
                  "0": "1999",
                  "1": "140",
                  "2": "115",
                  "3": "187",
                  "4": "195",
                  "5": "5",
                  "6": "d",
                  "7": "88",
                  "8": "33",
                  "9": "642",
                  "10": "120",
                  "11": "763",
                  "12": ""
                },
                {
                  "0": "2000",
                  "1": "146",
                  "2": "112",
                  "3": "181",
                  "4": "192",
                  "5": "5",
                  "6": "d",
                  "7": "84",
                  "8": "31",
                  "9": "635",
                  "10": "115",
                  "11": "751",
                  "12": ""
                },
                {
                  "0": "2001",
                  "1": "158",
                  "2": "121",
                  "3": "186",
                  "4": "198",
                  "5": "4",
                  "6": "d",
                  "7": "79",
                  "8": "28",
                  "9": "667",
                  "10": "107",
                  "11": "774",
                  "12": ""
                },
                {
                  "0": "2002",
                  "1": "171",
                  "2": "128",
                  "3": "196",
                  "4": "212",
                  "5": "4",
                  "6": "d",
                  "7": "83",
                  "8": "29",
                  "9": "712",
                  "10": "112",
                  "11": "824",
                  "12": ""
                },
                {
                  "0": "2003",
                  "1": "181",
                  "2": "132",
                  "3": "194",
                  "4": "214",
                  "5": "4",
                  "6": "d",
                  "7": "77",
                  "8": "27",
                  "9": "726",
                  "10": "104",
                  "11": "830",
                  "12": ""
                },
                {
                  "0": "2004",
                  "1": "183",
                  "2": "138",
                  "3": "202",
                  "4": "231",
                  "5": "4",
                  "6": "d",
                  "7": "78",
                  "8": "27",
                  "9": "758",
                  "10": "105",
                  "11": "863",
                  "12": ""
                },
                {
                  "0": "2005",
                  "1": "178",
                  "2": "131",
                  "3": "193",
                  "4": "239",
                  "5": "4",
                  "6": "d",
                  "7": "81",
                  "8": "29",
                  "9": "744",
                  "10": "111",
                  "11": "855",
                  "12": ""
                },
                {
                  "0": "2006",
                  "1": "175",
                  "2": "129",
                  "3": "190",
                  "4": "244",
                  "5": "3",
                  "6": "d",
                  "7": "81",
                  "8": "28",
                  "9": "741",
                  "10": "109",
                  "11": "850",
                  "12": ""
                },
                {
                  "0": "2007",
                  "1": "171",
                  "2": "130",
                  "3": "189",
                  "4": "254",
                  "5": "4",
                  "6": "d",
                  "7": "76",
                  "8": "27",
                  "9": "749",
                  "10": "103",
                  "11": "851",
                  "12": ""
                },
                {
                  "0": "2008",
                  "1": "183",
                  "2": "147",
                  "3": "204",
                  "4": "289",
                  "5": "4",
                  "6": "d",
                  "7": "79",
                  "8": "27",
                  "9": "826",
                  "10": "106",
                  "11": "932",
                  "12": ""
                },
                {
                  "0": "2009",
                  "1": "197",
                  "2": "161",
                  "3": "217",
                  "4": "321",
                  "5": "4",
                  "6": "d",
                  "7": "80",
                  "8": "27",
                  "9": "900",
                  "10": "107",
                  "11": "1007",
                  "12": ""
                },
                {
                  "0": "2010",
                  "1": "206",
                  "2": "172",
                  "3": "222",
                  "4": "346",
                  "5": "4",
                  "6": "d",
                  "7": "79",
                  "8": "25",
                  "9": "950",
                  "10": "104",
                  "11": "1054",
                  "12": ""
                },
                {
                  "0": "2011",
                  "1": "202",
                  "2": "164",
                  "3": "207",
                  "4": "356",
                  "5": "4",
                  "6": "d",
                  "7": "83",
                  "8": "26",
                  "9": "933",
                  "10": "109",
                  "11": "1041",
                  "12": ""
                },
                {
                  "0": "2012",
                  "1": "190",
                  "2": "147",
                  "3": "178",
                  "4": "341",
                  "5": "4",
                  "6": "d",
                  "7": "84",
                  "8": "26",
                  "9": "861",
                  "10": "110",
                  "11": "971",
                  "12": ""
                },
                {
                  "0": "2013",
                  "1": "175",
                  "2": "135",
                  "3": "160",
                  "4": "333",
                  "5": "4",
                  "6": "d",
                  "7": "86",
                  "8": "26",
                  "9": "808",
                  "10": "112",
                  "11": "920",
                  "12": ""
                },
                {
                  "0": "2014",
                  "1": "157",
                  "2": "115",
                  "3": "129",
                  "4": "297",
                  "5": "4",
                  "6": "d",
                  "7": "83",
                  "8": "25",
                  "9": "703",
                  "10": "108",
                  "11": "811",
                  "12": ""
                },
                {
                  "0": "2015",
                  "1": "168",
                  "2": "111",
                  "3": "117",
                  "4": "289",
                  "5": "4",
                  "6": "d",
                  "7": "83",
                  "8": "25",
                  "9": "689",
                  "10": "108",
                  "11": "797",
                  "12": ""
                },
                {
                  "0": "2016",
                  "1": "164",
                  "2": "106",
                  "3": "107",
                  "4": "278",
                  "5": "4",
                  "6": "d",
                  "7": "83",
                  "8": "24",
                  "9": "659",
                  "10": "107",
                  "11": "767",
                  "12": ""
                },
                {
                  "0": "2017",
                  "1": "163",
                  "2": "106",
                  "3": "107",
                  "4": "279",
                  "5": "4",
                  "6": "d",
                  "7": "85",
                  "8": "24",
                  "9": "660",
                  "10": "109",
                  "11": "768",
                  "12": ""
                },
                {
                  "0": "2018",
                  "1": "156",
                  "2": "99",
                  "3": "99",
                  "4": "262",
                  "5": "4",
                  "6": "d",
                  "7": "76",
                  "8": "23",
                  "9": "621",
                  "10": "99",
                  "11": "720",
                  "12": ""
                },
                {
                  "0": "2019",
                  "1": "160",
                  "2": "102",
                  "3": "98",
                  "4": "262",
                  "5": "4",
                  "6": "d",
                  "7": "75",
                  "8": "22",
                  "9": "626",
                  "10": "98",
                  "11": "724",
                  "12": ""
                },
                {
                  "0": "2020",
                  "1": "156",
                  "2": "106",
                  "3": "113",
                  "4": "251",
                  "5": "5",
                  "6": "d",
                  "7": "76",
                  "8": "22",
                  "9": "631",
                  "10": "98",
                  "11": "729",
                  "12": ""
                },
                {
                  "0": "2021",
                  "1": "155",
                  "2": "113",
                  "3": "128",
                  "4": "255",
                  "5": "5",
                  "6": "d",
                  "7": "77",
                  "8": "23",
                  "9": "655",
                  "10": "100",
                  "11": "755",
                  "12": ""
                },
                {
                  "0": "2022",
                  "1": "156",
                  "2": "117",
                  "3": "132",
                  "4": "258",
                  "5": "5",
                  "6": "d",
                  "7": "78",
                  "8": "25",
                  "9": "668",
                  "10": "103",
                  "11": "771",
                  "12": ""
                },
                {
                  "0": "2023",
                  "1": "159",
                  "2": "119",
                  "3": "136",
                  "4": "259",
                  "5": "5",
                  "6": "d",
                  "7": "80",
                  "8": "26",
                  "9": "678",
                  "10": "106",
                  "11": "783",
                  "12": ""
                },
                {
                  "0": "2024",
                  "1": "164",
                  "2": "123",
                  "3": "141",
                  "4": "262",
                  "5": "5",
                  "6": "d",
                  "7": "83",
                  "8": "28",
                  "9": "696",
                  "10": "111",
                  "11": "807",
                  "12": ""
                },
                {
                  "0": "2025",
                  "1": "162",
                  "2": "121",
                  "3": "141",
                  "4": "254",
                  "5": "5",
                  "6": "d",
                  "7": "84",
                  "8": "29",
                  "9": "684",
                  "10": "113",
                  "11": "797",
                  "12": ""
                },
                {
                  "0": "2026",
                  "1": "162",
                  "2": "121",
                  "3": "143",
                  "4": "250",
                  "5": "5",
                  "6": "d",
                  "7": "84",
                  "8": "31",
                  "9": "681",
                  "10": "115",
                  "11": "796",
                  "12": ""
                },
                {
                  "0": "2027",
                  "1": "164",
                  "2": "121",
                  "3": "144",
                  "4": "247",
                  "5": "5",
                  "6": "d",
                  "7": "85",
                  "8": "32",
                  "9": "680",
                  "10": "117",
                  "11": "797",
                  "12": ""
                },
                {
                  "0": "2028",
                  "1": "165",
                  "2": "120",
                  "3": "145",
                  "4": "243",
                  "5": "5",
                  "6": "d",
                  "7": "85",
                  "8": "34",
                  "9": "677",
                  "10": "119",
                  "11": "796",
                  "12": ""
                },
                {
                  "0": "2029",
                  "1": "166",
                  "2": "119",
                  "3": "145",
                  "4": "241",
                  "5": "5",
                  "6": "d",
                  "7": "85",
                  "8": "35",
                  "9": "675",
                  "10": "120",
                  "11": "795",
                  "12": ""
                },
                {
                  "0": "2030",
                  "1": "171",
                  "2": "121",
                  "3": "148",
                  "4": "246",
                  "5": "5",
                  "6": "d",
                  "7": "86",
                  "8": "38",
                  "9": "690",
                  "10": "123",
                  "11": "814",
                  "12": ""
                },
                {
                  "0": "2031",
                  "1": "169",
                  "2": "118",
                  "3": "146",
                  "4": "240",
                  "5": "4",
                  "6": "d",
                  "7": "83",
                  "8": "39",
                  "9": "677",
                  "10": "121",
                  "11": "799",
                  "12": ""
                },
                {
                  "0": "2032",
                  "1": "169",
                  "2": "117",
                  "3": "146",
                  "4": "239",
                  "5": "4",
                  "6": "d",
                  "7": "81",
                  "8": "40",
                  "9": "676",
                  "10": "121",
                  "11": "797",
                  "12": ""
                },
                {
                  "0": "2033",
                  "1": "170",
                  "2": "117",
                  "3": "146",
                  "4": "238",
                  "5": "4",
                  "6": "d",
                  "7": "79",
                  "8": "41",
                  "9": "676",
                  "10": "120",
                  "11": "796",
                  "12": ""
                },
                {
                  "0": "2034",
                  "1": "171",
                  "2": "116",
                  "3": "146",
                  "4": "238",
                  "5": "5",
                  "6": "d",
                  "7": "78",
                  "8": "42",
                  "9": "676",
                  "10": "120",
                  "11": "796",
                  "12": ""
                },
                {
                  "0": "2035",
                  "1": "171",
                  "2": "115",
                  "3": "146",
                  "4": "239",
                  "5": "5",
                  "6": "d",
                  "7": "77",
                  "8": "43",
                  "9": "676",
                  "10": "120",
                  "11": "796",
                  "12": ""
                },
                {
                  "0": "2036",
                  "1": "175",
                  "2": "117",
                  "3": "149",
                  "4": "244",
                  "5": "5",
                  "6": "d",
                  "7": "76",
                  "8": "45",
                  "9": "690",
                  "10": "121",
                  "11": "811",
                  "12": ""
                },
                {
                  "0": "2037",
                  "1": "173",
                  "2": "113",
                  "3": "146",
                  "4": "241",
                  "5": "4",
                  "6": "d",
                  "7": "72",
                  "8": "44",
                  "9": "676",
                  "10": "116",
                  "11": "793",
                  "12": ""
                },
                {
                  "0": "2038",
                  "1": "173",
                  "2": "112",
                  "3": "146",
                  "4": "243",
                  "5": "4",
                  "6": "d",
                  "7": "69",
                  "8": "45",
                  "9": "678",
                  "10": "114",
                  "11": "792",
                  "12": ""
                },
                {
                  "0": "2039",
                  "1": "173",
                  "2": "111",
                  "3": "145",
                  "4": "245",
                  "5": "4",
                  "6": "d",
                  "7": "67",
                  "8": "45",
                  "9": "679",
                  "10": "112",
                  "11": "792",
                  "12": ""
                },
                {
                  "0": "2040",
                  "1": "173",
                  "2": "111",
                  "3": "145",
                  "4": "248",
                  "5": "4",
                  "6": "d",
                  "7": "66",
                  "8": "45",
                  "9": "681",
                  "10": "111",
                  "11": "792",
                  "12": ""
                },
                {
                  "0": "2041",
                  "1": "177",
                  "2": "112",
                  "3": "147",
                  "4": "255",
                  "5": "4",
                  "6": "d",
                  "7": "66",
                  "8": "46",
                  "9": "696",
                  "10": "112",
                  "11": "808",
                  "12": ""
                },
                {
                  "0": "2042",
                  "1": "174",
                  "2": "110",
                  "3": "144",
                  "4": "252",
                  "5": "4",
                  "6": "d",
                  "7": "64",
                  "8": "45",
                  "9": "684",
                  "10": "109",
                  "11": "793",
                  "12": ""
                },
                {
                  "0": "2043",
                  "1": "173",
                  "2": "110",
                  "3": "144",
                  "4": "253",
                  "5": "4",
                  "6": "d",
                  "7": "63",
                  "8": "45",
                  "9": "683",
                  "10": "108",
                  "11": "792",
                  "12": ""
                },
                {
                  "0": "2044",
                  "1": "172",
                  "2": "110",
                  "3": "144",
                  "4": "254",
                  "5": "4",
                  "6": "d",
                  "7": "63",
                  "8": "45",
                  "9": "684",
                  "10": "108",
                  "11": "792",
                  "12": ""
                }
              ],
              "schema": [
                {
                  "key": "0",
                  "name": "_'Unnamed:_0_level_0'__'Calendar_yeara'_",
                  "type": "string"
                },
                {
                  "key": "1",
                  "name": "_'Blind_or_disabled__by_age_group'__'0-17'_",
                  "type": "string"
                },
                {
                  "key": "2",
                  "name": "_'Blind_or_disabled__by_age_group'__'18-34'_",
                  "type": "string"
                },
                {
                  "key": "3",
                  "name": "_'Blind_or_disabled__by_age_group'__'35-49'_",
                  "type": "string"
                },
                {
                  "key": "4",
                  "name": "_'Blind_or_disabled__by_age_group'__'50-64'_",
                  "type": "string"
                },
                {
                  "key": "5",
                  "name": "_'Blind_or_disabled__by_age_group'__'65-74'_",
                  "type": "string"
                },
                {
                  "key": "6",
                  "name": "_'Blind_or_disabled__by_age_group'__'75_or_older'_",
                  "type": "string"
                },
                {
                  "key": "7",
                  "name": "_'Aged__by_age_group'__'65-74'_",
                  "type": "string"
                },
                {
                  "key": "8",
                  "name": "_'Aged__by_age_group'__'75_or_older'_",
                  "type": "string"
                },
                {
                  "key": "9",
                  "name": "_'Totalsb'__'Blind_or_disabled'_",
                  "type": "string"
                },
                {
                  "key": "10",
                  "name": "_'Totalsb'__'Aged'_",
                  "type": "string"
                },
                {
                  "key": "11",
                  "name": "_'Totalsb'__'All'_",
                  "type": "string"
                },
                {
                  "key": "12",
                  "name": "Header",
                  "type": "string"
                }
              ],
              "truncated": false
            },
            "isSummary": false,
            "language": "scala"
          },
          "persist_state": {
            "view": {
              "type": "details",
              "tableOptions": {},
              "chartOptions": {
                "chartType": "bar",
                "aggregationType": "count",
                "categoryFieldKeys": [
                  "0"
                ],
                "seriesFieldKeys": [
                  "0"
                ],
                "isStacked": false
              }
            }
          }
        },
        "66b276ed-463a-4a93-8361-78ed9dff7f67": {
          "type": "Synapse.DataFrame",
          "sync_state": {
            "table": {
              "rows": [
                {
                  "0": "1974",
                  "1": "c",
                  "2": "3",
                  "3": "8",
                  "4": "34",
                  "5": "7",
                  "6": "2",
                  "7": "40",
                  "8": "97",
                  "9": "55",
                  "10": "137",
                  "11": "192",
                  "12": ""
                },
                {
                  "0": "1975",
                  "1": "1",
                  "2": "5",
                  "3": "12",
                  "4": "35",
                  "5": "10",
                  "6": "2",
                  "7": "39",
                  "8": "108",
                  "9": "65",
                  "10": "147",
                  "11": "212",
                  "12": ""
                },
                {
                  "0": "1976",
                  "1": "2",
                  "2": "5",
                  "3": "9",
                  "4": "36",
                  "5": "12",
                  "6": "1",
                  "7": "34",
                  "8": "103",
                  "9": "64",
                  "10": "137",
                  "11": "201",
                  "12": ""
                },
                {
                  "0": "1977",
                  "1": "1",
                  "2": "5",
                  "3": "12",
                  "4": "30",
                  "5": "15",
                  "6": "1",
                  "7": "36",
                  "8": "101",
                  "9": "65",
                  "10": "137",
                  "11": "203",
                  "12": ""
                },
                {
                  "0": "1978",
                  "1": "2",
                  "2": "5",
                  "3": "8",
                  "4": "34",
                  "5": "16",
                  "6": "2",
                  "7": "31",
                  "8": "95",
                  "9": "67",
                  "10": "126",
                  "11": "193",
                  "12": ""
                },
                {
                  "0": "1979",
                  "1": "2",
                  "2": "6",
                  "3": "9",
                  "4": "32",
                  "5": "18",
                  "6": "2",
                  "7": "29",
                  "8": "92",
                  "9": "67",
                  "10": "121",
                  "11": "189",
                  "12": ""
                },
                {
                  "0": "1980",
                  "1": "3",
                  "2": "5",
                  "3": "9",
                  "4": "31",
                  "5": "22",
                  "6": "1",
                  "7": "27",
                  "8": "100",
                  "9": "71",
                  "10": "127",
                  "11": "198",
                  "12": ""
                },
                {
                  "0": "1981",
                  "1": "3",
                  "2": "5",
                  "3": "8",
                  "4": "31",
                  "5": "24",
                  "6": "2",
                  "7": "21",
                  "8": "92",
                  "9": "73",
                  "10": "112",
                  "11": "186",
                  "12": ""
                },
                {
                  "0": "1982",
                  "1": "3",
                  "2": "4",
                  "3": "8",
                  "4": "28",
                  "5": "21",
                  "6": "2",
                  "7": "16",
                  "8": "80",
                  "9": "65",
                  "10": "96",
                  "11": "161",
                  "12": ""
                },
                {
                  "0": "1983",
                  "1": "3",
                  "2": "6",
                  "3": "8",
                  "4": "25",
                  "5": "21",
                  "6": "3",
                  "7": "15",
                  "8": "79",
                  "9": "65",
                  "10": "94",
                  "11": "158",
                  "12": ""
                },
                {
                  "0": "1984",
                  "1": "3",
                  "2": "4",
                  "3": "9",
                  "4": "29",
                  "5": "18",
                  "6": "5",
                  "7": "13",
                  "8": "83",
                  "9": "67",
                  "10": "96",
                  "11": "163",
                  "12": ""
                },
                {
                  "0": "1985",
                  "1": "2",
                  "2": "6",
                  "3": "10",
                  "4": "29",
                  "5": "24",
                  "6": "6",
                  "7": "17",
                  "8": "84",
                  "9": "77",
                  "10": "101",
                  "11": "178",
                  "12": ""
                },
                {
                  "0": "1986",
                  "1": "2",
                  "2": "8",
                  "3": "12",
                  "4": "28",
                  "5": "22",
                  "6": "8",
                  "7": "15",
                  "8": "83",
                  "9": "80",
                  "10": "98",
                  "11": "178",
                  "12": ""
                },
                {
                  "0": "1987",
                  "1": "3",
                  "2": "9",
                  "3": "11",
                  "4": "33",
                  "5": "24",
                  "6": "9",
                  "7": "15",
                  "8": "87",
                  "9": "89",
                  "10": "101",
                  "11": "190",
                  "12": ""
                },
                {
                  "0": "1988",
                  "1": "5",
                  "2": "8",
                  "3": "14",
                  "4": "31",
                  "5": "25",
                  "6": "12",
                  "7": "16",
                  "8": "81",
                  "9": "95",
                  "10": "97",
                  "11": "191",
                  "12": ""
                },
                {
                  "0": "1989",
                  "1": "3",
                  "2": "8",
                  "3": "16",
                  "4": "33",
                  "5": "23",
                  "6": "12",
                  "7": "15",
                  "8": "78",
                  "9": "95",
                  "10": "93",
                  "11": "187",
                  "12": ""
                },
                {
                  "0": "1990",
                  "1": "4",
                  "2": "9",
                  "3": "18",
                  "4": "36",
                  "5": "22",
                  "6": "14",
                  "7": "16",
                  "8": "75",
                  "9": "103",
                  "10": "92",
                  "11": "194",
                  "12": ""
                },
                {
                  "0": "1991",
                  "1": "4",
                  "2": "9",
                  "3": "20",
                  "4": "39",
                  "5": "23",
                  "6": "17",
                  "7": "17",
                  "8": "74",
                  "9": "112",
                  "10": "91",
                  "11": "203",
                  "12": ""
                },
                {
                  "0": "1992",
                  "1": "4",
                  "2": "11",
                  "3": "22",
                  "4": "38",
                  "5": "22",
                  "6": "15",
                  "7": "16",
                  "8": "69",
                  "9": "111",
                  "10": "85",
                  "11": "196",
                  "12": ""
                },
                {
                  "0": "1993",
                  "1": "6",
                  "2": "14",
                  "3": "28",
                  "4": "43",
                  "5": "24",
                  "6": "17",
                  "7": "17",
                  "8": "74",
                  "9": "131",
                  "10": "91",
                  "11": "222",
                  "12": ""
                },
                {
                  "0": "1994",
                  "1": "6",
                  "2": "14",
                  "3": "29",
                  "4": "43",
                  "5": "23",
                  "6": "17",
                  "7": "17",
                  "8": "71",
                  "9": "132",
                  "10": "88",
                  "11": "220",
                  "12": ""
                },
                {
                  "0": "1995",
                  "1": "7",
                  "2": "14",
                  "3": "32",
                  "4": "45",
                  "5": "25",
                  "6": "19",
                  "7": "16",
                  "8": "67",
                  "9": "140",
                  "10": "83",
                  "11": "223",
                  "12": ""
                },
                {
                  "0": "1996",
                  "1": "7",
                  "2": "12",
                  "3": "31",
                  "4": "46",
                  "5": "25",
                  "6": "19",
                  "7": "16",
                  "8": "69",
                  "9": "139",
                  "10": "85",
                  "11": "225",
                  "12": ""
                },
                {
                  "0": "1997",
                  "1": "6",
                  "2": "11",
                  "3": "26",
                  "4": "45",
                  "5": "25",
                  "6": "19",
                  "7": "15",
                  "8": "66",
                  "9": "131",
                  "10": "81",
                  "11": "212",
                  "12": ""
                },
                {
                  "0": "1998",
                  "1": "5",
                  "2": "9",
                  "3": "25",
                  "4": "45",
                  "5": "26",
                  "6": "21",
                  "7": "14",
                  "8": "65",
                  "9": "131",
                  "10": "79",
                  "11": "211",
                  "12": ""
                },
                {
                  "0": "1999",
                  "1": "5",
                  "2": "9",
                  "3": "26",
                  "4": "46",
                  "5": "26",
                  "6": "22",
                  "7": "14",
                  "8": "64",
                  "9": "134",
                  "10": "77",
                  "11": "211",
                  "12": ""
                },
                {
                  "0": "2000",
                  "1": "5",
                  "2": "9",
                  "3": "28",
                  "4": "48",
                  "5": "25",
                  "6": "21",
                  "7": "12",
                  "8": "62",
                  "9": "136",
                  "10": "74",
                  "11": "210",
                  "12": ""
                },
                {
                  "0": "2001",
                  "1": "5",
                  "2": "8",
                  "3": "29",
                  "4": "49",
                  "5": "25",
                  "6": "22",
                  "7": "12",
                  "8": "61",
                  "9": "139",
                  "10": "73",
                  "11": "212",
                  "12": ""
                },
                {
                  "0": "2002",
                  "1": "6",
                  "2": "8",
                  "3": "29",
                  "4": "50",
                  "5": "24",
                  "6": "21",
                  "7": "12",
                  "8": "59",
                  "9": "138",
                  "10": "71",
                  "11": "209",
                  "12": ""
                },
                {
                  "0": "2003",
                  "1": "5",
                  "2": "9",
                  "3": "28",
                  "4": "52",
                  "5": "26",
                  "6": "21",
                  "7": "10",
                  "8": "57",
                  "9": "141",
                  "10": "67",
                  "11": "208",
                  "12": ""
                },
                {
                  "0": "2004",
                  "1": "5",
                  "2": "8",
                  "3": "28",
                  "4": "54",
                  "5": "26",
                  "6": "23",
                  "7": "10",
                  "8": "56",
                  "9": "143",
                  "10": "66",
                  "11": "209",
                  "12": ""
                },
                {
                  "0": "2005",
                  "1": "5",
                  "2": "8",
                  "3": "28",
                  "4": "56",
                  "5": "25",
                  "6": "22",
                  "7": "9",
                  "8": "55",
                  "9": "145",
                  "10": "64",
                  "11": "208",
                  "12": ""
                },
                {
                  "0": "2006",
                  "1": "5",
                  "2": "9",
                  "3": "27",
                  "4": "57",
                  "5": "26",
                  "6": "23",
                  "7": "9",
                  "8": "54",
                  "9": "146",
                  "10": "63",
                  "11": "209",
                  "12": ""
                },
                {
                  "0": "2007",
                  "1": "5",
                  "2": "8",
                  "3": "26",
                  "4": "59",
                  "5": "25",
                  "6": "22",
                  "7": "9",
                  "8": "53",
                  "9": "146",
                  "10": "62",
                  "11": "207",
                  "12": ""
                },
                {
                  "0": "2008",
                  "1": "5",
                  "2": "8",
                  "3": "25",
                  "4": "61",
                  "5": "26",
                  "6": "22",
                  "7": "9",
                  "8": "53",
                  "9": "148",
                  "10": "62",
                  "11": "210",
                  "12": ""
                },
                {
                  "0": "2009",
                  "1": "5",
                  "2": "9",
                  "3": "25",
                  "4": "64",
                  "5": "26",
                  "6": "23",
                  "7": "8",
                  "8": "53",
                  "9": "153",
                  "10": "61",
                  "11": "214",
                  "12": ""
                },
                {
                  "0": "2010",
                  "1": "5",
                  "2": "9",
                  "3": "23",
                  "4": "65",
                  "5": "26",
                  "6": "22",
                  "7": "8",
                  "8": "50",
                  "9": "150",
                  "10": "58",
                  "11": "208",
                  "12": ""
                },
                {
                  "0": "2011",
                  "1": "5",
                  "2": "9",
                  "3": "23",
                  "4": "68",
                  "5": "27",
                  "6": "23",
                  "7": "8",
                  "8": "51",
                  "9": "155",
                  "10": "59",
                  "11": "214",
                  "12": ""
                },
                {
                  "0": "2012",
                  "1": "5",
                  "2": "9",
                  "3": "22",
                  "4": "70",
                  "5": "27",
                  "6": "23",
                  "7": "8",
                  "8": "50",
                  "9": "155",
                  "10": "58",
                  "11": "213",
                  "12": ""
                },
                {
                  "0": "2013",
                  "1": "5",
                  "2": "9",
                  "3": "21",
                  "4": "73",
                  "5": "29",
                  "6": "25",
                  "7": "8",
                  "8": "51",
                  "9": "161",
                  "10": "59",
                  "11": "220",
                  "12": ""
                },
                {
                  "0": "2014",
                  "1": "4",
                  "2": "9",
                  "3": "21",
                  "4": "74",
                  "5": "29",
                  "6": "24",
                  "7": "8",
                  "8": "49",
                  "9": "162",
                  "10": "56",
                  "11": "218",
                  "12": ""
                },
                {
                  "0": "2015",
                  "1": "4",
                  "2": "9",
                  "3": "20",
                  "4": "78",
                  "5": "32",
                  "6": "26",
                  "7": "8",
                  "8": "51",
                  "9": "169",
                  "10": "59",
                  "11": "228",
                  "12": ""
                },
                {
                  "0": "2016",
                  "1": "4",
                  "2": "9",
                  "3": "19",
                  "4": "76",
                  "5": "32",
                  "6": "26",
                  "7": "8",
                  "8": "49",
                  "9": "166",
                  "10": "57",
                  "11": "223",
                  "12": ""
                },
                {
                  "0": "2017",
                  "1": "4",
                  "2": "9",
                  "3": "19",
                  "4": "77",
                  "5": "34",
                  "6": "27",
                  "7": "8",
                  "8": "50",
                  "9": "170",
                  "10": "58",
                  "11": "228",
                  "12": ""
                },
                {
                  "0": "2018 d",
                  "1": "4",
                  "2": "8",
                  "3": "18",
                  "4": "76",
                  "5": "35",
                  "6": "28",
                  "7": "8",
                  "8": "50",
                  "9": "170",
                  "10": "58",
                  "11": "228",
                  "12": ""
                },
                {
                  "0": "2019 d",
                  "1": "4",
                  "2": "8",
                  "3": "18",
                  "4": "75",
                  "5": "36",
                  "6": "28",
                  "7": "8",
                  "8": "48",
                  "9": "169",
                  "10": "57",
                  "11": "225",
                  "12": ""
                },
                {
                  "0": "2020",
                  "1": "4",
                  "2": "8",
                  "3": "17",
                  "4": "73",
                  "5": "38",
                  "6": "29",
                  "7": "8",
                  "8": "49",
                  "9": "169",
                  "10": "57",
                  "11": "225",
                  "12": ""
                },
                {
                  "0": "2021",
                  "1": "4",
                  "2": "8",
                  "3": "17",
                  "4": "71",
                  "5": "40",
                  "6": "29",
                  "7": "8",
                  "8": "49",
                  "9": "169",
                  "10": "57",
                  "11": "225",
                  "12": ""
                },
                {
                  "0": "2022",
                  "1": "4",
                  "2": "7",
                  "3": "17",
                  "4": "69",
                  "5": "41",
                  "6": "30",
                  "7": "8",
                  "8": "48",
                  "9": "168",
                  "10": "56",
                  "11": "224",
                  "12": ""
                },
                {
                  "0": "2023",
                  "1": "4",
                  "2": "7",
                  "3": "17",
                  "4": "66",
                  "5": "42",
                  "6": "31",
                  "7": "8",
                  "8": "48",
                  "9": "167",
                  "10": "56",
                  "11": "222",
                  "12": ""
                },
                {
                  "0": "2024",
                  "1": "4",
                  "2": "7",
                  "3": "17",
                  "4": "63",
                  "5": "43",
                  "6": "31",
                  "7": "8",
                  "8": "48",
                  "9": "166",
                  "10": "55",
                  "11": "221",
                  "12": ""
                },
                {
                  "0": "2025",
                  "1": "4",
                  "2": "7",
                  "3": "18",
                  "4": "61",
                  "5": "44",
                  "6": "32",
                  "7": "8",
                  "8": "47",
                  "9": "166",
                  "10": "55",
                  "11": "221",
                  "12": ""
                },
                {
                  "0": "2026",
                  "1": "4",
                  "2": "7",
                  "3": "18",
                  "4": "59",
                  "5": "45",
                  "6": "33",
                  "7": "8",
                  "8": "47",
                  "9": "165",
                  "10": "55",
                  "11": "220",
                  "12": ""
                },
                {
                  "0": "2027",
                  "1": "4",
                  "2": "7",
                  "3": "18",
                  "4": "57",
                  "5": "45",
                  "6": "33",
                  "7": "7",
                  "8": "47",
                  "9": "165",
                  "10": "55",
                  "11": "219",
                  "12": ""
                },
                {
                  "0": "2028",
                  "1": "4",
                  "2": "7",
                  "3": "18",
                  "4": "55",
                  "5": "45",
                  "6": "34",
                  "7": "8",
                  "8": "47",
                  "9": "164",
                  "10": "55",
                  "11": "219",
                  "12": ""
                },
                {
                  "0": "2029",
                  "1": "4",
                  "2": "7",
                  "3": "18",
                  "4": "54",
                  "5": "45",
                  "6": "35",
                  "7": "7",
                  "8": "47",
                  "9": "164",
                  "10": "55",
                  "11": "218",
                  "12": ""
                },
                {
                  "0": "2030",
                  "1": "4",
                  "2": "7",
                  "3": "18",
                  "4": "53",
                  "5": "45",
                  "6": "36",
                  "7": "7",
                  "8": "48",
                  "9": "163",
                  "10": "55",
                  "11": "218",
                  "12": ""
                },
                {
                  "0": "2031",
                  "1": "4",
                  "2": "7",
                  "3": "18",
                  "4": "53",
                  "5": "44",
                  "6": "37",
                  "7": "7",
                  "8": "48",
                  "9": "163",
                  "10": "56",
                  "11": "218",
                  "12": ""
                },
                {
                  "0": "2032",
                  "1": "4",
                  "2": "7",
                  "3": "18",
                  "4": "52",
                  "5": "42",
                  "6": "39",
                  "7": "7",
                  "8": "49",
                  "9": "162",
                  "10": "56",
                  "11": "218",
                  "12": ""
                },
                {
                  "0": "2033",
                  "1": "4",
                  "2": "7",
                  "3": "18",
                  "4": "52",
                  "5": "41",
                  "6": "40",
                  "7": "7",
                  "8": "50",
                  "9": "161",
                  "10": "57",
                  "11": "218",
                  "12": ""
                },
                {
                  "0": "2034",
                  "1": "4",
                  "2": "7",
                  "3": "18",
                  "4": "51",
                  "5": "40",
                  "6": "41",
                  "7": "7",
                  "8": "50",
                  "9": "161",
                  "10": "57",
                  "11": "218",
                  "12": ""
                },
                {
                  "0": "2035",
                  "1": "4",
                  "2": "7",
                  "3": "18",
                  "4": "51",
                  "5": "39",
                  "6": "42",
                  "7": "7",
                  "8": "51",
                  "9": "160",
                  "10": "58",
                  "11": "218",
                  "12": ""
                },
                {
                  "0": "2036",
                  "1": "4",
                  "2": "7",
                  "3": "18",
                  "4": "51",
                  "5": "37",
                  "6": "44",
                  "7": "7",
                  "8": "52",
                  "9": "160",
                  "10": "59",
                  "11": "218",
                  "12": ""
                },
                {
                  "0": "2037",
                  "1": "3",
                  "2": "7",
                  "3": "17",
                  "4": "51",
                  "5": "36",
                  "6": "45",
                  "7": "6",
                  "8": "53",
                  "9": "159",
                  "10": "59",
                  "11": "219",
                  "12": ""
                },
                {
                  "0": "2038",
                  "1": "3",
                  "2": "7",
                  "3": "17",
                  "4": "51",
                  "5": "35",
                  "6": "45",
                  "7": "6",
                  "8": "54",
                  "9": "159",
                  "10": "60",
                  "11": "219",
                  "12": ""
                },
                {
                  "0": "2039",
                  "1": "3",
                  "2": "7",
                  "3": "17",
                  "4": "51",
                  "5": "33",
                  "6": "46",
                  "7": "6",
                  "8": "55",
                  "9": "158",
                  "10": "60",
                  "11": "219",
                  "12": ""
                },
                {
                  "0": "2040",
                  "1": "3",
                  "2": "7",
                  "3": "17",
                  "4": "52",
                  "5": "33",
                  "6": "46",
                  "7": "6",
                  "8": "55",
                  "9": "158",
                  "10": "61",
                  "11": "219",
                  "12": ""
                },
                {
                  "0": "2041",
                  "1": "3",
                  "2": "7",
                  "3": "17",
                  "4": "52",
                  "5": "32",
                  "6": "47",
                  "7": "6",
                  "8": "56",
                  "9": "158",
                  "10": "61",
                  "11": "219",
                  "12": ""
                },
                {
                  "0": "2042",
                  "1": "3",
                  "2": "7",
                  "3": "17",
                  "4": "52",
                  "5": "31",
                  "6": "47",
                  "7": "5",
                  "8": "57",
                  "9": "158",
                  "10": "62",
                  "11": "219",
                  "12": ""
                },
                {
                  "0": "2043",
                  "1": "3",
                  "2": "7",
                  "3": "16",
                  "4": "53",
                  "5": "31",
                  "6": "47",
                  "7": "5",
                  "8": "57",
                  "9": "157",
                  "10": "62",
                  "11": "220",
                  "12": ""
                },
                {
                  "0": "2044",
                  "1": "3",
                  "2": "7",
                  "3": "16",
                  "4": "53",
                  "5": "31",
                  "6": "47",
                  "7": "5",
                  "8": "58",
                  "9": "157",
                  "10": "63",
                  "11": "219",
                  "12": ""
                }
              ],
              "schema": [
                {
                  "key": "0",
                  "name": "_'Unnamed:_0_level_0'__'Calendar_year'_",
                  "type": "string"
                },
                {
                  "key": "1",
                  "name": "_'Blind_or_disabled__by_age_group'__'0-17'_",
                  "type": "string"
                },
                {
                  "key": "2",
                  "name": "_'Blind_or_disabled__by_age_group'__'18-34'_",
                  "type": "string"
                },
                {
                  "key": "3",
                  "name": "_'Blind_or_disabled__by_age_group'__'35-49'_",
                  "type": "string"
                },
                {
                  "key": "4",
                  "name": "_'Blind_or_disabled__by_age_group'__'50-64'_",
                  "type": "string"
                },
                {
                  "key": "5",
                  "name": "_'Blind_or_disabled__by_age_group'__'65-74'_",
                  "type": "string"
                },
                {
                  "key": "6",
                  "name": "_'Blind_or_disabled__by_age_group'__'75_or_older'_",
                  "type": "string"
                },
                {
                  "key": "7",
                  "name": "_'Aged__by_age_group'__'65-74'_",
                  "type": "string"
                },
                {
                  "key": "8",
                  "name": "_'Aged__by_age_group'__'75_or_older'_",
                  "type": "string"
                },
                {
                  "key": "9",
                  "name": "_'Totalsb'__'Blind_or_disabled'_",
                  "type": "string"
                },
                {
                  "key": "10",
                  "name": "_'Totalsb'__'Aged'_",
                  "type": "string"
                },
                {
                  "key": "11",
                  "name": "_'Totalsb'__'All'_",
                  "type": "string"
                },
                {
                  "key": "12",
                  "name": "Header",
                  "type": "string"
                }
              ],
              "truncated": false
            },
            "isSummary": false,
            "language": "scala"
          },
          "persist_state": {
            "view": {
              "type": "details",
              "tableOptions": {},
              "chartOptions": {
                "chartType": "bar",
                "aggregationType": "count",
                "categoryFieldKeys": [
                  "0"
                ],
                "seriesFieldKeys": [
                  "0"
                ],
                "isStacked": false
              }
            }
          }
        }
      }
    }
  },
  "nbformat": 4,
  "nbformat_minor": 2
}